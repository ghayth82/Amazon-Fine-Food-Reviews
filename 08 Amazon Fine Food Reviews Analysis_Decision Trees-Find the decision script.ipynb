{
 "cells": [
  {
   "cell_type": "markdown",
   "metadata": {
    "colab_type": "text",
    "id": "IXmtUCbYiWM3"
   },
   "source": [
    "# Amazon Fine Food Reviews Analysis\n",
    "\n",
    "\n",
    "Data Source: https://www.kaggle.com/snap/amazon-fine-food-reviews <br>\n",
    "\n",
    "EDA: https://nycdatascience.com/blog/student-works/amazon-fine-foods-visualization/\n",
    "\n",
    "\n",
    "The Amazon Fine Food Reviews dataset consists of reviews of fine foods from Amazon.<br>\n",
    "\n",
    "Number of reviews: 568,454<br>\n",
    "Number of users: 256,059<br>\n",
    "Number of products: 74,258<br>\n",
    "Timespan: Oct 1999 - Oct 2012<br>\n",
    "Number of Attributes/Columns in data: 10 \n",
    "\n",
    "Attribute Information:\n",
    "\n",
    "1. Id\n",
    "2. ProductId - unique identifier for the product\n",
    "3. UserId - unqiue identifier for the user\n",
    "4. ProfileName\n",
    "5. HelpfulnessNumerator - number of users who found the review helpful\n",
    "6. HelpfulnessDenominator - number of users who indicated whether they found the review helpful or not\n",
    "7. Score - rating between 1 and 5\n",
    "8. Time - timestamp for the review\n",
    "9. Summary - brief summary of the review\n",
    "10. Text - text of the review\n",
    "\n",
    "\n",
    "#### Objective:\n",
    "Given a review, determine whether the review is positive (rating of 4 or 5) or negative (rating of 1 or 2).\n",
    "\n",
    "<br>\n",
    "[Q] How to determine if a review is positive or negative?<br>\n",
    "<br> \n",
    "[Ans] We could use Score/Rating. A rating of 4 or 5 can be cosnidered as a positive review. A rating of 1 or 2 can be considered as negative one. A review of rating 3 is considered nuetral and such reviews are ignored from our analysis. This is an approximate and proxy way of determining the polarity (positivity/negativity) of a review.\n",
    "\n",
    "\n"
   ]
  },
  {
   "cell_type": "markdown",
   "metadata": {
    "colab_type": "text",
    "id": "syeYHDR_iWM7"
   },
   "source": [
    "# [1]. Reading Data"
   ]
  },
  {
   "cell_type": "markdown",
   "metadata": {
    "colab_type": "text",
    "id": "D_eZrQC0iWM9"
   },
   "source": [
    "## [1.1] Loading the data\n",
    "\n",
    "The dataset is available in two forms\n",
    "1. .csv file\n",
    "2. SQLite Database\n",
    "\n",
    "In order to load the data, We have used the SQLITE dataset as it is easier to query the data and visualise the data efficiently.\n",
    "<br> \n",
    "\n",
    "Here as we only want to get the global sentiment of the recommendations (positive or negative), we will purposefully ignore all Scores equal to 3. If the score is above 3, then the recommendation wil be set to \"positive\". Otherwise, it will be set to \"negative\"."
   ]
  },
  {
   "cell_type": "code",
   "execution_count": 1,
   "metadata": {
    "colab": {},
    "colab_type": "code",
    "id": "53fLFqf8iWNA"
   },
   "outputs": [],
   "source": [
    "%matplotlib inline\n",
    "import warnings\n",
    "warnings.filterwarnings(\"ignore\")\n",
    "\n",
    "\n",
    "import sqlite3\n",
    "import pandas as pd\n",
    "import numpy as np\n",
    "import nltk\n",
    "import string\n",
    "import matplotlib.pyplot as plt\n",
    "import seaborn as sns\n",
    "from sklearn.feature_extraction.text import TfidfTransformer\n",
    "from sklearn.feature_extraction.text import TfidfVectorizer\n",
    "\n",
    "from sklearn.feature_extraction.text import CountVectorizer\n",
    "from sklearn.metrics import confusion_matrix\n",
    "from sklearn import metrics\n",
    "from sklearn.metrics import roc_curve, auc\n",
    "from nltk.stem.porter import PorterStemmer\n",
    "\n",
    "import re\n",
    "# Tutorial about Python regular expressions: https://pymotw.com/2/re/\n",
    "import string\n",
    "from nltk.corpus import stopwords\n",
    "from nltk.stem import PorterStemmer\n",
    "from nltk.stem.wordnet import WordNetLemmatizer\n",
    "\n",
    "from gensim.models import Word2Vec\n",
    "from gensim.models import KeyedVectors\n",
    "import pickle\n",
    "\n",
    "from tqdm import tqdm\n",
    "import os"
   ]
  },
  {
   "cell_type": "code",
   "execution_count": 2,
   "metadata": {
    "colab": {},
    "colab_type": "code",
    "id": "j3kshrC-iWNI",
    "outputId": "07826916-2c3f-4a0a-e928-ddbc6d567a11"
   },
   "outputs": [],
   "source": [
    "# # using SQLite Table to read data.\n",
    "# con = sqlite3.connect('database.sqlite') \n",
    "\n",
    "# # filtering only positive and negative reviews i.e. \n",
    "# # not taking into consideration those reviews with Score=3\n",
    "# # SELECT * FROM Reviews WHERE Score != 3 LIMIT 500000, will give top 500000 data points\n",
    "# # you can change the number to any other number based on your computing power\n",
    "\n",
    "# # filtered_data = pd.read_sql_query(\"\"\" SELECT * FROM Reviews WHERE Score != 3 LIMIT 500000\"\"\", con) \n",
    "# # for tsne assignment you can take 5k data points\n",
    "\n",
    "# filtered_data = pd.read_sql_query(\"\"\" SELECT * FROM Reviews WHERE Score != 3 LIMIT 5000\"\"\", con) \n",
    "\n",
    "# # Give reviews with Score>3 a positive rating(1), and reviews with a score<3 a negative rating(0).\n",
    "# def partition(x):\n",
    "#     if x < 3:\n",
    "#         return 0\n",
    "#     return 1\n",
    "\n",
    "# #changing reviews with score less than 3 to be positive and vice-versa\n",
    "# actualScore = filtered_data['Score']\n",
    "# positiveNegative = actualScore.map(partition) \n",
    "# filtered_data['Score'] = positiveNegative\n",
    "# print(\"Number of data points in our data\", filtered_data.shape)\n",
    "# filtered_data.head(3)"
   ]
  },
  {
   "cell_type": "code",
   "execution_count": 3,
   "metadata": {
    "colab": {},
    "colab_type": "code",
    "id": "-7Iy8yWfiWNR"
   },
   "outputs": [],
   "source": [
    "# display = pd.read_sql_query(\"\"\"\n",
    "# SELECT UserId, ProductId, ProfileName, Time, Score, Text, COUNT(*)\n",
    "# FROM Reviews\n",
    "# GROUP BY UserId\n",
    "# HAVING COUNT(*)>1\n",
    "# \"\"\", con)"
   ]
  },
  {
   "cell_type": "code",
   "execution_count": 4,
   "metadata": {
    "colab": {},
    "colab_type": "code",
    "id": "wuK6OYpOiWNV",
    "outputId": "5cb5082e-47b9-4d4b-cf90-fc6ffe0dceeb",
    "scrolled": true
   },
   "outputs": [],
   "source": [
    "# print(display.shape)\n",
    "# display.head()"
   ]
  },
  {
   "cell_type": "code",
   "execution_count": 5,
   "metadata": {
    "colab": {},
    "colab_type": "code",
    "id": "OMKVKkH7iWNZ",
    "outputId": "acc9d31a-27a1-48a1-d2f2-ce1f2e511793"
   },
   "outputs": [],
   "source": [
    "# display[display['UserId']=='AZY10LLTJ71NX']"
   ]
  },
  {
   "cell_type": "code",
   "execution_count": 6,
   "metadata": {
    "colab": {},
    "colab_type": "code",
    "id": "s37uqS_jiWNe",
    "outputId": "489f08d4-48a2-4e82-bfc1-4f982f35b2e4"
   },
   "outputs": [],
   "source": [
    "# display['COUNT(*)'].sum()"
   ]
  },
  {
   "cell_type": "markdown",
   "metadata": {
    "colab_type": "text",
    "id": "efnNNqNfiWNh"
   },
   "source": [
    "#  [2] Exploratory Data Analysis"
   ]
  },
  {
   "cell_type": "markdown",
   "metadata": {
    "colab_type": "text",
    "id": "Eq0hnbxhiWNi"
   },
   "source": [
    "## [2.1] Data Cleaning: Deduplication\n",
    "\n",
    "It is observed (as shown in the table below) that the reviews data had many duplicate entries. Hence it was necessary to remove duplicates in order to get unbiased results for the analysis of the data.  Following is an example:"
   ]
  },
  {
   "cell_type": "code",
   "execution_count": 7,
   "metadata": {
    "colab": {},
    "colab_type": "code",
    "id": "3CKLJ2FFiWNj",
    "outputId": "c995e0c8-7ef1-48a0-d7a9-b0cc50efaa83",
    "scrolled": false
   },
   "outputs": [],
   "source": [
    "# display= pd.read_sql_query(\"\"\"\n",
    "# SELECT *\n",
    "# FROM Reviews\n",
    "# WHERE Score != 3 AND UserId=\"AR5J8UI46CURR\"\n",
    "# ORDER BY ProductID\n",
    "# \"\"\", con)\n",
    "# display.head()"
   ]
  },
  {
   "cell_type": "markdown",
   "metadata": {
    "colab_type": "text",
    "id": "GmHe67iviWNn"
   },
   "source": [
    "As it can be seen above that same user has multiple reviews with same values for HelpfulnessNumerator, HelpfulnessDenominator, Score, Time, Summary and Text and on doing analysis it was found that <br>\n",
    "<br> \n",
    "ProductId=B000HDOPZG was Loacker Quadratini Vanilla Wafer Cookies, 8.82-Ounce Packages (Pack of 8)<br>\n",
    "<br> \n",
    "ProductId=B000HDL1RQ was Loacker Quadratini Lemon Wafer Cookies, 8.82-Ounce Packages (Pack of 8) and so on<br>\n",
    "\n",
    "It was inferred after analysis that reviews with same parameters other than ProductId belonged to the same product just having different flavour or quantity. Hence in order to reduce redundancy it was decided to eliminate the rows having same parameters.<br>\n",
    "\n",
    "The method used for the same was that we first sort the data according to ProductId and then just keep the first similar product review and delelte the others. for eg. in the above just the review for ProductId=B000HDL1RQ remains. This method ensures that there is only one representative for each product and deduplication without sorting would lead to possibility of different representatives still existing for the same product."
   ]
  },
  {
   "cell_type": "code",
   "execution_count": 8,
   "metadata": {
    "colab": {},
    "colab_type": "code",
    "id": "wgmdXIJviWNn"
   },
   "outputs": [],
   "source": [
    "# #Sorting data according to ProductId in ascending order\n",
    "# sorted_data=filtered_data.sort_values('ProductId', axis=0, ascending=True, inplace=False, kind='quicksort', na_position='last')"
   ]
  },
  {
   "cell_type": "code",
   "execution_count": 9,
   "metadata": {
    "colab": {},
    "colab_type": "code",
    "id": "ComjQ0rHiWNp",
    "outputId": "1c155404-4bb7-4078-c46b-1a9a33ac0602"
   },
   "outputs": [],
   "source": [
    "# #Deduplication of entries\n",
    "# final=sorted_data.drop_duplicates(subset={\"UserId\",\"ProfileName\",\"Time\",\"Text\"}, keep='first', inplace=False)\n",
    "# final.shape"
   ]
  },
  {
   "cell_type": "code",
   "execution_count": 10,
   "metadata": {
    "colab": {},
    "colab_type": "code",
    "id": "yFrWiU23iWNt",
    "outputId": "b9d26952-d8af-4fbb-eb3d-c6a28abcc029"
   },
   "outputs": [],
   "source": [
    "# #Checking to see how much % of data still remains\n",
    "# (final['Id'].size*1.0)/(filtered_data['Id'].size*1.0)*100"
   ]
  },
  {
   "cell_type": "markdown",
   "metadata": {
    "colab_type": "text",
    "id": "g4lvCHn6iWNw"
   },
   "source": [
    "<b>Observation:-</b> It was also seen that in two rows given below the value of HelpfulnessNumerator is greater than HelpfulnessDenominator which is not practically possible hence these two rows too are removed from calcualtions"
   ]
  },
  {
   "cell_type": "code",
   "execution_count": 11,
   "metadata": {
    "colab": {},
    "colab_type": "code",
    "id": "6ehzwEdgiWNw",
    "outputId": "60e18da4-784f-49d8-84b7-59823cfa3e85"
   },
   "outputs": [],
   "source": [
    "# display= pd.read_sql_query(\"\"\"\n",
    "# SELECT *\n",
    "# FROM Reviews\n",
    "# WHERE Score != 3 AND Id=44737 OR Id=64422\n",
    "# ORDER BY ProductID\n",
    "# \"\"\", con)\n",
    "\n",
    "# display.head()"
   ]
  },
  {
   "cell_type": "code",
   "execution_count": 12,
   "metadata": {
    "colab": {},
    "colab_type": "code",
    "id": "EBa1d6gViWNz"
   },
   "outputs": [],
   "source": [
    "# final=final[final.HelpfulnessNumerator<=final.HelpfulnessDenominator]"
   ]
  },
  {
   "cell_type": "code",
   "execution_count": 13,
   "metadata": {
    "colab": {},
    "colab_type": "code",
    "id": "KNQ01asjiWN1",
    "outputId": "0d2433fb-dd33-41cd-a18d-110d776f60b4"
   },
   "outputs": [],
   "source": [
    "# #Before starting the next phase of preprocessing lets see the number of entries left\n",
    "# print(final.shape)\n",
    "\n",
    "# #How many positive and negative reviews are present in our dataset?\n",
    "# final['Score'].value_counts()"
   ]
  },
  {
   "cell_type": "markdown",
   "metadata": {
    "colab_type": "text",
    "id": "92IZ5ea0iWN4"
   },
   "source": [
    "#  [3] Preprocessing"
   ]
  },
  {
   "cell_type": "markdown",
   "metadata": {
    "colab_type": "text",
    "id": "NTwQITJKiWN5"
   },
   "source": [
    "## [3.1].  Preprocessing Review Text\n",
    "\n",
    "Now that we have finished deduplication our data requires some preprocessing before we go on further with analysis and making the prediction model.\n",
    "\n",
    "Hence in the Preprocessing phase we do the following in the order below:-\n",
    "\n",
    "1. Begin by removing the html tags\n",
    "2. Remove any punctuations or limited set of special characters like , or . or # etc.\n",
    "3. Check if the word is made up of english letters and is not alpha-numeric\n",
    "4. Check to see if the length of the word is greater than 2 (as it was researched that there is no adjective in 2-letters)\n",
    "5. Convert the word to lowercase\n",
    "6. Remove Stopwords\n",
    "7. Finally Snowball Stemming the word (it was obsereved to be better than Porter Stemming)<br>\n",
    "\n",
    "After which we collect the words used to describe positive and negative reviews"
   ]
  },
  {
   "cell_type": "code",
   "execution_count": 14,
   "metadata": {
    "colab": {},
    "colab_type": "code",
    "id": "kTCxT5aWiWN5",
    "outputId": "64588cda-64b3-47f0-8d01-941e1cc85cc5"
   },
   "outputs": [],
   "source": [
    "# # printing some random reviews\n",
    "# sent_0 = final['Text'].values[0]\n",
    "# print(sent_0)\n",
    "# print(\"=\"*50)\n",
    "\n",
    "# sent_1000 = final['Text'].values[1000]\n",
    "# print(sent_1000)\n",
    "# print(\"=\"*50)\n",
    "\n",
    "# sent_1500 = final['Text'].values[1500]\n",
    "# print(sent_1500)\n",
    "# print(\"=\"*50)\n",
    "\n",
    "# sent_4900 = final['Text'].values[4900]\n",
    "# print(sent_4900)\n",
    "# print(\"=\"*50)"
   ]
  },
  {
   "cell_type": "code",
   "execution_count": 15,
   "metadata": {
    "colab": {},
    "colab_type": "code",
    "id": "iX3VndCPiWN8",
    "outputId": "7f8cad02-65a6-4530-e7e1-bb6775877737"
   },
   "outputs": [],
   "source": [
    "# # remove urls from text python: https://stackoverflow.com/a/40823105/4084039\n",
    "# sent_0 = re.sub(r\"http\\S+\", \"\", sent_0)\n",
    "# sent_1000 = re.sub(r\"http\\S+\", \"\", sent_1000)\n",
    "# sent_150 = re.sub(r\"http\\S+\", \"\", sent_1500)\n",
    "# sent_4900 = re.sub(r\"http\\S+\", \"\", sent_4900)\n",
    "\n",
    "# print(sent_0)"
   ]
  },
  {
   "cell_type": "code",
   "execution_count": 16,
   "metadata": {
    "colab": {},
    "colab_type": "code",
    "id": "DyO7iqEriWN_",
    "outputId": "2a010a1c-574d-409f-d725-c726a25d3e70"
   },
   "outputs": [],
   "source": [
    "# # https://stackoverflow.com/questions/16206380/python-beautifulsoup-how-to-remove-all-tags-from-an-element\n",
    "# from bs4 import BeautifulSoup\n",
    "\n",
    "# soup = BeautifulSoup(sent_0, 'lxml')\n",
    "# text = soup.get_text()\n",
    "# print(text)\n",
    "# print(\"=\"*50)\n",
    "\n",
    "# soup = BeautifulSoup(sent_1000, 'lxml')\n",
    "# text = soup.get_text()\n",
    "# print(text)\n",
    "# print(\"=\"*50)\n",
    "\n",
    "# soup = BeautifulSoup(sent_1500, 'lxml')\n",
    "# text = soup.get_text()\n",
    "# print(text)\n",
    "# print(\"=\"*50)\n",
    "\n",
    "# soup = BeautifulSoup(sent_4900, 'lxml')\n",
    "# text = soup.get_text()\n",
    "# print(text)"
   ]
  },
  {
   "cell_type": "code",
   "execution_count": 17,
   "metadata": {
    "colab": {},
    "colab_type": "code",
    "id": "qzIaKh8niWOC"
   },
   "outputs": [],
   "source": [
    "# # https://stackoverflow.com/a/47091490/4084039\n",
    "# import re\n",
    "\n",
    "# def decontracted(phrase):\n",
    "#     # specific\n",
    "#     phrase = re.sub(r\"won't\", \"will not\", phrase)\n",
    "#     phrase = re.sub(r\"can\\'t\", \"can not\", phrase)\n",
    "\n",
    "#     # general\n",
    "#     phrase = re.sub(r\"n\\'t\", \" not\", phrase)\n",
    "#     phrase = re.sub(r\"\\'re\", \" are\", phrase)\n",
    "#     phrase = re.sub(r\"\\'s\", \" is\", phrase)\n",
    "#     phrase = re.sub(r\"\\'d\", \" would\", phrase)\n",
    "#     phrase = re.sub(r\"\\'ll\", \" will\", phrase)\n",
    "#     phrase = re.sub(r\"\\'t\", \" not\", phrase)\n",
    "#     phrase = re.sub(r\"\\'ve\", \" have\", phrase)\n",
    "#     phrase = re.sub(r\"\\'m\", \" am\", phrase)\n",
    "#     return phrase"
   ]
  },
  {
   "cell_type": "code",
   "execution_count": 18,
   "metadata": {
    "colab": {},
    "colab_type": "code",
    "id": "Esa29-JwiWOD",
    "outputId": "be726596-752d-489b-d311-f4180ac83ac4"
   },
   "outputs": [],
   "source": [
    "# sent_1500 = decontracted(sent_1500)\n",
    "# print(sent_1500)\n",
    "# print(\"=\"*50)"
   ]
  },
  {
   "cell_type": "code",
   "execution_count": 19,
   "metadata": {
    "colab": {},
    "colab_type": "code",
    "id": "qf0c7-nXiWOG",
    "outputId": "6104976d-bda8-4de1-9d91-808f3661d53b"
   },
   "outputs": [],
   "source": [
    "# #remove words with numbers python: https://stackoverflow.com/a/18082370/4084039\n",
    "# sent_0 = re.sub(\"\\S*\\d\\S*\", \"\", sent_0).strip()\n",
    "# print(sent_0)"
   ]
  },
  {
   "cell_type": "code",
   "execution_count": 20,
   "metadata": {
    "colab": {},
    "colab_type": "code",
    "id": "1Z5VK6wxiWOI",
    "outputId": "d3405347-aa6a-4df5-c3d9-2c11441c2385"
   },
   "outputs": [],
   "source": [
    "# #remove spacial character: https://stackoverflow.com/a/5843547/4084039\n",
    "# sent_1500 = re.sub('[^A-Za-z0-9]+', ' ', sent_1500)\n",
    "# print(sent_1500)"
   ]
  },
  {
   "cell_type": "code",
   "execution_count": 21,
   "metadata": {
    "colab": {},
    "colab_type": "code",
    "id": "MfzZtIP1iWOL"
   },
   "outputs": [],
   "source": [
    "# # https://gist.github.com/sebleier/554280\n",
    "# # we are removing the words from the stop words list: 'no', 'nor', 'not'\n",
    "# # <br /><br /> ==> after the above steps, we are getting \"br br\"\n",
    "# # we are including them into stop words list\n",
    "# # instead of <br /> if we have <br/> these tags would have revmoved in the 1st step\n",
    "\n",
    "# stopwords= set(['br', 'the', 'i', 'me', 'my', 'myself', 'we', 'our', 'ours', 'ourselves', 'you', \"you're\", \"you've\",\\\n",
    "#             \"you'll\", \"you'd\", 'your', 'yours', 'yourself', 'yourselves', 'he', 'him', 'his', 'himself', \\\n",
    "#             'she', \"she's\", 'her', 'hers', 'herself', 'it', \"it's\", 'its', 'itself', 'they', 'them', 'their',\\\n",
    "#             'theirs', 'themselves', 'what', 'which', 'who', 'whom', 'this', 'that', \"that'll\", 'these', 'those', \\\n",
    "#             'am', 'is', 'are', 'was', 'were', 'be', 'been', 'being', 'have', 'has', 'had', 'having', 'do', 'does', \\\n",
    "#             'did', 'doing', 'a', 'an', 'the', 'and', 'but', 'if', 'or', 'because', 'as', 'until', 'while', 'of', \\\n",
    "#             'at', 'by', 'for', 'with', 'about', 'against', 'between', 'into', 'through', 'during', 'before', 'after',\\\n",
    "#             'above', 'below', 'to', 'from', 'up', 'down', 'in', 'out', 'on', 'off', 'over', 'under', 'again', 'further',\\\n",
    "#             'then', 'once', 'here', 'there', 'when', 'where', 'why', 'how', 'all', 'any', 'both', 'each', 'few', 'more',\\\n",
    "#             'most', 'other', 'some', 'such', 'only', 'own', 'same', 'so', 'than', 'too', 'very', \\\n",
    "#             's', 't', 'can', 'will', 'just', 'don', \"don't\", 'should', \"should've\", 'now', 'd', 'll', 'm', 'o', 're', \\\n",
    "#             've', 'y', 'ain', 'aren', \"aren't\", 'couldn', \"couldn't\", 'didn', \"didn't\", 'doesn', \"doesn't\", 'hadn',\\\n",
    "#             \"hadn't\", 'hasn', \"hasn't\", 'haven', \"haven't\", 'isn', \"isn't\", 'ma', 'mightn', \"mightn't\", 'mustn',\\\n",
    "#             \"mustn't\", 'needn', \"needn't\", 'shan', \"shan't\", 'shouldn', \"shouldn't\", 'wasn', \"wasn't\", 'weren', \"weren't\", \\\n",
    "#             'won', \"won't\", 'wouldn', \"wouldn't\"])"
   ]
  },
  {
   "cell_type": "code",
   "execution_count": 22,
   "metadata": {
    "colab": {},
    "colab_type": "code",
    "id": "g1C43tjNiWOM",
    "outputId": "a997afc9-894c-4a56-d538-dadea8a21e6d"
   },
   "outputs": [],
   "source": [
    "# # Combining all the above stundents \n",
    "# from tqdm import tqdm\n",
    "# preprocessed_reviews = []\n",
    "# # tqdm is for printing the status bar\n",
    "# for sentance in tqdm(final['Text'].values):\n",
    "#     sentance = re.sub(r\"http\\S+\", \"\", sentance)\n",
    "#     sentance = BeautifulSoup(sentance, 'lxml').get_text()\n",
    "#     sentance = decontracted(sentance)\n",
    "#     sentance = re.sub(\"\\S*\\d\\S*\", \"\", sentance).strip()\n",
    "#     sentance = re.sub('[^A-Za-z]+', ' ', sentance)\n",
    "#     # https://gist.github.com/sebleier/554280\n",
    "#     sentance = ' '.join(e.lower() for e in sentance.split() if e.lower() not in stopwords)\n",
    "#     preprocessed_reviews.append(sentance.strip())"
   ]
  },
  {
   "cell_type": "code",
   "execution_count": 23,
   "metadata": {
    "colab": {},
    "colab_type": "code",
    "id": "MWDrCFxViWOP",
    "outputId": "5618c9c3-a86a-42a4-e9c4-d24d93fd5a7a"
   },
   "outputs": [],
   "source": [
    "# preprocessed_reviews[1500]"
   ]
  },
  {
   "cell_type": "markdown",
   "metadata": {
    "colab_type": "text",
    "id": "fEu8sShciWOS"
   },
   "source": [
    "<h2><font color='red'>[3.2] Preprocessing Review Summary</font></h2>"
   ]
  },
  {
   "cell_type": "code",
   "execution_count": 24,
   "metadata": {
    "colab": {},
    "colab_type": "code",
    "id": "XP1URIERiWOU"
   },
   "outputs": [],
   "source": [
    "## Similartly you can do preprocessing for review summary also."
   ]
  },
  {
   "cell_type": "markdown",
   "metadata": {
    "colab_type": "text",
    "id": "p2lyiwJ_iWOW"
   },
   "source": [
    "# [4] Featurization"
   ]
  },
  {
   "cell_type": "markdown",
   "metadata": {
    "colab_type": "text",
    "id": "T_LFck8iiWOX"
   },
   "source": [
    "## [4.1] BAG OF WORDS"
   ]
  },
  {
   "cell_type": "code",
   "execution_count": 25,
   "metadata": {
    "colab": {},
    "colab_type": "code",
    "id": "OVHZ9f8biWOX",
    "outputId": "b121f6f4-e30a-4184-b083-a77cdab3ca19"
   },
   "outputs": [],
   "source": [
    "# #BoW\n",
    "# count_vect = CountVectorizer() #in scikit-learn\n",
    "# count_vect.fit(preprocessed_reviews)\n",
    "# print(\"some feature names \", count_vect.get_feature_names()[:10])\n",
    "# print('='*50)\n",
    "\n",
    "# final_counts = count_vect.transform(preprocessed_reviews)\n",
    "# print(\"the type of count vectorizer \",type(final_counts))\n",
    "# print(\"the shape of out text BOW vectorizer \",final_counts.get_shape())\n",
    "# print(\"the number of unique words \", final_counts.get_shape()[1])"
   ]
  },
  {
   "cell_type": "markdown",
   "metadata": {
    "colab_type": "text",
    "id": "mjfrB76yiWOa"
   },
   "source": [
    "## [4.2] Bi-Grams and n-Grams."
   ]
  },
  {
   "cell_type": "code",
   "execution_count": 26,
   "metadata": {
    "colab": {},
    "colab_type": "code",
    "id": "mzOdOY6MiWOb",
    "outputId": "5ca07a6a-fb12-4deb-b0f4-21cdb42ccb7a"
   },
   "outputs": [],
   "source": [
    "# #bi-gram, tri-gram and n-gram\n",
    "\n",
    "# #removing stop words like \"not\" should be avoided before building n-grams\n",
    "# # count_vect = CountVectorizer(ngram_range=(1,2))\n",
    "# # please do read the CountVectorizer documentation http://scikit-learn.org/stable/modules/generated/sklearn.feature_extraction.text.CountVectorizer.html\n",
    "\n",
    "# # you can choose these numebrs min_df=10, max_features=5000, of your choice\n",
    "# count_vect = CountVectorizer(ngram_range=(1,2), min_df=10, max_features=5000)\n",
    "# final_bigram_counts = count_vect.fit_transform(preprocessed_reviews)\n",
    "# print(\"the type of count vectorizer \",type(final_bigram_counts))\n",
    "# print(\"the shape of out text BOW vectorizer \",final_bigram_counts.get_shape())\n",
    "# print(\"the number of unique words including both unigrams and bigrams \", final_bigram_counts.get_shape()[1])"
   ]
  },
  {
   "cell_type": "markdown",
   "metadata": {
    "colab_type": "text",
    "id": "0tcbbZxSiWOd"
   },
   "source": [
    "## [4.3] TF-IDF"
   ]
  },
  {
   "cell_type": "code",
   "execution_count": 27,
   "metadata": {
    "colab": {},
    "colab_type": "code",
    "id": "mQ3EDEsoiWOd",
    "outputId": "b305ed29-861d-40e9-c1df-b12c4e6492a8"
   },
   "outputs": [],
   "source": [
    "# tf_idf_vect = TfidfVectorizer(ngram_range=(1,2), min_df=10)\n",
    "# tf_idf_vect.fit(preprocessed_reviews)\n",
    "# print(\"some sample features(unique words in the corpus)\",tf_idf_vect.get_feature_names()[0:10])\n",
    "# print('='*50)\n",
    "\n",
    "# final_tf_idf = tf_idf_vect.transform(preprocessed_reviews)\n",
    "# print(\"the type of count vectorizer \",type(final_tf_idf))\n",
    "# print(\"the shape of out text TFIDF vectorizer \",final_tf_idf.get_shape())\n",
    "# print(\"the number of unique words including both unigrams and bigrams \", final_tf_idf.get_shape()[1])"
   ]
  },
  {
   "cell_type": "markdown",
   "metadata": {
    "colab_type": "text",
    "id": "u566lt93iWOf"
   },
   "source": [
    "## [4.4] Word2Vec"
   ]
  },
  {
   "cell_type": "code",
   "execution_count": 28,
   "metadata": {
    "colab": {},
    "colab_type": "code",
    "id": "pxlbMwFjiWOg"
   },
   "outputs": [],
   "source": [
    "# # Train your own Word2Vec model using your own text corpus\n",
    "# i=0\n",
    "# list_of_sentance=[]\n",
    "# for sentance in preprocessed_reviews:\n",
    "#     list_of_sentance.append(sentance.split())"
   ]
  },
  {
   "cell_type": "code",
   "execution_count": 29,
   "metadata": {
    "colab": {},
    "colab_type": "code",
    "id": "NOd5wp0yiWOh",
    "outputId": "ae28439d-438c-4d88-ed12-db5f3317218f",
    "scrolled": true
   },
   "outputs": [],
   "source": [
    "# # Using Google News Word2Vectors\n",
    "\n",
    "# # in this project we are using a pretrained model by google\n",
    "# # its 3.3G file, once you load this into your memory \n",
    "# # it occupies ~9Gb, so please do this step only if you have >12G of ram\n",
    "# # we will provide a pickle file wich contains a dict , \n",
    "# # and it contains all our courpus words as keys and  model[word] as values\n",
    "# # To use this code-snippet, download \"GoogleNews-vectors-negative300.bin\" \n",
    "# # from https://drive.google.com/file/d/0B7XkCwpI5KDYNlNUTTlSS21pQmM/edit\n",
    "# # it's 1.9GB in size.\n",
    "\n",
    "\n",
    "# # http://kavita-ganesan.com/gensim-word2vec-tutorial-starter-code/#.W17SRFAzZPY\n",
    "# # you can comment this whole cell\n",
    "# # or change these varible according to your need\n",
    "\n",
    "# is_your_ram_gt_16g=False\n",
    "# want_to_use_google_w2v = False\n",
    "# want_to_train_w2v = True\n",
    "\n",
    "# if want_to_train_w2v:\n",
    "#     # min_count = 5 considers only words that occured atleast 5 times\n",
    "#     w2v_model=Word2Vec(list_of_sentance,min_count=5,size=50, workers=4)\n",
    "#     print(w2v_model.wv.most_similar('great'))\n",
    "#     print('='*50)\n",
    "#     print(w2v_model.wv.most_similar('worst'))\n",
    "    \n",
    "# elif want_to_use_google_w2v and is_your_ram_gt_16g:\n",
    "#     if os.path.isfile('GoogleNews-vectors-negative300.bin'):\n",
    "#         w2v_model=KeyedVectors.load_word2vec_format('GoogleNews-vectors-negative300.bin', binary=True)\n",
    "#         print(w2v_model.wv.most_similar('great'))\n",
    "#         print(w2v_model.wv.most_similar('worst'))\n",
    "#     else:\n",
    "#         print(\"you don't have gogole's word2vec file, keep want_to_train_w2v = True, to train your own w2v \")"
   ]
  },
  {
   "cell_type": "code",
   "execution_count": 30,
   "metadata": {
    "colab": {},
    "colab_type": "code",
    "id": "teE01Qk2iWOj",
    "outputId": "f063436c-8b62-49d3-e093-723395e66ccd"
   },
   "outputs": [],
   "source": [
    "# w2v_words = list(w2v_model.wv.vocab)\n",
    "# print(\"number of words that occured minimum 5 times \",len(w2v_words))\n",
    "# print(\"sample words \", w2v_words[0:50])"
   ]
  },
  {
   "cell_type": "markdown",
   "metadata": {
    "colab_type": "text",
    "id": "mUNnof40iWOl"
   },
   "source": [
    "## [4.4.1] Converting text into vectors using Avg W2V, TFIDF-W2V"
   ]
  },
  {
   "cell_type": "markdown",
   "metadata": {
    "colab_type": "text",
    "id": "heHLB_FCiWOm"
   },
   "source": [
    "#### [4.4.1.1] Avg W2v"
   ]
  },
  {
   "cell_type": "code",
   "execution_count": 31,
   "metadata": {
    "colab": {},
    "colab_type": "code",
    "id": "iCYoNRANiWOm",
    "outputId": "96ebb104-44d7-4b7d-aa45-62614bbfcf44"
   },
   "outputs": [],
   "source": [
    "# # average Word2Vec\n",
    "# # compute average word2vec for each review.\n",
    "# sent_vectors = []; # the avg-w2v for each sentence/review is stored in this list\n",
    "# for sent in tqdm(list_of_sentance): # for each review/sentence\n",
    "#     sent_vec = np.zeros(50) # as word vectors are of zero length 50, you might need to change this to 300 if you use google's w2v\n",
    "#     cnt_words =0; # num of words with a valid vector in the sentence/review\n",
    "#     for word in sent: # for each word in a review/sentence\n",
    "#         if word in w2v_words:\n",
    "#             vec = w2v_model.wv[word]\n",
    "#             sent_vec += vec\n",
    "#             cnt_words += 1\n",
    "#     if cnt_words != 0:\n",
    "#         sent_vec /= cnt_words\n",
    "#     sent_vectors.append(sent_vec)\n",
    "# print(len(sent_vectors))\n",
    "# print(len(sent_vectors[0]))"
   ]
  },
  {
   "cell_type": "markdown",
   "metadata": {
    "colab_type": "text",
    "id": "ylTn3LgiiWOo"
   },
   "source": [
    "#### [4.4.1.2] TFIDF weighted W2v"
   ]
  },
  {
   "cell_type": "code",
   "execution_count": 32,
   "metadata": {
    "colab": {},
    "colab_type": "code",
    "id": "XBxf_qKSiWOo"
   },
   "outputs": [],
   "source": [
    "# # S = [\"abc def pqr\", \"def def def abc\", \"pqr pqr def\"]\n",
    "# model = TfidfVectorizer()\n",
    "# tf_idf_matrix = model.fit_transform(preprocessed_reviews)\n",
    "# # we are converting a dictionary with word as a key, and the idf as a value\n",
    "# dictionary = dict(zip(model.get_feature_names(), list(model.idf_)))"
   ]
  },
  {
   "cell_type": "code",
   "execution_count": 33,
   "metadata": {
    "colab": {},
    "colab_type": "code",
    "id": "5FHQMSyUiWOp",
    "outputId": "6b5b71be-e3f7-4933-cd74-f78fb703132d",
    "scrolled": true
   },
   "outputs": [],
   "source": [
    "# # TF-IDF weighted Word2Vec\n",
    "# tfidf_feat = model.get_feature_names() # tfidf words/col-names\n",
    "# # final_tf_idf is the sparse matrix with row= sentence, col=word and cell_val = tfidf\n",
    "\n",
    "# tfidf_sent_vectors = []; # the tfidf-w2v for each sentence/review is stored in this list\n",
    "# row=0;\n",
    "# for sent in tqdm(list_of_sentance): # for each review/sentence \n",
    "#     sent_vec = np.zeros(50) # as word vectors are of zero length\n",
    "#     weight_sum =0; # num of words with a valid vector in the sentence/review\n",
    "#     for word in sent: # for each word in a review/sentence\n",
    "#         if word in w2v_words and word in tfidf_feat:\n",
    "#             vec = w2v_model.wv[word]\n",
    "# #             tf_idf = tf_idf_matrix[row, tfidf_feat.index(word)]\n",
    "#             # to reduce the computation we are \n",
    "#             # dictionary[word] = idf value of word in whole courpus\n",
    "#             # sent.count(word) = tf valeus of word in this review\n",
    "#             tf_idf = dictionary[word]*(sent.count(word)/len(sent))\n",
    "#             sent_vec += (vec * tf_idf)\n",
    "#             weight_sum += tf_idf\n",
    "#     if weight_sum != 0:\n",
    "#         sent_vec /= weight_sum\n",
    "#     tfidf_sent_vectors.append(sent_vec)\n",
    "#     row += 1"
   ]
  },
  {
   "cell_type": "markdown",
   "metadata": {},
   "source": [
    "# Data Loading"
   ]
  },
  {
   "cell_type": "code",
   "execution_count": 34,
   "metadata": {},
   "outputs": [],
   "source": [
    "clean_text_data=pd.read_csv(\"./input/Clean_data.csv\")"
   ]
  },
  {
   "cell_type": "code",
   "execution_count": 35,
   "metadata": {},
   "outputs": [
    {
     "data": {
      "text/html": [
       "<div>\n",
       "<style scoped>\n",
       "    .dataframe tbody tr th:only-of-type {\n",
       "        vertical-align: middle;\n",
       "    }\n",
       "\n",
       "    .dataframe tbody tr th {\n",
       "        vertical-align: top;\n",
       "    }\n",
       "\n",
       "    .dataframe thead th {\n",
       "        text-align: right;\n",
       "    }\n",
       "</style>\n",
       "<table border=\"1\" class=\"dataframe\">\n",
       "  <thead>\n",
       "    <tr style=\"text-align: right;\">\n",
       "      <th></th>\n",
       "      <th>Id</th>\n",
       "      <th>ProductId</th>\n",
       "      <th>UserId</th>\n",
       "      <th>ProfileName</th>\n",
       "      <th>HelpfulnessNumerator</th>\n",
       "      <th>HelpfulnessDenominator</th>\n",
       "      <th>Score</th>\n",
       "      <th>Time</th>\n",
       "      <th>Summary</th>\n",
       "      <th>Text</th>\n",
       "      <th>CleanedText</th>\n",
       "    </tr>\n",
       "  </thead>\n",
       "  <tbody>\n",
       "    <tr>\n",
       "      <th>0</th>\n",
       "      <td>150524</td>\n",
       "      <td>0006641040</td>\n",
       "      <td>ACITT7DI6IDDL</td>\n",
       "      <td>shari zychinski</td>\n",
       "      <td>0</td>\n",
       "      <td>0</td>\n",
       "      <td>1</td>\n",
       "      <td>939340800</td>\n",
       "      <td>EVERY book is educational</td>\n",
       "      <td>this witty little book makes my son laugh at l...</td>\n",
       "      <td>witti littl book make son laugh loud recit car...</td>\n",
       "    </tr>\n",
       "  </tbody>\n",
       "</table>\n",
       "</div>"
      ],
      "text/plain": [
       "       Id   ProductId         UserId      ProfileName  HelpfulnessNumerator  \\\n",
       "0  150524  0006641040  ACITT7DI6IDDL  shari zychinski                     0   \n",
       "\n",
       "   HelpfulnessDenominator  Score       Time                    Summary  \\\n",
       "0                       0      1  939340800  EVERY book is educational   \n",
       "\n",
       "                                                Text  \\\n",
       "0  this witty little book makes my son laugh at l...   \n",
       "\n",
       "                                         CleanedText  \n",
       "0  witti littl book make son laugh loud recit car...  "
      ]
     },
     "execution_count": 35,
     "metadata": {},
     "output_type": "execute_result"
    }
   ],
   "source": [
    "clean_text_data.head(1)"
   ]
  },
  {
   "cell_type": "code",
   "execution_count": 36,
   "metadata": {},
   "outputs": [
    {
     "name": "stdout",
     "output_type": "stream",
     "text": [
      " avg_w2v_df  (364171, 52) tfidf_w2v_df  (364171, 52) clean_text_data (364171, 11)\n"
     ]
    }
   ],
   "source": [
    "avg_w2v_df=pd.read_csv(\"./input/avg_w2v_df.csv\")\n",
    "tfidf_w2v_df=pd.read_csv(\"./input/tfidf_w2v_df.csv\")\n",
    "print(\" avg_w2v_df \",avg_w2v_df.shape,\"tfidf_w2v_df \",tfidf_w2v_df.shape,\"clean_text_data\",clean_text_data.shape)"
   ]
  },
  {
   "cell_type": "code",
   "execution_count": 37,
   "metadata": {},
   "outputs": [
    {
     "data": {
      "text/html": [
       "<div>\n",
       "<style scoped>\n",
       "    .dataframe tbody tr th:only-of-type {\n",
       "        vertical-align: middle;\n",
       "    }\n",
       "\n",
       "    .dataframe tbody tr th {\n",
       "        vertical-align: top;\n",
       "    }\n",
       "\n",
       "    .dataframe thead th {\n",
       "        text-align: right;\n",
       "    }\n",
       "</style>\n",
       "<table border=\"1\" class=\"dataframe\">\n",
       "  <thead>\n",
       "    <tr style=\"text-align: right;\">\n",
       "      <th></th>\n",
       "      <th>0</th>\n",
       "      <th>1</th>\n",
       "      <th>2</th>\n",
       "      <th>3</th>\n",
       "      <th>4</th>\n",
       "      <th>5</th>\n",
       "      <th>6</th>\n",
       "      <th>7</th>\n",
       "      <th>8</th>\n",
       "      <th>9</th>\n",
       "      <th>...</th>\n",
       "      <th>42</th>\n",
       "      <th>43</th>\n",
       "      <th>44</th>\n",
       "      <th>45</th>\n",
       "      <th>46</th>\n",
       "      <th>47</th>\n",
       "      <th>48</th>\n",
       "      <th>49</th>\n",
       "      <th>Score</th>\n",
       "      <th>Time</th>\n",
       "    </tr>\n",
       "  </thead>\n",
       "  <tbody>\n",
       "    <tr>\n",
       "      <th>0</th>\n",
       "      <td>-0.758505</td>\n",
       "      <td>-0.172168</td>\n",
       "      <td>-0.385203</td>\n",
       "      <td>-0.241811</td>\n",
       "      <td>-0.394415</td>\n",
       "      <td>-0.073644</td>\n",
       "      <td>-0.22428</td>\n",
       "      <td>0.286488</td>\n",
       "      <td>-0.087994</td>\n",
       "      <td>-0.419489</td>\n",
       "      <td>...</td>\n",
       "      <td>-0.957424</td>\n",
       "      <td>0.008468</td>\n",
       "      <td>-0.998245</td>\n",
       "      <td>-0.097955</td>\n",
       "      <td>0.065205</td>\n",
       "      <td>-0.238957</td>\n",
       "      <td>-0.527055</td>\n",
       "      <td>0.183418</td>\n",
       "      <td>1.0</td>\n",
       "      <td>1.303862e+09</td>\n",
       "    </tr>\n",
       "  </tbody>\n",
       "</table>\n",
       "<p>1 rows × 52 columns</p>\n",
       "</div>"
      ],
      "text/plain": [
       "          0         1         2         3         4         5        6  \\\n",
       "0 -0.758505 -0.172168 -0.385203 -0.241811 -0.394415 -0.073644 -0.22428   \n",
       "\n",
       "          7         8         9      ...             42        43        44  \\\n",
       "0  0.286488 -0.087994 -0.419489      ...      -0.957424  0.008468 -0.998245   \n",
       "\n",
       "         45        46        47        48        49  Score          Time  \n",
       "0 -0.097955  0.065205 -0.238957 -0.527055  0.183418    1.0  1.303862e+09  \n",
       "\n",
       "[1 rows x 52 columns]"
      ]
     },
     "execution_count": 37,
     "metadata": {},
     "output_type": "execute_result"
    }
   ],
   "source": [
    "avg_w2v_df.head(1)"
   ]
  },
  {
   "cell_type": "code",
   "execution_count": 38,
   "metadata": {},
   "outputs": [
    {
     "data": {
      "text/html": [
       "<div>\n",
       "<style scoped>\n",
       "    .dataframe tbody tr th:only-of-type {\n",
       "        vertical-align: middle;\n",
       "    }\n",
       "\n",
       "    .dataframe tbody tr th {\n",
       "        vertical-align: top;\n",
       "    }\n",
       "\n",
       "    .dataframe thead th {\n",
       "        text-align: right;\n",
       "    }\n",
       "</style>\n",
       "<table border=\"1\" class=\"dataframe\">\n",
       "  <thead>\n",
       "    <tr style=\"text-align: right;\">\n",
       "      <th></th>\n",
       "      <th>0</th>\n",
       "      <th>1</th>\n",
       "      <th>2</th>\n",
       "      <th>3</th>\n",
       "      <th>4</th>\n",
       "      <th>5</th>\n",
       "      <th>6</th>\n",
       "      <th>7</th>\n",
       "      <th>8</th>\n",
       "      <th>9</th>\n",
       "      <th>...</th>\n",
       "      <th>42</th>\n",
       "      <th>43</th>\n",
       "      <th>44</th>\n",
       "      <th>45</th>\n",
       "      <th>46</th>\n",
       "      <th>47</th>\n",
       "      <th>48</th>\n",
       "      <th>49</th>\n",
       "      <th>Score</th>\n",
       "      <th>Time</th>\n",
       "    </tr>\n",
       "  </thead>\n",
       "  <tbody>\n",
       "    <tr>\n",
       "      <th>0</th>\n",
       "      <td>-0.631241</td>\n",
       "      <td>-0.058037</td>\n",
       "      <td>-0.317851</td>\n",
       "      <td>-0.147253</td>\n",
       "      <td>-0.524769</td>\n",
       "      <td>0.303866</td>\n",
       "      <td>-0.254059</td>\n",
       "      <td>0.337368</td>\n",
       "      <td>0.037931</td>\n",
       "      <td>-0.362123</td>\n",
       "      <td>...</td>\n",
       "      <td>-0.997835</td>\n",
       "      <td>0.090512</td>\n",
       "      <td>-0.722301</td>\n",
       "      <td>-0.040754</td>\n",
       "      <td>-0.208076</td>\n",
       "      <td>-0.658077</td>\n",
       "      <td>-0.648217</td>\n",
       "      <td>0.04987</td>\n",
       "      <td>1.0</td>\n",
       "      <td>1.303862e+09</td>\n",
       "    </tr>\n",
       "  </tbody>\n",
       "</table>\n",
       "<p>1 rows × 52 columns</p>\n",
       "</div>"
      ],
      "text/plain": [
       "          0         1         2         3         4         5         6  \\\n",
       "0 -0.631241 -0.058037 -0.317851 -0.147253 -0.524769  0.303866 -0.254059   \n",
       "\n",
       "          7         8         9      ...             42        43        44  \\\n",
       "0  0.337368  0.037931 -0.362123      ...      -0.997835  0.090512 -0.722301   \n",
       "\n",
       "         45        46        47        48       49  Score          Time  \n",
       "0 -0.040754 -0.208076 -0.658077 -0.648217  0.04987    1.0  1.303862e+09  \n",
       "\n",
       "[1 rows x 52 columns]"
      ]
     },
     "execution_count": 38,
     "metadata": {},
     "output_type": "execute_result"
    }
   ],
   "source": [
    "tfidf_w2v_df.head(1)"
   ]
  },
  {
   "cell_type": "code",
   "execution_count": 39,
   "metadata": {},
   "outputs": [
    {
     "data": {
      "text/plain": [
       "1    307061\n",
       "0     57110\n",
       "Name: Score, dtype: int64"
      ]
     },
     "execution_count": 39,
     "metadata": {},
     "output_type": "execute_result"
    }
   ],
   "source": [
    "# Checking the positive and negative labels\n",
    "clean_text_data['Score'].value_counts()"
   ]
  },
  {
   "cell_type": "code",
   "execution_count": 40,
   "metadata": {},
   "outputs": [],
   "source": [
    "#Spliting records into train, cv and test using based on time\n",
    "\n",
    "def split_train_cv_test(df,sample_size):\n",
    "    filter_data_positive=df[df.Score==1].sample(sample_size,random_state=17)\n",
    "    filter_data_positive.sort_values(by='Time',inplace=True,ascending=True)\n",
    "    filter_data_negative=df[df.Score==0].sample(sample_size,random_state=17)\n",
    "    filter_data_negative.sort_values(by='Time',inplace=True,ascending=True)\n",
    "    # Splitting Train,CV and Test for positive data\n",
    "    row=filter_data_positive.shape[0]\n",
    "    split=int(row*0.6)\n",
    "    train_data_positive=filter_data_positive[:split]\n",
    "    cv_data_positive=filter_data_positive[split:int(row*0.8)]\n",
    "    test_data_positive=filter_data_positive[int(row*0.8):row]\n",
    "    print(\"Total_positive_data\",filter_data_positive.shape)\n",
    "    print(\"train\",train_data_positive.shape,\"CV\",cv_data_positive.shape,\"test\",test_data_positive.shape)\n",
    "    # Splitting Train,CV and Test for -ve data\n",
    "    row=filter_data_negative.shape[0]\n",
    "    split=int(row*0.6)\n",
    "    train_data_negative=filter_data_negative[:split]\n",
    "    cv_data_negative=filter_data_negative[split:int(row*0.8)]\n",
    "    test_data_negative=filter_data_negative[int(row*0.8):row]\n",
    "    print(\"Total_negative_data\",filter_data_negative.shape)\n",
    "    print(\"train\",train_data_negative.shape,\"CV\",cv_data_negative.shape,\"test\",test_data_negative.shape)\n",
    "    # Combining +ve and -ve train data and sorting based on time\n",
    "    train_data=np.vstack((train_data_positive, train_data_negative))\n",
    "    train_data=pd.DataFrame(train_data)\n",
    "    train_data.columns=df.columns\n",
    "    train_data.sort_values(by='Time',inplace=True,ascending=True)\n",
    "    print(\"train_data\",train_data.shape)\n",
    "    # Checking the positive and negative labels\n",
    "    train_data['Score'].value_counts()\n",
    "    # Combining +ve and -ve CV data and sorting based on time\n",
    "    cv_data=np.vstack((cv_data_positive,cv_data_negative))\n",
    "    cv_data=pd.DataFrame(cv_data)\n",
    "    cv_data.columns=df.columns\n",
    "    cv_data.sort_values(by='Time',inplace=True,ascending=True)\n",
    "    print(\"cv_data\",cv_data.shape)\n",
    "    # Checking the positive and negative labels\n",
    "    cv_data['Score'].value_counts()\n",
    "    # Combining +ve and -ve test data and sorting based on time\n",
    "    test_data=np.vstack((test_data_positive, test_data_negative))\n",
    "    test_data=pd.DataFrame(test_data)\n",
    "    test_data.columns=df.columns\n",
    "    test_data.sort_values(by='Time',inplace=True,ascending=True)\n",
    "    print(\"test_data\",test_data.shape)\n",
    "    # Checking the positive and negative labels\n",
    "    test_data['Score'].value_counts()\n",
    "    return train_data,cv_data,test_data"
   ]
  },
  {
   "cell_type": "code",
   "execution_count": 41,
   "metadata": {},
   "outputs": [
    {
     "name": "stdout",
     "output_type": "stream",
     "text": [
      "Total_positive_data (50000, 11)\n",
      "train (30000, 11) CV (10000, 11) test (10000, 11)\n",
      "Total_negative_data (50000, 11)\n",
      "train (30000, 11) CV (10000, 11) test (10000, 11)\n",
      "train_data (60000, 11)\n",
      "cv_data (20000, 11)\n",
      "test_data (20000, 11)\n"
     ]
    }
   ],
   "source": [
    "# splitting text data for BOW and TFIDF\n",
    "train_text_data,cv_text_data,test_text_data=split_train_cv_test(clean_text_data,50000)"
   ]
  },
  {
   "cell_type": "code",
   "execution_count": 42,
   "metadata": {},
   "outputs": [
    {
     "name": "stdout",
     "output_type": "stream",
     "text": [
      "Total_positive_data (30000, 52)\n",
      "train (18000, 52) CV (6000, 52) test (6000, 52)\n",
      "Total_negative_data (30000, 52)\n",
      "train (18000, 52) CV (6000, 52) test (6000, 52)\n",
      "train_data (36000, 52)\n",
      "cv_data (12000, 52)\n",
      "test_data (12000, 52)\n"
     ]
    }
   ],
   "source": [
    "# splitting avg Word2Vec data\n",
    "train_avg_w2v_data,cv_avg_w2v_data,test_avg_w2v_data=split_train_cv_test(avg_w2v_df,30000)"
   ]
  },
  {
   "cell_type": "code",
   "execution_count": 43,
   "metadata": {},
   "outputs": [
    {
     "name": "stdout",
     "output_type": "stream",
     "text": [
      "Total_positive_data (30000, 52)\n",
      "train (18000, 52) CV (6000, 52) test (6000, 52)\n",
      "Total_negative_data (30000, 52)\n",
      "train (18000, 52) CV (6000, 52) test (6000, 52)\n",
      "train_data (36000, 52)\n",
      "cv_data (12000, 52)\n",
      "test_data (12000, 52)\n"
     ]
    }
   ],
   "source": [
    "# splitting TFIDF Word2Vec data\n",
    "train_tfidf_w2v_data,cv_tfidf_w2v_data,test_tfidf_w2v_data=split_train_cv_test(tfidf_w2v_df,30000)"
   ]
  },
  {
   "cell_type": "code",
   "execution_count": 44,
   "metadata": {},
   "outputs": [
    {
     "data": {
      "text/html": [
       "<div>\n",
       "<style scoped>\n",
       "    .dataframe tbody tr th:only-of-type {\n",
       "        vertical-align: middle;\n",
       "    }\n",
       "\n",
       "    .dataframe tbody tr th {\n",
       "        vertical-align: top;\n",
       "    }\n",
       "\n",
       "    .dataframe thead th {\n",
       "        text-align: right;\n",
       "    }\n",
       "</style>\n",
       "<table border=\"1\" class=\"dataframe\">\n",
       "  <thead>\n",
       "    <tr style=\"text-align: right;\">\n",
       "      <th></th>\n",
       "      <th>0</th>\n",
       "      <th>1</th>\n",
       "      <th>2</th>\n",
       "      <th>3</th>\n",
       "      <th>4</th>\n",
       "      <th>5</th>\n",
       "      <th>6</th>\n",
       "      <th>7</th>\n",
       "      <th>8</th>\n",
       "      <th>9</th>\n",
       "      <th>...</th>\n",
       "      <th>42</th>\n",
       "      <th>43</th>\n",
       "      <th>44</th>\n",
       "      <th>45</th>\n",
       "      <th>46</th>\n",
       "      <th>47</th>\n",
       "      <th>48</th>\n",
       "      <th>49</th>\n",
       "      <th>Score</th>\n",
       "      <th>Time</th>\n",
       "    </tr>\n",
       "  </thead>\n",
       "  <tbody>\n",
       "    <tr>\n",
       "      <th>18000</th>\n",
       "      <td>-0.184549</td>\n",
       "      <td>-0.468398</td>\n",
       "      <td>1.121426</td>\n",
       "      <td>-0.017792</td>\n",
       "      <td>0.00297</td>\n",
       "      <td>-1.454604</td>\n",
       "      <td>0.554264</td>\n",
       "      <td>0.349232</td>\n",
       "      <td>0.107937</td>\n",
       "      <td>-0.539893</td>\n",
       "      <td>...</td>\n",
       "      <td>0.57634</td>\n",
       "      <td>-0.039829</td>\n",
       "      <td>-0.028913</td>\n",
       "      <td>1.05411</td>\n",
       "      <td>0.81801</td>\n",
       "      <td>0.258794</td>\n",
       "      <td>0.055568</td>\n",
       "      <td>0.387729</td>\n",
       "      <td>0.0</td>\n",
       "      <td>948240000.0</td>\n",
       "    </tr>\n",
       "  </tbody>\n",
       "</table>\n",
       "<p>1 rows × 52 columns</p>\n",
       "</div>"
      ],
      "text/plain": [
       "              0         1         2         3        4         5         6  \\\n",
       "18000 -0.184549 -0.468398  1.121426 -0.017792  0.00297 -1.454604  0.554264   \n",
       "\n",
       "              7         8         9     ...            42        43        44  \\\n",
       "18000  0.349232  0.107937 -0.539893     ...       0.57634 -0.039829 -0.028913   \n",
       "\n",
       "            45       46        47        48        49  Score         Time  \n",
       "18000  1.05411  0.81801  0.258794  0.055568  0.387729    0.0  948240000.0  \n",
       "\n",
       "[1 rows x 52 columns]"
      ]
     },
     "execution_count": 44,
     "metadata": {},
     "output_type": "execute_result"
    }
   ],
   "source": [
    "train_tfidf_w2v_data.head(1)"
   ]
  },
  {
   "cell_type": "code",
   "execution_count": 45,
   "metadata": {},
   "outputs": [
    {
     "data": {
      "text/html": [
       "<div>\n",
       "<style scoped>\n",
       "    .dataframe tbody tr th:only-of-type {\n",
       "        vertical-align: middle;\n",
       "    }\n",
       "\n",
       "    .dataframe tbody tr th {\n",
       "        vertical-align: top;\n",
       "    }\n",
       "\n",
       "    .dataframe thead th {\n",
       "        text-align: right;\n",
       "    }\n",
       "</style>\n",
       "<table border=\"1\" class=\"dataframe\">\n",
       "  <thead>\n",
       "    <tr style=\"text-align: right;\">\n",
       "      <th></th>\n",
       "      <th>0</th>\n",
       "      <th>1</th>\n",
       "      <th>2</th>\n",
       "      <th>3</th>\n",
       "      <th>4</th>\n",
       "      <th>5</th>\n",
       "      <th>6</th>\n",
       "      <th>7</th>\n",
       "      <th>8</th>\n",
       "      <th>9</th>\n",
       "      <th>...</th>\n",
       "      <th>42</th>\n",
       "      <th>43</th>\n",
       "      <th>44</th>\n",
       "      <th>45</th>\n",
       "      <th>46</th>\n",
       "      <th>47</th>\n",
       "      <th>48</th>\n",
       "      <th>49</th>\n",
       "      <th>Score</th>\n",
       "      <th>Time</th>\n",
       "    </tr>\n",
       "  </thead>\n",
       "  <tbody>\n",
       "    <tr>\n",
       "      <th>18000</th>\n",
       "      <td>-0.184549</td>\n",
       "      <td>-0.468398</td>\n",
       "      <td>1.121426</td>\n",
       "      <td>-0.017792</td>\n",
       "      <td>0.00297</td>\n",
       "      <td>-1.454604</td>\n",
       "      <td>0.554264</td>\n",
       "      <td>0.349232</td>\n",
       "      <td>0.107937</td>\n",
       "      <td>-0.539893</td>\n",
       "      <td>...</td>\n",
       "      <td>0.57634</td>\n",
       "      <td>-0.039829</td>\n",
       "      <td>-0.028913</td>\n",
       "      <td>1.05411</td>\n",
       "      <td>0.81801</td>\n",
       "      <td>0.258794</td>\n",
       "      <td>0.055568</td>\n",
       "      <td>0.387729</td>\n",
       "      <td>0.0</td>\n",
       "      <td>948240000.0</td>\n",
       "    </tr>\n",
       "  </tbody>\n",
       "</table>\n",
       "<p>1 rows × 52 columns</p>\n",
       "</div>"
      ],
      "text/plain": [
       "              0         1         2         3        4         5         6  \\\n",
       "18000 -0.184549 -0.468398  1.121426 -0.017792  0.00297 -1.454604  0.554264   \n",
       "\n",
       "              7         8         9     ...            42        43        44  \\\n",
       "18000  0.349232  0.107937 -0.539893     ...       0.57634 -0.039829 -0.028913   \n",
       "\n",
       "            45       46        47        48        49  Score         Time  \n",
       "18000  1.05411  0.81801  0.258794  0.055568  0.387729    0.0  948240000.0  \n",
       "\n",
       "[1 rows x 52 columns]"
      ]
     },
     "execution_count": 45,
     "metadata": {},
     "output_type": "execute_result"
    }
   ],
   "source": [
    "train_tfidf_w2v_data.head(1)"
   ]
  },
  {
   "cell_type": "code",
   "execution_count": 46,
   "metadata": {},
   "outputs": [
    {
     "data": {
      "text/html": [
       "<div>\n",
       "<style scoped>\n",
       "    .dataframe tbody tr th:only-of-type {\n",
       "        vertical-align: middle;\n",
       "    }\n",
       "\n",
       "    .dataframe tbody tr th {\n",
       "        vertical-align: top;\n",
       "    }\n",
       "\n",
       "    .dataframe thead th {\n",
       "        text-align: right;\n",
       "    }\n",
       "</style>\n",
       "<table border=\"1\" class=\"dataframe\">\n",
       "  <thead>\n",
       "    <tr style=\"text-align: right;\">\n",
       "      <th></th>\n",
       "      <th>Id</th>\n",
       "      <th>ProductId</th>\n",
       "      <th>UserId</th>\n",
       "      <th>ProfileName</th>\n",
       "      <th>HelpfulnessNumerator</th>\n",
       "      <th>HelpfulnessDenominator</th>\n",
       "      <th>Score</th>\n",
       "      <th>Time</th>\n",
       "      <th>Summary</th>\n",
       "      <th>Text</th>\n",
       "      <th>CleanedText</th>\n",
       "    </tr>\n",
       "  </thead>\n",
       "  <tbody>\n",
       "    <tr>\n",
       "      <th>0</th>\n",
       "      <td>374422</td>\n",
       "      <td>B00004CI84</td>\n",
       "      <td>A1048CYU0OV4O8</td>\n",
       "      <td>Judy L. Eans</td>\n",
       "      <td>2</td>\n",
       "      <td>2</td>\n",
       "      <td>1</td>\n",
       "      <td>947376000</td>\n",
       "      <td>GREAT</td>\n",
       "      <td>THIS IS ONE MOVIE THAT SHOULD BE IN YOUR MOVIE...</td>\n",
       "      <td>one movi movi collect fill comedi action whate...</td>\n",
       "    </tr>\n",
       "  </tbody>\n",
       "</table>\n",
       "</div>"
      ],
      "text/plain": [
       "       Id   ProductId          UserId   ProfileName HelpfulnessNumerator  \\\n",
       "0  374422  B00004CI84  A1048CYU0OV4O8  Judy L. Eans                    2   \n",
       "\n",
       "  HelpfulnessDenominator Score       Time Summary  \\\n",
       "0                      2     1  947376000   GREAT   \n",
       "\n",
       "                                                Text  \\\n",
       "0  THIS IS ONE MOVIE THAT SHOULD BE IN YOUR MOVIE...   \n",
       "\n",
       "                                         CleanedText  \n",
       "0  one movi movi collect fill comedi action whate...  "
      ]
     },
     "execution_count": 46,
     "metadata": {},
     "output_type": "execute_result"
    }
   ],
   "source": [
    "train_text_data.head(1)"
   ]
  },
  {
   "cell_type": "markdown",
   "metadata": {
    "colab_type": "text",
    "id": "IwObBT2UiWOr"
   },
   "source": [
    "# [5] Assignment 8: Decision Trees"
   ]
  },
  {
   "cell_type": "markdown",
   "metadata": {
    "colab_type": "text",
    "id": "k_mwmumRiWOr"
   },
   "source": [
    "<ol>\n",
    "    <li><strong>Apply Decision Trees on these feature sets</strong>\n",
    "        <ul>\n",
    "            <li><font color='red'>SET 1:</font>Review text, preprocessed one converted into vectors using (BOW)</li>\n",
    "            <li><font color='red'>SET 2:</font>Review text, preprocessed one converted into vectors using (TFIDF)</li>\n",
    "            <li><font color='red'>SET 3:</font>Review text, preprocessed one converted into vectors using (AVG W2v)</li>\n",
    "            <li><font color='red'>SET 4:</font>Review text, preprocessed one converted into vectors using (TFIDF W2v)</li>\n",
    "        </ul>\n",
    "    </li>\n",
    "    <br>\n",
    "    <li><strong>The hyper paramter tuning (best `depth` in range [1, 5, 10, 50, 100, 500, 100], and the best `min_samples_split` in range [5, 10, 100, 500])</strong>\n",
    "        <ul>\n",
    "    <li>Find the best hyper parameter which will give the maximum <a href='https://www.appliedaicourse.com/course/applied-ai-course-online/lessons/receiver-operating-characteristic-curve-roc-curve-and-auc-1/'>AUC</a> value</li>\n",
    "    <li>Find the best hyper paramter using k-fold cross validation or simple cross validation data</li>\n",
    "    <li>Use gridsearch cv or randomsearch cv or you can also write your own for loops to do this task of hyperparameter tuning</li>          \n",
    "        </ul>\n",
    "    </li>\n",
    "    <br>\n",
    "    <li><strong>Graphviz</strong>\n",
    "        <ul>\n",
    "    <li>Visualize your decision tree with Graphviz. It helps you to understand how a decision is being made, given a new vector.</li>\n",
    "    <li>Since feature names are not obtained from word2vec related models, visualize only BOW & TFIDF decision trees using Graphviz</li>\n",
    "    <li>Make sure to print the words in each node of the decision tree instead of printing its index.</li>\n",
    "    <li>Just for visualization purpose, limit max_depth to 2 or 3 and either embed the generated images of graphviz in your notebook, or directly upload them as .png files.</li>                \n",
    "        </ul>\n",
    "    </li>\n",
    "    <br>\n",
    "    <li><strong>Feature importance</strong>\n",
    "        <ul>\n",
    "    <li>Find the top 20 important features from both feature sets <font color='red'>Set 1</font> and <font color='red'>Set 2</font> using `feature_importances_` method of <a href='https://scikit-learn.org/stable/modules/generated/sklearn.tree.DecisionTreeClassifier.html'>Decision Tree Classifier</a> and print their corresponding feature names</li>\n",
    "        </ul>\n",
    "    </li>\n",
    "    <br>\n",
    "    <li><strong>Feature engineering</strong>\n",
    "        <ul>\n",
    "    <li>To increase the performance of your model, you can also experiment with with feature engineering like :</li>\n",
    "            <ul>\n",
    "            <li>Taking length of reviews as another feature.</li>\n",
    "            <li>Considering some features from review summary as well.</li>\n",
    "        </ul>\n",
    "        </ul>\n",
    "    </li>\n",
    "    <br>\n",
    "    <li><strong>Representation of results</strong>\n",
    "        <ul>\n",
    "    <li>You need to plot the performance of model both on train data and cross validation data for each hyper parameter, like shown in the figure.\n",
    "    <img src='train_cv_auc.JPG' width=300px></li>\n",
    "    <li>Once after you found the best hyper parameter, you need to train your model with it, and find the AUC on test data and plot the ROC curve on both train and test.\n",
    "    <img src='train_test_auc.JPG' width=300px></li>\n",
    "    <li>Along with plotting ROC curve, you need to print the <a href='https://www.appliedaicourse.com/course/applied-ai-course-online/lessons/confusion-matrix-tpr-fpr-fnr-tnr-1/'>confusion matrix</a> with predicted and original labels of test data points. Please visualize your confusion matrices using <a href='https://seaborn.pydata.org/generated/seaborn.heatmap.html'>seaborn heatmaps.\n",
    "    <img src='confusion_matrix.png' width=300px></li>\n",
    "        </ul>\n",
    "    </li>\n",
    "    <br>\n",
    "    <li><strong>Conclusion</strong>\n",
    "        <ul>\n",
    "    <li>You need to summarize the results at the end of the notebook, summarize it in the table format. To print out a table please refer to this prettytable library<a href='http://zetcode.com/python/prettytable/'>  link</a> \n",
    "        <img src='summary.JPG' width=400px>\n",
    "    </li>\n",
    "        </ul>\n",
    "</ol>"
   ]
  },
  {
   "cell_type": "markdown",
   "metadata": {
    "colab_type": "text",
    "id": "uqhvv_IiiWOs"
   },
   "source": [
    "<h4><font color='red'>Note: Data Leakage</font></h4>\n",
    "\n",
    "1. There will be an issue of data-leakage if you vectorize the entire data and then split it into train/cv/test.\n",
    "2. To avoid the issue of data-leakag, make sure to split your data first and then vectorize it. \n",
    "3. While vectorizing your data, apply the method fit_transform() on you train data, and apply the method transform() on cv/test data.\n",
    "4. For more details please go through this <a href='https://soundcloud.com/applied-ai-course/leakage-bow-and-tfidf'>link.</a>"
   ]
  },
  {
   "cell_type": "markdown",
   "metadata": {
    "colab_type": "text",
    "id": "ayLYlocviWOs"
   },
   "source": [
    "# Applying Decision Trees"
   ]
  },
  {
   "cell_type": "markdown",
   "metadata": {
    "colab_type": "text",
    "id": "fvKQwJMWiWOt"
   },
   "source": [
    "## [5.1] Applying Decision Trees on BOW,<font color='red'> SET 1</font>"
   ]
  },
  {
   "cell_type": "code",
   "execution_count": 47,
   "metadata": {
    "colab": {},
    "colab_type": "code",
    "id": "vnSi4W-iiWOt"
   },
   "outputs": [
    {
     "data": {
      "text/plain": [
       "0"
      ]
     },
     "execution_count": 47,
     "metadata": {},
     "output_type": "execute_result"
    }
   ],
   "source": [
    "# Please write all the code with proper documentation\n",
    "# Please write all the code with proper documentation\n",
    "import gc; gc.collect()\n",
    "# Converting text to vector using Bag of words to all train, CV and test\n",
    "count_vect = CountVectorizer(min_df=10,max_features=1000 ) #in scikit-learn\n",
    "training_counts = count_vect.fit_transform(train_text_data['CleanedText'])\n",
    "cv_counts = count_vect.transform(cv_text_data['CleanedText'])\n",
    "test_counts = count_vect.transform(test_text_data['CleanedText'])\n",
    "gc.collect()"
   ]
  },
  {
   "cell_type": "code",
   "execution_count": 48,
   "metadata": {},
   "outputs": [
    {
     "name": "stdout",
     "output_type": "stream",
     "text": [
      " training_counts  (60000, 1000) cv_counts  (20000, 1000) test_counts (20000, 1000)\n"
     ]
    }
   ],
   "source": [
    "# converting sparse vector to dense vector\n",
    "training_count=training_counts.toarray()\n",
    "print(\" training_counts \",training_counts.shape,\"cv_counts \",cv_counts.shape,\"test_counts\",test_counts.shape)\n",
    "cv_count=cv_counts.toarray()\n",
    "test_count=test_counts.toarray()\n",
    "# removing unused object\n",
    "gc.collect()\n",
    "train_traget=train_text_data['Score'].astype('int')\n",
    "cv_target=cv_text_data['Score'].astype('int')\n",
    "test_target=test_text_data['Score'].astype('int')"
   ]
  },
  {
   "cell_type": "code",
   "execution_count": 49,
   "metadata": {},
   "outputs": [
    {
     "name": "stderr",
     "output_type": "stream",
     "text": [
      "  0%|                                                                                            | 0/7 [00:00<?, ?it/s]\n",
      "  0%|                                                                                            | 0/4 [00:00<?, ?it/s]"
     ]
    },
    {
     "name": "stdout",
     "output_type": "stream",
     "text": [
      " depth value:  1  min_sample to break:  5  AUC:  0.62185  Acc:  62.185  auc_train  0.61685\n"
     ]
    },
    {
     "name": "stderr",
     "output_type": "stream",
     "text": [
      "\n",
      " 25%|█████████████████████                                                               | 1/4 [00:01<00:04,  1.47s/it]"
     ]
    },
    {
     "name": "stdout",
     "output_type": "stream",
     "text": [
      " depth value:  1  min_sample to break:  10  AUC:  0.62185  Acc:  62.185  auc_train  0.61685\n"
     ]
    },
    {
     "name": "stderr",
     "output_type": "stream",
     "text": [
      "\n",
      " 50%|██████████████████████████████████████████                                          | 2/4 [00:02<00:02,  1.45s/it]"
     ]
    },
    {
     "name": "stdout",
     "output_type": "stream",
     "text": [
      " depth value:  1  min_sample to break:  100  AUC:  0.62185  Acc:  62.185  auc_train  0.61685\n"
     ]
    },
    {
     "name": "stderr",
     "output_type": "stream",
     "text": [
      "\n",
      " 75%|███████████████████████████████████████████████████████████████                     | 3/4 [00:04<00:01,  1.36s/it]"
     ]
    },
    {
     "name": "stdout",
     "output_type": "stream",
     "text": [
      " depth value:  1  min_sample to break:  500  AUC:  0.62185  Acc:  62.185  auc_train  0.61685\n"
     ]
    },
    {
     "name": "stderr",
     "output_type": "stream",
     "text": [
      "\n",
      " 14%|████████████                                                                        | 1/7 [00:05<00:31,  5.19s/it]\n",
      "  0%|                                                                                            | 0/4 [00:00<?, ?it/s]"
     ]
    },
    {
     "name": "stdout",
     "output_type": "stream",
     "text": [
      " depth value:  5  min_sample to break:  5  AUC:  0.6804500000000001  Acc:  68.045  auc_train  0.6833333333333335\n"
     ]
    },
    {
     "name": "stderr",
     "output_type": "stream",
     "text": [
      "\n",
      " 25%|█████████████████████                                                               | 1/4 [00:04<00:12,  4.15s/it]"
     ]
    },
    {
     "name": "stdout",
     "output_type": "stream",
     "text": [
      " depth value:  5  min_sample to break:  10  AUC:  0.6804000000000001  Acc:  68.04  auc_train  0.6833333333333335\n"
     ]
    },
    {
     "name": "stderr",
     "output_type": "stream",
     "text": [
      "\n",
      " 50%|██████████████████████████████████████████                                          | 2/4 [00:08<00:08,  4.15s/it]"
     ]
    },
    {
     "name": "stdout",
     "output_type": "stream",
     "text": [
      " depth value:  5  min_sample to break:  100  AUC:  0.6804999999999999  Acc:  68.05  auc_train  0.6831833333333334\n"
     ]
    },
    {
     "name": "stderr",
     "output_type": "stream",
     "text": [
      "\n",
      " 75%|███████████████████████████████████████████████████████████████                     | 3/4 [00:12<00:04,  4.14s/it]"
     ]
    },
    {
     "name": "stdout",
     "output_type": "stream",
     "text": [
      " depth value:  5  min_sample to break:  500  AUC:  0.67995  Acc:  67.995  auc_train  0.6826500000000001\n"
     ]
    },
    {
     "name": "stderr",
     "output_type": "stream",
     "text": [
      "\n",
      " 29%|████████████████████████                                                            | 2/7 [00:22<00:44,  8.87s/it]\n",
      "  0%|                                                                                            | 0/4 [00:00<?, ?it/s]"
     ]
    },
    {
     "name": "stdout",
     "output_type": "stream",
     "text": [
      " depth value:  10  min_sample to break:  5  AUC:  0.7453500000000001  Acc:  74.535  auc_train  0.7621666666666667\n"
     ]
    },
    {
     "name": "stderr",
     "output_type": "stream",
     "text": [
      "\n",
      " 25%|█████████████████████                                                               | 1/4 [00:09<00:27,  9.02s/it]"
     ]
    },
    {
     "name": "stdout",
     "output_type": "stream",
     "text": [
      " depth value:  10  min_sample to break:  10  AUC:  0.7464000000000001  Acc:  74.64  auc_train  0.7617000000000002\n"
     ]
    },
    {
     "name": "stderr",
     "output_type": "stream",
     "text": [
      "\n",
      " 50%|██████████████████████████████████████████                                          | 2/4 [00:18<00:18,  9.02s/it]"
     ]
    },
    {
     "name": "stdout",
     "output_type": "stream",
     "text": [
      " depth value:  10  min_sample to break:  100  AUC:  0.74575  Acc:  74.575  auc_train  0.7554333333333334\n"
     ]
    },
    {
     "name": "stderr",
     "output_type": "stream",
     "text": [
      "\n",
      " 75%|███████████████████████████████████████████████████████████████                     | 3/4 [00:26<00:08,  8.99s/it]"
     ]
    },
    {
     "name": "stdout",
     "output_type": "stream",
     "text": [
      " depth value:  10  min_sample to break:  500  AUC:  0.7428  Acc:  74.28  auc_train  0.7472833333333333\n"
     ]
    },
    {
     "name": "stderr",
     "output_type": "stream",
     "text": [
      "\n",
      " 43%|████████████████████████████████████                                                | 3/7 [00:58<01:08, 17.01s/it]\n",
      "  0%|                                                                                            | 0/4 [00:00<?, ?it/s]"
     ]
    },
    {
     "name": "stdout",
     "output_type": "stream",
     "text": [
      " depth value:  50  min_sample to break:  5  AUC:  0.7564  Acc:  75.64  auc_train  0.9512166666666666\n"
     ]
    },
    {
     "name": "stderr",
     "output_type": "stream",
     "text": [
      "\n",
      " 25%|█████████████████████                                                               | 1/4 [00:26<01:20, 26.75s/it]"
     ]
    },
    {
     "name": "stdout",
     "output_type": "stream",
     "text": [
      " depth value:  50  min_sample to break:  10  AUC:  0.7569999999999999  Acc:  75.7  auc_train  0.9357666666666666\n"
     ]
    },
    {
     "name": "stderr",
     "output_type": "stream",
     "text": [
      "\n",
      " 50%|██████████████████████████████████████████                                          | 2/4 [00:54<00:53, 26.91s/it]"
     ]
    },
    {
     "name": "stdout",
     "output_type": "stream",
     "text": [
      " depth value:  50  min_sample to break:  100  AUC:  0.7583500000000001  Acc:  75.835  auc_train  0.8561833333333334\n"
     ]
    },
    {
     "name": "stderr",
     "output_type": "stream",
     "text": [
      "\n",
      " 75%|███████████████████████████████████████████████████████████████                     | 3/4 [01:20<00:26, 26.71s/it]"
     ]
    },
    {
     "name": "stdout",
     "output_type": "stream",
     "text": [
      " depth value:  50  min_sample to break:  500  AUC:  0.7634  Acc:  76.34  auc_train  0.7919499999999999\n"
     ]
    },
    {
     "name": "stderr",
     "output_type": "stream",
     "text": [
      "\n",
      " 57%|████████████████████████████████████████████████                                    | 4/7 [02:43<02:09, 43.33s/it]\n",
      "  0%|                                                                                            | 0/4 [00:00<?, ?it/s]"
     ]
    },
    {
     "name": "stdout",
     "output_type": "stream",
     "text": [
      " depth value:  100  min_sample to break:  5  AUC:  0.7436500000000001  Acc:  74.36500000000001  auc_train  0.9760833333333333\n"
     ]
    },
    {
     "name": "stderr",
     "output_type": "stream",
     "text": [
      "\n",
      " 25%|█████████████████████                                                               | 1/4 [00:35<01:47, 35.96s/it]"
     ]
    },
    {
     "name": "stdout",
     "output_type": "stream",
     "text": [
      " depth value:  100  min_sample to break:  10  AUC:  0.7454000000000001  Acc:  74.53999999999999  auc_train  0.9549333333333333\n"
     ]
    },
    {
     "name": "stderr",
     "output_type": "stream",
     "text": [
      "\n",
      " 50%|██████████████████████████████████████████                                          | 2/4 [01:09<01:10, 35.31s/it]"
     ]
    },
    {
     "name": "stdout",
     "output_type": "stream",
     "text": [
      " depth value:  100  min_sample to break:  100  AUC:  0.7564  Acc:  75.64  auc_train  0.8652500000000001\n"
     ]
    },
    {
     "name": "stderr",
     "output_type": "stream",
     "text": [
      "\n",
      " 75%|███████████████████████████████████████████████████████████████                     | 3/4 [01:38<00:33, 33.33s/it]"
     ]
    },
    {
     "name": "stdout",
     "output_type": "stream",
     "text": [
      " depth value:  100  min_sample to break:  500  AUC:  0.7597499999999999  Acc:  75.97500000000001  auc_train  0.7956500000000002\n"
     ]
    },
    {
     "name": "stderr",
     "output_type": "stream",
     "text": [
      "\n",
      " 71%|████████████████████████████████████████████████████████████                        | 5/7 [04:49<02:16, 68.09s/it]\n",
      "  0%|                                                                                            | 0/4 [00:00<?, ?it/s]"
     ]
    },
    {
     "name": "stdout",
     "output_type": "stream",
     "text": [
      " depth value:  500  min_sample to break:  5  AUC:  0.7411000000000001  Acc:  74.11  auc_train  0.9811333333333333\n"
     ]
    },
    {
     "name": "stderr",
     "output_type": "stream",
     "text": [
      "\n",
      " 25%|█████████████████████                                                               | 1/4 [00:31<01:34, 31.60s/it]"
     ]
    },
    {
     "name": "stdout",
     "output_type": "stream",
     "text": [
      " depth value:  500  min_sample to break:  10  AUC:  0.7424999999999999  Acc:  74.25  auc_train  0.9571333333333333\n"
     ]
    },
    {
     "name": "stderr",
     "output_type": "stream",
     "text": [
      "\n",
      " 50%|██████████████████████████████████████████                                          | 2/4 [01:09<01:06, 33.48s/it]"
     ]
    },
    {
     "name": "stdout",
     "output_type": "stream",
     "text": [
      " depth value:  500  min_sample to break:  100  AUC:  0.7526  Acc:  75.26  auc_train  0.86685\n"
     ]
    },
    {
     "name": "stderr",
     "output_type": "stream",
     "text": [
      "\n",
      " 75%|███████████████████████████████████████████████████████████████                     | 3/4 [01:49<00:35, 35.32s/it]"
     ]
    },
    {
     "name": "stdout",
     "output_type": "stream",
     "text": [
      " depth value:  500  min_sample to break:  500  AUC:  0.7598999999999999  Acc:  75.99000000000001  auc_train  0.7957666666666666\n"
     ]
    },
    {
     "name": "stderr",
     "output_type": "stream",
     "text": [
      "\n",
      " 86%|████████████████████████████████████████████████████████████████████████            | 6/7 [07:12<01:30, 90.67s/it]\n",
      "  0%|                                                                                            | 0/4 [00:00<?, ?it/s]"
     ]
    },
    {
     "name": "stdout",
     "output_type": "stream",
     "text": [
      " depth value:  1000  min_sample to break:  5  AUC:  0.74005  Acc:  74.005  auc_train  0.9807833333333333\n"
     ]
    },
    {
     "name": "stderr",
     "output_type": "stream",
     "text": [
      "\n",
      " 25%|█████████████████████                                                               | 1/4 [00:38<01:55, 38.34s/it]"
     ]
    },
    {
     "name": "stdout",
     "output_type": "stream",
     "text": [
      " depth value:  1000  min_sample to break:  10  AUC:  0.7431  Acc:  74.31  auc_train  0.9585833333333333\n"
     ]
    },
    {
     "name": "stderr",
     "output_type": "stream",
     "text": [
      "\n",
      " 50%|██████████████████████████████████████████                                          | 2/4 [01:15<01:16, 38.04s/it]"
     ]
    },
    {
     "name": "stdout",
     "output_type": "stream",
     "text": [
      " depth value:  1000  min_sample to break:  100  AUC:  0.75155  Acc:  75.155  auc_train  0.8657333333333334\n"
     ]
    },
    {
     "name": "stderr",
     "output_type": "stream",
     "text": [
      "\n",
      " 75%|███████████████████████████████████████████████████████████████                     | 3/4 [01:50<00:37, 37.05s/it]"
     ]
    },
    {
     "name": "stdout",
     "output_type": "stream",
     "text": [
      " depth value:  1000  min_sample to break:  500  AUC:  0.7594  Acc:  75.94  auc_train  0.7961166666666667\n"
     ]
    },
    {
     "name": "stderr",
     "output_type": "stream",
     "text": [
      "\n",
      "100%|███████████████████████████████████████████████████████████████████████████████████| 7/7 [09:33<00:00, 105.73s/it]\n"
     ]
    }
   ],
   "source": [
    "# Compute train AUC also\n",
    "\n",
    "from sklearn.tree import DecisionTreeClassifier\n",
    "from sklearn.metrics import accuracy_score\n",
    "from sklearn.metrics import roc_auc_score\n",
    "#Simple Cross Validation\n",
    "depth=[1, 5, 10, 50, 100, 500, 1000]\n",
    "min_sample=[5, 10, 100, 500]\n",
    "returned_pram1=dict()\n",
    "returned_pram2=dict()\n",
    "returned_pram_train1=dict()\n",
    "returned_pram_train2=dict()\n",
    "for i in tqdm(depth):\n",
    "    for j in tqdm(min_sample):\n",
    "        # instantiate learning model\n",
    "        clf = DecisionTreeClassifier(criterion='gini', max_depth=i, min_samples_split=j)\n",
    "        # fitting the model on crossvalidation train\n",
    "        clf.fit(training_count, train_traget)\n",
    "        # predict the response on the crossvalidation train\n",
    "        pred_cv = clf.predict(cv_count)\n",
    "        # evaluate CV accuracy\n",
    "        acc_cv = accuracy_score(cv_target, pred_cv, normalize=True) * float(100)\n",
    "        auc_cv=roc_auc_score(cv_target, pred_cv)\n",
    "        auc_train=roc_auc_score(train_traget, clf.predict(training_count))\n",
    "        print(\" depth value: \",i,\" min_sample to break: \",j,\" AUC: \",auc_cv,\" Acc: \",acc_cv,\" auc_train \",auc_train)\n",
    "        returned_pram1.update({i:auc_cv})\n",
    "        key= str(i)+\" , \"+str(j)\n",
    "        returned_pram2.update({key:auc_cv})\n",
    "        returned_pram_train1.update({i:auc_train})\n",
    "        returned_pram_train2.update({key:auc_train})\n",
    "    gc.collect()"
   ]
  },
  {
   "cell_type": "code",
   "execution_count": 50,
   "metadata": {},
   "outputs": [],
   "source": [
    "test_auc=[value for value in returned_pram2.values()]\n",
    "train_auc=[value for value in returned_pram_train2.values()]\n",
    "test_auc1=np.reshape(test_auc, (7, 4))\n",
    "train_auc1=np.reshape(train_auc, (7, 4))"
   ]
  },
  {
   "cell_type": "code",
   "execution_count": 51,
   "metadata": {},
   "outputs": [],
   "source": [
    "def plot_tables_metrics(data_matrix, x_tick,y_tick,x_label,ylabel, title):\n",
    "    import seaborn as sns;\n",
    "    ax = sns.heatmap(pd.DataFrame(data_matrix), annot=True,annot_kws={\"size\": 14},fmt='.3g')\n",
    "    ax.xaxis.set_ticklabels(x_tick) \n",
    "    ax.yaxis.set_ticklabels(y_tick)\n",
    "    ax.set_xlabel(x_label);ax.set_ylabel(ylabel);\n",
    "    ax.set_title(title); "
   ]
  },
  {
   "cell_type": "code",
   "execution_count": 52,
   "metadata": {},
   "outputs": [
    {
     "data": {
      "image/png": "[encoded data removed]",
      "text/plain": [
       "<Figure size 432x288 with 2 Axes>"
      ]
     },
     "metadata": {},
     "output_type": "display_data"
    }
   ],
   "source": [
    "x_label='Minimum data points requires to split'\n",
    "ylabel='Depth of tree'\n",
    "title= 'AUC of Test data vs depth of the tree and minimum samples requires to split'\n",
    "plot_tables_metrics(test_auc1, min_sample,depth,x_label,ylabel, title)"
   ]
  },
  {
   "cell_type": "code",
   "execution_count": 53,
   "metadata": {},
   "outputs": [
    {
     "data": {
      "image/png": "[encoded data removed]",
      "text/plain": [
       "<Figure size 432x288 with 2 Axes>"
      ]
     },
     "metadata": {},
     "output_type": "display_data"
    }
   ],
   "source": [
    "title= 'AUC of Train data vs depth of the tree and minimum samples requires to split'\n",
    "plot_tables_metrics(train_auc1, min_sample,depth,x_label,ylabel, title)"
   ]
  },
  {
   "cell_type": "markdown",
   "metadata": {},
   "source": [
    "**Observation**\n",
    "\n",
    "We can see that when Tree depth is increasing and minimum sample required to spilt is reducing, model is overfitting, hence training auc is increasing but test auc is decreasing. The best tree depth and minimum data point required is 10 and 500 respectively which is giving train and test auc 0.747 and 0.743 respectively, which is very close so our model is well fitting."
   ]
  },
  {
   "cell_type": "code",
   "execution_count": 55,
   "metadata": {},
   "outputs": [
    {
     "name": "stdout",
     "output_type": "stream",
     "text": [
      " best_depth:  10  AUC:  0.801887775\n"
     ]
    }
   ],
   "source": [
    "from sklearn.tree import DecisionTreeClassifier\n",
    "best_depth=10\n",
    "best_minm_sample=500\n",
    "clf = DecisionTreeClassifier(criterion='gini', max_depth=best_depth, min_samples_split=best_minm_sample)\n",
    "clf.fit(training_count, train_traget)\n",
    "\n",
    "# Prediction on Test data\n",
    "pred = clf.predict_proba(test_count)\n",
    "#acc = accuracy_score(test_target, pred[:,0], normalize=True) * float(100)\n",
    "auc=roc_auc_score(test_target, pred[:,1])\n",
    "print(\" best_depth: \",best_depth,\" AUC: \",auc)"
   ]
  },
  {
   "cell_type": "code",
   "execution_count": 56,
   "metadata": {},
   "outputs": [],
   "source": [
    "# ROC AUC Curve\n",
    "y_true_train = train_traget\n",
    "y_probas_train = clf.predict_proba(training_count)\n",
    "y_true_test = test_target\n",
    "y_probas_test = clf.predict_proba(test_count)"
   ]
  },
  {
   "cell_type": "code",
   "execution_count": 57,
   "metadata": {},
   "outputs": [],
   "source": [
    "def plot_train_test_ROC(y_true_train,clf,y_true_test,training_count,test_count):\n",
    "    # ROC AUC Curve\n",
    "    y_true_train = train_traget\n",
    "    y_probas_train = clf.predict_proba(training_count)\n",
    "    y_true_test = test_target\n",
    "    y_probas_test = clf.predict_proba(test_count)\n",
    "    fpr1, tpr1, _ = metrics.roc_curve(y_true_train,  y_probas_train[:,1])\n",
    "    auc1 = metrics.roc_auc_score(y_true_train, y_probas_train[:,1])\n",
    "    plt.plot(fpr1,tpr1,label=\"Train AUC, auc=\"+str(auc1))\n",
    "    fpr2, tpr2, _ = metrics.roc_curve(y_true_test,  y_probas_test[:,1])\n",
    "    auc2 = metrics.roc_auc_score(y_true_test, y_probas_test[:,1])\n",
    "    plt.plot(fpr2,tpr2,label=\"Test, auc=\"+str(auc2))\n",
    "    plt.legend(loc=4)\n",
    "    plt.title(\"Train and Test AUC\")\n",
    "    plt.grid()\n",
    "    plt.xlabel('False Positive rate')\n",
    "    plt.ylabel('True positive rate')\n",
    "    return plt"
   ]
  },
  {
   "cell_type": "code",
   "execution_count": 58,
   "metadata": {},
   "outputs": [
    {
     "data": {
      "image/png": "[encoded data removed]",
      "text/plain": [
       "<Figure size 432x288 with 1 Axes>"
      ]
     },
     "metadata": {},
     "output_type": "display_data"
    }
   ],
   "source": [
    "plot_train_test_ROC(y_true_train,clf,y_true_test,training_count,test_count)\n",
    "plt.show()"
   ]
  },
  {
   "cell_type": "markdown",
   "metadata": {},
   "source": [
    "**Observation**\n",
    "\n",
    "We can see that the Train and Test ROC plot is overlapping on best hyperparamter depth =10 and minm points=500. And the diff of train and Test AUC is minimal so we can say that this model is well fit. If we need better performance than this we may need to try different complex models and add some new features."
   ]
  },
  {
   "cell_type": "code",
   "execution_count": 59,
   "metadata": {},
   "outputs": [],
   "source": [
    "# Plotting Confusion matrix on test data\n",
    "# Plotting Confusion matrix on test data\n",
    "import seaborn as sn\n",
    "from sklearn.metrics import confusion_matrix\n",
    "\n",
    "def plotconfusionMatrix(y_true_test,clf,test_count):\n",
    "    ax= plt.subplot()\n",
    "    confm = confusion_matrix(y_true_test, clf.predict(test_count))\n",
    "    sns.heatmap(confm, annot=True, ax = ax,annot_kws={\"size\": 16},fmt=\"d\"); #annot=True to annotate cells\n",
    "    # labels, title and ticks\n",
    "    ax.set_xlabel('Predicted labels');ax.set_ylabel('True labels'); \n",
    "    ax.set_title('Confusion Matrix of Test data'); \n",
    "    ax.xaxis.set_ticklabels(['0', '1']); ax.yaxis.set_ticklabels(['0', '1'])"
   ]
  },
  {
   "cell_type": "code",
   "execution_count": 60,
   "metadata": {},
   "outputs": [
    {
     "data": {
      "image/png": "[encoded data removed]",
      "text/plain": [
       "<Figure size 432x288 with 2 Axes>"
      ]
     },
     "metadata": {},
     "output_type": "display_data"
    }
   ],
   "source": [
    "plotconfusionMatrix(y_true_test,clf,test_count)"
   ]
  },
  {
   "cell_type": "markdown",
   "metadata": {},
   "source": [
    "**Observation**\n",
    "\n",
    "We can see that on unseen data(Test set) our diagonal elements have more no of count than off diagonals. means we have more TP and TN than FP and FN.If we need better performance than this, i.e to reduce further FP and FN and increase TP and TN then we may need to try different models and add some new features.\n"
   ]
  },
  {
   "cell_type": "markdown",
   "metadata": {},
   "source": [
    "# [5.1.1] Top 20 important features from SET 1\n"
   ]
  },
  {
   "cell_type": "code",
   "execution_count": 61,
   "metadata": {},
   "outputs": [],
   "source": [
    "feature_data=pd.DataFrame(list(clf.feature_importances_),columns=['true_weights'])\n",
    "features=(count_vect.get_feature_names())\n",
    "feature_data['Feature_name']=features"
   ]
  },
  {
   "cell_type": "code",
   "execution_count": 62,
   "metadata": {},
   "outputs": [
    {
     "data": {
      "text/html": [
       "<div>\n",
       "<style scoped>\n",
       "    .dataframe tbody tr th:only-of-type {\n",
       "        vertical-align: middle;\n",
       "    }\n",
       "\n",
       "    .dataframe tbody tr th {\n",
       "        vertical-align: top;\n",
       "    }\n",
       "\n",
       "    .dataframe thead th {\n",
       "        text-align: right;\n",
       "    }\n",
       "</style>\n",
       "<table border=\"1\" class=\"dataframe\">\n",
       "  <thead>\n",
       "    <tr style=\"text-align: right;\">\n",
       "      <th></th>\n",
       "      <th>true_weights</th>\n",
       "      <th>Feature_name</th>\n",
       "    </tr>\n",
       "  </thead>\n",
       "  <tbody>\n",
       "    <tr>\n",
       "      <th>0</th>\n",
       "      <td>0.0</td>\n",
       "      <td>abl</td>\n",
       "    </tr>\n",
       "    <tr>\n",
       "      <th>1</th>\n",
       "      <td>0.0</td>\n",
       "      <td>absolut</td>\n",
       "    </tr>\n",
       "  </tbody>\n",
       "</table>\n",
       "</div>"
      ],
      "text/plain": [
       "   true_weights Feature_name\n",
       "0           0.0          abl\n",
       "1           0.0      absolut"
      ]
     },
     "execution_count": 62,
     "metadata": {},
     "output_type": "execute_result"
    }
   ],
   "source": [
    "feature_data.head(2)"
   ]
  },
  {
   "cell_type": "code",
   "execution_count": 63,
   "metadata": {},
   "outputs": [
    {
     "data": {
      "text/html": [
       "<div>\n",
       "<style scoped>\n",
       "    .dataframe tbody tr th:only-of-type {\n",
       "        vertical-align: middle;\n",
       "    }\n",
       "\n",
       "    .dataframe tbody tr th {\n",
       "        vertical-align: top;\n",
       "    }\n",
       "\n",
       "    .dataframe thead th {\n",
       "        text-align: right;\n",
       "    }\n",
       "</style>\n",
       "<table border=\"1\" class=\"dataframe\">\n",
       "  <thead>\n",
       "    <tr style=\"text-align: right;\">\n",
       "      <th></th>\n",
       "      <th>true_weights</th>\n",
       "      <th>Feature_name</th>\n",
       "    </tr>\n",
       "  </thead>\n",
       "  <tbody>\n",
       "    <tr>\n",
       "      <th>570</th>\n",
       "      <td>0.193398</td>\n",
       "      <td>not</td>\n",
       "    </tr>\n",
       "    <tr>\n",
       "      <th>380</th>\n",
       "      <td>0.174344</td>\n",
       "      <td>great</td>\n",
       "    </tr>\n",
       "    <tr>\n",
       "      <th>254</th>\n",
       "      <td>0.092420</td>\n",
       "      <td>disappoint</td>\n",
       "    </tr>\n",
       "    <tr>\n",
       "      <th>80</th>\n",
       "      <td>0.087409</td>\n",
       "      <td>best</td>\n",
       "    </tr>\n",
       "    <tr>\n",
       "      <th>502</th>\n",
       "      <td>0.084212</td>\n",
       "      <td>love</td>\n",
       "    </tr>\n",
       "    <tr>\n",
       "      <th>238</th>\n",
       "      <td>0.066692</td>\n",
       "      <td>delici</td>\n",
       "    </tr>\n",
       "    <tr>\n",
       "      <th>372</th>\n",
       "      <td>0.037852</td>\n",
       "      <td>good</td>\n",
       "    </tr>\n",
       "    <tr>\n",
       "      <th>627</th>\n",
       "      <td>0.028722</td>\n",
       "      <td>perfect</td>\n",
       "    </tr>\n",
       "    <tr>\n",
       "      <th>296</th>\n",
       "      <td>0.028245</td>\n",
       "      <td>excel</td>\n",
       "    </tr>\n",
       "    <tr>\n",
       "      <th>317</th>\n",
       "      <td>0.026995</td>\n",
       "      <td>favorit</td>\n",
       "    </tr>\n",
       "    <tr>\n",
       "      <th>59</th>\n",
       "      <td>0.022320</td>\n",
       "      <td>bad</td>\n",
       "    </tr>\n",
       "    <tr>\n",
       "      <th>888</th>\n",
       "      <td>0.016608</td>\n",
       "      <td>thought</td>\n",
       "    </tr>\n",
       "    <tr>\n",
       "      <th>53</th>\n",
       "      <td>0.016477</td>\n",
       "      <td>aw</td>\n",
       "    </tr>\n",
       "    <tr>\n",
       "      <th>564</th>\n",
       "      <td>0.015441</td>\n",
       "      <td>nice</td>\n",
       "    </tr>\n",
       "    <tr>\n",
       "      <th>926</th>\n",
       "      <td>0.013510</td>\n",
       "      <td>unfortun</td>\n",
       "    </tr>\n",
       "    <tr>\n",
       "      <th>722</th>\n",
       "      <td>0.010960</td>\n",
       "      <td>review</td>\n",
       "    </tr>\n",
       "    <tr>\n",
       "      <th>981</th>\n",
       "      <td>0.008495</td>\n",
       "      <td>worst</td>\n",
       "    </tr>\n",
       "    <tr>\n",
       "      <th>983</th>\n",
       "      <td>0.008362</td>\n",
       "      <td>would</td>\n",
       "    </tr>\n",
       "    <tr>\n",
       "      <th>875</th>\n",
       "      <td>0.007891</td>\n",
       "      <td>terribl</td>\n",
       "    </tr>\n",
       "    <tr>\n",
       "      <th>543</th>\n",
       "      <td>0.006989</td>\n",
       "      <td>money</td>\n",
       "    </tr>\n",
       "  </tbody>\n",
       "</table>\n",
       "</div>"
      ],
      "text/plain": [
       "     true_weights Feature_name\n",
       "570      0.193398          not\n",
       "380      0.174344        great\n",
       "254      0.092420   disappoint\n",
       "80       0.087409         best\n",
       "502      0.084212         love\n",
       "238      0.066692       delici\n",
       "372      0.037852         good\n",
       "627      0.028722      perfect\n",
       "296      0.028245        excel\n",
       "317      0.026995      favorit\n",
       "59       0.022320          bad\n",
       "888      0.016608      thought\n",
       "53       0.016477           aw\n",
       "564      0.015441         nice\n",
       "926      0.013510     unfortun\n",
       "722      0.010960       review\n",
       "981      0.008495        worst\n",
       "983      0.008362        would\n",
       "875      0.007891      terribl\n",
       "543      0.006989        money"
      ]
     },
     "execution_count": 63,
     "metadata": {},
     "output_type": "execute_result"
    }
   ],
   "source": [
    "# Important features for both +ve and -ve review\n",
    "feature_data.sort_values(by='true_weights',inplace=True,ascending=False)\n",
    "feature_data.head(20)"
   ]
  },
  {
   "cell_type": "code",
   "execution_count": null,
   "metadata": {},
   "outputs": [],
   "source": [
    "from wordcloud import WordCloud, STOPWORDS\n",
    "import matplotlib.pyplot as plt\n",
    "stopwords = set(STOPWORDS)\n",
    "def show_wordcloud(data, title = None):\n",
    "    wordcloud = WordCloud(\n",
    "        background_color='white',\n",
    "        max_words=200,\n",
    "        max_font_size=40, \n",
    "        scale=3,\n",
    "        random_state=1 # chosen at random by flipping a coin; it was heads\n",
    "    ).generate(str(data))\n",
    "\n",
    "    fig = plt.figure(1, figsize=(12, 12))\n",
    "    plt.axis('off')\n",
    "    if title: \n",
    "        fig.suptitle(title, fontsize=20)\n",
    "        fig.subplots_adjust(top=2.3)\n",
    "\n",
    "    plt.imshow(wordcloud)\n",
    "    plt.show()"
   ]
  },
  {
   "cell_type": "code",
   "execution_count": null,
   "metadata": {},
   "outputs": [],
   "source": [
    "# Word cloud of Important features for both +ve and -ve review\n",
    "show_wordcloud(str(feature_data['Feature_name'][:50]),\"Important features for both +ve and -ve review\")"
   ]
  },
  {
   "cell_type": "markdown",
   "metadata": {},
   "source": [
    "**Observation**\n",
    "\n",
    "We can see that all the positive and negative words in the above word cloud like amaz, satisfy, delici, disappoint, unfortun so these words are important features for both positive and negative review."
   ]
  },
  {
   "cell_type": "markdown",
   "metadata": {},
   "source": [
    "# [5.1.2] Graphviz visualization of Decision Tree on BOW, SET 1"
   ]
  },
  {
   "cell_type": "code",
   "execution_count": 64,
   "metadata": {},
   "outputs": [],
   "source": [
    "import os\n",
    "os.environ[\"PATH\"] += os.pathsep + 'C:/Program Files (x86)/graphviz-2.38/release/bin/'"
   ]
  },
  {
   "cell_type": "code",
   "execution_count": 65,
   "metadata": {},
   "outputs": [
    {
     "data": {
      "text/plain": [
       "DecisionTreeClassifier(class_weight=None, criterion='gini', max_depth=3,\n",
       "            max_features=None, max_leaf_nodes=None,\n",
       "            min_impurity_decrease=0.0, min_impurity_split=None,\n",
       "            min_samples_leaf=1, min_samples_split=500,\n",
       "            min_weight_fraction_leaf=0.0, presort=False, random_state=None,\n",
       "            splitter='best')"
      ]
     },
     "execution_count": 65,
     "metadata": {},
     "output_type": "execute_result"
    }
   ],
   "source": [
    "import graphviz\n",
    "best_depth=3\n",
    "best_minm_sample=500\n",
    "clf = DecisionTreeClassifier(criterion='gini', max_depth=best_depth, min_samples_split=best_minm_sample)\n",
    "clf.fit(training_count, train_traget)"
   ]
  },
  {
   "cell_type": "code",
   "execution_count": 66,
   "metadata": {
    "scrolled": false
   },
   "outputs": [
    {
     "data": {
      "image/svg+xml": [
       "<?xml version=\"1.0\" encoding=\"UTF-8\" standalone=\"no\"?>\r\n",
       "<!DOCTYPE svg PUBLIC \"-//W3C//DTD SVG 1.1//EN\"\r\n",
       " \"http://www.w3.org/Graphics/SVG/1.1/DTD/svg11.dtd\">\r\n",
       "<!-- Generated by graphviz version 2.38.0 (20140413.2041)\r\n",
       " -->\r\n",
       "<!-- Title: Tree Pages: 1 -->\r\n",
       "<svg width=\"1258pt\" height=\"433pt\"\r\n",
       " viewBox=\"0.00 0.00 1257.50 433.00\" xmlns=\"http://www.w3.org/2000/svg\" xmlns:xlink=\"http://www.w3.org/1999/xlink\">\r\n",
       "<g id=\"graph0\" class=\"graph\" transform=\"scale(1 1) rotate(0) translate(4 429)\">\r\n",
       "<title>Tree</title>\r\n",
       "<polygon fill=\"white\" stroke=\"none\" points=\"-4,4 -4,-429 1253.5,-429 1253.5,4 -4,4\"/>\r\n",
       "<!-- 0 -->\r\n",
       "<g id=\"node1\" class=\"node\"><title>0</title>\r\n",
       "<path fill=\"none\" stroke=\"black\" d=\"M702,-425C702,-425 563,-425 563,-425 557,-425 551,-419 551,-413 551,-413 551,-354 551,-354 551,-348 557,-342 563,-342 563,-342 702,-342 702,-342 708,-342 714,-348 714,-354 714,-354 714,-413 714,-413 714,-419 708,-425 702,-425\"/>\r\n",
       "<text text-anchor=\"start\" x=\"605\" y=\"-409.8\" font-family=\"Helvetica,sans-Serif\" font-size=\"14.00\">not ≤ 0.5</text>\r\n",
       "<text text-anchor=\"start\" x=\"603.5\" y=\"-394.8\" font-family=\"Helvetica,sans-Serif\" font-size=\"14.00\">gini = 0.5</text>\r\n",
       "<text text-anchor=\"start\" x=\"576.5\" y=\"-379.8\" font-family=\"Helvetica,sans-Serif\" font-size=\"14.00\">samples = 60000</text>\r\n",
       "<text text-anchor=\"start\" x=\"559\" y=\"-364.8\" font-family=\"Helvetica,sans-Serif\" font-size=\"14.00\">value = [30000, 30000]</text>\r\n",
       "<text text-anchor=\"start\" x=\"579.5\" y=\"-349.8\" font-family=\"Helvetica,sans-Serif\" font-size=\"14.00\">class = not_liked</text>\r\n",
       "</g>\r\n",
       "<!-- 1 -->\r\n",
       "<g id=\"node2\" class=\"node\"><title>1</title>\r\n",
       "<path fill=\"#399de5\" fill-opacity=\"0.341176\" stroke=\"black\" d=\"M586,-306C586,-306 447,-306 447,-306 441,-306 435,-300 435,-294 435,-294 435,-235 435,-235 435,-229 441,-223 447,-223 447,-223 586,-223 586,-223 592,-223 598,-229 598,-235 598,-235 598,-294 598,-294 598,-300 592,-306 586,-306\"/>\r\n",
       "<text text-anchor=\"start\" x=\"482.5\" y=\"-290.8\" font-family=\"Helvetica,sans-Serif\" font-size=\"14.00\">great ≤ 0.5</text>\r\n",
       "<text text-anchor=\"start\" x=\"479\" y=\"-275.8\" font-family=\"Helvetica,sans-Serif\" font-size=\"14.00\">gini = 0.479</text>\r\n",
       "<text text-anchor=\"start\" x=\"460.5\" y=\"-260.8\" font-family=\"Helvetica,sans-Serif\" font-size=\"14.00\">samples = 33905</text>\r\n",
       "<text text-anchor=\"start\" x=\"443\" y=\"-245.8\" font-family=\"Helvetica,sans-Serif\" font-size=\"14.00\">value = [13447, 20458]</text>\r\n",
       "<text text-anchor=\"start\" x=\"477\" y=\"-230.8\" font-family=\"Helvetica,sans-Serif\" font-size=\"14.00\">class = liked</text>\r\n",
       "</g>\r\n",
       "<!-- 0&#45;&gt;1 -->\r\n",
       "<g id=\"edge1\" class=\"edge\"><title>0&#45;&gt;1</title>\r\n",
       "<path fill=\"none\" stroke=\"black\" d=\"M592.254,-341.907C583.077,-332.651 573.243,-322.732 563.801,-313.209\"/>\r\n",
       "<polygon fill=\"black\" stroke=\"black\" points=\"566.201,-310.658 556.674,-306.021 561.23,-315.586 566.201,-310.658\"/>\r\n",
       "<text text-anchor=\"middle\" x=\"556.567\" y=\"-327.321\" font-family=\"Helvetica,sans-Serif\" font-size=\"14.00\">True</text>\r\n",
       "</g>\r\n",
       "<!-- 8 -->\r\n",
       "<g id=\"node9\" class=\"node\"><title>8</title>\r\n",
       "<path fill=\"#e58139\" fill-opacity=\"0.423529\" stroke=\"black\" d=\"M814,-306C814,-306 683,-306 683,-306 677,-306 671,-300 671,-294 671,-294 671,-235 671,-235 671,-229 677,-223 683,-223 683,-223 814,-223 814,-223 820,-223 826,-229 826,-235 826,-235 826,-294 826,-294 826,-300 820,-306 814,-306\"/>\r\n",
       "<text text-anchor=\"start\" x=\"714.5\" y=\"-290.8\" font-family=\"Helvetica,sans-Serif\" font-size=\"14.00\">great ≤ 0.5</text>\r\n",
       "<text text-anchor=\"start\" x=\"711\" y=\"-275.8\" font-family=\"Helvetica,sans-Serif\" font-size=\"14.00\">gini = 0.464</text>\r\n",
       "<text text-anchor=\"start\" x=\"692.5\" y=\"-260.8\" font-family=\"Helvetica,sans-Serif\" font-size=\"14.00\">samples = 26095</text>\r\n",
       "<text text-anchor=\"start\" x=\"679\" y=\"-245.8\" font-family=\"Helvetica,sans-Serif\" font-size=\"14.00\">value = [16553, 9542]</text>\r\n",
       "<text text-anchor=\"start\" x=\"695.5\" y=\"-230.8\" font-family=\"Helvetica,sans-Serif\" font-size=\"14.00\">class = not_liked</text>\r\n",
       "</g>\r\n",
       "<!-- 0&#45;&gt;8 -->\r\n",
       "<g id=\"edge8\" class=\"edge\"><title>0&#45;&gt;8</title>\r\n",
       "<path fill=\"none\" stroke=\"black\" d=\"M672.746,-341.907C681.923,-332.651 691.757,-322.732 701.199,-313.209\"/>\r\n",
       "<polygon fill=\"black\" stroke=\"black\" points=\"703.77,-315.586 708.326,-306.021 698.799,-310.658 703.77,-315.586\"/>\r\n",
       "<text text-anchor=\"middle\" x=\"708.433\" y=\"-327.321\" font-family=\"Helvetica,sans-Serif\" font-size=\"14.00\">False</text>\r\n",
       "</g>\r\n",
       "<!-- 2 -->\r\n",
       "<g id=\"node3\" class=\"node\"><title>2</title>\r\n",
       "<path fill=\"#399de5\" fill-opacity=\"0.168627\" stroke=\"black\" d=\"M320,-187C320,-187 181,-187 181,-187 175,-187 169,-181 169,-175 169,-175 169,-116 169,-116 169,-110 175,-104 181,-104 181,-104 320,-104 320,-104 326,-104 332,-110 332,-116 332,-116 332,-175 332,-175 332,-181 326,-187 320,-187\"/>\r\n",
       "<text text-anchor=\"start\" x=\"200\" y=\"-171.8\" font-family=\"Helvetica,sans-Serif\" font-size=\"14.00\">disappoint ≤ 0.5</text>\r\n",
       "<text text-anchor=\"start\" x=\"213\" y=\"-156.8\" font-family=\"Helvetica,sans-Serif\" font-size=\"14.00\">gini = 0.496</text>\r\n",
       "<text text-anchor=\"start\" x=\"194.5\" y=\"-141.8\" font-family=\"Helvetica,sans-Serif\" font-size=\"14.00\">samples = 27224</text>\r\n",
       "<text text-anchor=\"start\" x=\"177\" y=\"-126.8\" font-family=\"Helvetica,sans-Serif\" font-size=\"14.00\">value = [12352, 14872]</text>\r\n",
       "<text text-anchor=\"start\" x=\"211\" y=\"-111.8\" font-family=\"Helvetica,sans-Serif\" font-size=\"14.00\">class = liked</text>\r\n",
       "</g>\r\n",
       "<!-- 1&#45;&gt;2 -->\r\n",
       "<g id=\"edge2\" class=\"edge\"><title>1&#45;&gt;2</title>\r\n",
       "<path fill=\"none\" stroke=\"black\" d=\"M434.884,-227.601C405.404,-214.634 371.945,-199.917 341.697,-186.613\"/>\r\n",
       "<polygon fill=\"black\" stroke=\"black\" points=\"342.983,-183.355 332.42,-182.533 340.165,-189.763 342.983,-183.355\"/>\r\n",
       "</g>\r\n",
       "<!-- 5 -->\r\n",
       "<g id=\"node6\" class=\"node\"><title>5</title>\r\n",
       "<path fill=\"#399de5\" fill-opacity=\"0.803922\" stroke=\"black\" d=\"M577.5,-187C577.5,-187 455.5,-187 455.5,-187 449.5,-187 443.5,-181 443.5,-175 443.5,-175 443.5,-116 443.5,-116 443.5,-110 449.5,-104 455.5,-104 455.5,-104 577.5,-104 577.5,-104 583.5,-104 589.5,-110 589.5,-116 589.5,-116 589.5,-175 589.5,-175 589.5,-181 583.5,-187 577.5,-187\"/>\r\n",
       "<text text-anchor=\"start\" x=\"466\" y=\"-171.8\" font-family=\"Helvetica,sans-Serif\" font-size=\"14.00\">disappoint ≤ 0.5</text>\r\n",
       "<text text-anchor=\"start\" x=\"479\" y=\"-156.8\" font-family=\"Helvetica,sans-Serif\" font-size=\"14.00\">gini = 0.274</text>\r\n",
       "<text text-anchor=\"start\" x=\"465\" y=\"-141.8\" font-family=\"Helvetica,sans-Serif\" font-size=\"14.00\">samples = 6681</text>\r\n",
       "<text text-anchor=\"start\" x=\"451.5\" y=\"-126.8\" font-family=\"Helvetica,sans-Serif\" font-size=\"14.00\">value = [1095, 5586]</text>\r\n",
       "<text text-anchor=\"start\" x=\"477\" y=\"-111.8\" font-family=\"Helvetica,sans-Serif\" font-size=\"14.00\">class = liked</text>\r\n",
       "</g>\r\n",
       "<!-- 1&#45;&gt;5 -->\r\n",
       "<g id=\"edge5\" class=\"edge\"><title>1&#45;&gt;5</title>\r\n",
       "<path fill=\"none\" stroke=\"black\" d=\"M516.5,-222.907C516.5,-214.649 516.5,-205.864 516.5,-197.302\"/>\r\n",
       "<polygon fill=\"black\" stroke=\"black\" points=\"520,-197.021 516.5,-187.021 513,-197.021 520,-197.021\"/>\r\n",
       "</g>\r\n",
       "<!-- 3 -->\r\n",
       "<g id=\"node4\" class=\"node\"><title>3</title>\r\n",
       "<path fill=\"#399de5\" fill-opacity=\"0.250980\" stroke=\"black\" d=\"M151,-68C151,-68 12,-68 12,-68 6,-68 0,-62 0,-56 0,-56 0,-12 0,-12 0,-6 6,-0 12,-0 12,-0 151,-0 151,-0 157,-0 163,-6 163,-12 163,-12 163,-56 163,-56 163,-62 157,-68 151,-68\"/>\r\n",
       "<text text-anchor=\"start\" x=\"48\" y=\"-52.8\" font-family=\"Helvetica,sans-Serif\" font-size=\"14.00\">gini = 0.49</text>\r\n",
       "<text text-anchor=\"start\" x=\"25.5\" y=\"-37.8\" font-family=\"Helvetica,sans-Serif\" font-size=\"14.00\">samples = 25627</text>\r\n",
       "<text text-anchor=\"start\" x=\"8\" y=\"-22.8\" font-family=\"Helvetica,sans-Serif\" font-size=\"14.00\">value = [10968, 14659]</text>\r\n",
       "<text text-anchor=\"start\" x=\"42\" y=\"-7.8\" font-family=\"Helvetica,sans-Serif\" font-size=\"14.00\">class = liked</text>\r\n",
       "</g>\r\n",
       "<!-- 2&#45;&gt;3 -->\r\n",
       "<g id=\"edge3\" class=\"edge\"><title>2&#45;&gt;3</title>\r\n",
       "<path fill=\"none\" stroke=\"black\" d=\"M187.571,-103.726C172.43,-93.9161 156.299,-83.4644 141.305,-73.7496\"/>\r\n",
       "<polygon fill=\"black\" stroke=\"black\" points=\"142.92,-70.6256 132.625,-68.1252 139.114,-76.5002 142.92,-70.6256\"/>\r\n",
       "</g>\r\n",
       "<!-- 4 -->\r\n",
       "<g id=\"node5\" class=\"node\"><title>4</title>\r\n",
       "<path fill=\"#e58139\" fill-opacity=\"0.847059\" stroke=\"black\" d=\"M307.5,-68C307.5,-68 193.5,-68 193.5,-68 187.5,-68 181.5,-62 181.5,-56 181.5,-56 181.5,-12 181.5,-12 181.5,-6 187.5,-0 193.5,-0 193.5,-0 307.5,-0 307.5,-0 313.5,-0 319.5,-6 319.5,-12 319.5,-12 319.5,-56 319.5,-56 319.5,-62 313.5,-68 307.5,-68\"/>\r\n",
       "<text text-anchor=\"start\" x=\"213\" y=\"-52.8\" font-family=\"Helvetica,sans-Serif\" font-size=\"14.00\">gini = 0.231</text>\r\n",
       "<text text-anchor=\"start\" x=\"199\" y=\"-37.8\" font-family=\"Helvetica,sans-Serif\" font-size=\"14.00\">samples = 1597</text>\r\n",
       "<text text-anchor=\"start\" x=\"189.5\" y=\"-22.8\" font-family=\"Helvetica,sans-Serif\" font-size=\"14.00\">value = [1384, 213]</text>\r\n",
       "<text text-anchor=\"start\" x=\"197.5\" y=\"-7.8\" font-family=\"Helvetica,sans-Serif\" font-size=\"14.00\">class = not_liked</text>\r\n",
       "</g>\r\n",
       "<!-- 2&#45;&gt;4 -->\r\n",
       "<g id=\"edge4\" class=\"edge\"><title>2&#45;&gt;4</title>\r\n",
       "<path fill=\"none\" stroke=\"black\" d=\"M250.5,-103.726C250.5,-95.5175 250.5,-86.8595 250.5,-78.56\"/>\r\n",
       "<polygon fill=\"black\" stroke=\"black\" points=\"254,-78.2996 250.5,-68.2996 247,-78.2996 254,-78.2996\"/>\r\n",
       "</g>\r\n",
       "<!-- 6 -->\r\n",
       "<g id=\"node7\" class=\"node\"><title>6</title>\r\n",
       "<path fill=\"#399de5\" fill-opacity=\"0.823529\" stroke=\"black\" d=\"M463.5,-68C463.5,-68 349.5,-68 349.5,-68 343.5,-68 337.5,-62 337.5,-56 337.5,-56 337.5,-12 337.5,-12 337.5,-6 343.5,-0 349.5,-0 349.5,-0 463.5,-0 463.5,-0 469.5,-0 475.5,-6 475.5,-12 475.5,-12 475.5,-56 475.5,-56 475.5,-62 469.5,-68 463.5,-68\"/>\r\n",
       "<text text-anchor=\"start\" x=\"369\" y=\"-52.8\" font-family=\"Helvetica,sans-Serif\" font-size=\"14.00\">gini = 0.253</text>\r\n",
       "<text text-anchor=\"start\" x=\"355\" y=\"-37.8\" font-family=\"Helvetica,sans-Serif\" font-size=\"14.00\">samples = 6495</text>\r\n",
       "<text text-anchor=\"start\" x=\"345.5\" y=\"-22.8\" font-family=\"Helvetica,sans-Serif\" font-size=\"14.00\">value = [967, 5528]</text>\r\n",
       "<text text-anchor=\"start\" x=\"367\" y=\"-7.8\" font-family=\"Helvetica,sans-Serif\" font-size=\"14.00\">class = liked</text>\r\n",
       "</g>\r\n",
       "<!-- 5&#45;&gt;6 -->\r\n",
       "<g id=\"edge6\" class=\"edge\"><title>5&#45;&gt;6</title>\r\n",
       "<path fill=\"none\" stroke=\"black\" d=\"M475.54,-103.726C466.286,-94.5142 456.464,-84.7364 447.219,-75.5343\"/>\r\n",
       "<polygon fill=\"black\" stroke=\"black\" points=\"449.508,-72.8741 439.952,-68.2996 444.57,-77.8351 449.508,-72.8741\"/>\r\n",
       "</g>\r\n",
       "<!-- 7 -->\r\n",
       "<g id=\"node8\" class=\"node\"><title>7</title>\r\n",
       "<path fill=\"#e58139\" fill-opacity=\"0.545098\" stroke=\"black\" d=\"M603.5,-68C603.5,-68 505.5,-68 505.5,-68 499.5,-68 493.5,-62 493.5,-56 493.5,-56 493.5,-12 493.5,-12 493.5,-6 499.5,-0 505.5,-0 505.5,-0 603.5,-0 603.5,-0 609.5,-0 615.5,-6 615.5,-12 615.5,-12 615.5,-56 615.5,-56 615.5,-62 609.5,-68 603.5,-68\"/>\r\n",
       "<text text-anchor=\"start\" x=\"517\" y=\"-52.8\" font-family=\"Helvetica,sans-Serif\" font-size=\"14.00\">gini = 0.429</text>\r\n",
       "<text text-anchor=\"start\" x=\"507\" y=\"-37.8\" font-family=\"Helvetica,sans-Serif\" font-size=\"14.00\">samples = 186</text>\r\n",
       "<text text-anchor=\"start\" x=\"501.5\" y=\"-22.8\" font-family=\"Helvetica,sans-Serif\" font-size=\"14.00\">value = [128, 58]</text>\r\n",
       "<text text-anchor=\"start\" x=\"501.5\" y=\"-7.8\" font-family=\"Helvetica,sans-Serif\" font-size=\"14.00\">class = not_liked</text>\r\n",
       "</g>\r\n",
       "<!-- 5&#45;&gt;7 -->\r\n",
       "<g id=\"edge7\" class=\"edge\"><title>5&#45;&gt;7</title>\r\n",
       "<path fill=\"none\" stroke=\"black\" d=\"M530.65,-103.726C533.562,-95.3351 536.637,-86.4745 539.575,-78.0072\"/>\r\n",
       "<polygon fill=\"black\" stroke=\"black\" points=\"542.972,-78.8944 542.944,-68.2996 536.359,-76.5994 542.972,-78.8944\"/>\r\n",
       "</g>\r\n",
       "<!-- 9 -->\r\n",
       "<g id=\"node10\" class=\"node\"><title>9</title>\r\n",
       "<path fill=\"#e58139\" fill-opacity=\"0.537255\" stroke=\"black\" d=\"M814,-187C814,-187 683,-187 683,-187 677,-187 671,-181 671,-175 671,-175 671,-116 671,-116 671,-110 677,-104 683,-104 683,-104 814,-104 814,-104 820,-104 826,-110 826,-116 826,-116 826,-175 826,-175 826,-181 820,-187 814,-187\"/>\r\n",
       "<text text-anchor=\"start\" x=\"716.5\" y=\"-171.8\" font-family=\"Helvetica,sans-Serif\" font-size=\"14.00\">best ≤ 0.5</text>\r\n",
       "<text text-anchor=\"start\" x=\"711\" y=\"-156.8\" font-family=\"Helvetica,sans-Serif\" font-size=\"14.00\">gini = 0.432</text>\r\n",
       "<text text-anchor=\"start\" x=\"692.5\" y=\"-141.8\" font-family=\"Helvetica,sans-Serif\" font-size=\"14.00\">samples = 21674</text>\r\n",
       "<text text-anchor=\"start\" x=\"679\" y=\"-126.8\" font-family=\"Helvetica,sans-Serif\" font-size=\"14.00\">value = [14832, 6842]</text>\r\n",
       "<text text-anchor=\"start\" x=\"695.5\" y=\"-111.8\" font-family=\"Helvetica,sans-Serif\" font-size=\"14.00\">class = not_liked</text>\r\n",
       "</g>\r\n",
       "<!-- 8&#45;&gt;9 -->\r\n",
       "<g id=\"edge9\" class=\"edge\"><title>8&#45;&gt;9</title>\r\n",
       "<path fill=\"none\" stroke=\"black\" d=\"M748.5,-222.907C748.5,-214.649 748.5,-205.864 748.5,-197.302\"/>\r\n",
       "<polygon fill=\"black\" stroke=\"black\" points=\"752,-197.021 748.5,-187.021 745,-197.021 752,-197.021\"/>\r\n",
       "</g>\r\n",
       "<!-- 12 -->\r\n",
       "<g id=\"node13\" class=\"node\"><title>12</title>\r\n",
       "<path fill=\"#399de5\" fill-opacity=\"0.360784\" stroke=\"black\" d=\"M1097.5,-187C1097.5,-187 975.5,-187 975.5,-187 969.5,-187 963.5,-181 963.5,-175 963.5,-175 963.5,-116 963.5,-116 963.5,-110 969.5,-104 975.5,-104 975.5,-104 1097.5,-104 1097.5,-104 1103.5,-104 1109.5,-110 1109.5,-116 1109.5,-116 1109.5,-175 1109.5,-175 1109.5,-181 1103.5,-187 1097.5,-187\"/>\r\n",
       "<text text-anchor=\"start\" x=\"986\" y=\"-171.8\" font-family=\"Helvetica,sans-Serif\" font-size=\"14.00\">disappoint ≤ 0.5</text>\r\n",
       "<text text-anchor=\"start\" x=\"999\" y=\"-156.8\" font-family=\"Helvetica,sans-Serif\" font-size=\"14.00\">gini = 0.475</text>\r\n",
       "<text text-anchor=\"start\" x=\"985\" y=\"-141.8\" font-family=\"Helvetica,sans-Serif\" font-size=\"14.00\">samples = 4421</text>\r\n",
       "<text text-anchor=\"start\" x=\"971.5\" y=\"-126.8\" font-family=\"Helvetica,sans-Serif\" font-size=\"14.00\">value = [1721, 2700]</text>\r\n",
       "<text text-anchor=\"start\" x=\"997\" y=\"-111.8\" font-family=\"Helvetica,sans-Serif\" font-size=\"14.00\">class = liked</text>\r\n",
       "</g>\r\n",
       "<!-- 8&#45;&gt;12 -->\r\n",
       "<g id=\"edge12\" class=\"edge\"><title>8&#45;&gt;12</title>\r\n",
       "<path fill=\"none\" stroke=\"black\" d=\"M826.058,-231.992C865.543,-215.951 913.564,-196.443 953.759,-180.114\"/>\r\n",
       "<polygon fill=\"black\" stroke=\"black\" points=\"955.319,-183.257 963.267,-176.251 952.685,-176.772 955.319,-183.257\"/>\r\n",
       "</g>\r\n",
       "<!-- 10 -->\r\n",
       "<g id=\"node11\" class=\"node\"><title>10</title>\r\n",
       "<path fill=\"#e58139\" fill-opacity=\"0.592157\" stroke=\"black\" d=\"M777,-68C777,-68 646,-68 646,-68 640,-68 634,-62 634,-56 634,-56 634,-12 634,-12 634,-6 640,-0 646,-0 646,-0 777,-0 777,-0 783,-0 789,-6 789,-12 789,-12 789,-56 789,-56 789,-62 783,-68 777,-68\"/>\r\n",
       "<text text-anchor=\"start\" x=\"674\" y=\"-52.8\" font-family=\"Helvetica,sans-Serif\" font-size=\"14.00\">gini = 0.411</text>\r\n",
       "<text text-anchor=\"start\" x=\"655.5\" y=\"-37.8\" font-family=\"Helvetica,sans-Serif\" font-size=\"14.00\">samples = 19861</text>\r\n",
       "<text text-anchor=\"start\" x=\"642\" y=\"-22.8\" font-family=\"Helvetica,sans-Serif\" font-size=\"14.00\">value = [14113, 5748]</text>\r\n",
       "<text text-anchor=\"start\" x=\"658.5\" y=\"-7.8\" font-family=\"Helvetica,sans-Serif\" font-size=\"14.00\">class = not_liked</text>\r\n",
       "</g>\r\n",
       "<!-- 9&#45;&gt;10 -->\r\n",
       "<g id=\"edge10\" class=\"edge\"><title>9&#45;&gt;10</title>\r\n",
       "<path fill=\"none\" stroke=\"black\" d=\"M734.723,-103.726C731.887,-95.3351 728.893,-86.4745 726.032,-78.0072\"/>\r\n",
       "<polygon fill=\"black\" stroke=\"black\" points=\"729.269,-76.6529 722.752,-68.2996 722.637,-78.8938 729.269,-76.6529\"/>\r\n",
       "</g>\r\n",
       "<!-- 11 -->\r\n",
       "<g id=\"node12\" class=\"node\"><title>11</title>\r\n",
       "<path fill=\"#399de5\" fill-opacity=\"0.341176\" stroke=\"black\" d=\"M933.5,-68C933.5,-68 819.5,-68 819.5,-68 813.5,-68 807.5,-62 807.5,-56 807.5,-56 807.5,-12 807.5,-12 807.5,-6 813.5,-0 819.5,-0 819.5,-0 933.5,-0 933.5,-0 939.5,-0 945.5,-6 945.5,-12 945.5,-12 945.5,-56 945.5,-56 945.5,-62 939.5,-68 933.5,-68\"/>\r\n",
       "<text text-anchor=\"start\" x=\"839\" y=\"-52.8\" font-family=\"Helvetica,sans-Serif\" font-size=\"14.00\">gini = 0.479</text>\r\n",
       "<text text-anchor=\"start\" x=\"825\" y=\"-37.8\" font-family=\"Helvetica,sans-Serif\" font-size=\"14.00\">samples = 1813</text>\r\n",
       "<text text-anchor=\"start\" x=\"815.5\" y=\"-22.8\" font-family=\"Helvetica,sans-Serif\" font-size=\"14.00\">value = [719, 1094]</text>\r\n",
       "<text text-anchor=\"start\" x=\"837\" y=\"-7.8\" font-family=\"Helvetica,sans-Serif\" font-size=\"14.00\">class = liked</text>\r\n",
       "</g>\r\n",
       "<!-- 9&#45;&gt;11 -->\r\n",
       "<g id=\"edge11\" class=\"edge\"><title>9&#45;&gt;11</title>\r\n",
       "<path fill=\"none\" stroke=\"black\" d=\"M796.162,-103.726C807.144,-94.3318 818.814,-84.349 829.756,-74.9883\"/>\r\n",
       "<polygon fill=\"black\" stroke=\"black\" points=\"832.251,-77.4598 837.574,-68.2996 827.7,-72.1406 832.251,-77.4598\"/>\r\n",
       "</g>\r\n",
       "<!-- 13 -->\r\n",
       "<g id=\"node14\" class=\"node\"><title>13</title>\r\n",
       "<path fill=\"#399de5\" fill-opacity=\"0.431373\" stroke=\"black\" d=\"M1097.5,-68C1097.5,-68 975.5,-68 975.5,-68 969.5,-68 963.5,-62 963.5,-56 963.5,-56 963.5,-12 963.5,-12 963.5,-6 969.5,-0 975.5,-0 975.5,-0 1097.5,-0 1097.5,-0 1103.5,-0 1109.5,-6 1109.5,-12 1109.5,-12 1109.5,-56 1109.5,-56 1109.5,-62 1103.5,-68 1097.5,-68\"/>\r\n",
       "<text text-anchor=\"start\" x=\"999\" y=\"-52.8\" font-family=\"Helvetica,sans-Serif\" font-size=\"14.00\">gini = 0.462</text>\r\n",
       "<text text-anchor=\"start\" x=\"985\" y=\"-37.8\" font-family=\"Helvetica,sans-Serif\" font-size=\"14.00\">samples = 4100</text>\r\n",
       "<text text-anchor=\"start\" x=\"971.5\" y=\"-22.8\" font-family=\"Helvetica,sans-Serif\" font-size=\"14.00\">value = [1483, 2617]</text>\r\n",
       "<text text-anchor=\"start\" x=\"997\" y=\"-7.8\" font-family=\"Helvetica,sans-Serif\" font-size=\"14.00\">class = liked</text>\r\n",
       "</g>\r\n",
       "<!-- 12&#45;&gt;13 -->\r\n",
       "<g id=\"edge13\" class=\"edge\"><title>12&#45;&gt;13</title>\r\n",
       "<path fill=\"none\" stroke=\"black\" d=\"M1036.5,-103.726C1036.5,-95.5175 1036.5,-86.8595 1036.5,-78.56\"/>\r\n",
       "<polygon fill=\"black\" stroke=\"black\" points=\"1040,-78.2996 1036.5,-68.2996 1033,-78.2996 1040,-78.2996\"/>\r\n",
       "</g>\r\n",
       "<!-- 14 -->\r\n",
       "<g id=\"node15\" class=\"node\"><title>14</title>\r\n",
       "<path fill=\"#e58139\" fill-opacity=\"0.650980\" stroke=\"black\" d=\"M1237.5,-68C1237.5,-68 1139.5,-68 1139.5,-68 1133.5,-68 1127.5,-62 1127.5,-56 1127.5,-56 1127.5,-12 1127.5,-12 1127.5,-6 1133.5,-0 1139.5,-0 1139.5,-0 1237.5,-0 1237.5,-0 1243.5,-0 1249.5,-6 1249.5,-12 1249.5,-12 1249.5,-56 1249.5,-56 1249.5,-62 1243.5,-68 1237.5,-68\"/>\r\n",
       "<text text-anchor=\"start\" x=\"1151\" y=\"-52.8\" font-family=\"Helvetica,sans-Serif\" font-size=\"14.00\">gini = 0.383</text>\r\n",
       "<text text-anchor=\"start\" x=\"1141\" y=\"-37.8\" font-family=\"Helvetica,sans-Serif\" font-size=\"14.00\">samples = 321</text>\r\n",
       "<text text-anchor=\"start\" x=\"1135.5\" y=\"-22.8\" font-family=\"Helvetica,sans-Serif\" font-size=\"14.00\">value = [238, 83]</text>\r\n",
       "<text text-anchor=\"start\" x=\"1135.5\" y=\"-7.8\" font-family=\"Helvetica,sans-Serif\" font-size=\"14.00\">class = not_liked</text>\r\n",
       "</g>\r\n",
       "<!-- 12&#45;&gt;14 -->\r\n",
       "<g id=\"edge14\" class=\"edge\"><title>12&#45;&gt;14</title>\r\n",
       "<path fill=\"none\" stroke=\"black\" d=\"M1093.1,-103.726C1106.52,-94.0582 1120.81,-83.767 1134.12,-74.172\"/>\r\n",
       "<polygon fill=\"black\" stroke=\"black\" points=\"1136.21,-76.9846 1142.28,-68.2996 1132.12,-71.305 1136.21,-76.9846\"/>\r\n",
       "</g>\r\n",
       "</g>\r\n",
       "</svg>\r\n"
      ],
      "text/plain": [
       "<graphviz.files.Source at 0x1d132f259e8>"
      ]
     },
     "execution_count": 66,
     "metadata": {},
     "output_type": "execute_result"
    }
   ],
   "source": [
    "import graphviz\n",
    "from sklearn import tree\n",
    "#dot_data = tree.export_graphviz(clf, out_file=None) \n",
    "\n",
    "dot_data=tree.export_graphviz(clf, out_file=None,feature_names=count_vect.get_feature_names()\n",
    "                              ,class_names=np.array(['not_liked','liked']), filled=True\n",
    "                              , rounded=True,special_characters=True)\n",
    "\n",
    "graph = graphviz.Source(dot_data)\n",
    "graph"
   ]
  },
  {
   "cell_type": "code",
   "execution_count": 75,
   "metadata": {},
   "outputs": [
    {
     "name": "stdout",
     "output_type": "stream",
     "text": [
      "digraph Tree {\n",
      "node [shape=box] ;\n",
      "0 [label=\"not <= 0.5\\ngini = 0.5\\nsamples = 60000\\nvalue = [30000, 30000]\"] ;\n",
      "1 [label=\"great <= 0.5\\ngini = 0.479\\nsamples = 33905\\nvalue = [13447, 20458]\"] ;\n",
      "0 -> 1 [labeldistance=2.5, labelangle=45, headlabel=\"True\"] ;\n",
      "2 [label=\"disappoint <= 0.5\\ngini = 0.496\\nsamples = 27224\\nvalue = [12352, 14872]\"] ;\n",
      "1 -> 2 ;\n",
      "3 [label=\"gini = 0.49\\nsamples = 25627\\nvalue = [10968, 14659]\"] ;\n",
      "2 -> 3 ;\n",
      "4 [label=\"gini = 0.231\\nsamples = 1597\\nvalue = [1384, 213]\"] ;\n",
      "2 -> 4 ;\n",
      "5 [label=\"disappoint <= 0.5\\ngini = 0.274\\nsamples = 6681\\nvalue = [1095, 5586]\"] ;\n",
      "1 -> 5 ;\n",
      "6 [label=\"gini = 0.253\\nsamples = 6495\\nvalue = [967, 5528]\"] ;\n",
      "5 -> 6 ;\n",
      "7 [label=\"gini = 0.429\\nsamples = 186\\nvalue = [128, 58]\"] ;\n",
      "5 -> 7 ;\n",
      "8 [label=\"great <= 0.5\\ngini = 0.464\\nsamples = 26095\\nvalue = [16553, 9542]\"] ;\n",
      "0 -> 8 [labeldistance=2.5, labelangle=-45, headlabel=\"False\"] ;\n",
      "9 [label=\"best <= 0.5\\ngini = 0.432\\nsamples = 21674\\nvalue = [14832, 6842]\"] ;\n",
      "8 -> 9 ;\n",
      "10 [label=\"gini = 0.411\\nsamples = 19861\\nvalue = [14113, 5748]\"] ;\n",
      "9 -> 10 ;\n",
      "11 [label=\"gini = 0.479\\nsamples = 1813\\nvalue = [719, 1094]\"] ;\n",
      "9 -> 11 ;\n",
      "12 [label=\"disappoint <= 0.5\\ngini = 0.475\\nsamples = 4421\\nvalue = [1721, 2700]\"] ;\n",
      "8 -> 12 ;\n",
      "13 [label=\"gini = 0.462\\nsamples = 4100\\nvalue = [1483, 2617]\"] ;\n",
      "12 -> 13 ;\n",
      "14 [label=\"gini = 0.383\\nsamples = 321\\nvalue = [238, 83]\"] ;\n",
      "12 -> 14 ;\n",
      "}\n"
     ]
    }
   ],
   "source": [
    "\n",
    "\n",
    "# from StringIO import StringIO\n",
    "# out = StringIO()\n",
    "out = tree.export_graphviz(clf,feature_names=count_vect.get_feature_names())\n",
    "print (out)"
   ]
  },
  {
   "cell_type": "code",
   "execution_count": 76,
   "metadata": {},
   "outputs": [
    {
     "data": {
      "text/plain": [
       "array([570, 380, 254,  -2,  -2, 254,  -2,  -2, 380,  80,  -2,  -2, 254,\n",
       "        -2,  -2], dtype=int64)"
      ]
     },
     "execution_count": 76,
     "metadata": {},
     "output_type": "execute_result"
    }
   ],
   "source": [
    "clf.tree_.feature"
   ]
  },
  {
   "cell_type": "code",
   "execution_count": 77,
   "metadata": {},
   "outputs": [
    {
     "data": {
      "text/plain": [
       "array([[[30000., 30000.]],\n",
       "\n",
       "       [[13447., 20458.]],\n",
       "\n",
       "       [[12352., 14872.]],\n",
       "\n",
       "       [[10968., 14659.]],\n",
       "\n",
       "       [[ 1384.,   213.]],\n",
       "\n",
       "       [[ 1095.,  5586.]],\n",
       "\n",
       "       [[  967.,  5528.]],\n",
       "\n",
       "       [[  128.,    58.]],\n",
       "\n",
       "       [[16553.,  9542.]],\n",
       "\n",
       "       [[14832.,  6842.]],\n",
       "\n",
       "       [[14113.,  5748.]],\n",
       "\n",
       "       [[  719.,  1094.]],\n",
       "\n",
       "       [[ 1721.,  2700.]],\n",
       "\n",
       "       [[ 1483.,  2617.]],\n",
       "\n",
       "       [[  238.,    83.]]])"
      ]
     },
     "execution_count": 77,
     "metadata": {},
     "output_type": "execute_result"
    }
   ],
   "source": [
    "clf.tree_.value"
   ]
  },
  {
   "cell_type": "markdown",
   "metadata": {},
   "source": [
    "### skompile and graphViz to export tree script into file"
   ]
  },
  {
   "cell_type": "code",
   "execution_count": 79,
   "metadata": {},
   "outputs": [
    {
     "data": {
      "text/plain": [
       "'(((1 if x[254] <= 0.5 else 0) if x[380] <= 0.5 else 1 if x[254] <= 0.5 else\\n    0) if x[570] <= 0.5 else (0 if x[80] <= 0.5 else 1) if x[380] <= 0.5 else\\n    1 if x[254] <= 0.5 else 0)\\n'"
      ]
     },
     "execution_count": 79,
     "metadata": {},
     "output_type": "execute_result"
    }
   ],
   "source": [
    "from skompiler import skompile\n",
    "skompile(clf.predict).to('python/code')"
   ]
  },
  {
   "cell_type": "code",
   "execution_count": null,
   "metadata": {},
   "outputs": [],
   "source": []
  },
  {
   "cell_type": "markdown",
   "metadata": {},
   "source": [
    "**Observation**\n",
    "\n",
    "We can see that all the positive and negative words in the above Tree like great, best , delici, disappoint, not so these words are important features for both positive and negative review which is giving maximum information gain. "
   ]
  },
  {
   "cell_type": "markdown",
   "metadata": {},
   "source": [
    "# Feature Engineering\n",
    "\n",
    "Creating 4 new features using word and character len of description and summary columns"
   ]
  },
  {
   "cell_type": "code",
   "execution_count": null,
   "metadata": {},
   "outputs": [],
   "source": [
    "import pandas as pd\n",
    "data=pd.DataFrame(training_count)\n",
    "data.head(3)"
   ]
  },
  {
   "cell_type": "code",
   "execution_count": null,
   "metadata": {},
   "outputs": [],
   "source": [
    "data.shape"
   ]
  },
  {
   "cell_type": "code",
   "execution_count": null,
   "metadata": {},
   "outputs": [],
   "source": [
    "#Train data\n",
    "# word len of description and summary columns\n",
    "data['description_len'] = train_text_data['CleanedText'].apply(lambda x : len(x.split()))\n",
    "data['summary_len'] = train_text_data['Summary'].apply(lambda x : len(x.split()))\n",
    "\n",
    "# charater len of description and summary columns\n",
    "data['description_char_len'] = train_text_data['CleanedText'].apply(len)\n",
    "data['Summary_char_len'] = train_text_data['Summary'].apply(len)"
   ]
  },
  {
   "cell_type": "code",
   "execution_count": null,
   "metadata": {},
   "outputs": [],
   "source": [
    "data.head(1)"
   ]
  },
  {
   "cell_type": "code",
   "execution_count": null,
   "metadata": {},
   "outputs": [],
   "source": [
    "data.shape"
   ]
  },
  {
   "cell_type": "code",
   "execution_count": null,
   "metadata": {},
   "outputs": [],
   "source": [
    "#Test data\n",
    "# word len of description and summary columns\n",
    "data_test=pd.DataFrame(test_count)\n",
    "data_test['description_len'] = test_text_data['CleanedText'].apply(lambda x : len(x.split()))\n",
    "data_test['summary_len'] = test_text_data['Summary'].apply(lambda x : len(x.split()))\n",
    "\n",
    "# charater len of description and summary columns\n",
    "data_test['description_char_len'] = test_text_data['CleanedText'].apply(len)\n",
    "data_test['Summary_char_len'] = test_text_data['Summary'].apply(len)\n",
    "data_test.head(1)"
   ]
  },
  {
   "cell_type": "code",
   "execution_count": null,
   "metadata": {},
   "outputs": [],
   "source": [
    "data_test.shape"
   ]
  },
  {
   "cell_type": "code",
   "execution_count": null,
   "metadata": {},
   "outputs": [],
   "source": [
    "# with new features\n",
    "\n",
    "best_depth=10\n",
    "best_minm_sample=500\n",
    "clf = DecisionTreeClassifier(criterion='gini', max_depth=best_depth, min_samples_split=best_minm_sample)\n",
    "clf.fit(data, train_traget)\n",
    "\n",
    "# # Prediction on Test data\n",
    "pred = clf.predict(data_test)\n",
    "acc = accuracy_score(test_target, pred, normalize=True) * float(100)\n",
    "auc=roc_auc_score(test_target, pred)\n",
    "print(\" best_depth: \",best_depth,\" AUC: \",auc)"
   ]
  },
  {
   "cell_type": "markdown",
   "metadata": {},
   "source": [
    "**Observation**\n",
    "\n",
    "After adding the 4 new features, performance has reduced, earlier we have 80% AUC and after feature engineering we are getting 74%, may be we need to tune the hyperparameter further."
   ]
  },
  {
   "cell_type": "markdown",
   "metadata": {
    "colab_type": "text",
    "id": "5przjMTbiWOz"
   },
   "source": [
    "## [5.2] Applying Decision Trees on TFIDF,<font color='red'> SET 2</font>"
   ]
  },
  {
   "cell_type": "code",
   "execution_count": null,
   "metadata": {
    "colab": {},
    "colab_type": "code",
    "id": "Bm3mfI7miWOz"
   },
   "outputs": [],
   "source": [
    "# Please write all the code with proper documentation\n",
    "# Please write all the code with proper documentation\n",
    "tf_idf_vect = TfidfVectorizer(ngram_range=(2,3),min_df=10,max_features=1000)\n",
    "training_counts = tf_idf_vect.fit_transform(train_text_data['CleanedText'])\n",
    "cv_counts = tf_idf_vect.transform(cv_text_data['CleanedText'])\n",
    "test_counts = tf_idf_vect.transform(test_text_data['CleanedText'])"
   ]
  },
  {
   "cell_type": "code",
   "execution_count": null,
   "metadata": {},
   "outputs": [],
   "source": [
    "\n",
    "print(\" training_counts \",training_counts.shape,\"cv_counts \",cv_counts.shape,\"test_counts\",test_counts.shape)\n",
    "# converting sparse vector to dense vector\n",
    "training_count=training_counts.toarray()\n",
    "cv_count=cv_counts.toarray()\n",
    "test_count=test_counts.toarray()\n",
    "# removing unused object\n",
    "gc.collect()"
   ]
  },
  {
   "cell_type": "code",
   "execution_count": null,
   "metadata": {},
   "outputs": [],
   "source": [
    "train_traget=train_text_data['Score'].astype('int')\n",
    "cv_target=cv_text_data['Score'].astype('int')\n",
    "test_target=test_text_data['Score'].astype('int')"
   ]
  },
  {
   "cell_type": "code",
   "execution_count": null,
   "metadata": {},
   "outputs": [],
   "source": [
    "# Compute train AUC also\n",
    "\n",
    "from sklearn.tree import DecisionTreeClassifier\n",
    "from sklearn.metrics import accuracy_score\n",
    "from sklearn.metrics import roc_auc_score\n",
    "#Simple Cross Validation\n",
    "depth=[1, 5, 10, 50, 100, 500, 1000]\n",
    "min_sample=[5, 10, 100, 500]\n",
    "returned_pram1=dict()\n",
    "returned_pram2=dict()\n",
    "returned_pram_train1=dict()\n",
    "returned_pram_train2=dict()\n",
    "for i in tqdm(depth):\n",
    "    for j in tqdm(min_sample):\n",
    "        # instantiate learning model\n",
    "        clf = DecisionTreeClassifier(criterion='gini', max_depth=i, min_samples_split=j)\n",
    "        # fitting the model on crossvalidation train\n",
    "        clf.fit(training_count, train_traget)\n",
    "        # predict the response on the crossvalidation train\n",
    "        pred_cv = clf.predict(cv_count)\n",
    "        # evaluate CV accuracy\n",
    "        acc_cv = accuracy_score(cv_target, pred_cv, normalize=True) * float(100)\n",
    "        auc_cv=roc_auc_score(cv_target, pred_cv)\n",
    "        auc_train=roc_auc_score(train_traget, clf.predict(training_count))\n",
    "        print(\" depth value: \",i,\" min_sample to break: \",j,\" AUC: \",auc_cv,\" Acc: \",acc_cv,\" auc_train \",auc_train)\n",
    "        returned_pram1.update({i:auc_cv})\n",
    "        key= str(i)+\" , \"+str(j)\n",
    "        returned_pram2.update({key:auc_cv})\n",
    "        returned_pram_train1.update({i:auc_train})\n",
    "        returned_pram_train2.update({key:auc_train})\n",
    "    gc.collect()"
   ]
  },
  {
   "cell_type": "code",
   "execution_count": null,
   "metadata": {},
   "outputs": [],
   "source": [
    "test_auc=[value for value in returned_pram2.values()]\n",
    "train_auc=[value for value in returned_pram_train2.values()]\n",
    "test_auc1=np.reshape(test_auc, (7, 4))\n",
    "train_auc1=np.reshape(train_auc, (7, 4))"
   ]
  },
  {
   "cell_type": "code",
   "execution_count": null,
   "metadata": {},
   "outputs": [],
   "source": [
    "x_label='Minimum data points requires to split'\n",
    "ylabel='Depth of tree'\n",
    "title= 'AUC of Test data vs depth of the tree and minimum samples requires to split'\n",
    "plot_tables_metrics(test_auc1, min_sample,depth,x_label,ylabel, title)"
   ]
  },
  {
   "cell_type": "code",
   "execution_count": null,
   "metadata": {},
   "outputs": [],
   "source": [
    "title= 'AUC of Train data vs depth of the tree and minimum samples requires to split'\n",
    "plot_tables_metrics(train_auc1, min_sample,depth,x_label,ylabel, title)"
   ]
  },
  {
   "cell_type": "markdown",
   "metadata": {},
   "source": [
    "**Observation**\n",
    "\n",
    "We can see that when Tree depth is increasing and minimum sample required to spilt is reducing, model is overfitting, hence training auc is increasing but test auc is decreasing. The best tree depth and minimum data point required is 500 and 500 respectively which is giving train and test auc 0.79 and 0.743 respectively, which is bit close so our model is overall fitting."
   ]
  },
  {
   "cell_type": "code",
   "execution_count": null,
   "metadata": {},
   "outputs": [],
   "source": [
    "from sklearn.tree import DecisionTreeClassifier\n",
    "best_depth=500\n",
    "best_minm_sample=500\n",
    "clf = DecisionTreeClassifier(criterion='gini', max_depth=best_depth, min_samples_split=best_minm_sample)\n",
    "clf.fit(training_count, train_traget)\n",
    "\n",
    "# Prediction on Test data\n",
    "pred = clf.predict(test_count)\n",
    "acc = accuracy_score(test_target, pred, normalize=True) * float(100)\n",
    "auc=roc_auc_score(test_target, pred)\n",
    "print(\" best_depth: \",best_depth,\" AUC: \",auc)"
   ]
  },
  {
   "cell_type": "code",
   "execution_count": null,
   "metadata": {},
   "outputs": [],
   "source": [
    "# ROC AUC Curve\n",
    "y_true_train = train_traget\n",
    "y_probas_train = clf.predict_proba(training_count)\n",
    "y_true_test = test_target\n",
    "y_probas_test = clf.predict_proba(test_count)"
   ]
  },
  {
   "cell_type": "code",
   "execution_count": null,
   "metadata": {},
   "outputs": [],
   "source": [
    "plot_train_test_ROC(y_true_train,clf,y_true_test,training_count,test_count)\n",
    "plt.show()"
   ]
  },
  {
   "cell_type": "markdown",
   "metadata": {},
   "source": [
    "**Observation**\n",
    "We can see that the Train and Test ROC plot is not overlapping on best hyperparamter depth =500 and minm points=500. And the diff of train and Test AUC is bit more so we can say that this model is overfitting, so to fix this overfitting we need to increase the traing data size. If we need better performance than this we may need to try different complex models and add some new features."
   ]
  },
  {
   "cell_type": "code",
   "execution_count": null,
   "metadata": {},
   "outputs": [],
   "source": [
    "# Plotting Confusion matrix on test data\n",
    "# Plotting Confusion matrix on test data\n",
    "import seaborn as sn\n",
    "from sklearn.metrics import confusion_matrix\n",
    "\n",
    "def plotconfusionMatrix(y_true_test,clf,test_count):\n",
    "    ax= plt.subplot()\n",
    "    confm = confusion_matrix(y_true_test, clf.predict(test_count))\n",
    "    sns.heatmap(confm, annot=True, ax = ax,annot_kws={\"size\": 16},fmt=\"d\"); #annot=True to annotate cells\n",
    "    # labels, title and ticks\n",
    "    ax.set_xlabel('Predicted labels');ax.set_ylabel('True labels'); \n",
    "    ax.set_title('Confusion Matrix of Test data'); \n",
    "    ax.xaxis.set_ticklabels(['0', '1']); ax.yaxis.set_ticklabels(['0', '1'])"
   ]
  },
  {
   "cell_type": "code",
   "execution_count": null,
   "metadata": {},
   "outputs": [],
   "source": [
    "plotconfusionMatrix(y_true_test,clf,test_count)"
   ]
  },
  {
   "cell_type": "markdown",
   "metadata": {},
   "source": [
    "**Observation**\n",
    "\n",
    "We can see that on unseen data(Test set) our diagonal elements have more no of count than off diagonals. means we have more TP and TN than FP and FN.If we need better performance than this, i.e to reduce further FP and FN and increase TP and TN then we may need to try different models and add some new features."
   ]
  },
  {
   "cell_type": "markdown",
   "metadata": {
    "colab_type": "text",
    "id": "PIKUCldjiWO0"
   },
   "source": [
    "### [5.2.1] Top 20 important features from<font color='red'> SET 2</font>"
   ]
  },
  {
   "cell_type": "code",
   "execution_count": null,
   "metadata": {
    "colab": {},
    "colab_type": "code",
    "id": "p2P0iHQciWO1"
   },
   "outputs": [],
   "source": [
    "# Please write all the code with proper documentation\n",
    "feature_data=pd.DataFrame(list(clf.feature_importances_),columns=['true_weights'])\n",
    "features=(tf_idf_vect.get_feature_names())\n",
    "feature_data['Feature_name']=features"
   ]
  },
  {
   "cell_type": "code",
   "execution_count": null,
   "metadata": {},
   "outputs": [],
   "source": [
    "# Important features for both +ve and -ve review\n",
    "feature_data.sort_values(by='true_weights',inplace=True,ascending=False)\n",
    "feature_data.head(20)"
   ]
  },
  {
   "cell_type": "code",
   "execution_count": null,
   "metadata": {},
   "outputs": [],
   "source": [
    "# Word cloud of Important features for both +ve and -ve review\n",
    "show_wordcloud(str(feature_data['Feature_name'][:50]),\"Important features for both +ve and -ve review\")"
   ]
  },
  {
   "cell_type": "markdown",
   "metadata": {},
   "source": [
    "**Observation**"
   ]
  },
  {
   "cell_type": "markdown",
   "metadata": {},
   "source": [
    "\n",
    "We can see that all the positive and negative words in the above word cloud like amaz, satisfy, delici, disappoint, unfortun so these words are important features for both positive and negative review."
   ]
  },
  {
   "cell_type": "markdown",
   "metadata": {
    "colab_type": "text",
    "id": "RTZB9ipUiWO3"
   },
   "source": [
    "### [5.2.2] Graphviz visualization of Decision Tree on TFIDF,<font color='red'> SET 2</font>"
   ]
  },
  {
   "cell_type": "code",
   "execution_count": null,
   "metadata": {
    "colab": {},
    "colab_type": "code",
    "id": "DMbZoPoTiWO4"
   },
   "outputs": [],
   "source": [
    "# Please write all the code with proper documentation\n",
    "import graphviz\n",
    "best_depth=3\n",
    "best_minm_sample=500\n",
    "clf = DecisionTreeClassifier(criterion='gini', max_depth=best_depth, min_samples_split=best_minm_sample)\n",
    "clf.fit(training_count, train_traget)"
   ]
  },
  {
   "cell_type": "code",
   "execution_count": null,
   "metadata": {},
   "outputs": [],
   "source": [
    "import graphviz\n",
    "from sklearn import tree\n",
    "#dot_data = tree.export_graphviz(clf, out_file=None) \n",
    "\n",
    "dot_data=tree.export_graphviz(clf, out_file=None,feature_names=tf_idf_vect.get_feature_names()\n",
    "                              ,class_names=np.array(['not_liked','liked']), filled=True\n",
    "                              , rounded=True,special_characters=True)\n",
    "\n",
    "graph = graphviz.Source(dot_data)\n",
    "graph"
   ]
  },
  {
   "cell_type": "markdown",
   "metadata": {},
   "source": [
    "**Observation**\n",
    "\n",
    "We can see that all the positive and negative words in the above Tree like high recommend, absolut love , never buy, veri disappoint, wast money so these words are important features for both positive and negative review which is giving maximum information gain."
   ]
  },
  {
   "cell_type": "markdown",
   "metadata": {},
   "source": [
    "# Feature Engineering"
   ]
  },
  {
   "cell_type": "code",
   "execution_count": null,
   "metadata": {},
   "outputs": [],
   "source": [
    "import pandas as pd\n",
    "data=pd.DataFrame(training_count)\n",
    "data.head(3)"
   ]
  },
  {
   "cell_type": "code",
   "execution_count": null,
   "metadata": {},
   "outputs": [],
   "source": [
    "#Train data\n",
    "# word len of description and summary columns\n",
    "data['description_len'] = train_text_data['CleanedText'].apply(lambda x : len(x.split()))\n",
    "data['summary_len'] = train_text_data['Summary'].apply(lambda x : len(x.split()))\n",
    "\n",
    "# charater len of description and summary columns\n",
    "data['description_char_len'] = train_text_data['CleanedText'].apply(len)\n",
    "data['Summary_char_len'] = train_text_data['Summary'].apply(len)"
   ]
  },
  {
   "cell_type": "code",
   "execution_count": null,
   "metadata": {},
   "outputs": [],
   "source": [
    "#Test data\n",
    "# word len of description and summary columns\n",
    "data_test=pd.DataFrame(test_count)\n",
    "data_test['description_len'] = test_text_data['CleanedText'].apply(lambda x : len(x.split()))\n",
    "data_test['summary_len'] = test_text_data['Summary'].apply(lambda x : len(x.split()))\n",
    "\n",
    "# charater len of description and summary columns\n",
    "data_test['description_char_len'] = test_text_data['CleanedText'].apply(len)\n",
    "data_test['Summary_char_len'] = test_text_data['Summary'].apply(len)\n",
    "data_test.head(1)"
   ]
  },
  {
   "cell_type": "code",
   "execution_count": null,
   "metadata": {},
   "outputs": [],
   "source": [
    "# with new features\n",
    "\n",
    "best_depth=500\n",
    "best_minm_sample=500\n",
    "clf = DecisionTreeClassifier(criterion='gini', max_depth=best_depth, min_samples_split=best_minm_sample)\n",
    "clf.fit(data, train_traget)\n",
    "\n",
    "# # Prediction on Test data\n",
    "pred = clf.predict(data_test)\n",
    "acc = accuracy_score(test_target, pred, normalize=True) * float(100)\n",
    "auc=roc_auc_score(test_target, pred)\n",
    "print(\" best_depth: \",best_depth,\" AUC: \",auc)"
   ]
  },
  {
   "cell_type": "markdown",
   "metadata": {},
   "source": [
    "**Observation**\n",
    "\n",
    "After adding the 4 new features, performance has reduced, earlier we have 76% AUC and after feature engineering we are getting 74%, may be we need to tune the hyperparameter further."
   ]
  },
  {
   "cell_type": "markdown",
   "metadata": {
    "colab_type": "text",
    "id": "NVhl_V6MiWO5"
   },
   "source": [
    "## [5.3] Applying Decision Trees on AVG W2V,<font color='red'> SET 3</font>"
   ]
  },
  {
   "cell_type": "code",
   "execution_count": null,
   "metadata": {
    "colab": {},
    "colab_type": "code",
    "id": "uYDXnzMmiWO5"
   },
   "outputs": [],
   "source": [
    "# Please write all the code with proper documentation\n"
   ]
  },
  {
   "cell_type": "code",
   "execution_count": null,
   "metadata": {},
   "outputs": [],
   "source": [
    "# Please write all the code with proper documentation\n",
    "#train_avg_w2v_data,cv_avg_w2v_data,test_avg_w2v_data\n",
    "train_traget=train_avg_w2v_data['Score'].astype('int')\n",
    "cv_target=cv_avg_w2v_data['Score'].astype('int')\n",
    "test_target=test_avg_w2v_data['Score'].astype('int')\n",
    "\n",
    "train_data = train_avg_w2v_data.iloc[:,:-2]\n",
    "cv_data = cv_avg_w2v_data.iloc[:,:-2]\n",
    "test_data = test_avg_w2v_data.iloc[:,:-2]"
   ]
  },
  {
   "cell_type": "code",
   "execution_count": null,
   "metadata": {},
   "outputs": [],
   "source": [
    "train_avg_w2v_data.head(1)"
   ]
  },
  {
   "cell_type": "code",
   "execution_count": null,
   "metadata": {},
   "outputs": [],
   "source": [
    "# Compute train AUC also\n",
    "\n",
    "from sklearn.tree import DecisionTreeClassifier\n",
    "from sklearn.metrics import accuracy_score\n",
    "from sklearn.metrics import roc_auc_score\n",
    "#Simple Cross Validation\n",
    "depth=[1, 5, 10, 50, 100, 500, 1000]\n",
    "min_sample=[5, 10, 100, 500]\n",
    "returned_pram1=dict()\n",
    "returned_pram2=dict()\n",
    "returned_pram_train1=dict()\n",
    "returned_pram_train2=dict()\n",
    "for i in tqdm(depth):\n",
    "    for j in tqdm(min_sample):\n",
    "        # instantiate learning model\n",
    "        clf = DecisionTreeClassifier(criterion='gini', max_depth=i, min_samples_split=j)\n",
    "        # fitting the model on crossvalidation train\n",
    "        clf.fit(train_data, train_traget)\n",
    "        # predict the response on the crossvalidation train\n",
    "        pred_cv = clf.predict(cv_data)\n",
    "        # evaluate CV accuracy\n",
    "        acc_cv = accuracy_score(cv_target, pred_cv, normalize=True) * float(100)\n",
    "        auc_cv=roc_auc_score(cv_target, pred_cv)\n",
    "        auc_train=roc_auc_score(train_traget, clf.predict(train_data))\n",
    "        print(\" depth value: \",i,\" min_sample to break: \",j,\" AUC: \",auc_cv,\" Acc: \",acc_cv,\" auc_train \",auc_train)\n",
    "        returned_pram1.update({i:auc_cv})\n",
    "        key= str(i)+\" , \"+str(j)\n",
    "        returned_pram2.update({key:auc_cv})\n",
    "        returned_pram_train1.update({i:auc_train})\n",
    "        returned_pram_train2.update({key:auc_train})\n",
    "    gc.collect()"
   ]
  },
  {
   "cell_type": "code",
   "execution_count": null,
   "metadata": {},
   "outputs": [],
   "source": [
    "test_auc=[value for value in returned_pram2.values()]\n",
    "train_auc=[value for value in returned_pram_train2.values()]\n",
    "test_auc1=np.reshape(test_auc, (7, 4))\n",
    "train_auc1=np.reshape(train_auc, (7, 4))"
   ]
  },
  {
   "cell_type": "code",
   "execution_count": null,
   "metadata": {},
   "outputs": [],
   "source": [
    "x_label='Minimum data points requires to split'\n",
    "ylabel='Depth of tree'\n",
    "title= 'AUC of Test data vs depth of the tree and minimum samples requires to split'\n",
    "plot_tables_metrics(test_auc1, min_sample,depth,x_label,ylabel, title)"
   ]
  },
  {
   "cell_type": "code",
   "execution_count": null,
   "metadata": {},
   "outputs": [],
   "source": [
    "title= 'AUC of Train data vs depth of the tree and minimum samples requires to split'\n",
    "plot_tables_metrics(train_auc1, min_sample,depth,x_label,ylabel, title)"
   ]
  },
  {
   "cell_type": "markdown",
   "metadata": {},
   "source": [
    "**Observation**\n",
    "\n",
    "We can see that when Tree depth is increasing and minimum sample required to spilt is reducing, model is overfitting, hence training auc is increasing but test auc is decreasing. The best tree depth and minimum data point required is 10 and 500 respectively which is giving train and test auc 0.54 and 0.50 respectively, which is very close so our model is well fitting."
   ]
  },
  {
   "cell_type": "code",
   "execution_count": null,
   "metadata": {},
   "outputs": [],
   "source": [
    "from sklearn.tree import DecisionTreeClassifier\n",
    "best_depth=10\n",
    "best_minm_sample=500\n",
    "clf = DecisionTreeClassifier(criterion='gini', max_depth=best_depth, min_samples_split=best_minm_sample)\n",
    "clf.fit(train_data, train_traget)\n",
    "\n",
    "# Prediction on Test data\n",
    "pred = clf.predict(test_data)\n",
    "acc = accuracy_score(test_target, pred, normalize=True) * float(100)\n",
    "auc=roc_auc_score(test_target, pred)\n",
    "print(\" best_depth: \",best_depth,\" AUC: \",auc)"
   ]
  },
  {
   "cell_type": "code",
   "execution_count": null,
   "metadata": {},
   "outputs": [],
   "source": [
    "# ROC AUC Curve\n",
    "y_true_train = train_traget\n",
    "y_probas_train = clf.predict_proba(train_data)\n",
    "y_true_test = test_target\n",
    "y_probas_test = clf.predict_proba(test_data)"
   ]
  },
  {
   "cell_type": "code",
   "execution_count": null,
   "metadata": {},
   "outputs": [],
   "source": [
    "plot_train_test_ROC(y_true_train,clf,y_true_test,train_data,test_data)\n",
    "plt.show()"
   ]
  },
  {
   "cell_type": "markdown",
   "metadata": {},
   "source": [
    "**Observation**\n",
    "\n",
    "We can see that the Train and Test ROC plot is bit overlapping on best hyperparamter depth =10 and minm points=500. And the diff of train and Test AUC is minimal but overall auc is low so we can say that this model is underfitting . If we need better performance than this we may need to try different complex models and add some new features."
   ]
  },
  {
   "cell_type": "code",
   "execution_count": null,
   "metadata": {},
   "outputs": [],
   "source": [
    "plotconfusionMatrix(y_true_test,clf,test_data)"
   ]
  },
  {
   "cell_type": "markdown",
   "metadata": {},
   "source": [
    "**Observation**\n",
    "\n",
    "We can see that on unseen data(Test set) our diagonal elements have almost similar number than off diagonal with very high no of FP and FN, ie. model is underfitting.If we need better performance than this, i.e to reduce further FP and FN and increase TP and TN then we may need to add some new features."
   ]
  },
  {
   "cell_type": "markdown",
   "metadata": {
    "colab_type": "text",
    "id": "PnwVzXytiWO7"
   },
   "source": [
    "## [5.4] Applying Decision Trees on TFIDF W2V,<font color='red'> SET 4</font>"
   ]
  },
  {
   "cell_type": "code",
   "execution_count": null,
   "metadata": {
    "colab": {},
    "colab_type": "code",
    "id": "YqODkVCgiWO7"
   },
   "outputs": [],
   "source": [
    "# Please write all the code with proper documentation"
   ]
  },
  {
   "cell_type": "code",
   "execution_count": null,
   "metadata": {},
   "outputs": [],
   "source": [
    "# Please write all the code with proper documentation\n",
    "#train_avg_w2v_data,cv_avg_w2v_data,test_avg_w2v_data\n",
    "train_traget=train_tfidf_w2v_data['Score'].astype('int')\n",
    "cv_target=cv_tfidf_w2v_data['Score'].astype('int')\n",
    "test_target=test_tfidf_w2v_data['Score'].astype('int')\n",
    "\n",
    "train_data = train_tfidf_w2v_data.iloc[:,:-2]\n",
    "cv_data = cv_tfidf_w2v_data.iloc[:,:-2]\n",
    "test_data = test_tfidf_w2v_data.iloc[:,:-2]"
   ]
  },
  {
   "cell_type": "code",
   "execution_count": null,
   "metadata": {},
   "outputs": [],
   "source": []
  },
  {
   "cell_type": "code",
   "execution_count": null,
   "metadata": {},
   "outputs": [],
   "source": [
    "# Compute train AUC also\n",
    "\n",
    "from sklearn.tree import DecisionTreeClassifier\n",
    "from sklearn.metrics import accuracy_score\n",
    "from sklearn.metrics import roc_auc_score\n",
    "#Simple Cross Validation\n",
    "depth=[1, 5, 10, 50, 100, 500, 1000]\n",
    "min_sample=[5, 10, 100, 500]\n",
    "returned_pram1=dict()\n",
    "returned_pram2=dict()\n",
    "returned_pram_train1=dict()\n",
    "returned_pram_train2=dict()\n",
    "for i in tqdm(depth):\n",
    "    for j in tqdm(min_sample):\n",
    "        # instantiate learning model\n",
    "        clf = DecisionTreeClassifier(criterion='gini', max_depth=i, min_samples_split=j)\n",
    "        # fitting the model on crossvalidation train\n",
    "        clf.fit(train_data, train_traget)\n",
    "        # predict the response on the crossvalidation train\n",
    "        pred_cv = clf.predict(cv_data)\n",
    "        # evaluate CV accuracy\n",
    "        acc_cv = accuracy_score(cv_target, pred_cv, normalize=True) * float(100)\n",
    "        auc_cv=roc_auc_score(cv_target, pred_cv)\n",
    "        auc_train=roc_auc_score(train_traget, clf.predict(train_data))\n",
    "        print(\" depth value: \",i,\" min_sample to break: \",j,\" AUC: \",auc_cv,\" Acc: \",acc_cv,\" auc_train \",auc_train)\n",
    "        returned_pram1.update({i:auc_cv})\n",
    "        key= str(i)+\" , \"+str(j)\n",
    "        returned_pram2.update({key:auc_cv})\n",
    "        returned_pram_train1.update({i:auc_train})\n",
    "        returned_pram_train2.update({key:auc_train})\n",
    "    gc.collect()"
   ]
  },
  {
   "cell_type": "code",
   "execution_count": null,
   "metadata": {},
   "outputs": [],
   "source": [
    "test_auc=[value for value in returned_pram2.values()]\n",
    "train_auc=[value for value in returned_pram_train2.values()]\n",
    "test_auc1=np.reshape(test_auc, (7, 4))\n",
    "train_auc1=np.reshape(train_auc, (7, 4))"
   ]
  },
  {
   "cell_type": "code",
   "execution_count": null,
   "metadata": {},
   "outputs": [],
   "source": [
    "x_label='Minimum data points requires to split'\n",
    "ylabel='Depth of tree'\n",
    "title= 'AUC of Test data vs depth of the tree and minimum samples requires to split'\n",
    "plot_tables_metrics(test_auc1, min_sample,depth,x_label,ylabel, title)"
   ]
  },
  {
   "cell_type": "code",
   "execution_count": null,
   "metadata": {},
   "outputs": [],
   "source": [
    "title= 'AUC of Train data vs depth of the tree and minimum samples requires to split'\n",
    "plot_tables_metrics(train_auc1, min_sample,depth,x_label,ylabel, title)"
   ]
  },
  {
   "cell_type": "markdown",
   "metadata": {},
   "source": [
    "**Observation**\n",
    "\n",
    "We can see that when Tree depth is increasing and minimum sample required to spilt is reducing, model is overfitting, hence training auc is increasing but test auc is decreasing. The best tree depth and minimum data point required is 10 and 500 respectively which is giving train and test auc 0.54 and 0.50 respectively, which is very close so our model is well fitting."
   ]
  },
  {
   "cell_type": "code",
   "execution_count": null,
   "metadata": {},
   "outputs": [],
   "source": [
    "from sklearn.tree import DecisionTreeClassifier\n",
    "best_depth=10\n",
    "best_minm_sample=500\n",
    "clf = DecisionTreeClassifier(criterion='gini', max_depth=best_depth, min_samples_split=best_minm_sample)\n",
    "clf.fit(train_data, train_traget)\n",
    "\n",
    "# Prediction on Test data\n",
    "pred = clf.predict(test_data)\n",
    "acc = accuracy_score(test_target, pred, normalize=True) * float(100)\n",
    "auc=roc_auc_score(test_target, pred)\n",
    "print(\" best_depth: \",best_depth,\" AUC: \",auc)"
   ]
  },
  {
   "cell_type": "code",
   "execution_count": null,
   "metadata": {},
   "outputs": [],
   "source": [
    "# ROC AUC Curve\n",
    "y_true_train = train_traget\n",
    "y_probas_train = clf.predict_proba(train_data)\n",
    "y_true_test = test_target\n",
    "y_probas_test = clf.predict_proba(test_data)"
   ]
  },
  {
   "cell_type": "code",
   "execution_count": null,
   "metadata": {},
   "outputs": [],
   "source": [
    "plot_train_test_ROC(y_true_train,clf,y_true_test,train_data,test_data)\n",
    "plt.show()"
   ]
  },
  {
   "cell_type": "markdown",
   "metadata": {},
   "source": [
    "**Observation**\n",
    "\n",
    "We can see that the Train and Test ROC plot is bit overlapping on best hyperparamter depth =10 and minm points=500. And the diff of train and Test AUC is minimal but overall auc is low so we can say that this model is underfitting . If we need better performance than this we may need to try different complex models and add some new features."
   ]
  },
  {
   "cell_type": "code",
   "execution_count": null,
   "metadata": {},
   "outputs": [],
   "source": [
    "plotconfusionMatrix(y_true_test,clf,test_data)"
   ]
  },
  {
   "cell_type": "markdown",
   "metadata": {},
   "source": [
    "**Observation**\n",
    "\n",
    "We can see that on unseen data(Test set) our diagonal elements have almost similar number than off diagonal with very high no of FP and FN, ie. model is underfitting.If we need better performance than this, i.e to reduce further FP and FN and increase TP and TN then we may need to add some new features."
   ]
  },
  {
   "cell_type": "markdown",
   "metadata": {
    "colab_type": "text",
    "id": "Em-rF6u2iWO8"
   },
   "source": [
    "# [6] Conclusions"
   ]
  },
  {
   "cell_type": "code",
   "execution_count": null,
   "metadata": {},
   "outputs": [],
   "source": [
    "# Please compare all your models using Prettytable library\n",
    "from prettytable import PrettyTable\n",
    "x = PrettyTable()\n",
    "x.field_names = [\"Vectorizer\", \"Model\", \"Best depth\",\"Best min sample\", \"AUC\"]\n",
    "\n",
    "x.add_row([\"BOW\", \"Decision Tree\", 10,500, 0.81])\n",
    "x.add_row([\"BOW with feature engg\", \"Decision Tree\", 10,500, 0.74])\n",
    "x.add_row([\"TFIDF\", \"Decision Tree\", 500,500, 0.78])\n",
    "x.add_row([\"TFIDF with feature engg\", \"Decision Tree\", 500,500, 0.74])\n",
    "x.add_row([\"AvgWord2Vec\", \"Decision Tree\", 10,500, 0.51])\n",
    "x.add_row([\"TFIDFWord2Vec\", \"Decision Tree\", 10,500, 0.50])\n",
    "print(x)"
   ]
  },
  {
   "cell_type": "markdown",
   "metadata": {},
   "source": [
    "**Observation**\n",
    "\n",
    "We can see that with all 6 type of models Simple BOW vectorizer performing better with maximum AUC 81% on test data.TFIDF based vectorizer gave 2nd best solution with aprrox same AUC, after adding 4 new features performance of both BOW and TFIDF have reduced. On the other word2vec vectorizer on both avg and TFIDF performing worst and similar to random model."
   ]
  }
 ],
 "metadata": {
  "colab": {
   "collapsed_sections": [
    "NTwQITJKiWN5",
    "T_LFck8iiWOX",
    "mjfrB76yiWOa",
    "0tcbbZxSiWOd",
    "u566lt93iWOf",
    "mUNnof40iWOl",
    "heHLB_FCiWOm",
    "ylTn3LgiiWOo",
    "NVhl_V6MiWO5",
    "PnwVzXytiWO7"
   ],
   "name": "08 Amazon Fine Food Reviews Analysis_Decision Trees.ipynb",
   "provenance": [],
   "version": "0.3.2"
  },
  "kernelspec": {
   "display_name": "Python 3",
   "language": "python",
   "name": "python3"
  },
  "language_info": {
   "codemirror_mode": {
    "name": "ipython",
    "version": 3
   },
   "file_extension": ".py",
   "mimetype": "text/x-python",
   "name": "python",
   "nbconvert_exporter": "python",
   "pygments_lexer": "ipython3",
   "version": "3.6.5"
  }
 },
 "nbformat": 4,
 "nbformat_minor": 1
}
