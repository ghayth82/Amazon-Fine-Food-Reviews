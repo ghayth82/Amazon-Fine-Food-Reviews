{
 "cells": [
  {
   "cell_type": "code",
   "execution_count": 3,
   "metadata": {
    "_cell_guid": "b1076dfc-b9ad-4769-8c92-a6c4dae69d19",
    "_uuid": "8f2839f25d086af736a60e9eeb907d3b93b6e0e5"
   },
   "outputs": [],
   "source": [
    "%matplotlib inline\n",
    "import warnings\n",
    "warnings.filterwarnings(\"ignore\")\n",
    "\n",
    "import sqlite3\n",
    "import pandas as pd\n",
    "import numpy as np\n",
    "import nltk\n",
    "import string\n",
    "import matplotlib.pyplot as plt\n",
    "import seaborn as sns\n",
    "from sklearn.feature_extraction.text import TfidfTransformer\n",
    "from sklearn.feature_extraction.text import TfidfVectorizer\n",
    "\n",
    "from sklearn.feature_extraction.text import CountVectorizer\n",
    "from sklearn.metrics import confusion_matrix\n",
    "from sklearn import metrics\n",
    "from sklearn.metrics import roc_curve, auc\n",
    "from nltk.stem.porter import PorterStemmer\n",
    "\n",
    "import re\n",
    "# Tutorial about Python regular expressions: https://pymotw.com/2/re/\n",
    "import string\n",
    "from nltk.corpus import stopwords\n",
    "from nltk.stem import PorterStemmer\n",
    "from nltk.stem.wordnet import WordNetLemmatizer\n",
    "\n",
    "from gensim.models import Word2Vec\n",
    "from gensim.models import KeyedVectors\n",
    "import pickle\n",
    "\n",
    "from tqdm import tqdm\n",
    "import os\n",
    "\n",
    "# Input data files are available in the \"../input/\" directory.\n",
    "# For example, running this (by clicking run or pressing Shift+Enter) will list the files in the input directory\n",
    "\n",
    "import os\n",
    "\n",
    "import os\n",
    "#print(os.listdir(\"../input\"))\n",
    "\n",
    "# Any results you write to the current directory are saved as output."
   ]
  },
  {
   "cell_type": "code",
   "execution_count": 5,
   "metadata": {
    "_uuid": "290616e314d264b3a1b83435704d835aaa3e5d4f"
   },
   "outputs": [],
   "source": [
    "con = sqlite3.connect('./amazon-fine-food-reviews/database.sqlite') \n",
    "filtered_data = pd.read_sql_query(\"\"\" SELECT * FROM Reviews WHERE Score != 3 \"\"\", con)"
   ]
  },
  {
   "cell_type": "code",
   "execution_count": 6,
   "metadata": {
    "_uuid": "ad3e8fd0d4dc01bf639ec20b045ff5612ad75903"
   },
   "outputs": [
    {
     "data": {
      "text/html": [
       "<div>\n",
       "<style scoped>\n",
       "    .dataframe tbody tr th:only-of-type {\n",
       "        vertical-align: middle;\n",
       "    }\n",
       "\n",
       "    .dataframe tbody tr th {\n",
       "        vertical-align: top;\n",
       "    }\n",
       "\n",
       "    .dataframe thead th {\n",
       "        text-align: right;\n",
       "    }\n",
       "</style>\n",
       "<table border=\"1\" class=\"dataframe\">\n",
       "  <thead>\n",
       "    <tr style=\"text-align: right;\">\n",
       "      <th></th>\n",
       "      <th>Id</th>\n",
       "      <th>ProductId</th>\n",
       "      <th>UserId</th>\n",
       "      <th>ProfileName</th>\n",
       "      <th>HelpfulnessNumerator</th>\n",
       "      <th>HelpfulnessDenominator</th>\n",
       "      <th>Score</th>\n",
       "      <th>Time</th>\n",
       "      <th>Summary</th>\n",
       "      <th>Text</th>\n",
       "    </tr>\n",
       "  </thead>\n",
       "  <tbody>\n",
       "    <tr>\n",
       "      <th>0</th>\n",
       "      <td>1</td>\n",
       "      <td>B001E4KFG0</td>\n",
       "      <td>A3SGXH7AUHU8GW</td>\n",
       "      <td>delmartian</td>\n",
       "      <td>1</td>\n",
       "      <td>1</td>\n",
       "      <td>5</td>\n",
       "      <td>1303862400</td>\n",
       "      <td>Good Quality Dog Food</td>\n",
       "      <td>I have bought several of the Vitality canned d...</td>\n",
       "    </tr>\n",
       "    <tr>\n",
       "      <th>1</th>\n",
       "      <td>2</td>\n",
       "      <td>B00813GRG4</td>\n",
       "      <td>A1D87F6ZCVE5NK</td>\n",
       "      <td>dll pa</td>\n",
       "      <td>0</td>\n",
       "      <td>0</td>\n",
       "      <td>1</td>\n",
       "      <td>1346976000</td>\n",
       "      <td>Not as Advertised</td>\n",
       "      <td>Product arrived labeled as Jumbo Salted Peanut...</td>\n",
       "    </tr>\n",
       "  </tbody>\n",
       "</table>\n",
       "</div>"
      ],
      "text/plain": [
       "   Id   ProductId          UserId ProfileName  HelpfulnessNumerator  \\\n",
       "0   1  B001E4KFG0  A3SGXH7AUHU8GW  delmartian                     1   \n",
       "1   2  B00813GRG4  A1D87F6ZCVE5NK      dll pa                     0   \n",
       "\n",
       "   HelpfulnessDenominator  Score        Time                Summary  \\\n",
       "0                       1      5  1303862400  Good Quality Dog Food   \n",
       "1                       0      1  1346976000      Not as Advertised   \n",
       "\n",
       "                                                Text  \n",
       "0  I have bought several of the Vitality canned d...  \n",
       "1  Product arrived labeled as Jumbo Salted Peanut...  "
      ]
     },
     "execution_count": 6,
     "metadata": {},
     "output_type": "execute_result"
    }
   ],
   "source": [
    "filtered_data.head(2)"
   ]
  },
  {
   "cell_type": "code",
   "execution_count": 7,
   "metadata": {
    "_uuid": "30d3ebb9b44282df46ddf3fe39d4edff6a1b271b"
   },
   "outputs": [
    {
     "data": {
      "text/plain": [
       "(525814, 10)"
      ]
     },
     "execution_count": 7,
     "metadata": {},
     "output_type": "execute_result"
    }
   ],
   "source": [
    "filtered_data.shape"
   ]
  },
  {
   "cell_type": "markdown",
   "metadata": {},
   "source": [
    "# 1. Data Cleaning"
   ]
  },
  {
   "cell_type": "code",
   "execution_count": 8,
   "metadata": {
    "_uuid": "ccaa0d9c0ccb6677608878e9f78eb75f12bd5db1"
   },
   "outputs": [],
   "source": [
    "#Sorting data according to ProductId in ascending order\n",
    "sorted_data=filtered_data.sort_values('ProductId', axis=0, ascending=True, inplace=False, kind='quicksort', na_position='last')"
   ]
  },
  {
   "cell_type": "code",
   "execution_count": 9,
   "metadata": {
    "_cell_guid": "79c7e3d0-c299-4dcb-8224-4455121ee9b0",
    "_uuid": "d629ff2d2480ee46fbb7e2d37f6b5fab8052498a"
   },
   "outputs": [
    {
     "data": {
      "text/plain": [
       "(364173, 10)"
      ]
     },
     "execution_count": 9,
     "metadata": {},
     "output_type": "execute_result"
    }
   ],
   "source": [
    "#Deduplication of entries\n",
    "final=sorted_data.drop_duplicates(subset={\"UserId\",\"ProfileName\",\"Time\",\"Text\"}, keep='first', inplace=False)\n",
    "final.shape"
   ]
  },
  {
   "cell_type": "code",
   "execution_count": 10,
   "metadata": {
    "_uuid": "7c1be5dc78b14501dc389cb1f39330b8466be195"
   },
   "outputs": [
    {
     "data": {
      "text/html": [
       "<div>\n",
       "<style scoped>\n",
       "    .dataframe tbody tr th:only-of-type {\n",
       "        vertical-align: middle;\n",
       "    }\n",
       "\n",
       "    .dataframe tbody tr th {\n",
       "        vertical-align: top;\n",
       "    }\n",
       "\n",
       "    .dataframe thead th {\n",
       "        text-align: right;\n",
       "    }\n",
       "</style>\n",
       "<table border=\"1\" class=\"dataframe\">\n",
       "  <thead>\n",
       "    <tr style=\"text-align: right;\">\n",
       "      <th></th>\n",
       "      <th>Id</th>\n",
       "      <th>ProductId</th>\n",
       "      <th>UserId</th>\n",
       "      <th>ProfileName</th>\n",
       "      <th>HelpfulnessNumerator</th>\n",
       "      <th>HelpfulnessDenominator</th>\n",
       "      <th>Score</th>\n",
       "      <th>Time</th>\n",
       "      <th>Summary</th>\n",
       "      <th>Text</th>\n",
       "    </tr>\n",
       "  </thead>\n",
       "  <tbody>\n",
       "    <tr>\n",
       "      <th>0</th>\n",
       "      <td>64422</td>\n",
       "      <td>B000MIDROQ</td>\n",
       "      <td>A161DK06JJMCYF</td>\n",
       "      <td>J. E. Stephens \"Jeanne\"</td>\n",
       "      <td>3</td>\n",
       "      <td>1</td>\n",
       "      <td>5</td>\n",
       "      <td>1224892800</td>\n",
       "      <td>Bought This for My Son at College</td>\n",
       "      <td>My son loves spaghetti so I didn't hesitate or...</td>\n",
       "    </tr>\n",
       "    <tr>\n",
       "      <th>1</th>\n",
       "      <td>44737</td>\n",
       "      <td>B001EQ55RW</td>\n",
       "      <td>A2V0I904FH7ABY</td>\n",
       "      <td>Ram</td>\n",
       "      <td>3</td>\n",
       "      <td>2</td>\n",
       "      <td>4</td>\n",
       "      <td>1212883200</td>\n",
       "      <td>Pure cocoa taste with crunchy almonds inside</td>\n",
       "      <td>It was almost a 'love at first bite' - the per...</td>\n",
       "    </tr>\n",
       "  </tbody>\n",
       "</table>\n",
       "</div>"
      ],
      "text/plain": [
       "      Id   ProductId          UserId              ProfileName  \\\n",
       "0  64422  B000MIDROQ  A161DK06JJMCYF  J. E. Stephens \"Jeanne\"   \n",
       "1  44737  B001EQ55RW  A2V0I904FH7ABY                      Ram   \n",
       "\n",
       "   HelpfulnessNumerator  HelpfulnessDenominator  Score        Time  \\\n",
       "0                     3                       1      5  1224892800   \n",
       "1                     3                       2      4  1212883200   \n",
       "\n",
       "                                        Summary  \\\n",
       "0             Bought This for My Son at College   \n",
       "1  Pure cocoa taste with crunchy almonds inside   \n",
       "\n",
       "                                                Text  \n",
       "0  My son loves spaghetti so I didn't hesitate or...  \n",
       "1  It was almost a 'love at first bite' - the per...  "
      ]
     },
     "execution_count": 10,
     "metadata": {},
     "output_type": "execute_result"
    }
   ],
   "source": [
    "display= pd.read_sql_query(\"\"\"\n",
    "SELECT *\n",
    "FROM Reviews\n",
    "WHERE Score != 3 AND Id=44737 OR Id=64422\n",
    "ORDER BY ProductID\n",
    "\"\"\", con)\n",
    "\n",
    "display.head()"
   ]
  },
  {
   "cell_type": "code",
   "execution_count": 11,
   "metadata": {
    "_uuid": "035e9a08b143da37c4fa3efdb238be4c14258251"
   },
   "outputs": [],
   "source": [
    "final=final[final.HelpfulnessNumerator<=final.HelpfulnessDenominator]"
   ]
  },
  {
   "cell_type": "code",
   "execution_count": 12,
   "metadata": {
    "_uuid": "db3b690af7580b648b248e5341b8d6fe4be769f3"
   },
   "outputs": [],
   "source": [
    "# Give reviews with Score>3 a positive rating, and reviews with a score<3 a negative rating.\n",
    "# 1 is positive, 0 is negative\n",
    "def partition(x):\n",
    "    if x < 3:\n",
    "        return 0\n",
    "    return 1\n",
    "\n",
    "#changing reviews with score less than 3 to be positive and vice-versa\n",
    "actualScore = final['Score']\n",
    "positiveNegative = actualScore.map(partition) "
   ]
  },
  {
   "cell_type": "code",
   "execution_count": 13,
   "metadata": {
    "_uuid": "89c4c274079ac51c1249b372d158a21dccbcc404"
   },
   "outputs": [
    {
     "name": "stdout",
     "output_type": "stream",
     "text": [
      "Number of data points in our data (525814, 10)\n"
     ]
    },
    {
     "data": {
      "text/html": [
       "<div>\n",
       "<style scoped>\n",
       "    .dataframe tbody tr th:only-of-type {\n",
       "        vertical-align: middle;\n",
       "    }\n",
       "\n",
       "    .dataframe tbody tr th {\n",
       "        vertical-align: top;\n",
       "    }\n",
       "\n",
       "    .dataframe thead th {\n",
       "        text-align: right;\n",
       "    }\n",
       "</style>\n",
       "<table border=\"1\" class=\"dataframe\">\n",
       "  <thead>\n",
       "    <tr style=\"text-align: right;\">\n",
       "      <th></th>\n",
       "      <th>Id</th>\n",
       "      <th>ProductId</th>\n",
       "      <th>UserId</th>\n",
       "      <th>ProfileName</th>\n",
       "      <th>HelpfulnessNumerator</th>\n",
       "      <th>HelpfulnessDenominator</th>\n",
       "      <th>Score</th>\n",
       "      <th>Time</th>\n",
       "      <th>Summary</th>\n",
       "      <th>Text</th>\n",
       "    </tr>\n",
       "  </thead>\n",
       "  <tbody>\n",
       "    <tr>\n",
       "      <th>0</th>\n",
       "      <td>1</td>\n",
       "      <td>B001E4KFG0</td>\n",
       "      <td>A3SGXH7AUHU8GW</td>\n",
       "      <td>delmartian</td>\n",
       "      <td>1</td>\n",
       "      <td>1</td>\n",
       "      <td>5</td>\n",
       "      <td>1303862400</td>\n",
       "      <td>Good Quality Dog Food</td>\n",
       "      <td>I have bought several of the Vitality canned d...</td>\n",
       "    </tr>\n",
       "    <tr>\n",
       "      <th>1</th>\n",
       "      <td>2</td>\n",
       "      <td>B00813GRG4</td>\n",
       "      <td>A1D87F6ZCVE5NK</td>\n",
       "      <td>dll pa</td>\n",
       "      <td>0</td>\n",
       "      <td>0</td>\n",
       "      <td>1</td>\n",
       "      <td>1346976000</td>\n",
       "      <td>Not as Advertised</td>\n",
       "      <td>Product arrived labeled as Jumbo Salted Peanut...</td>\n",
       "    </tr>\n",
       "    <tr>\n",
       "      <th>2</th>\n",
       "      <td>3</td>\n",
       "      <td>B000LQOCH0</td>\n",
       "      <td>ABXLMWJIXXAIN</td>\n",
       "      <td>Natalia Corres \"Natalia Corres\"</td>\n",
       "      <td>1</td>\n",
       "      <td>1</td>\n",
       "      <td>4</td>\n",
       "      <td>1219017600</td>\n",
       "      <td>\"Delight\" says it all</td>\n",
       "      <td>This is a confection that has been around a fe...</td>\n",
       "    </tr>\n",
       "  </tbody>\n",
       "</table>\n",
       "</div>"
      ],
      "text/plain": [
       "   Id   ProductId          UserId                      ProfileName  \\\n",
       "0   1  B001E4KFG0  A3SGXH7AUHU8GW                       delmartian   \n",
       "1   2  B00813GRG4  A1D87F6ZCVE5NK                           dll pa   \n",
       "2   3  B000LQOCH0   ABXLMWJIXXAIN  Natalia Corres \"Natalia Corres\"   \n",
       "\n",
       "   HelpfulnessNumerator  HelpfulnessDenominator  Score        Time  \\\n",
       "0                     1                       1      5  1303862400   \n",
       "1                     0                       0      1  1346976000   \n",
       "2                     1                       1      4  1219017600   \n",
       "\n",
       "                 Summary                                               Text  \n",
       "0  Good Quality Dog Food  I have bought several of the Vitality canned d...  \n",
       "1      Not as Advertised  Product arrived labeled as Jumbo Salted Peanut...  \n",
       "2  \"Delight\" says it all  This is a confection that has been around a fe...  "
      ]
     },
     "execution_count": 13,
     "metadata": {},
     "output_type": "execute_result"
    }
   ],
   "source": [
    "final['Score'] = positiveNegative\n",
    "print(\"Number of data points in our data\", filtered_data.shape)\n",
    "filtered_data.head(3)"
   ]
  },
  {
   "cell_type": "code",
   "execution_count": 14,
   "metadata": {
    "_uuid": "06da0b029484a51a51f67f5525a58e32617e41f8"
   },
   "outputs": [
    {
     "name": "stdout",
     "output_type": "stream",
     "text": [
      "(364171, 10)\n"
     ]
    },
    {
     "data": {
      "text/plain": [
       "1    307061\n",
       "0     57110\n",
       "Name: Score, dtype: int64"
      ]
     },
     "execution_count": 14,
     "metadata": {},
     "output_type": "execute_result"
    }
   ],
   "source": [
    "#Before starting the next phase of preprocessing lets see the number of entries left\n",
    "print(final.shape)\n",
    "\n",
    "#How many positive and negative reviews are present in our dataset?\n",
    "final['Score'].value_counts()"
   ]
  },
  {
   "cell_type": "code",
   "execution_count": 16,
   "metadata": {
    "_uuid": "cb32091cf20f72f0b2bf47a1774aa9c4ab4e069d"
   },
   "outputs": [
    {
     "name": "stdout",
     "output_type": "stream",
     "text": [
      "[nltk_data] Downloading package stopwords to\n",
      "[nltk_data]     C:\\Users\\Sanjay\\AppData\\Roaming\\nltk_data...\n",
      "[nltk_data]   Unzipping corpora\\stopwords.zip.\n"
     ]
    }
   ],
   "source": [
    "nltk.download('stopwords')\n",
    "stop = set(stopwords.words('english')) #set of stopwords\n",
    "sno = nltk.stem.SnowballStemmer('english') #initialising the snowball stemmer\n",
    "\n",
    "def cleanhtml(sentence): #function to clean the word of any html-tags\n",
    "    cleanr = re.compile('<.*?>')\n",
    "    cleantext = re.sub(cleanr, ' ', sentence)\n",
    "    return cleantext\n",
    "def cleanpunc(sentence): #function to clean the word of any punctuation or special characters\n",
    "    cleaned = re.sub(r'[?|!|\\'|\"|#]',r'',sentence)\n",
    "    cleaned = re.sub(r'[.|,|)|(|\\|/]',r' ',cleaned)\n",
    "    return  cleaned"
   ]
  },
  {
   "cell_type": "code",
   "execution_count": 17,
   "metadata": {
    "_uuid": "d582b6a6f3d853a69135aced7f9f3a137dd16d2e"
   },
   "outputs": [],
   "source": [
    "stop1={'not','very','no','nor','or','off'}"
   ]
  },
  {
   "cell_type": "code",
   "execution_count": 18,
   "metadata": {
    "_uuid": "f2ba6bcc69bd62b95b6cf502993fcddcb97fb4bc"
   },
   "outputs": [],
   "source": [
    "stop=stop-stop1"
   ]
  },
  {
   "cell_type": "code",
   "execution_count": 19,
   "metadata": {
    "_uuid": "da9692f21fa96ad1ca15e204be3ca45496abe6db"
   },
   "outputs": [
    {
     "name": "stderr",
     "output_type": "stream",
     "text": [
      "100%|████████████████████████████████████████████████████████████████████████| 364171/364171 [05:56<00:00, 1021.85it/s]\n"
     ]
    }
   ],
   "source": [
    "#Code for implementing step-by-step the checks mentioned in the pre-processing phase\n",
    "# this code takes a while to run as it needs to run on 500k sentences.\n",
    "if not os.path.isfile('final.sqlite'):\n",
    "    final_string=[]\n",
    "    all_positive_words=[] # store words from +ve reviews here\n",
    "    all_negative_words=[] # store words from -ve reviews here.\n",
    "    for i, sent in enumerate(tqdm(final['Text'].values)):\n",
    "        filtered_sentence=[]\n",
    "        #print(sent);\n",
    "        sent=cleanhtml(sent) # remove HTMl tags\n",
    "        for w in sent.split():\n",
    "            # we have used cleanpunc(w).split(), one more split function here because consider w=\"abc.def\", cleanpunc(w) will return \"abc def\"\n",
    "            # if we dont use .split() function then we will be considring \"abc def\" as a single word, but if you use .split() function we will get \"abc\", \"def\"\n",
    "            for cleaned_words in cleanpunc(w).split():\n",
    "                if((cleaned_words.isalpha()) & (len(cleaned_words)>2)):    \n",
    "                    if(cleaned_words.lower() not in stop):\n",
    "                        s=(sno.stem(cleaned_words.lower())).encode('utf8')\n",
    "                        filtered_sentence.append(s)\n",
    "                        if (final['Score'].values)[i] == 1: \n",
    "                            all_positive_words.append(s) #list of all words used to describe positive reviews\n",
    "                        if(final['Score'].values)[i] == 0:\n",
    "                            all_negative_words.append(s) #list of all words used to describe negative reviews reviews\n",
    "        str1 = b\" \".join(filtered_sentence) #final string of cleaned words\n",
    "        #print(\"***********************************************************************\")\n",
    "        final_string.append(str1)\n",
    "\n",
    "    #############---- storing the data into .sqlite file ------########################\n",
    "    final['CleanedText']=final_string #adding a column of CleanedText which displays the data after pre-processing of the review \n",
    "    final['CleanedText']=final['CleanedText'].str.decode(\"utf-8\")    "
   ]
  },
  {
   "cell_type": "code",
   "execution_count": 23,
   "metadata": {},
   "outputs": [],
   "source": [
    "#Saving for later assignment\n",
    "final.to_csv(\"Clean_data.csv\",index=False)"
   ]
  },
  {
   "cell_type": "markdown",
   "metadata": {},
   "source": [
    "# 2. Data seperation for train cv and test"
   ]
  },
  {
   "cell_type": "code",
   "execution_count": 20,
   "metadata": {
    "_uuid": "487c592103af6d7dcb39044441725e1df4c5c714"
   },
   "outputs": [
    {
     "data": {
      "text/plain": [
       "1    307061\n",
       "0     57110\n",
       "Name: Score, dtype: int64"
      ]
     },
     "execution_count": 20,
     "metadata": {},
     "output_type": "execute_result"
    }
   ],
   "source": [
    "clean_data=final\n",
    "# Checking the positive and negative labels\n",
    "clean_data['Score'].value_counts()"
   ]
  },
  {
   "cell_type": "code",
   "execution_count": 21,
   "metadata": {
    "_uuid": "092351d5fbc4ec083223fd534132d536ae8a53f0"
   },
   "outputs": [],
   "source": [
    "#Randomly selecting 50k records\n",
    "filter_data_positive=clean_data[clean_data.Score==1].sample(50000,random_state=17)\n",
    "filter_data_positive.sort_values(by='Time',inplace=True,ascending=True)\n",
    "\n",
    "#selecting all -ve records records\n",
    "filter_data_negative=clean_data[clean_data.Score==0].sample(50000,random_state=17)\n",
    "filter_data_negative.sort_values(by='Time',inplace=True,ascending=True)"
   ]
  },
  {
   "cell_type": "code",
   "execution_count": 22,
   "metadata": {
    "_uuid": "8c70f04a3c4e1ab37113434dc04af64dc335ece9"
   },
   "outputs": [
    {
     "name": "stdout",
     "output_type": "stream",
     "text": [
      "Total_positive_data (50000, 11)\n",
      "train (30000, 11) CV (10000, 11) test (10000, 11)\n"
     ]
    }
   ],
   "source": [
    "# Splitting Train,CV and Test for positive data\n",
    "row=filter_data_positive.shape[0]\n",
    "split=int(row*0.6)\n",
    "train_data_positive=filter_data_positive[:split]\n",
    "cv_data_positive=filter_data_positive[split:int(row*0.8)]\n",
    "test_data_positive=filter_data_positive[int(row*0.8):row]\n",
    "print(\"Total_positive_data\",filter_data_positive.shape)\n",
    "print(\"train\",train_data_positive.shape,\"CV\",cv_data_positive.shape,\"test\",test_data_positive.shape)"
   ]
  },
  {
   "cell_type": "code",
   "execution_count": 24,
   "metadata": {
    "_uuid": "24078148fe31ab2c1f6bb7cc16f3189ea9a80775"
   },
   "outputs": [
    {
     "name": "stdout",
     "output_type": "stream",
     "text": [
      "Total_negative_data (50000, 11)\n",
      "train (30000, 11) CV (10000, 11) test (10000, 11)\n"
     ]
    }
   ],
   "source": [
    "# Splitting Train,CV and Test for -ve data\n",
    "row=filter_data_negative.shape[0]\n",
    "split=int(row*0.6)\n",
    "train_data_negative=filter_data_negative[:split]\n",
    "cv_data_negative=filter_data_negative[split:int(row*0.8)]\n",
    "test_data_negative=filter_data_negative[int(row*0.8):row]\n",
    "print(\"Total_negative_data\",filter_data_negative.shape)\n",
    "print(\"train\",train_data_negative.shape,\"CV\",cv_data_negative.shape,\"test\",test_data_negative.shape)"
   ]
  },
  {
   "cell_type": "code",
   "execution_count": 25,
   "metadata": {
    "_uuid": "015f66579012d09d74c1ef7f2a4f49f5cf75a078"
   },
   "outputs": [
    {
     "name": "stdout",
     "output_type": "stream",
     "text": [
      "(60000, 11)\n"
     ]
    },
    {
     "data": {
      "text/plain": [
       "1    30000\n",
       "0    30000\n",
       "Name: Score, dtype: int64"
      ]
     },
     "execution_count": 25,
     "metadata": {},
     "output_type": "execute_result"
    }
   ],
   "source": [
    "# Combining +ve and -ve train data and sorting based on time\n",
    "train_data=np.vstack((train_data_positive, train_data_negative))\n",
    "train_data=pd.DataFrame(train_data)\n",
    "train_data.columns=clean_data.columns\n",
    "train_data.sort_values(by='Time',inplace=True,ascending=True)\n",
    "print(train_data.shape)\n",
    "# Checking the positive and negative labels\n",
    "train_data['Score'].value_counts()"
   ]
  },
  {
   "cell_type": "code",
   "execution_count": 26,
   "metadata": {
    "_uuid": "ee2079b01727863e279378d584a2dda410e79afc"
   },
   "outputs": [
    {
     "name": "stdout",
     "output_type": "stream",
     "text": [
      "(20000, 11)\n"
     ]
    },
    {
     "data": {
      "text/plain": [
       "1    10000\n",
       "0    10000\n",
       "Name: Score, dtype: int64"
      ]
     },
     "execution_count": 26,
     "metadata": {},
     "output_type": "execute_result"
    }
   ],
   "source": [
    "# Combining +ve and -ve CV data and sorting based on time\n",
    "cv_data=np.vstack((cv_data_positive,cv_data_negative))\n",
    "cv_data=pd.DataFrame(cv_data)\n",
    "cv_data.columns=clean_data.columns\n",
    "cv_data.sort_values(by='Time',inplace=True,ascending=True)\n",
    "print(cv_data.shape)\n",
    "# Checking the positive and negative labels\n",
    "cv_data['Score'].value_counts()"
   ]
  },
  {
   "cell_type": "code",
   "execution_count": 27,
   "metadata": {
    "_uuid": "1b2cf9b99ef799eb95741ee9aa63220f23cb16d0"
   },
   "outputs": [
    {
     "name": "stdout",
     "output_type": "stream",
     "text": [
      "(20000, 11)\n"
     ]
    },
    {
     "data": {
      "text/plain": [
       "1    10000\n",
       "0    10000\n",
       "Name: Score, dtype: int64"
      ]
     },
     "execution_count": 27,
     "metadata": {},
     "output_type": "execute_result"
    }
   ],
   "source": [
    "# Combining +ve and -ve test data and sorting based on time\n",
    "test_data=np.vstack((test_data_positive, test_data_negative))\n",
    "test_data=pd.DataFrame(test_data)\n",
    "test_data.columns=clean_data.columns\n",
    "test_data.sort_values(by='Time',inplace=True,ascending=True)\n",
    "print(test_data.shape)\n",
    "# Checking the positive and negative labels\n",
    "test_data['Score'].value_counts()"
   ]
  },
  {
   "cell_type": "markdown",
   "metadata": {
    "_uuid": "1ca887e1dc2d67fa2c7887884d12c6ab82e1ddbd"
   },
   "source": [
    "# 3. Applying KNN brute force using BOW, SET 1"
   ]
  },
  {
   "cell_type": "code",
   "execution_count": 28,
   "metadata": {
    "_uuid": "d1dfd11c9240fc5579a3464bc267572ec72bd92a"
   },
   "outputs": [
    {
     "data": {
      "text/plain": [
       "0"
      ]
     },
     "execution_count": 28,
     "metadata": {},
     "output_type": "execute_result"
    }
   ],
   "source": [
    "# Please write all the code with proper documentation\n",
    "\n",
    "import gc; gc.collect()\n",
    "# Converting text to vector using Bag of words to all train, CV and test\n",
    "count_vect = CountVectorizer(min_df=15) #in scikit-learn\n",
    "training_counts = count_vect.fit_transform(train_data['CleanedText'])\n",
    "cv_counts = count_vect.transform(cv_data['CleanedText'])\n",
    "test_counts = count_vect.transform(test_data['CleanedText'])\n",
    "gc.collect()\n"
   ]
  },
  {
   "cell_type": "code",
   "execution_count": 29,
   "metadata": {
    "_uuid": "c8149b16763162c8c8cf000c33d29a691ee7c05e"
   },
   "outputs": [
    {
     "name": "stdout",
     "output_type": "stream",
     "text": [
      " training_counts  (60000, 5663) cv_counts  (20000, 5663) test_counts (20000, 5663)\n"
     ]
    }
   ],
   "source": [
    "# converting sparse vector to dense vector\n",
    "training_count=training_counts.toarray()\n",
    "print(\" training_counts \",training_counts.shape,\"cv_counts \",cv_counts.shape,\"test_counts\",test_counts.shape)"
   ]
  },
  {
   "cell_type": "code",
   "execution_count": 30,
   "metadata": {
    "_uuid": "77103bbbe724e1851cb48fca5c8f82a9a4f18b01"
   },
   "outputs": [
    {
     "data": {
      "text/plain": [
       "0"
      ]
     },
     "execution_count": 30,
     "metadata": {},
     "output_type": "execute_result"
    }
   ],
   "source": [
    "cv_count=cv_counts.toarray()\n",
    "test_count=test_counts.toarray()\n",
    "# removing unused object\n",
    "gc.collect()"
   ]
  },
  {
   "cell_type": "code",
   "execution_count": 31,
   "metadata": {
    "_uuid": "7b61d756e9de07e4a5b54c78bfb0521b178fc478"
   },
   "outputs": [],
   "source": [
    "train_traget=train_data['Score'].astype('int')\n",
    "cv_target=cv_data['Score'].astype('int')\n",
    "test_target=test_data['Score'].astype('int')"
   ]
  },
  {
   "cell_type": "code",
   "execution_count": 32,
   "metadata": {
    "_uuid": "4ad73f8b21a23a056f07940c0b3a2fd1c8bbf552"
   },
   "outputs": [
    {
     "data": {
      "text/plain": [
       "TruncatedSVD(algorithm='arpack', n_components=50, n_iter=5, random_state=None,\n",
       "       tol=0.0)"
      ]
     },
     "execution_count": 32,
     "metadata": {},
     "output_type": "execute_result"
    }
   ],
   "source": [
    "from sklearn.decomposition import TruncatedSVD\n",
    "svd_obj = TruncatedSVD(n_components=50, algorithm='arpack')\n",
    "svd_obj.fit(training_counts.asfptype())"
   ]
  },
  {
   "cell_type": "code",
   "execution_count": 33,
   "metadata": {
    "_uuid": "5d19da7b259ab25a4d285e40f9da2d0779ad62ac"
   },
   "outputs": [],
   "source": [
    "train_svd = pd.DataFrame(svd_obj.transform(training_counts.asfptype()))\n",
    "cv_svd = pd.DataFrame(svd_obj.transform(cv_counts.asfptype()))\n",
    "test_svd = pd.DataFrame(svd_obj.transform(test_counts.asfptype()))\n",
    "#print(\" training_counts \",train_svd.shape,\"cv_counts \",cv_svd.shape,\"test_counts\",test_svd.shape)"
   ]
  },
  {
   "cell_type": "code",
   "execution_count": 34,
   "metadata": {
    "_uuid": "d6f9eeb6a78d49e164b654618b95c14abedbbaed"
   },
   "outputs": [],
   "source": [
    "n_comp=50\n",
    "train_svd.columns = ['svd_desc_'+str(i+1) for i in range(n_comp)]\n",
    "cv_svd.columns = ['svd_desc_'+str(i+1) for i in range(n_comp)]\n",
    "test_svd.columns = ['svd_desc_'+str(i+1) for i in range(n_comp)]"
   ]
  },
  {
   "cell_type": "code",
   "execution_count": 35,
   "metadata": {
    "_uuid": "c9746cda77fa809d04e022820b4ba6589982a6d0"
   },
   "outputs": [
    {
     "data": {
      "text/html": [
       "<div>\n",
       "<style scoped>\n",
       "    .dataframe tbody tr th:only-of-type {\n",
       "        vertical-align: middle;\n",
       "    }\n",
       "\n",
       "    .dataframe tbody tr th {\n",
       "        vertical-align: top;\n",
       "    }\n",
       "\n",
       "    .dataframe thead th {\n",
       "        text-align: right;\n",
       "    }\n",
       "</style>\n",
       "<table border=\"1\" class=\"dataframe\">\n",
       "  <thead>\n",
       "    <tr style=\"text-align: right;\">\n",
       "      <th></th>\n",
       "      <th>svd_desc_1</th>\n",
       "      <th>svd_desc_2</th>\n",
       "      <th>svd_desc_3</th>\n",
       "      <th>svd_desc_4</th>\n",
       "      <th>svd_desc_5</th>\n",
       "      <th>svd_desc_6</th>\n",
       "      <th>svd_desc_7</th>\n",
       "      <th>svd_desc_8</th>\n",
       "      <th>svd_desc_9</th>\n",
       "      <th>svd_desc_10</th>\n",
       "      <th>...</th>\n",
       "      <th>svd_desc_41</th>\n",
       "      <th>svd_desc_42</th>\n",
       "      <th>svd_desc_43</th>\n",
       "      <th>svd_desc_44</th>\n",
       "      <th>svd_desc_45</th>\n",
       "      <th>svd_desc_46</th>\n",
       "      <th>svd_desc_47</th>\n",
       "      <th>svd_desc_48</th>\n",
       "      <th>svd_desc_49</th>\n",
       "      <th>svd_desc_50</th>\n",
       "    </tr>\n",
       "  </thead>\n",
       "  <tbody>\n",
       "    <tr>\n",
       "      <th>0</th>\n",
       "      <td>0.303823</td>\n",
       "      <td>-0.066963</td>\n",
       "      <td>0.047881</td>\n",
       "      <td>0.028230</td>\n",
       "      <td>-0.048800</td>\n",
       "      <td>-0.105731</td>\n",
       "      <td>0.399573</td>\n",
       "      <td>0.045085</td>\n",
       "      <td>-0.024884</td>\n",
       "      <td>-0.009258</td>\n",
       "      <td>...</td>\n",
       "      <td>-0.089986</td>\n",
       "      <td>0.034925</td>\n",
       "      <td>-0.024495</td>\n",
       "      <td>-0.061932</td>\n",
       "      <td>-0.007293</td>\n",
       "      <td>0.026484</td>\n",
       "      <td>0.039704</td>\n",
       "      <td>-0.001880</td>\n",
       "      <td>-0.038657</td>\n",
       "      <td>0.094069</td>\n",
       "    </tr>\n",
       "    <tr>\n",
       "      <th>1</th>\n",
       "      <td>0.602175</td>\n",
       "      <td>-0.015419</td>\n",
       "      <td>-0.003409</td>\n",
       "      <td>0.014688</td>\n",
       "      <td>-0.141949</td>\n",
       "      <td>-0.247761</td>\n",
       "      <td>0.095429</td>\n",
       "      <td>0.135765</td>\n",
       "      <td>-0.119683</td>\n",
       "      <td>0.002937</td>\n",
       "      <td>...</td>\n",
       "      <td>-0.099661</td>\n",
       "      <td>-0.061025</td>\n",
       "      <td>0.108056</td>\n",
       "      <td>0.050797</td>\n",
       "      <td>0.010312</td>\n",
       "      <td>-0.009536</td>\n",
       "      <td>0.049105</td>\n",
       "      <td>-0.029811</td>\n",
       "      <td>-0.087806</td>\n",
       "      <td>0.093894</td>\n",
       "    </tr>\n",
       "  </tbody>\n",
       "</table>\n",
       "<p>2 rows × 50 columns</p>\n",
       "</div>"
      ],
      "text/plain": [
       "   svd_desc_1  svd_desc_2  svd_desc_3  svd_desc_4  svd_desc_5  svd_desc_6  \\\n",
       "0    0.303823   -0.066963    0.047881    0.028230   -0.048800   -0.105731   \n",
       "1    0.602175   -0.015419   -0.003409    0.014688   -0.141949   -0.247761   \n",
       "\n",
       "   svd_desc_7  svd_desc_8  svd_desc_9  svd_desc_10     ...       svd_desc_41  \\\n",
       "0    0.399573    0.045085   -0.024884    -0.009258     ...         -0.089986   \n",
       "1    0.095429    0.135765   -0.119683     0.002937     ...         -0.099661   \n",
       "\n",
       "   svd_desc_42  svd_desc_43  svd_desc_44  svd_desc_45  svd_desc_46  \\\n",
       "0     0.034925    -0.024495    -0.061932    -0.007293     0.026484   \n",
       "1    -0.061025     0.108056     0.050797     0.010312    -0.009536   \n",
       "\n",
       "   svd_desc_47  svd_desc_48  svd_desc_49  svd_desc_50  \n",
       "0     0.039704    -0.001880    -0.038657     0.094069  \n",
       "1     0.049105    -0.029811    -0.087806     0.093894  \n",
       "\n",
       "[2 rows x 50 columns]"
      ]
     },
     "execution_count": 35,
     "metadata": {},
     "output_type": "execute_result"
    }
   ],
   "source": [
    "train_svd.head(2)"
   ]
  },
  {
   "cell_type": "code",
   "execution_count": 36,
   "metadata": {
    "_uuid": "5d8a4ebaef31eb7d71f66c1e0717f5847660dce2"
   },
   "outputs": [
    {
     "data": {
      "image/png": "[encoded data removed]",
      "text/plain": [
       "<Figure size 432x288 with 1 Axes>"
      ]
     },
     "metadata": {},
     "output_type": "display_data"
    }
   ],
   "source": [
    "# SVD Varience explained\n",
    "cum_var_explained = np.cumsum(svd_obj.explained_variance_ratio_)\n",
    "\n",
    "# Plot the SVD spectrum\n",
    "plt.figure(1, figsize=(6, 4))\n",
    "plt.clf()\n",
    "plt.plot(cum_var_explained, linewidth=2)\n",
    "plt.axis('tight')\n",
    "plt.grid()\n",
    "plt.xlabel('n_components')\n",
    "plt.title(\"varienced explain by 50 component of SVD\")\n",
    "plt.ylabel('Cumulative_explained_variance')\n",
    "plt.show()"
   ]
  },
  {
   "cell_type": "markdown",
   "metadata": {
    "_uuid": "31e49c2571e95e8628db11f5a1e0b7f6a826fcad"
   },
   "source": [
    "**Observation**\n",
    "\n",
    "We can see that with 50 compenents of SVD we are getting around 35% of variance of BOW data"
   ]
  },
  {
   "cell_type": "markdown",
   "metadata": {
    "_uuid": "9e556a9022a37ce2c1660069b7ab49d97d797555"
   },
   "source": [
    "**Training KNN Brute using BOW SVD**"
   ]
  },
  {
   "cell_type": "code",
   "execution_count": 35,
   "metadata": {
    "_uuid": "51105a18cf738e7a35b4e204bb42672969291a0a",
    "scrolled": true
   },
   "outputs": [
    {
     "name": "stderr",
     "output_type": "stream",
     "text": [
      "  7%|▋         | 1/14 [00:02<00:31,  2.46s/it]"
     ]
    },
    {
     "name": "stdout",
     "output_type": "stream",
     "text": [
      " Alpha value:  1  AUC:  0.6070499999999999  Acc:  60.705  auc_train  0.9999833333333333\n"
     ]
    },
    {
     "name": "stderr",
     "output_type": "stream",
     "text": [
      "\r",
      " 14%|█▍        | 2/14 [00:08<00:42,  3.53s/it]"
     ]
    },
    {
     "name": "stdout",
     "output_type": "stream",
     "text": [
      " Alpha value:  3  AUC:  0.6375  Acc:  63.74999999999999  auc_train  0.8155499999999999\n"
     ]
    },
    {
     "name": "stderr",
     "output_type": "stream",
     "text": [
      "\r",
      " 21%|██▏       | 3/14 [00:15<00:51,  4.67s/it]"
     ]
    },
    {
     "name": "stdout",
     "output_type": "stream",
     "text": [
      " Alpha value:  5  AUC:  0.6528999999999999  Acc:  65.29  auc_train  0.7733333333333332\n",
      " Alpha value:  7  AUC:  0.6593499999999999  Acc:  65.935  auc_train  0.7538333333333334\n"
     ]
    },
    {
     "name": "stderr",
     "output_type": "stream",
     "text": [
      " 36%|███▌      | 5/14 [00:33<01:00,  6.72s/it]"
     ]
    },
    {
     "name": "stdout",
     "output_type": "stream",
     "text": [
      " Alpha value:  9  AUC:  0.6648000000000001  Acc:  66.47999999999999  auc_train  0.7414166666666666\n"
     ]
    },
    {
     "name": "stderr",
     "output_type": "stream",
     "text": [
      "\r",
      " 43%|████▎     | 6/14 [00:42<01:00,  7.60s/it]"
     ]
    },
    {
     "name": "stdout",
     "output_type": "stream",
     "text": [
      " Alpha value:  11  AUC:  0.66445  Acc:  66.445  auc_train  0.7349166666666666\n"
     ]
    },
    {
     "name": "stderr",
     "output_type": "stream",
     "text": [
      "\r",
      " 50%|█████     | 7/14 [00:52<00:58,  8.36s/it]"
     ]
    },
    {
     "name": "stdout",
     "output_type": "stream",
     "text": [
      " Alpha value:  13  AUC:  0.6695000000000001  Acc:  66.95  auc_train  0.72815\n",
      " Alpha value:  15  AUC:  0.67165  Acc:  67.16499999999999  auc_train  0.7253999999999998\n"
     ]
    },
    {
     "name": "stderr",
     "output_type": "stream",
     "text": [
      " 64%|██████▍   | 9/14 [01:14<00:48,  9.71s/it]"
     ]
    },
    {
     "name": "stdout",
     "output_type": "stream",
     "text": [
      " Alpha value:  17  AUC:  0.6731499999999999  Acc:  67.315  auc_train  0.7202666666666666\n",
      " Alpha value:  21  AUC:  0.67155  Acc:  67.155  auc_train  0.7146666666666667\n"
     ]
    },
    {
     "name": "stderr",
     "output_type": "stream",
     "text": [
      " 79%|███████▊  | 11/14 [01:41<00:34, 11.56s/it]"
     ]
    },
    {
     "name": "stdout",
     "output_type": "stream",
     "text": [
      " Alpha value:  33  AUC:  0.6753  Acc:  67.53  auc_train  0.7048499999999999\n"
     ]
    },
    {
     "name": "stderr",
     "output_type": "stream",
     "text": [
      "\r",
      " 86%|████████▌ | 12/14 [01:55<00:24, 12.46s/it]"
     ]
    },
    {
     "name": "stdout",
     "output_type": "stream",
     "text": [
      " Alpha value:  35  AUC:  0.67485  Acc:  67.485  auc_train  0.7035333333333333\n"
     ]
    },
    {
     "name": "stderr",
     "output_type": "stream",
     "text": [
      "\r",
      " 93%|█████████▎| 13/14 [02:10<00:13, 13.33s/it]"
     ]
    },
    {
     "name": "stdout",
     "output_type": "stream",
     "text": [
      " Alpha value:  41  AUC:  0.6759  Acc:  67.58999999999999  auc_train  0.7006333333333334\n"
     ]
    },
    {
     "name": "stderr",
     "output_type": "stream",
     "text": [
      "\r",
      "100%|██████████| 14/14 [02:27<00:00, 14.35s/it]"
     ]
    },
    {
     "name": "stdout",
     "output_type": "stream",
     "text": [
      " Alpha value:  51  AUC:  0.67465  Acc:  67.465  auc_train  0.6965333333333332\n"
     ]
    },
    {
     "name": "stderr",
     "output_type": "stream",
     "text": [
      "\n"
     ]
    }
   ],
   "source": [
    "from sklearn.neighbors import KNeighborsClassifier\n",
    "from sklearn.metrics import accuracy_score\n",
    "from sklearn.metrics import roc_auc_score\n",
    "#Simple Cross Validation\n",
    "n_neighbors=[1,3,5,7,9,11,13,15,17,21,33,35,41,51]\n",
    "returned_pram=dict()\n",
    "returned_pram_train=dict()\n",
    "for i in tqdm(n_neighbors):\n",
    "    # instantiate learning model (k = 30)\n",
    "    knn = KNeighborsClassifier(n_neighbors=i,n_jobs=-1)\n",
    "\n",
    "    # fitting the model on crossvalidation train\n",
    "    knn.fit(train_svd, train_traget)\n",
    "\n",
    "    # predict the response on the crossvalidation train\n",
    "    pred_cv = knn.predict(cv_svd)\n",
    "\n",
    "    # evaluate CV accuracy\n",
    "    acc_cv = accuracy_score(cv_target, pred_cv, normalize=True) * float(100)\n",
    "    auc_cv=roc_auc_score(cv_target, pred_cv)\n",
    "    auc_train=roc_auc_score(train_traget, knn.predict(train_svd))\n",
    "    print(\" Alpha value: \",i,\" AUC: \",auc_cv,\" Acc: \",acc_cv,\" auc_train \",auc_train)\n",
    "    returned_pram.update({i:auc_cv})\n",
    "    returned_pram_train.update({i:auc_train})\n",
    "    gc.collect()\n",
    "    "
   ]
  },
  {
   "cell_type": "code",
   "execution_count": 36,
   "metadata": {
    "_uuid": "ab82cf0c5a7d3e6e3fea950e93217973ecc2c764"
   },
   "outputs": [],
   "source": [
    "# Method to plot train and CV Error\n",
    "def plot_train_cv_error(test_map,train_map,title,alpha):\n",
    "    plt.plot(list(test_map.keys()), test_map.values(),label='CV_AUC')\n",
    "    plt.plot(list(train_map.keys()), train_map.values(),label='Train_AUC')\n",
    "#     plt.semilogx(alpha, train_map.values(), label='Train_AUC')\n",
    "#     plt.semilogx(alpha, test_map.values(), label='CV_AUC')\n",
    "    plt.xlabel('k value')\n",
    "    plt.ylabel('AUC')\n",
    "    plt.title(title)\n",
    "    plt.legend()\n",
    "    plt.xticks(n_neighbors)\n",
    "    plt.grid()\n",
    "    return plt"
   ]
  },
  {
   "cell_type": "code",
   "execution_count": 37,
   "metadata": {
    "_uuid": "bed2e6d1ee06b518adb1498d3c8ff2d750d1b4dd"
   },
   "outputs": [
    {
     "data": {
      "image/png": "[encoded data removed]",
      "text/plain": [
       "<Figure size 432x288 with 1 Axes>"
      ]
     },
     "metadata": {},
     "output_type": "display_data"
    }
   ],
   "source": [
    "# plot misclassification error vs k \n",
    "plot_train_cv_error(returned_pram,returned_pram_train,'BOW AUC vs n_neighbors',n_neighbors)\n",
    "plt.show()"
   ]
  },
  {
   "cell_type": "markdown",
   "metadata": {
    "_uuid": "829ae013d5c5bd11c83338c54be2f14d68d17a98"
   },
   "source": [
    "**Observation**\n",
    "\n",
    "We can see that when k was small i.e 1 model was overfitting; training AUC was 100% but test AUC was lower around 61%. As we increased the k value model started converging to optimal value of k=41 with train auc 70% and cv auc 68%. We can see that the train and test difference is very less so model is well fitting on current feature. If we want to increased accuracy further we need to add other important features."
   ]
  },
  {
   "cell_type": "code",
   "execution_count": 38,
   "metadata": {
    "_uuid": "608c58897c8a1d2f44dbfc6581e08736b6e0685b"
   },
   "outputs": [
    {
     "data": {
      "text/plain": [
       "KNeighborsClassifier(algorithm='auto', leaf_size=30, metric='minkowski',\n",
       "           metric_params=None, n_jobs=-1, n_neighbors=41, p=2,\n",
       "           weights='uniform')"
      ]
     },
     "execution_count": 38,
     "metadata": {},
     "output_type": "execute_result"
    }
   ],
   "source": [
    "#Fitting usig best k\n",
    "best_k=41\n",
    "knn = KNeighborsClassifier(n_neighbors=best_k,n_jobs=-1)\n",
    "knn.fit(train_svd, train_traget)"
   ]
  },
  {
   "cell_type": "code",
   "execution_count": 39,
   "metadata": {
    "_uuid": "f8f568224c9f965cc22c48278f359b1cf2467543"
   },
   "outputs": [],
   "source": [
    "# ROC AUC Curve\n",
    "y_true_train = train_traget\n",
    "y_probas_train = knn.predict_proba(train_svd)\n",
    "y_true_test = test_target\n",
    "y_probas_test = knn.predict_proba(test_svd)"
   ]
  },
  {
   "cell_type": "code",
   "execution_count": 40,
   "metadata": {
    "_uuid": "ac89ec2893b81f589e6b4f024a962492c5fc0bed"
   },
   "outputs": [],
   "source": [
    "def plot_train_test_ROC(y_true_train,y_probas_train,y_true_test,y_probas_test):\n",
    "    fpr1, tpr1, _ = metrics.roc_curve(y_true_train,  y_probas_train[:,1])\n",
    "    auc1 = metrics.roc_auc_score(y_true_train, y_probas_train[:,1])\n",
    "    plt.plot(fpr1,tpr1,label=\"Train AUC, auc=\"+str(auc1))\n",
    "    fpr2, tpr2, _ = metrics.roc_curve(y_true_test,  y_probas_test[:,1])\n",
    "    auc2 = metrics.roc_auc_score(y_true_test, y_probas_test[:,1])\n",
    "    plt.plot(fpr2,tpr2,label=\"Test, auc=\"+str(auc2))\n",
    "    plt.legend(loc=4)\n",
    "    plt.title(\"Train and Test AUC\")\n",
    "    plt.grid()\n",
    "    plt.xlabel('False Positive rate')\n",
    "    plt.ylabel('True positive rate')\n",
    "    return plt"
   ]
  },
  {
   "cell_type": "code",
   "execution_count": 41,
   "metadata": {
    "_uuid": "4a73f05e2bf492b112b3b5b570c8b792ce1dd9ca"
   },
   "outputs": [
    {
     "data": {
      "image/png": "[encoded data removed]",
      "text/plain": [
       "<Figure size 432x288 with 1 Axes>"
      ]
     },
     "metadata": {},
     "output_type": "display_data"
    }
   ],
   "source": [
    "plot_train_test_ROC(y_true_train,y_probas_train,y_true_test,y_probas_test)\n",
    "plt.show()"
   ]
  },
  {
   "cell_type": "markdown",
   "metadata": {
    "_uuid": "03c103e7bdb5cd266b8c3c1510eee934010629f9"
   },
   "source": [
    "**Observation**\n",
    "\n",
    "We can see that the train and test auc is almost same, so model is well fitting on current feature. If we want to increase the accuracy further we need to add some new features."
   ]
  },
  {
   "cell_type": "code",
   "execution_count": 42,
   "metadata": {
    "_uuid": "a2012dd1e886012b51358fc4a8d37eeb7692ed31"
   },
   "outputs": [],
   "source": [
    "# Plotting Confusion matrix on test data\n",
    "import seaborn as sn\n",
    "from sklearn.metrics import confusion_matrix\n",
    "confm = confusion_matrix(y_true_test, knn.predict(test_svd))"
   ]
  },
  {
   "cell_type": "code",
   "execution_count": 43,
   "metadata": {
    "_uuid": "2ec800fd01b93d66ab9aea12f507aa02da192337"
   },
   "outputs": [
    {
     "data": {
      "text/plain": [
       "[Text(0,0.5,'0'), Text(0,1.5,'1')]"
      ]
     },
     "execution_count": 43,
     "metadata": {},
     "output_type": "execute_result"
    },
    {
     "data": {
      "image/png": "[encoded data removed]",
      "text/plain": [
       "<Figure size 432x288 with 2 Axes>"
      ]
     },
     "metadata": {},
     "output_type": "display_data"
    }
   ],
   "source": [
    "ax= plt.subplot()\n",
    "sns.heatmap(confm, annot=True, ax = ax,annot_kws={\"size\": 16},fmt=\"d\"); #annot=True to annotate cells\n",
    "\n",
    "# labels, title and ticks\n",
    "ax.set_xlabel('Predicted labels');ax.set_ylabel('True labels'); \n",
    "ax.set_title('Confusion Matrix of Test data'); \n",
    "ax.xaxis.set_ticklabels(['0', '1']); ax.yaxis.set_ticklabels(['0', '1'])"
   ]
  },
  {
   "cell_type": "markdown",
   "metadata": {
    "_uuid": "367fc53d7a7645475212e155fc2b80dba90222bf"
   },
   "source": [
    "**Observation**\n",
    "\n",
    "Here we have more no of elements at diagonal than off diagonal i.e more value of TP and TN compare to FP and FN, so model is working file with the current features. If we want to increase TP and TN further we need to do feature engineering."
   ]
  },
  {
   "cell_type": "markdown",
   "metadata": {
    "_uuid": "a900b51f5ebc53738fcdeaa10988ff1d824e80db"
   },
   "source": [
    "# 4. KNN with KDTree using BOW  set 2"
   ]
  },
  {
   "cell_type": "code",
   "execution_count": 44,
   "metadata": {
    "_uuid": "cc3b541aa9c631f5b4e4b8e9f4f5e2f6e6188aee"
   },
   "outputs": [
    {
     "name": "stderr",
     "output_type": "stream",
     "text": [
      "  8%|▊         | 1/13 [00:01<00:18,  1.51s/it]"
     ]
    },
    {
     "name": "stdout",
     "output_type": "stream",
     "text": [
      " Alpha value:  1  AUC:  0.6070499999999999  Acc:  60.705  auc_train  0.9999833333333333\n"
     ]
    },
    {
     "name": "stderr",
     "output_type": "stream",
     "text": [
      "\r",
      " 15%|█▌        | 2/13 [00:07<00:30,  2.75s/it]"
     ]
    },
    {
     "name": "stdout",
     "output_type": "stream",
     "text": [
      " Alpha value:  3  AUC:  0.6375  Acc:  63.74999999999999  auc_train  0.8155499999999999\n",
      " Alpha value:  5  AUC:  0.6528999999999999  Acc:  65.29  auc_train  0.7733333333333332\n"
     ]
    },
    {
     "name": "stderr",
     "output_type": "stream",
     "text": [
      " 31%|███       | 4/13 [00:21<00:46,  5.17s/it]"
     ]
    },
    {
     "name": "stdout",
     "output_type": "stream",
     "text": [
      " Alpha value:  7  AUC:  0.6593499999999999  Acc:  65.935  auc_train  0.7538333333333334\n",
      " Alpha value:  9  AUC:  0.6648000000000001  Acc:  66.47999999999999  auc_train  0.7414166666666666\n"
     ]
    },
    {
     "name": "stderr",
     "output_type": "stream",
     "text": [
      " 46%|████▌     | 6/13 [00:40<00:50,  7.20s/it]"
     ]
    },
    {
     "name": "stdout",
     "output_type": "stream",
     "text": [
      " Alpha value:  11  AUC:  0.66445  Acc:  66.445  auc_train  0.7349166666666666\n"
     ]
    },
    {
     "name": "stderr",
     "output_type": "stream",
     "text": [
      "\r",
      " 54%|█████▍    | 7/13 [00:50<00:48,  8.06s/it]"
     ]
    },
    {
     "name": "stdout",
     "output_type": "stream",
     "text": [
      " Alpha value:  13  AUC:  0.6695000000000001  Acc:  66.95  auc_train  0.72815\n",
      " Alpha value:  15  AUC:  0.67165  Acc:  67.16499999999999  auc_train  0.7253999999999998\n"
     ]
    },
    {
     "name": "stderr",
     "output_type": "stream",
     "text": [
      " 69%|██████▉   | 9/13 [01:11<00:37,  9.43s/it]"
     ]
    },
    {
     "name": "stdout",
     "output_type": "stream",
     "text": [
      " Alpha value:  17  AUC:  0.6731499999999999  Acc:  67.315  auc_train  0.7202666666666666\n",
      " Alpha value:  21  AUC:  0.67155  Acc:  67.155  auc_train  0.7146666666666667\n"
     ]
    },
    {
     "name": "stderr",
     "output_type": "stream",
     "text": [
      "\r",
      " 77%|███████▋  | 10/13 [01:23<00:30, 10.20s/it]"
     ]
    },
    {
     "name": "stdout",
     "output_type": "stream",
     "text": [
      " Alpha value:  33  AUC:  0.6753  Acc:  67.53  auc_train  0.7048499999999999\n"
     ]
    },
    {
     "name": "stderr",
     "output_type": "stream",
     "text": [
      "\r",
      " 85%|████████▍ | 11/13 [01:37<00:22, 11.29s/it]"
     ]
    },
    {
     "name": "stdout",
     "output_type": "stream",
     "text": [
      " Alpha value:  35  AUC:  0.67485  Acc:  67.485  auc_train  0.7035333333333333\n"
     ]
    },
    {
     "name": "stderr",
     "output_type": "stream",
     "text": [
      "100%|██████████| 13/13 [02:06<00:00, 13.03s/it]"
     ]
    },
    {
     "name": "stdout",
     "output_type": "stream",
     "text": [
      " Alpha value:  41  AUC:  0.6759  Acc:  67.58999999999999  auc_train  0.7006333333333334\n"
     ]
    },
    {
     "name": "stderr",
     "output_type": "stream",
     "text": [
      "\n"
     ]
    }
   ],
   "source": [
    "from sklearn.neighbors import KNeighborsClassifier\n",
    "from sklearn.metrics import accuracy_score\n",
    "from sklearn.metrics import roc_auc_score\n",
    "#Simple Cross Validation\n",
    "n_neighbors=[1,3,5,7,9,11,13,15,17,21,33,35,41]\n",
    "returned_pram=dict()\n",
    "returned_pram_train=dict()\n",
    "for i in tqdm(n_neighbors):\n",
    "    # instantiate learning model (k = 30)\n",
    "    knn = KNeighborsClassifier(n_neighbors=i,algorithm='kd_tree',n_jobs=-1)\n",
    "\n",
    "    # fitting the model on crossvalidation train\n",
    "    knn.fit(train_svd, train_traget)\n",
    "\n",
    "    # predict the response on the crossvalidation train\n",
    "    pred_cv = knn.predict(cv_svd)\n",
    "\n",
    "    # evaluate CV accuracy\n",
    "    acc_cv = accuracy_score(cv_target, pred_cv, normalize=True) * float(100)\n",
    "    auc_cv=roc_auc_score(cv_target, pred_cv)\n",
    "    auc_train=roc_auc_score(train_traget, knn.predict(train_svd))\n",
    "    print(\" Alpha value: \",i,\" AUC: \",auc_cv,\" Acc: \",acc_cv,\" auc_train \",auc_train)\n",
    "    returned_pram.update({i:auc_cv})\n",
    "    returned_pram_train.update({i:auc_train})\n",
    "    gc.collect()\n",
    "    "
   ]
  },
  {
   "cell_type": "code",
   "execution_count": 45,
   "metadata": {
    "_uuid": "f67dd115b27675a08fd364434538d6eea6a58bb6"
   },
   "outputs": [],
   "source": [
    "# Method to plot train and CV Error\n",
    "def plot_train_cv_error(test_map,train_map,title,alpha):\n",
    "    plt.plot(list(test_map.keys()), test_map.values(),label='CV_AUC')\n",
    "    plt.plot(list(train_map.keys()), train_map.values(),label='Train_AUC')\n",
    "#     plt.semilogx(alpha, train_map.values(), label='Train_AUC')\n",
    "#     plt.semilogx(alpha, test_map.values(), label='CV_AUC')\n",
    "    plt.xlabel('k value')\n",
    "    plt.ylabel('AUC')\n",
    "    plt.title(title)\n",
    "    plt.legend()\n",
    "    plt.xticks(n_neighbors)\n",
    "    plt.grid()\n",
    "    return plt"
   ]
  },
  {
   "cell_type": "code",
   "execution_count": 46,
   "metadata": {
    "_uuid": "68eed7eec89106a2847de571b914e7e209686a97"
   },
   "outputs": [
    {
     "data": {
      "image/png": "[encoded data removed]",
      "text/plain": [
       "<Figure size 432x288 with 1 Axes>"
      ]
     },
     "metadata": {},
     "output_type": "display_data"
    }
   ],
   "source": [
    "# plot misclassification error vs k \n",
    "plot_train_cv_error(returned_pram,returned_pram_train,'BOW AUC vs n_neighbors',n_neighbors)\n",
    "plt.show()"
   ]
  },
  {
   "cell_type": "markdown",
   "metadata": {
    "_uuid": "50260a39b95c66bb52edf4c08d82ae54ca2af2d3"
   },
   "source": [
    "**Observation**\n",
    "\n",
    "We can see that when k was small i.e 1 model was overfitting; training AUC was 100% but CV AUC was lower around 61%. As we increased the k value model started converging to optimal value of k=41 with train auc 70% and cv auc 68%. We can see that the train and test difference is very less so model is well fitting on current feature. If we want to increased accuracy further we need to add other important features or can do the feature engineering."
   ]
  },
  {
   "cell_type": "code",
   "execution_count": 47,
   "metadata": {
    "_uuid": "6a6ef12ece77cb6256391fc977734c1f94f5159d"
   },
   "outputs": [
    {
     "data": {
      "text/plain": [
       "KNeighborsClassifier(algorithm='kd_tree', leaf_size=30, metric='minkowski',\n",
       "           metric_params=None, n_jobs=-1, n_neighbors=41, p=2,\n",
       "           weights='uniform')"
      ]
     },
     "execution_count": 47,
     "metadata": {},
     "output_type": "execute_result"
    }
   ],
   "source": [
    "#Fitting usig best k\n",
    "best_k=41\n",
    "knn = KNeighborsClassifier(n_neighbors=best_k,algorithm='kd_tree',n_jobs=-1)\n",
    "knn.fit(train_svd, train_traget)"
   ]
  },
  {
   "cell_type": "code",
   "execution_count": 48,
   "metadata": {
    "_uuid": "44737a6e447ff924aa6c75ddb4f8cf2a51b1dc3a"
   },
   "outputs": [],
   "source": [
    "# ROC AUC Curve\n",
    "y_true_train = train_traget\n",
    "y_probas_train = knn.predict_proba(train_svd)\n",
    "y_true_test = test_target\n",
    "y_probas_test = knn.predict_proba(test_svd)"
   ]
  },
  {
   "cell_type": "code",
   "execution_count": 49,
   "metadata": {
    "_uuid": "7be7acd84aaab9c97bf28630ad26c2e83bb50b48"
   },
   "outputs": [],
   "source": [
    "def plot_train_test_ROC(y_true_train,y_probas_train,y_true_test,y_probas_test):\n",
    "    fpr1, tpr1, _ = metrics.roc_curve(y_true_train,  y_probas_train[:,1])\n",
    "    auc1 = metrics.roc_auc_score(y_true_train, y_probas_train[:,1])\n",
    "    plt.plot(fpr1,tpr1,label=\"Train AUC, auc=\"+str(auc1))\n",
    "    fpr2, tpr2, _ = metrics.roc_curve(y_true_test,  y_probas_test[:,1])\n",
    "    auc2 = metrics.roc_auc_score(y_true_test, y_probas_test[:,1])\n",
    "    plt.plot(fpr2,tpr2,label=\"Test, auc=\"+str(auc2))\n",
    "    plt.legend(loc=4)\n",
    "    plt.title(\"Train and Test AUC\")\n",
    "    plt.grid()\n",
    "    plt.xlabel('False Positive rate')\n",
    "    plt.ylabel('True positive rate')\n",
    "    return plt"
   ]
  },
  {
   "cell_type": "code",
   "execution_count": 50,
   "metadata": {
    "_uuid": "4abe2757868a7355c016dc482bfdbfd2aea25dae"
   },
   "outputs": [
    {
     "data": {
      "image/png": "[encoded data removed]",
      "text/plain": [
       "<Figure size 432x288 with 1 Axes>"
      ]
     },
     "metadata": {},
     "output_type": "display_data"
    }
   ],
   "source": [
    "plot_train_test_ROC(y_true_train,y_probas_train,y_true_test,y_probas_test)\n",
    "plt.show()"
   ]
  },
  {
   "cell_type": "markdown",
   "metadata": {
    "_uuid": "cbecd4161137111d12486e9ac357929777aa32db"
   },
   "source": [
    "**Observation**\n",
    "\n",
    "We can see that the train and test auc is almost same, so model is well fitting on current feature. If we want to increase the accuracy further we need to add some new features."
   ]
  },
  {
   "cell_type": "code",
   "execution_count": 51,
   "metadata": {
    "_uuid": "814ae7011afcabe8ab72e472bb2161e328dca147"
   },
   "outputs": [],
   "source": [
    "# Plotting Confusion matrix on test data\n",
    "import seaborn as sn\n",
    "from sklearn.metrics import confusion_matrix\n",
    "confm = confusion_matrix(y_true_test, knn.predict(test_svd))"
   ]
  },
  {
   "cell_type": "code",
   "execution_count": 52,
   "metadata": {
    "_uuid": "71e8624c8559abc9ac15da8385ff919aa874b852"
   },
   "outputs": [
    {
     "data": {
      "text/plain": [
       "[Text(0,0.5,'0'), Text(0,1.5,'1')]"
      ]
     },
     "execution_count": 52,
     "metadata": {},
     "output_type": "execute_result"
    },
    {
     "data": {
      "image/png": "[encoded data removed]",
      "text/plain": [
       "<Figure size 432x288 with 2 Axes>"
      ]
     },
     "metadata": {},
     "output_type": "display_data"
    }
   ],
   "source": [
    "ax= plt.subplot()\n",
    "sns.heatmap(confm, annot=True, ax = ax,annot_kws={\"size\": 16},fmt=\"d\"); #annot=True to annotate cells\n",
    "\n",
    "# labels, title and ticks\n",
    "ax.set_xlabel('Predicted labels');ax.set_ylabel('True labels'); \n",
    "ax.set_title('Confusion Matrix of Test data'); \n",
    "ax.xaxis.set_ticklabels(['0', '1']); ax.yaxis.set_ticklabels(['0', '1'])"
   ]
  },
  {
   "cell_type": "markdown",
   "metadata": {
    "_uuid": "d8dd5cbbae46999394c307dca139d8da30e097c1"
   },
   "source": [
    "**Observation**\n",
    "\n",
    "Here we have more no of elements at diagonal than off diagonal i.e more value of TP and TN compare to FP and FN, so model is working file with the current features. If we want to increase TP and TN further we need to do feature engineering."
   ]
  },
  {
   "cell_type": "markdown",
   "metadata": {
    "_uuid": "05f4acb84e18c2e77dbcc4603be31d3b0698fcad"
   },
   "source": [
    "# 5. Applying KNN brute force on TFIDF, SET 3"
   ]
  },
  {
   "cell_type": "code",
   "execution_count": 37,
   "metadata": {
    "_uuid": "802821b2a9566e9ef87163b68de2e9ebf5ff47d3"
   },
   "outputs": [
    {
     "data": {
      "text/plain": [
       "2279"
      ]
     },
     "execution_count": 37,
     "metadata": {},
     "output_type": "execute_result"
    }
   ],
   "source": [
    "from sklearn.feature_extraction.text import TfidfTransformer\n",
    "from sklearn.feature_extraction.text import TfidfVectorizer\n",
    "tf_idf_vect = TfidfVectorizer(ngram_range=(2,3),min_df=10,max_features=10000)\n",
    "training_counts = tf_idf_vect.fit_transform(train_data['CleanedText'])\n",
    "cv_counts = tf_idf_vect.transform(cv_data['CleanedText'])\n",
    "test_counts = tf_idf_vect.transform(test_data['CleanedText'])\n",
    "gc.collect()"
   ]
  },
  {
   "cell_type": "code",
   "execution_count": 38,
   "metadata": {
    "_uuid": "a54eb427ab724fd41808f295ebb890b35c2da470"
   },
   "outputs": [
    {
     "name": "stdout",
     "output_type": "stream",
     "text": [
      " training_counts  (60000, 50) cv_counts  (20000, 50) test_counts (20000, 50)\n"
     ]
    }
   ],
   "source": [
    "from sklearn.decomposition import TruncatedSVD\n",
    "svd_obj = TruncatedSVD(n_components=50, algorithm='arpack')\n",
    "svd_obj.fit(training_counts.asfptype())\n",
    "train_svd = pd.DataFrame(svd_obj.transform(training_counts.asfptype()))\n",
    "cv_svd = pd.DataFrame(svd_obj.transform(cv_counts.asfptype()))\n",
    "test_svd = pd.DataFrame(svd_obj.transform(test_counts.asfptype()))\n",
    "print(\" training_counts \",train_svd.shape,\"cv_counts \",cv_svd.shape,\"test_counts\",test_svd.shape)"
   ]
  },
  {
   "cell_type": "code",
   "execution_count": 39,
   "metadata": {
    "_uuid": "4892b11fa8315a4e9a004415647216034053b075"
   },
   "outputs": [],
   "source": [
    "n_comp=50\n",
    "train_svd.columns = ['svd_desc_'+str(i+1) for i in range(n_comp)]\n",
    "cv_svd.columns = ['svd_desc_'+str(i+1) for i in range(n_comp)]\n",
    "test_svd.columns = ['svd_desc_'+str(i+1) for i in range(n_comp)]"
   ]
  },
  {
   "cell_type": "code",
   "execution_count": 40,
   "metadata": {
    "_uuid": "ac2894fb81fe34dcf0c216ed0f1b92039c66c7b3"
   },
   "outputs": [
    {
     "data": {
      "text/html": [
       "<div>\n",
       "<style scoped>\n",
       "    .dataframe tbody tr th:only-of-type {\n",
       "        vertical-align: middle;\n",
       "    }\n",
       "\n",
       "    .dataframe tbody tr th {\n",
       "        vertical-align: top;\n",
       "    }\n",
       "\n",
       "    .dataframe thead th {\n",
       "        text-align: right;\n",
       "    }\n",
       "</style>\n",
       "<table border=\"1\" class=\"dataframe\">\n",
       "  <thead>\n",
       "    <tr style=\"text-align: right;\">\n",
       "      <th></th>\n",
       "      <th>svd_desc_1</th>\n",
       "      <th>svd_desc_2</th>\n",
       "      <th>svd_desc_3</th>\n",
       "      <th>svd_desc_4</th>\n",
       "      <th>svd_desc_5</th>\n",
       "      <th>svd_desc_6</th>\n",
       "      <th>svd_desc_7</th>\n",
       "      <th>svd_desc_8</th>\n",
       "      <th>svd_desc_9</th>\n",
       "      <th>svd_desc_10</th>\n",
       "      <th>...</th>\n",
       "      <th>svd_desc_41</th>\n",
       "      <th>svd_desc_42</th>\n",
       "      <th>svd_desc_43</th>\n",
       "      <th>svd_desc_44</th>\n",
       "      <th>svd_desc_45</th>\n",
       "      <th>svd_desc_46</th>\n",
       "      <th>svd_desc_47</th>\n",
       "      <th>svd_desc_48</th>\n",
       "      <th>svd_desc_49</th>\n",
       "      <th>svd_desc_50</th>\n",
       "    </tr>\n",
       "  </thead>\n",
       "  <tbody>\n",
       "    <tr>\n",
       "      <th>59997</th>\n",
       "      <td>0.058119</td>\n",
       "      <td>-0.056063</td>\n",
       "      <td>0.107570</td>\n",
       "      <td>0.001206</td>\n",
       "      <td>-0.000504</td>\n",
       "      <td>-0.023774</td>\n",
       "      <td>0.014335</td>\n",
       "      <td>0.006410</td>\n",
       "      <td>0.006833</td>\n",
       "      <td>-0.004048</td>\n",
       "      <td>...</td>\n",
       "      <td>0.036914</td>\n",
       "      <td>0.007319</td>\n",
       "      <td>-0.011433</td>\n",
       "      <td>0.032510</td>\n",
       "      <td>-0.007954</td>\n",
       "      <td>0.006396</td>\n",
       "      <td>-0.001821</td>\n",
       "      <td>0.008306</td>\n",
       "      <td>-0.003511</td>\n",
       "      <td>-0.007520</td>\n",
       "    </tr>\n",
       "    <tr>\n",
       "      <th>59998</th>\n",
       "      <td>0.059906</td>\n",
       "      <td>-0.091346</td>\n",
       "      <td>-0.103095</td>\n",
       "      <td>-0.106678</td>\n",
       "      <td>0.206479</td>\n",
       "      <td>-0.045480</td>\n",
       "      <td>-0.034667</td>\n",
       "      <td>-0.053261</td>\n",
       "      <td>0.069873</td>\n",
       "      <td>-0.000124</td>\n",
       "      <td>...</td>\n",
       "      <td>-0.012400</td>\n",
       "      <td>-0.006097</td>\n",
       "      <td>-0.000638</td>\n",
       "      <td>0.018046</td>\n",
       "      <td>0.015083</td>\n",
       "      <td>0.001680</td>\n",
       "      <td>0.006871</td>\n",
       "      <td>0.002572</td>\n",
       "      <td>-0.009614</td>\n",
       "      <td>-0.006511</td>\n",
       "    </tr>\n",
       "    <tr>\n",
       "      <th>59999</th>\n",
       "      <td>0.068214</td>\n",
       "      <td>-0.082765</td>\n",
       "      <td>-0.090727</td>\n",
       "      <td>-0.073319</td>\n",
       "      <td>0.182432</td>\n",
       "      <td>-0.037924</td>\n",
       "      <td>-0.032693</td>\n",
       "      <td>-0.048393</td>\n",
       "      <td>0.065685</td>\n",
       "      <td>-0.000219</td>\n",
       "      <td>...</td>\n",
       "      <td>-0.015353</td>\n",
       "      <td>-0.008562</td>\n",
       "      <td>-0.008760</td>\n",
       "      <td>0.007177</td>\n",
       "      <td>-0.001883</td>\n",
       "      <td>-0.012842</td>\n",
       "      <td>0.004128</td>\n",
       "      <td>0.007509</td>\n",
       "      <td>-0.008043</td>\n",
       "      <td>0.000007</td>\n",
       "    </tr>\n",
       "  </tbody>\n",
       "</table>\n",
       "<p>3 rows × 50 columns</p>\n",
       "</div>"
      ],
      "text/plain": [
       "       svd_desc_1  svd_desc_2  svd_desc_3  svd_desc_4  svd_desc_5  svd_desc_6  \\\n",
       "59997    0.058119   -0.056063    0.107570    0.001206   -0.000504   -0.023774   \n",
       "59998    0.059906   -0.091346   -0.103095   -0.106678    0.206479   -0.045480   \n",
       "59999    0.068214   -0.082765   -0.090727   -0.073319    0.182432   -0.037924   \n",
       "\n",
       "       svd_desc_7  svd_desc_8  svd_desc_9  svd_desc_10     ...       \\\n",
       "59997    0.014335    0.006410    0.006833    -0.004048     ...        \n",
       "59998   -0.034667   -0.053261    0.069873    -0.000124     ...        \n",
       "59999   -0.032693   -0.048393    0.065685    -0.000219     ...        \n",
       "\n",
       "       svd_desc_41  svd_desc_42  svd_desc_43  svd_desc_44  svd_desc_45  \\\n",
       "59997     0.036914     0.007319    -0.011433     0.032510    -0.007954   \n",
       "59998    -0.012400    -0.006097    -0.000638     0.018046     0.015083   \n",
       "59999    -0.015353    -0.008562    -0.008760     0.007177    -0.001883   \n",
       "\n",
       "       svd_desc_46  svd_desc_47  svd_desc_48  svd_desc_49  svd_desc_50  \n",
       "59997     0.006396    -0.001821     0.008306    -0.003511    -0.007520  \n",
       "59998     0.001680     0.006871     0.002572    -0.009614    -0.006511  \n",
       "59999    -0.012842     0.004128     0.007509    -0.008043     0.000007  \n",
       "\n",
       "[3 rows x 50 columns]"
      ]
     },
     "execution_count": 40,
     "metadata": {},
     "output_type": "execute_result"
    }
   ],
   "source": [
    "train_svd.tail(3)"
   ]
  },
  {
   "cell_type": "code",
   "execution_count": 41,
   "metadata": {
    "_uuid": "650c316791a106b9fd3fb2740e338462b04a51ef"
   },
   "outputs": [
    {
     "data": {
      "image/png": "[encoded data removed]",
      "text/plain": [
       "<Figure size 432x288 with 1 Axes>"
      ]
     },
     "metadata": {},
     "output_type": "display_data"
    }
   ],
   "source": [
    "# SVD Varience explained\n",
    "cum_var_explained = np.cumsum(svd_obj.explained_variance_ratio_)\n",
    "\n",
    "# Plot the SVD spectrum\n",
    "plt.figure(1, figsize=(6, 4))\n",
    "plt.clf()\n",
    "plt.plot(cum_var_explained, linewidth=2)\n",
    "plt.axis('tight')\n",
    "plt.grid()\n",
    "plt.xlabel('n_components')\n",
    "plt.title(\"varienced explain by 50 component of SVD\")\n",
    "plt.ylabel('Cumulative_explained_variance')\n",
    "plt.show()"
   ]
  },
  {
   "cell_type": "markdown",
   "metadata": {},
   "source": [
    "**Observation**\n",
    "\n",
    "We can see that with 50 compenents of SVD we are getting 50% of variance of TFIDF data"
   ]
  },
  {
   "cell_type": "markdown",
   "metadata": {
    "_uuid": "eb24afbe53b39b2a4e32f82fce087578f1799783"
   },
   "source": [
    "**Training KNN Brute using TFIDF**"
   ]
  },
  {
   "cell_type": "code",
   "execution_count": 58,
   "metadata": {
    "_uuid": "89b6bc217ec0d655d2c89577be3e44402ecd7e75"
   },
   "outputs": [
    {
     "name": "stderr",
     "output_type": "stream",
     "text": [
      "  7%|▋         | 1/14 [00:02<00:36,  2.82s/it]"
     ]
    },
    {
     "name": "stdout",
     "output_type": "stream",
     "text": [
      " Alpha value:  1  AUC:  0.7123499999999999  Acc:  71.235  auc_train  0.99395\n"
     ]
    },
    {
     "name": "stderr",
     "output_type": "stream",
     "text": [
      "\r",
      " 14%|█▍        | 2/14 [00:08<00:44,  3.69s/it]"
     ]
    },
    {
     "name": "stdout",
     "output_type": "stream",
     "text": [
      " Alpha value:  3  AUC:  0.7461499999999999  Acc:  74.615  auc_train  0.8565833333333334\n"
     ]
    },
    {
     "name": "stderr",
     "output_type": "stream",
     "text": [
      "\r",
      " 21%|██▏       | 3/14 [00:15<00:50,  4.60s/it]"
     ]
    },
    {
     "name": "stdout",
     "output_type": "stream",
     "text": [
      " Alpha value:  5  AUC:  0.75975  Acc:  75.97500000000001  auc_train  0.8296833333333333\n"
     ]
    },
    {
     "name": "stderr",
     "output_type": "stream",
     "text": [
      "\r",
      " 29%|██▊       | 4/14 [00:22<00:54,  5.45s/it]"
     ]
    },
    {
     "name": "stdout",
     "output_type": "stream",
     "text": [
      " Alpha value:  7  AUC:  0.7665500000000001  Acc:  76.655  auc_train  0.8165666666666668\n",
      " Alpha value:  9  AUC:  0.7689999999999999  Acc:  76.9  auc_train  0.8088\n"
     ]
    },
    {
     "name": "stderr",
     "output_type": "stream",
     "text": [
      "\r",
      " 36%|███▌      | 5/14 [00:30<00:55,  6.20s/it]"
     ]
    },
    {
     "name": "stdout",
     "output_type": "stream",
     "text": [
      " Alpha value:  11  AUC:  0.7721  Acc:  77.21000000000001  auc_train  0.8053666666666667\n"
     ]
    },
    {
     "name": "stderr",
     "output_type": "stream",
     "text": [
      " 50%|█████     | 7/14 [00:47<00:52,  7.45s/it]"
     ]
    },
    {
     "name": "stdout",
     "output_type": "stream",
     "text": [
      " Alpha value:  13  AUC:  0.77365  Acc:  77.365  auc_train  0.8017333333333333\n",
      " Alpha value:  15  AUC:  0.77565  Acc:  77.565  auc_train  0.7986166666666665\n"
     ]
    },
    {
     "name": "stderr",
     "output_type": "stream",
     "text": [
      " 64%|██████▍   | 9/14 [01:06<00:41,  8.37s/it]"
     ]
    },
    {
     "name": "stdout",
     "output_type": "stream",
     "text": [
      " Alpha value:  17  AUC:  0.7746000000000001  Acc:  77.46  auc_train  0.79675\n"
     ]
    },
    {
     "name": "stderr",
     "output_type": "stream",
     "text": [
      "\r",
      " 71%|███████▏  | 10/14 [01:16<00:35,  8.85s/it]"
     ]
    },
    {
     "name": "stdout",
     "output_type": "stream",
     "text": [
      " Alpha value:  21  AUC:  0.7763500000000001  Acc:  77.635  auc_train  0.79285\n"
     ]
    },
    {
     "name": "stderr",
     "output_type": "stream",
     "text": [
      "\r",
      " 79%|███████▊  | 11/14 [01:27<00:28,  9.59s/it]"
     ]
    },
    {
     "name": "stdout",
     "output_type": "stream",
     "text": [
      " Alpha value:  33  AUC:  0.7764500000000001  Acc:  77.645  auc_train  0.7862500000000001\n"
     ]
    },
    {
     "name": "stderr",
     "output_type": "stream",
     "text": [
      "\r",
      " 86%|████████▌ | 12/14 [01:39<00:20, 10.20s/it]"
     ]
    },
    {
     "name": "stdout",
     "output_type": "stream",
     "text": [
      " Alpha value:  35  AUC:  0.77555  Acc:  77.55499999999999  auc_train  0.7855666666666667\n"
     ]
    },
    {
     "name": "stderr",
     "output_type": "stream",
     "text": [
      "\r",
      " 93%|█████████▎| 13/14 [01:51<00:10, 10.72s/it]"
     ]
    },
    {
     "name": "stdout",
     "output_type": "stream",
     "text": [
      " Alpha value:  41  AUC:  0.7758  Acc:  77.58  auc_train  0.7827\n",
      " Alpha value:  51  AUC:  0.7754  Acc:  77.53999999999999  auc_train  0.7807999999999999\n"
     ]
    },
    {
     "name": "stderr",
     "output_type": "stream",
     "text": [
      "100%|██████████| 14/14 [02:03<00:00, 11.31s/it]\n"
     ]
    }
   ],
   "source": [
    "from sklearn.neighbors import KNeighborsClassifier\n",
    "from sklearn.metrics import accuracy_score\n",
    "from sklearn.metrics import roc_auc_score\n",
    "#Simple Cross Validation\n",
    "n_neighbors=[1,3,5,7,9,11,13,15,17,21,33,35,41,51]\n",
    "returned_pram=dict()\n",
    "returned_pram_train=dict()\n",
    "for i in tqdm(n_neighbors):\n",
    "    # instantiate learning model (k = 30)\n",
    "    knn = KNeighborsClassifier(n_neighbors=i,n_jobs=-1)\n",
    "\n",
    "    # fitting the model on crossvalidation train\n",
    "    knn.fit(train_svd, train_traget)\n",
    "\n",
    "    # predict the response on the crossvalidation train\n",
    "    pred_cv = knn.predict(cv_svd)\n",
    "\n",
    "    # evaluate CV accuracy\n",
    "    acc_cv = accuracy_score(cv_target, pred_cv, normalize=True) * float(100)\n",
    "    auc_cv=roc_auc_score(cv_target, pred_cv)\n",
    "    auc_train=roc_auc_score(train_traget, knn.predict(train_svd))\n",
    "    print(\" Alpha value: \",i,\" AUC: \",auc_cv,\" Acc: \",acc_cv,\" auc_train \",auc_train)\n",
    "    returned_pram.update({i:auc_cv})\n",
    "    returned_pram_train.update({i:auc_train})\n",
    "    gc.collect()\n",
    "    "
   ]
  },
  {
   "cell_type": "code",
   "execution_count": 59,
   "metadata": {
    "_uuid": "99d91e71f33d1fec96acf5920f07f7d7d7e7ba08"
   },
   "outputs": [],
   "source": [
    "# Method to plot train and CV Error\n",
    "def plot_train_cv_error(test_map,train_map,title,alpha):\n",
    "    plt.plot(list(test_map.keys()), test_map.values(),label='CV_AUC')\n",
    "    plt.plot(list(train_map.keys()), train_map.values(),label='Train_AUC')\n",
    "#     plt.semilogx(alpha, train_map.values(), label='Train_AUC')\n",
    "#     plt.semilogx(alpha, test_map.values(), label='CV_AUC')\n",
    "    plt.xlabel('k value')\n",
    "    plt.ylabel('AUC')\n",
    "    plt.title(title)\n",
    "    plt.legend()\n",
    "    plt.xticks(n_neighbors)\n",
    "    plt.grid()\n",
    "    return plt"
   ]
  },
  {
   "cell_type": "code",
   "execution_count": 60,
   "metadata": {
    "_uuid": "d241de1f48468f3b774dcfc2f91b59cbf1e84bb7"
   },
   "outputs": [
    {
     "data": {
      "image/png": "[encoded data removed]",
      "text/plain": [
       "<Figure size 432x288 with 1 Axes>"
      ]
     },
     "metadata": {},
     "output_type": "display_data"
    }
   ],
   "source": [
    "# plot misclassification error vs k \n",
    "plot_train_cv_error(returned_pram,returned_pram_train,'BOW AUC vs n_neighbors',n_neighbors)\n",
    "plt.show()"
   ]
  },
  {
   "cell_type": "markdown",
   "metadata": {
    "_uuid": "3e7a8ef38164c6a64292b07b65157c126c7374c1"
   },
   "source": [
    "**Observation**\n",
    "\n",
    "We can see that when k was small i.e 1 model was overfitting; training AUC was 100% but CV AUC was lower around 74%. As we increased the k value model started converging to optimal value of k=41 with train auc 78% and cv auc 77%. We can see that the train and test difference is very less so model is well fitting on current feature. If we want to increased accuracy further we need to add other important features or can do the feature engineering. Its performance is better than BOW."
   ]
  },
  {
   "cell_type": "code",
   "execution_count": 61,
   "metadata": {
    "_uuid": "9cc7fe9c3ee56ef22e027a4199f77bda9e76aeb4"
   },
   "outputs": [
    {
     "data": {
      "text/plain": [
       "KNeighborsClassifier(algorithm='auto', leaf_size=30, metric='minkowski',\n",
       "           metric_params=None, n_jobs=-1, n_neighbors=41, p=2,\n",
       "           weights='uniform')"
      ]
     },
     "execution_count": 61,
     "metadata": {},
     "output_type": "execute_result"
    }
   ],
   "source": [
    "#Fitting usig best k\n",
    "best_k=41\n",
    "knn = KNeighborsClassifier(n_neighbors=best_k,n_jobs=-1)\n",
    "knn.fit(train_svd, train_traget)"
   ]
  },
  {
   "cell_type": "code",
   "execution_count": 62,
   "metadata": {
    "_uuid": "614c5a43c345ebbd0e2f028b931f802c29d837a4"
   },
   "outputs": [],
   "source": [
    "# ROC AUC Curve\n",
    "y_true_train = train_traget\n",
    "y_probas_train = knn.predict_proba(train_svd)\n",
    "y_true_test = test_target\n",
    "y_probas_test = knn.predict_proba(test_svd)"
   ]
  },
  {
   "cell_type": "code",
   "execution_count": 63,
   "metadata": {
    "_uuid": "c368ee6a5d0bd12619c5c5aaba8039fcfdd50d6f"
   },
   "outputs": [],
   "source": [
    "def plot_train_test_ROC(y_true_train,y_probas_train,y_true_test,y_probas_test):\n",
    "    fpr1, tpr1, _ = metrics.roc_curve(y_true_train,  y_probas_train[:,1])\n",
    "    auc1 = metrics.roc_auc_score(y_true_train, y_probas_train[:,1])\n",
    "    plt.plot(fpr1,tpr1,label=\"Train AUC, auc=\"+str(auc1))\n",
    "    fpr2, tpr2, _ = metrics.roc_curve(y_true_test,  y_probas_test[:,1])\n",
    "    auc2 = metrics.roc_auc_score(y_true_test, y_probas_test[:,1])\n",
    "    plt.plot(fpr2,tpr2,label=\"Test, auc=\"+str(auc2))\n",
    "    plt.legend(loc=4)\n",
    "    plt.title(\"Train and Test AUC\")\n",
    "    plt.grid()\n",
    "    plt.xlabel('False Positive rate')\n",
    "    plt.ylabel('True positive rate')\n",
    "    return plt"
   ]
  },
  {
   "cell_type": "code",
   "execution_count": 64,
   "metadata": {
    "_uuid": "e0c62ecb44678df879eae6b115e440648e9d31fd"
   },
   "outputs": [
    {
     "data": {
      "image/png": "[encoded data removed]",
      "text/plain": [
       "<Figure size 432x288 with 1 Axes>"
      ]
     },
     "metadata": {},
     "output_type": "display_data"
    }
   ],
   "source": [
    "plot_train_test_ROC(y_true_train,y_probas_train,y_true_test,y_probas_test)\n",
    "plt.show()"
   ]
  },
  {
   "cell_type": "markdown",
   "metadata": {
    "_uuid": "a2ef295e9d72cf5e03d4490a87db4100c5a3f7ad"
   },
   "source": [
    "**Observation**\n",
    "\n",
    "We can see that the train and test auc is almost same, so model is well fitting on current feature. If we want to increase the accuracy further we need to add some new features."
   ]
  },
  {
   "cell_type": "code",
   "execution_count": 65,
   "metadata": {
    "_uuid": "baf9ce1194faae7fbc52e664bcb03855b5a371b1"
   },
   "outputs": [],
   "source": [
    "# Plotting Confusion matrix on test data\n",
    "import seaborn as sn\n",
    "from sklearn.metrics import confusion_matrix\n",
    "confm = confusion_matrix(y_true_test, knn.predict(test_svd))"
   ]
  },
  {
   "cell_type": "code",
   "execution_count": 66,
   "metadata": {
    "_uuid": "4b356dcd45615a335e2e4e42286ccad3ccb07366"
   },
   "outputs": [
    {
     "data": {
      "text/plain": [
       "[Text(0,0.5,'0'), Text(0,1.5,'1')]"
      ]
     },
     "execution_count": 66,
     "metadata": {},
     "output_type": "execute_result"
    },
    {
     "data": {
      "image/png": "[encoded data removed]",
      "text/plain": [
       "<Figure size 432x288 with 2 Axes>"
      ]
     },
     "metadata": {},
     "output_type": "display_data"
    }
   ],
   "source": [
    "ax= plt.subplot()\n",
    "sns.heatmap(confm, annot=True, ax = ax,annot_kws={\"size\": 16},fmt=\"d\"); #annot=True to annotate cells\n",
    "\n",
    "# labels, title and ticks\n",
    "ax.set_xlabel('Predicted labels');ax.set_ylabel('True labels'); \n",
    "ax.set_title('Confusion Matrix of Test data'); \n",
    "ax.xaxis.set_ticklabels(['0', '1']); ax.yaxis.set_ticklabels(['0', '1'])"
   ]
  },
  {
   "cell_type": "markdown",
   "metadata": {
    "_uuid": "940465fb19605b9baefcd40c25ac034221caf3a4"
   },
   "source": [
    "**Observation**\n",
    "\n",
    "Here we have more no of elements at diagonal than off diagonal i.e more value of TP and TN compare to FP and FN, so model is working file with the current features. If we want to increase TP and TN further we need to do feature engineering."
   ]
  },
  {
   "cell_type": "markdown",
   "metadata": {
    "_kg_hide-output": true,
    "_uuid": "b35196986cb766d009657b94d9ec460b0f61094e"
   },
   "source": [
    "# 6. Applying KNN KDTree on TFIDF, SET 4"
   ]
  },
  {
   "cell_type": "code",
   "execution_count": 67,
   "metadata": {
    "_uuid": "aab70651ed991e48e5b056803a1f864d62ed1a76"
   },
   "outputs": [
    {
     "name": "stderr",
     "output_type": "stream",
     "text": [
      "  8%|▊         | 1/13 [00:02<00:28,  2.42s/it]"
     ]
    },
    {
     "name": "stdout",
     "output_type": "stream",
     "text": [
      " Alpha value:  1  AUC:  0.7123499999999999  Acc:  71.235  auc_train  0.99395\n"
     ]
    },
    {
     "name": "stderr",
     "output_type": "stream",
     "text": [
      "\r",
      " 15%|█▌        | 2/13 [00:10<00:45,  4.10s/it]"
     ]
    },
    {
     "name": "stdout",
     "output_type": "stream",
     "text": [
      " Alpha value:  3  AUC:  0.7461499999999999  Acc:  74.615  auc_train  0.8565833333333334\n",
      " Alpha value:  5  AUC:  0.75975  Acc:  75.97500000000001  auc_train  0.8296833333333333\n"
     ]
    },
    {
     "name": "stderr",
     "output_type": "stream",
     "text": [
      "\r",
      " 23%|██▎       | 3/13 [00:19<00:57,  5.71s/it]"
     ]
    },
    {
     "name": "stdout",
     "output_type": "stream",
     "text": [
      " Alpha value:  7  AUC:  0.7665500000000001  Acc:  76.655  auc_train  0.8165666666666668\n"
     ]
    },
    {
     "name": "stderr",
     "output_type": "stream",
     "text": [
      "\r",
      " 31%|███       | 4/13 [00:30<01:04,  7.13s/it]"
     ]
    },
    {
     "name": "stdout",
     "output_type": "stream",
     "text": [
      " Alpha value:  9  AUC:  0.7689999999999999  Acc:  76.9  auc_train  0.8088\n"
     ]
    },
    {
     "name": "stderr",
     "output_type": "stream",
     "text": [
      " 46%|████▌     | 6/13 [00:53<01:05,  9.39s/it]"
     ]
    },
    {
     "name": "stdout",
     "output_type": "stream",
     "text": [
      " Alpha value:  11  AUC:  0.7721  Acc:  77.21000000000001  auc_train  0.8053666666666667\n",
      " Alpha value:  13  AUC:  0.77365  Acc:  77.365  auc_train  0.8017333333333333\n"
     ]
    },
    {
     "name": "stderr",
     "output_type": "stream",
     "text": [
      "\r",
      " 54%|█████▍    | 7/13 [01:05<01:01, 10.27s/it]"
     ]
    },
    {
     "name": "stdout",
     "output_type": "stream",
     "text": [
      " Alpha value:  15  AUC:  0.77565  Acc:  77.565  auc_train  0.7986166666666665\n"
     ]
    },
    {
     "name": "stderr",
     "output_type": "stream",
     "text": [
      "\r",
      " 62%|██████▏   | 8/13 [01:18<00:55, 11.02s/it]"
     ]
    },
    {
     "name": "stdout",
     "output_type": "stream",
     "text": [
      " Alpha value:  17  AUC:  0.7746000000000001  Acc:  77.46  auc_train  0.79675\n"
     ]
    },
    {
     "name": "stderr",
     "output_type": "stream",
     "text": [
      " 77%|███████▋  | 10/13 [01:45<00:37, 12.41s/it]"
     ]
    },
    {
     "name": "stdout",
     "output_type": "stream",
     "text": [
      " Alpha value:  21  AUC:  0.7763500000000001  Acc:  77.635  auc_train  0.79285\n"
     ]
    },
    {
     "name": "stderr",
     "output_type": "stream",
     "text": [
      "\r",
      " 85%|████████▍ | 11/13 [02:01<00:26, 13.47s/it]"
     ]
    },
    {
     "name": "stdout",
     "output_type": "stream",
     "text": [
      " Alpha value:  33  AUC:  0.7764500000000001  Acc:  77.645  auc_train  0.7862500000000001\n",
      " Alpha value:  35  AUC:  0.77555  Acc:  77.55499999999999  auc_train  0.7855666666666667\n"
     ]
    },
    {
     "name": "stderr",
     "output_type": "stream",
     "text": [
      "100%|██████████| 13/13 [02:34<00:00, 15.08s/it]"
     ]
    },
    {
     "name": "stdout",
     "output_type": "stream",
     "text": [
      " Alpha value:  41  AUC:  0.7758  Acc:  77.58  auc_train  0.7827\n"
     ]
    },
    {
     "name": "stderr",
     "output_type": "stream",
     "text": [
      "\n"
     ]
    }
   ],
   "source": [
    "from sklearn.neighbors import KNeighborsClassifier\n",
    "from sklearn.metrics import accuracy_score\n",
    "from sklearn.metrics import roc_auc_score\n",
    "#Simple Cross Validation\n",
    "n_neighbors=[1,3,5,7,9,11,13,15,17,21,33,35,41]\n",
    "returned_pram=dict()\n",
    "returned_pram_train=dict()\n",
    "for i in tqdm(n_neighbors):\n",
    "    # instantiate learning model (k = 30)\n",
    "    knn = KNeighborsClassifier(n_neighbors=i,algorithm='kd_tree',n_jobs=-1)\n",
    "\n",
    "    # fitting the model on crossvalidation train\n",
    "    knn.fit(train_svd, train_traget)\n",
    "\n",
    "    # predict the response on the crossvalidation train\n",
    "    pred_cv = knn.predict(cv_svd)\n",
    "\n",
    "    # evaluate CV accuracy\n",
    "    acc_cv = accuracy_score(cv_target, pred_cv, normalize=True) * float(100)\n",
    "    auc_cv=roc_auc_score(cv_target, pred_cv)\n",
    "    auc_train=roc_auc_score(train_traget, knn.predict(train_svd))\n",
    "    print(\" Alpha value: \",i,\" AUC: \",auc_cv,\" Acc: \",acc_cv,\" auc_train \",auc_train)\n",
    "    returned_pram.update({i:auc_cv})\n",
    "    returned_pram_train.update({i:auc_train})\n",
    "    gc.collect()"
   ]
  },
  {
   "cell_type": "code",
   "execution_count": 68,
   "metadata": {
    "_uuid": "cffdda50ee0e39a28c8e0ecee87328e908461ae0"
   },
   "outputs": [],
   "source": [
    "# Method to plot train and CV Error\n",
    "def plot_train_cv_error(test_map,train_map,title,alpha):\n",
    "    plt.plot(list(test_map.keys()), test_map.values(),label='CV_AUC')\n",
    "    plt.plot(list(train_map.keys()), train_map.values(),label='Train_AUC')\n",
    "#     plt.semilogx(alpha, train_map.values(), label='Train_AUC')\n",
    "#     plt.semilogx(alpha, test_map.values(), label='CV_AUC')\n",
    "    plt.xlabel('k value')\n",
    "    plt.ylabel('AUC')\n",
    "    plt.title(title)\n",
    "    plt.legend()\n",
    "    plt.xticks(n_neighbors)\n",
    "    plt.grid()\n",
    "    return plt"
   ]
  },
  {
   "cell_type": "code",
   "execution_count": 69,
   "metadata": {
    "_uuid": "fba1671c26dac0b7d99013701d3ac3d192fe49c3"
   },
   "outputs": [
    {
     "data": {
      "image/png": "[encoded data removed]",
      "text/plain": [
       "<Figure size 432x288 with 1 Axes>"
      ]
     },
     "metadata": {},
     "output_type": "display_data"
    }
   ],
   "source": [
    "# plot misclassification error vs k \n",
    "plot_train_cv_error(returned_pram,returned_pram_train,'BOW AUC vs n_neighbors',n_neighbors)\n",
    "plt.show()"
   ]
  },
  {
   "cell_type": "markdown",
   "metadata": {},
   "source": [
    "**Observation**\n",
    "\n",
    "We can see that when k was small i.e 1 model was overfitting; training AUC was 100% but CV AUC was lower around 61%. As we increased the k value model started converging to optimal value of k=41 with train auc 70% and cv auc 68%. We can see that the train and test difference is very less so model is well fitting on current feature. If we want to increased accuracy further we need to add other important features or can do the feature engineering.\n"
   ]
  },
  {
   "cell_type": "code",
   "execution_count": 70,
   "metadata": {
    "_uuid": "638647ad83d5af31624443cefe1e0c5b7c328db9"
   },
   "outputs": [
    {
     "data": {
      "text/plain": [
       "KNeighborsClassifier(algorithm='kd_tree', leaf_size=30, metric='minkowski',\n",
       "           metric_params=None, n_jobs=-1, n_neighbors=41, p=2,\n",
       "           weights='uniform')"
      ]
     },
     "execution_count": 70,
     "metadata": {},
     "output_type": "execute_result"
    }
   ],
   "source": [
    "#Fitting usig best k\n",
    "best_k=41\n",
    "knn = KNeighborsClassifier(n_neighbors=best_k,algorithm='kd_tree',n_jobs=-1)\n",
    "knn.fit(train_svd, train_traget)"
   ]
  },
  {
   "cell_type": "code",
   "execution_count": 71,
   "metadata": {
    "_uuid": "223ea95099a1208895f1a68e5956ad8a3e07b9dd"
   },
   "outputs": [],
   "source": [
    "# ROC AUC Curve\n",
    "y_true_train = train_traget\n",
    "y_probas_train = knn.predict_proba(train_svd)\n",
    "y_true_test = test_target\n",
    "y_probas_test = knn.predict_proba(test_svd)"
   ]
  },
  {
   "cell_type": "code",
   "execution_count": 72,
   "metadata": {
    "_uuid": "787d65a6c03154c0e293997fdc852a4db283010e"
   },
   "outputs": [],
   "source": [
    "def plot_train_test_ROC(y_true_train,y_probas_train,y_true_test,y_probas_test):\n",
    "    fpr1, tpr1, _ = metrics.roc_curve(y_true_train,  y_probas_train[:,1])\n",
    "    auc1 = metrics.roc_auc_score(y_true_train, y_probas_train[:,1])\n",
    "    plt.plot(fpr1,tpr1,label=\"Train AUC, auc=\"+str(auc1))\n",
    "    fpr2, tpr2, _ = metrics.roc_curve(y_true_test,  y_probas_test[:,1])\n",
    "    auc2 = metrics.roc_auc_score(y_true_test, y_probas_test[:,1])\n",
    "    plt.plot(fpr2,tpr2,label=\"Test, auc=\"+str(auc2))\n",
    "    plt.legend(loc=4)\n",
    "    plt.title(\"Train and Test AUC\")\n",
    "    plt.grid()\n",
    "    plt.xlabel('False Positive rate')\n",
    "    plt.ylabel('True positive rate')\n",
    "    return plt"
   ]
  },
  {
   "cell_type": "code",
   "execution_count": 73,
   "metadata": {
    "_uuid": "089eed73770992d34f3094fabae9b13e55fd7a39"
   },
   "outputs": [
    {
     "data": {
      "image/png": "[encoded data removed]",
      "text/plain": [
       "<Figure size 432x288 with 1 Axes>"
      ]
     },
     "metadata": {},
     "output_type": "display_data"
    }
   ],
   "source": [
    "plot_train_test_ROC(y_true_train,y_probas_train,y_true_test,y_probas_test)\n",
    "plt.show()"
   ]
  },
  {
   "cell_type": "markdown",
   "metadata": {},
   "source": [
    "**Observation**\n",
    "\n",
    "We can see that the train and test auc is almost same, so model is well fitting on current feature. If we want to increase the accuracy further we need to add some new features."
   ]
  },
  {
   "cell_type": "code",
   "execution_count": 74,
   "metadata": {
    "_uuid": "aa84c0a53036c1034e851351321445a699a37cc5"
   },
   "outputs": [],
   "source": [
    "# Plotting Confusion matrix on test data\n",
    "import seaborn as sn\n",
    "from sklearn.metrics import confusion_matrix\n",
    "confm = confusion_matrix(y_true_test, knn.predict(test_svd))"
   ]
  },
  {
   "cell_type": "code",
   "execution_count": 75,
   "metadata": {
    "_uuid": "d381d2da4575be69fbacf6e7d75cb31a537b220c"
   },
   "outputs": [
    {
     "data": {
      "text/plain": [
       "[Text(0,0.5,'0'), Text(0,1.5,'1')]"
      ]
     },
     "execution_count": 75,
     "metadata": {},
     "output_type": "execute_result"
    },
    {
     "data": {
      "image/png": "[encoded data removed]",
      "text/plain": [
       "<Figure size 432x288 with 2 Axes>"
      ]
     },
     "metadata": {},
     "output_type": "display_data"
    }
   ],
   "source": [
    "ax= plt.subplot()\n",
    "sns.heatmap(confm, annot=True, ax = ax,annot_kws={\"size\": 16},fmt=\"d\"); #annot=True to annotate cells\n",
    "\n",
    "# labels, title and ticks\n",
    "ax.set_xlabel('Predicted labels');ax.set_ylabel('True labels'); \n",
    "ax.set_title('Confusion Matrix of Test data'); \n",
    "ax.xaxis.set_ticklabels(['0', '1']); ax.yaxis.set_ticklabels(['0', '1'])"
   ]
  },
  {
   "cell_type": "markdown",
   "metadata": {},
   "source": [
    "**Observation**\n",
    "\n",
    "\n",
    "Here we have more no of elements at diagonal than off diagonal i.e more value of TP and TN compare to FP and FN, so model is working file with the current features. If we want to increase TP and TN further we need to do feature engineering."
   ]
  },
  {
   "cell_type": "markdown",
   "metadata": {
    "_uuid": "571015729115d934f20ba206516c87bffe84a918"
   },
   "source": [
    "# 7. Applying KNN brute force on AVG W2V, SET 5"
   ]
  },
  {
   "cell_type": "markdown",
   "metadata": {},
   "source": [
    "**Training Word2Vec**"
   ]
  },
  {
   "cell_type": "code",
   "execution_count": 42,
   "metadata": {
    "_uuid": "aea56eebc97a0dc98d33e9ec9eaca75a9538fba0"
   },
   "outputs": [],
   "source": [
    "# Train your own Word2Vec model using your own text corpus\n",
    "i=0\n",
    "list_of_sent=[]\n",
    "for sent in clean_data['CleanedText'].values:\n",
    "    list_of_sent.append(sent.split())"
   ]
  },
  {
   "cell_type": "code",
   "execution_count": 78,
   "metadata": {
    "_uuid": "880d0fd14722d2053233d0cf8e7d3c807cebc836"
   },
   "outputs": [
    {
     "name": "stdout",
     "output_type": "stream",
     "text": [
      "witti littl book make son laugh loud recit car drive along alway sing refrain hes learn whale india droop love new word book introduc silli classic book will bet son still abl recit memori colleg\n",
      "*****************************************************************\n",
      "['witti', 'littl', 'book', 'make', 'son', 'laugh', 'loud', 'recit', 'car', 'drive', 'along', 'alway', 'sing', 'refrain', 'hes', 'learn', 'whale', 'india', 'droop', 'love', 'new', 'word', 'book', 'introduc', 'silli', 'classic', 'book', 'will', 'bet', 'son', 'still', 'abl', 'recit', 'memori', 'colleg']\n"
     ]
    }
   ],
   "source": [
    "print(clean_data['CleanedText'].values[0])\n",
    "print(\"*****************************************************************\")\n",
    "print(list_of_sent[0])"
   ]
  },
  {
   "cell_type": "code",
   "execution_count": 43,
   "metadata": {
    "_uuid": "3a8198781169397b9ac42af92df4feeea23e648a"
   },
   "outputs": [],
   "source": [
    "# min_count = 5 considers only words that occured atleast 5 times\n",
    "w2v_model=Word2Vec(list_of_sent,min_count=5,size=50, workers=8)\n",
    "#w2v_model.train(list_of_sent, total_examples=len(list_of_sent), epochs=10) if you want to customize training "
   ]
  },
  {
   "cell_type": "code",
   "execution_count": 44,
   "metadata": {
    "_uuid": "6d420630b2282019c6736ff8b57112fee7fa4401"
   },
   "outputs": [
    {
     "data": {
      "text/plain": [
       "[('tastey', 0.8086031079292297),\n",
       " ('yummi', 0.7950287461280823),\n",
       " ('delici', 0.7574282884597778),\n",
       " ('satisfi', 0.7514985799789429),\n",
       " ('satifi', 0.7042676210403442),\n",
       " ('hearti', 0.6933664083480835),\n",
       " ('good', 0.6893070936203003),\n",
       " ('nice', 0.6755648851394653),\n",
       " ('nutriti', 0.6725857257843018),\n",
       " ('versatil', 0.6566787958145142)]"
      ]
     },
     "execution_count": 44,
     "metadata": {},
     "output_type": "execute_result"
    }
   ],
   "source": [
    "w2v_model.wv.most_similar('tasti')"
   ]
  },
  {
   "cell_type": "code",
   "execution_count": 47,
   "metadata": {
    "_uuid": "c37003a53f2ec8ebf96889428734906588c6d014"
   },
   "outputs": [
    {
     "name": "stderr",
     "output_type": "stream",
     "text": [
      "100%|█████████████████████████████████████████████████████████████████████████| 364171/364171 [08:28<00:00, 715.89it/s]\n"
     ]
    },
    {
     "name": "stdout",
     "output_type": "stream",
     "text": [
      "364171\n",
      "50\n"
     ]
    }
   ],
   "source": [
    "# average Word2Vec\n",
    "# compute average word2vec for each review.\n",
    "w2v_words = list(w2v_model.wv.vocab)\n",
    "sent_vectors = []; # the avg-w2v for each sentence/review is stored in this list\n",
    "for sent in tqdm(list_of_sent): # for each review/sentence\n",
    "    sent_vec = np.zeros(50) # as word vectors are of zero length\n",
    "    cnt_words =0; # num of words with a valid vector in the sentence/review\n",
    "    for word in sent: # for each word in a review/sentence\n",
    "        if word in w2v_words:\n",
    "            vec = w2v_model.wv[word]\n",
    "            sent_vec += vec\n",
    "            cnt_words += 1\n",
    "    if cnt_words != 0:\n",
    "        sent_vec /= cnt_words\n",
    "    sent_vectors.append(sent_vec)\n",
    "print(len(sent_vectors))\n",
    "print(len(sent_vectors[0]))"
   ]
  },
  {
   "cell_type": "code",
   "execution_count": 48,
   "metadata": {
    "_uuid": "32457c9b0b9f0c33ff5ff06ccd6fb62c0986748c"
   },
   "outputs": [
    {
     "data": {
      "text/html": [
       "<div>\n",
       "<style scoped>\n",
       "    .dataframe tbody tr th:only-of-type {\n",
       "        vertical-align: middle;\n",
       "    }\n",
       "\n",
       "    .dataframe tbody tr th {\n",
       "        vertical-align: top;\n",
       "    }\n",
       "\n",
       "    .dataframe thead th {\n",
       "        text-align: right;\n",
       "    }\n",
       "</style>\n",
       "<table border=\"1\" class=\"dataframe\">\n",
       "  <thead>\n",
       "    <tr style=\"text-align: right;\">\n",
       "      <th></th>\n",
       "      <th>0</th>\n",
       "      <th>1</th>\n",
       "      <th>2</th>\n",
       "      <th>3</th>\n",
       "      <th>4</th>\n",
       "      <th>5</th>\n",
       "      <th>6</th>\n",
       "      <th>7</th>\n",
       "      <th>8</th>\n",
       "      <th>9</th>\n",
       "      <th>...</th>\n",
       "      <th>40</th>\n",
       "      <th>41</th>\n",
       "      <th>42</th>\n",
       "      <th>43</th>\n",
       "      <th>44</th>\n",
       "      <th>45</th>\n",
       "      <th>46</th>\n",
       "      <th>47</th>\n",
       "      <th>48</th>\n",
       "      <th>49</th>\n",
       "    </tr>\n",
       "  </thead>\n",
       "  <tbody>\n",
       "    <tr>\n",
       "      <th>0</th>\n",
       "      <td>-0.758505</td>\n",
       "      <td>-0.172168</td>\n",
       "      <td>-0.385203</td>\n",
       "      <td>-0.241811</td>\n",
       "      <td>-0.394415</td>\n",
       "      <td>-0.073644</td>\n",
       "      <td>-0.224280</td>\n",
       "      <td>0.286488</td>\n",
       "      <td>-0.087994</td>\n",
       "      <td>-0.419489</td>\n",
       "      <td>...</td>\n",
       "      <td>-0.214555</td>\n",
       "      <td>-0.435713</td>\n",
       "      <td>-0.957424</td>\n",
       "      <td>0.008468</td>\n",
       "      <td>-0.998245</td>\n",
       "      <td>-0.097955</td>\n",
       "      <td>0.065205</td>\n",
       "      <td>-0.238957</td>\n",
       "      <td>-0.527055</td>\n",
       "      <td>0.183418</td>\n",
       "    </tr>\n",
       "    <tr>\n",
       "      <th>1</th>\n",
       "      <td>-0.237719</td>\n",
       "      <td>0.540525</td>\n",
       "      <td>0.122643</td>\n",
       "      <td>0.263602</td>\n",
       "      <td>-0.203899</td>\n",
       "      <td>0.056436</td>\n",
       "      <td>0.157089</td>\n",
       "      <td>0.541197</td>\n",
       "      <td>0.029976</td>\n",
       "      <td>-0.144245</td>\n",
       "      <td>...</td>\n",
       "      <td>-0.182711</td>\n",
       "      <td>-0.642174</td>\n",
       "      <td>-0.606652</td>\n",
       "      <td>0.437557</td>\n",
       "      <td>-1.099607</td>\n",
       "      <td>0.252466</td>\n",
       "      <td>0.830093</td>\n",
       "      <td>0.050911</td>\n",
       "      <td>0.079497</td>\n",
       "      <td>0.014675</td>\n",
       "    </tr>\n",
       "  </tbody>\n",
       "</table>\n",
       "<p>2 rows × 50 columns</p>\n",
       "</div>"
      ],
      "text/plain": [
       "         0         1         2         3         4         5         6   \\\n",
       "0 -0.758505 -0.172168 -0.385203 -0.241811 -0.394415 -0.073644 -0.224280   \n",
       "1 -0.237719  0.540525  0.122643  0.263602 -0.203899  0.056436  0.157089   \n",
       "\n",
       "         7         8         9     ...           40        41        42  \\\n",
       "0  0.286488 -0.087994 -0.419489    ...    -0.214555 -0.435713 -0.957424   \n",
       "1  0.541197  0.029976 -0.144245    ...    -0.182711 -0.642174 -0.606652   \n",
       "\n",
       "         43        44        45        46        47        48        49  \n",
       "0  0.008468 -0.998245 -0.097955  0.065205 -0.238957 -0.527055  0.183418  \n",
       "1  0.437557 -1.099607  0.252466  0.830093  0.050911  0.079497  0.014675  \n",
       "\n",
       "[2 rows x 50 columns]"
      ]
     },
     "execution_count": 48,
     "metadata": {},
     "output_type": "execute_result"
    }
   ],
   "source": [
    "avg_w2v_df=pd.DataFrame(sent_vectors)\n",
    "avg_w2v_df.head(2)"
   ]
  },
  {
   "cell_type": "code",
   "execution_count": 49,
   "metadata": {
    "_uuid": "f34235a7c572700de78463503bf60f4fec0f57d5"
   },
   "outputs": [
    {
     "data": {
      "text/html": [
       "<div>\n",
       "<style scoped>\n",
       "    .dataframe tbody tr th:only-of-type {\n",
       "        vertical-align: middle;\n",
       "    }\n",
       "\n",
       "    .dataframe tbody tr th {\n",
       "        vertical-align: top;\n",
       "    }\n",
       "\n",
       "    .dataframe thead th {\n",
       "        text-align: right;\n",
       "    }\n",
       "</style>\n",
       "<table border=\"1\" class=\"dataframe\">\n",
       "  <thead>\n",
       "    <tr style=\"text-align: right;\">\n",
       "      <th></th>\n",
       "      <th>0</th>\n",
       "      <th>1</th>\n",
       "      <th>2</th>\n",
       "      <th>3</th>\n",
       "      <th>4</th>\n",
       "      <th>5</th>\n",
       "      <th>6</th>\n",
       "      <th>7</th>\n",
       "      <th>8</th>\n",
       "      <th>9</th>\n",
       "      <th>...</th>\n",
       "      <th>42</th>\n",
       "      <th>43</th>\n",
       "      <th>44</th>\n",
       "      <th>45</th>\n",
       "      <th>46</th>\n",
       "      <th>47</th>\n",
       "      <th>48</th>\n",
       "      <th>49</th>\n",
       "      <th>Score</th>\n",
       "      <th>Time</th>\n",
       "    </tr>\n",
       "  </thead>\n",
       "  <tbody>\n",
       "    <tr>\n",
       "      <th>0</th>\n",
       "      <td>-0.758505</td>\n",
       "      <td>-0.172168</td>\n",
       "      <td>-0.385203</td>\n",
       "      <td>-0.241811</td>\n",
       "      <td>-0.394415</td>\n",
       "      <td>-0.073644</td>\n",
       "      <td>-0.22428</td>\n",
       "      <td>0.286488</td>\n",
       "      <td>-0.087994</td>\n",
       "      <td>-0.419489</td>\n",
       "      <td>...</td>\n",
       "      <td>-0.957424</td>\n",
       "      <td>0.008468</td>\n",
       "      <td>-0.998245</td>\n",
       "      <td>-0.097955</td>\n",
       "      <td>0.065205</td>\n",
       "      <td>-0.238957</td>\n",
       "      <td>-0.527055</td>\n",
       "      <td>0.183418</td>\n",
       "      <td>1.0</td>\n",
       "      <td>1.303862e+09</td>\n",
       "    </tr>\n",
       "  </tbody>\n",
       "</table>\n",
       "<p>1 rows × 52 columns</p>\n",
       "</div>"
      ],
      "text/plain": [
       "          0         1         2         3         4         5        6  \\\n",
       "0 -0.758505 -0.172168 -0.385203 -0.241811 -0.394415 -0.073644 -0.22428   \n",
       "\n",
       "          7         8         9      ...             42        43        44  \\\n",
       "0  0.286488 -0.087994 -0.419489      ...      -0.957424  0.008468 -0.998245   \n",
       "\n",
       "         45        46        47        48        49  Score          Time  \n",
       "0 -0.097955  0.065205 -0.238957 -0.527055  0.183418    1.0  1.303862e+09  \n",
       "\n",
       "[1 rows x 52 columns]"
      ]
     },
     "execution_count": 49,
     "metadata": {},
     "output_type": "execute_result"
    }
   ],
   "source": [
    "gc.collect()\n",
    "avg_w2v_df[['Score','Time']]=final[['Score','Time']]\n",
    "avg_w2v_df.head(1)"
   ]
  },
  {
   "cell_type": "code",
   "execution_count": 50,
   "metadata": {
    "_uuid": "cf91d81bf63b08890d8c1632eba6cb6e7c8b7483"
   },
   "outputs": [
    {
     "data": {
      "text/plain": [
       "1.0    211030\n",
       "0.0     39688\n",
       "Name: Score, dtype: int64"
      ]
     },
     "execution_count": 50,
     "metadata": {},
     "output_type": "execute_result"
    }
   ],
   "source": [
    "# Checking the positive and negative labels\n",
    "avg_w2v_df['Score'].value_counts()"
   ]
  },
  {
   "cell_type": "code",
   "execution_count": 51,
   "metadata": {
    "_uuid": "5241c92f255d15cdeefd07f7b6c660828190945b"
   },
   "outputs": [
    {
     "data": {
      "text/plain": [
       "(364171, 11)"
      ]
     },
     "execution_count": 51,
     "metadata": {},
     "output_type": "execute_result"
    }
   ],
   "source": [
    "final.shape"
   ]
  },
  {
   "cell_type": "code",
   "execution_count": 53,
   "metadata": {
    "_uuid": "0dcc74304f0cc5dcb1cd4447e8f1b5b33c502195"
   },
   "outputs": [
    {
     "data": {
      "text/plain": [
       "(364171, 52)"
      ]
     },
     "execution_count": 53,
     "metadata": {},
     "output_type": "execute_result"
    }
   ],
   "source": [
    "avg_w2v_df.shape"
   ]
  },
  {
   "cell_type": "code",
   "execution_count": 88,
   "metadata": {},
   "outputs": [],
   "source": [
    "avg_w2v_df.to_csv(\"avg_w2v_df.csv\",index=False)"
   ]
  },
  {
   "cell_type": "markdown",
   "metadata": {},
   "source": [
    "**Splitting Word2Vec into train, CV and Test**"
   ]
  },
  {
   "cell_type": "code",
   "execution_count": 55,
   "metadata": {
    "_uuid": "3f274fe82797a8f0b0071881cca2ecb251704f65"
   },
   "outputs": [],
   "source": [
    "#Randomly selecting 40k records\n",
    "filter_data_positive=avg_w2v_df[avg_w2v_df.Score==1].sample(39000,random_state=17)\n",
    "filter_data_positive.sort_values(by='Time',inplace=True,ascending=True)"
   ]
  },
  {
   "cell_type": "code",
   "execution_count": 56,
   "metadata": {
    "_uuid": "34dbbe15f1d15e8abe92d4ca72eed65f418123b4"
   },
   "outputs": [],
   "source": [
    "#selecting all -ve records records\n",
    "filter_data_negative=avg_w2v_df[avg_w2v_df.Score==0].sample(39000,random_state=17)\n",
    "filter_data_negative.sort_values(by='Time',inplace=True,ascending=True)"
   ]
  },
  {
   "cell_type": "code",
   "execution_count": 57,
   "metadata": {
    "_uuid": "0ec9f186f8383a1741c2caf775f904ac464607c4"
   },
   "outputs": [
    {
     "data": {
      "text/plain": [
       "(39000, 52)"
      ]
     },
     "execution_count": 57,
     "metadata": {},
     "output_type": "execute_result"
    }
   ],
   "source": [
    "filter_data_negative.shape"
   ]
  },
  {
   "cell_type": "code",
   "execution_count": 58,
   "metadata": {
    "_uuid": "98368c91ebb0a76350319e5d34007ab75e0caac5"
   },
   "outputs": [
    {
     "name": "stdout",
     "output_type": "stream",
     "text": [
      "Total_positive_data (39000, 52)\n",
      "train (23400, 52) CV (7800, 52) test (7800, 52)\n"
     ]
    }
   ],
   "source": [
    "# Splitting Train,CV and Test for positive data\n",
    "row=filter_data_positive.shape[0]\n",
    "split=int(row*0.6)\n",
    "train_data_positive=filter_data_positive[:split]\n",
    "cv_data_positive=filter_data_positive[split:int(row*0.8)]\n",
    "test_data_positive=filter_data_positive[int(row*0.8):row]\n",
    "print(\"Total_positive_data\",filter_data_positive.shape)\n",
    "print(\"train\",train_data_positive.shape,\"CV\",cv_data_positive.shape,\"test\",test_data_positive.shape)"
   ]
  },
  {
   "cell_type": "code",
   "execution_count": 59,
   "metadata": {
    "_uuid": "77bf58baca8d231535ca2aa37962518ecd7de2f1"
   },
   "outputs": [
    {
     "name": "stdout",
     "output_type": "stream",
     "text": [
      "Total_negative_data (39000, 52)\n",
      "train (23400, 52) CV (7800, 52) test (7800, 52)\n"
     ]
    }
   ],
   "source": [
    "# Splitting Train,CV and Test for -ve data\n",
    "row=filter_data_negative.shape[0]\n",
    "split=int(row*0.6)\n",
    "train_data_negative=filter_data_negative[:split]\n",
    "cv_data_negative=filter_data_negative[split:int(row*0.8)]\n",
    "test_data_negative=filter_data_negative[int(row*0.8):row]\n",
    "print(\"Total_negative_data\",filter_data_negative.shape)\n",
    "print(\"train\",train_data_negative.shape,\"CV\",cv_data_negative.shape,\"test\",test_data_negative.shape)"
   ]
  },
  {
   "cell_type": "code",
   "execution_count": 60,
   "metadata": {
    "_uuid": "bc4df1768c6e98e868cc7f43cabbf9923e2c9912"
   },
   "outputs": [
    {
     "data": {
      "text/html": [
       "<div>\n",
       "<style scoped>\n",
       "    .dataframe tbody tr th:only-of-type {\n",
       "        vertical-align: middle;\n",
       "    }\n",
       "\n",
       "    .dataframe tbody tr th {\n",
       "        vertical-align: top;\n",
       "    }\n",
       "\n",
       "    .dataframe thead th {\n",
       "        text-align: right;\n",
       "    }\n",
       "</style>\n",
       "<table border=\"1\" class=\"dataframe\">\n",
       "  <thead>\n",
       "    <tr style=\"text-align: right;\">\n",
       "      <th></th>\n",
       "      <th>Id</th>\n",
       "      <th>ProductId</th>\n",
       "      <th>UserId</th>\n",
       "      <th>ProfileName</th>\n",
       "      <th>HelpfulnessNumerator</th>\n",
       "      <th>HelpfulnessDenominator</th>\n",
       "      <th>Score</th>\n",
       "      <th>Time</th>\n",
       "      <th>Summary</th>\n",
       "      <th>Text</th>\n",
       "      <th>CleanedText</th>\n",
       "    </tr>\n",
       "  </thead>\n",
       "  <tbody>\n",
       "    <tr>\n",
       "      <th>0</th>\n",
       "      <td>374422</td>\n",
       "      <td>B00004CI84</td>\n",
       "      <td>A1048CYU0OV4O8</td>\n",
       "      <td>Judy L. Eans</td>\n",
       "      <td>2</td>\n",
       "      <td>2</td>\n",
       "      <td>1</td>\n",
       "      <td>947376000</td>\n",
       "      <td>GREAT</td>\n",
       "      <td>THIS IS ONE MOVIE THAT SHOULD BE IN YOUR MOVIE...</td>\n",
       "      <td>one movi movi collect fill comedi action whate...</td>\n",
       "    </tr>\n",
       "  </tbody>\n",
       "</table>\n",
       "</div>"
      ],
      "text/plain": [
       "       Id   ProductId          UserId   ProfileName HelpfulnessNumerator  \\\n",
       "0  374422  B00004CI84  A1048CYU0OV4O8  Judy L. Eans                    2   \n",
       "\n",
       "  HelpfulnessDenominator Score       Time Summary  \\\n",
       "0                      2     1  947376000   GREAT   \n",
       "\n",
       "                                                Text  \\\n",
       "0  THIS IS ONE MOVIE THAT SHOULD BE IN YOUR MOVIE...   \n",
       "\n",
       "                                         CleanedText  \n",
       "0  one movi movi collect fill comedi action whate...  "
      ]
     },
     "execution_count": 60,
     "metadata": {},
     "output_type": "execute_result"
    }
   ],
   "source": [
    "train_data.head(1)"
   ]
  },
  {
   "cell_type": "code",
   "execution_count": 61,
   "metadata": {
    "_uuid": "9b8cab52fd38c7da5311577fbb2a2ee24814264b"
   },
   "outputs": [
    {
     "name": "stdout",
     "output_type": "stream",
     "text": [
      "(46800, 52)\n"
     ]
    },
    {
     "data": {
      "text/plain": [
       "1.0    23400\n",
       "0.0    23400\n",
       "Name: Score, dtype: int64"
      ]
     },
     "execution_count": 61,
     "metadata": {},
     "output_type": "execute_result"
    }
   ],
   "source": [
    "# Combining +ve and -ve train data and sorting based on time\n",
    "train_data=np.vstack((train_data_positive, train_data_negative))\n",
    "train_data=pd.DataFrame(train_data)\n",
    "train_data.columns=avg_w2v_df.columns\n",
    "train_data.sort_values(by='Time',inplace=True,ascending=True)\n",
    "print(train_data.shape)\n",
    "# Checking the positive and negative labels\n",
    "train_data['Score'].value_counts()"
   ]
  },
  {
   "cell_type": "code",
   "execution_count": 62,
   "metadata": {
    "_uuid": "8e36de6899d0b94aa3d1ae2368a7735cc33c2388"
   },
   "outputs": [
    {
     "name": "stdout",
     "output_type": "stream",
     "text": [
      "(15600, 52)\n"
     ]
    },
    {
     "data": {
      "text/plain": [
       "0.0    7800\n",
       "1.0    7800\n",
       "Name: Score, dtype: int64"
      ]
     },
     "execution_count": 62,
     "metadata": {},
     "output_type": "execute_result"
    }
   ],
   "source": [
    "# Combining +ve and -ve CV data and sorting based on time\n",
    "cv_data=np.vstack((cv_data_positive,cv_data_negative))\n",
    "cv_data=pd.DataFrame(cv_data)\n",
    "cv_data.columns=avg_w2v_df.columns\n",
    "cv_data.sort_values(by='Time',inplace=True,ascending=True)\n",
    "print(cv_data.shape)\n",
    "# Checking the positive and negative labels\n",
    "cv_data['Score'].value_counts()"
   ]
  },
  {
   "cell_type": "code",
   "execution_count": 63,
   "metadata": {
    "_uuid": "508f50e2fe54a26e52916fe547924147af3e25b1"
   },
   "outputs": [
    {
     "name": "stdout",
     "output_type": "stream",
     "text": [
      "(15600, 52)\n"
     ]
    },
    {
     "data": {
      "text/plain": [
       "0.0    7800\n",
       "1.0    7800\n",
       "Name: Score, dtype: int64"
      ]
     },
     "execution_count": 63,
     "metadata": {},
     "output_type": "execute_result"
    }
   ],
   "source": [
    "# Combining +ve and -ve test data and sorting based on time\n",
    "test_data=np.vstack((test_data_positive, test_data_negative))\n",
    "test_data=pd.DataFrame(test_data)\n",
    "test_data.columns=avg_w2v_df.columns\n",
    "test_data.sort_values(by='Time',inplace=True,ascending=True)\n",
    "print(test_data.shape)\n",
    "# Checking the positive and negative labels\n",
    "test_data['Score'].value_counts()"
   ]
  },
  {
   "cell_type": "code",
   "execution_count": 64,
   "metadata": {
    "_uuid": "08fb6cbd1f16fb29a1543f848c66bf93596b64f7"
   },
   "outputs": [],
   "source": [
    "train_traget=train_data['Score'].astype('int')\n",
    "cv_target=cv_data['Score'].astype('int')\n",
    "test_target=test_data['Score'].astype('int')"
   ]
  },
  {
   "cell_type": "code",
   "execution_count": 65,
   "metadata": {
    "_uuid": "e7cec6569f4757c064da84a7d1cfc53894bf663b"
   },
   "outputs": [
    {
     "data": {
      "text/html": [
       "<div>\n",
       "<style scoped>\n",
       "    .dataframe tbody tr th:only-of-type {\n",
       "        vertical-align: middle;\n",
       "    }\n",
       "\n",
       "    .dataframe tbody tr th {\n",
       "        vertical-align: top;\n",
       "    }\n",
       "\n",
       "    .dataframe thead th {\n",
       "        text-align: right;\n",
       "    }\n",
       "</style>\n",
       "<table border=\"1\" class=\"dataframe\">\n",
       "  <thead>\n",
       "    <tr style=\"text-align: right;\">\n",
       "      <th></th>\n",
       "      <th>0</th>\n",
       "      <th>1</th>\n",
       "      <th>2</th>\n",
       "      <th>3</th>\n",
       "      <th>4</th>\n",
       "      <th>5</th>\n",
       "      <th>6</th>\n",
       "      <th>7</th>\n",
       "      <th>8</th>\n",
       "      <th>9</th>\n",
       "      <th>...</th>\n",
       "      <th>40</th>\n",
       "      <th>41</th>\n",
       "      <th>42</th>\n",
       "      <th>43</th>\n",
       "      <th>44</th>\n",
       "      <th>45</th>\n",
       "      <th>46</th>\n",
       "      <th>47</th>\n",
       "      <th>48</th>\n",
       "      <th>49</th>\n",
       "    </tr>\n",
       "  </thead>\n",
       "  <tbody>\n",
       "    <tr>\n",
       "      <th>23400</th>\n",
       "      <td>-0.072261</td>\n",
       "      <td>-0.631519</td>\n",
       "      <td>1.198363</td>\n",
       "      <td>0.29545</td>\n",
       "      <td>0.123251</td>\n",
       "      <td>-1.53865</td>\n",
       "      <td>0.494211</td>\n",
       "      <td>0.498906</td>\n",
       "      <td>-0.04214</td>\n",
       "      <td>-0.516918</td>\n",
       "      <td>...</td>\n",
       "      <td>0.026671</td>\n",
       "      <td>-0.46617</td>\n",
       "      <td>0.558099</td>\n",
       "      <td>-0.098661</td>\n",
       "      <td>-0.087573</td>\n",
       "      <td>1.054245</td>\n",
       "      <td>1.093834</td>\n",
       "      <td>0.375699</td>\n",
       "      <td>0.012794</td>\n",
       "      <td>0.076482</td>\n",
       "    </tr>\n",
       "  </tbody>\n",
       "</table>\n",
       "<p>1 rows × 50 columns</p>\n",
       "</div>"
      ],
      "text/plain": [
       "             0         1         2        3         4        5         6   \\\n",
       "23400 -0.072261 -0.631519  1.198363  0.29545  0.123251 -1.53865  0.494211   \n",
       "\n",
       "             7        8         9     ...           40       41        42  \\\n",
       "23400  0.498906 -0.04214 -0.516918    ...     0.026671 -0.46617  0.558099   \n",
       "\n",
       "             43        44        45        46        47        48        49  \n",
       "23400 -0.098661 -0.087573  1.054245  1.093834  0.375699  0.012794  0.076482  \n",
       "\n",
       "[1 rows x 50 columns]"
      ]
     },
     "execution_count": 65,
     "metadata": {},
     "output_type": "execute_result"
    }
   ],
   "source": [
    "train_data.iloc[:,:-2].head(1)"
   ]
  },
  {
   "cell_type": "markdown",
   "metadata": {},
   "source": [
    "**SVD on word2vec**"
   ]
  },
  {
   "cell_type": "code",
   "execution_count": 66,
   "metadata": {
    "_uuid": "b92189325354a88ee974f289914e8b2a8b098461"
   },
   "outputs": [],
   "source": [
    "from sklearn.decomposition import TruncatedSVD\n",
    "svd_obj = TruncatedSVD(n_components=10, algorithm='arpack')\n",
    "svd_obj.fit(train_data.iloc[:,:-2])\n",
    "train_svd = pd.DataFrame(svd_obj.transform(train_data.iloc[:,:-2]))\n",
    "cv_svd = pd.DataFrame(svd_obj.transform(cv_data.iloc[:,:-2]))\n",
    "test_svd = pd.DataFrame(svd_obj.transform(test_data.iloc[:,:-2]))\n",
    "#print(\" training_counts \",train_svd.shape,\"cv_counts \",cv_svd.shape,\"test_counts\",test_svd.shape)\n",
    "n_comp=10\n",
    "train_svd.columns = ['svd_desc_'+str(i+1) for i in range(n_comp)]\n",
    "cv_svd.columns = ['svd_desc_'+str(i+1) for i in range(n_comp)]\n",
    "test_svd.columns = ['svd_desc_'+str(i+1) for i in range(n_comp)]"
   ]
  },
  {
   "cell_type": "code",
   "execution_count": 67,
   "metadata": {
    "_uuid": "65bbc9050847b96044890065a3dd51136c8f47ff"
   },
   "outputs": [
    {
     "data": {
      "text/html": [
       "<div>\n",
       "<style scoped>\n",
       "    .dataframe tbody tr th:only-of-type {\n",
       "        vertical-align: middle;\n",
       "    }\n",
       "\n",
       "    .dataframe tbody tr th {\n",
       "        vertical-align: top;\n",
       "    }\n",
       "\n",
       "    .dataframe thead th {\n",
       "        text-align: right;\n",
       "    }\n",
       "</style>\n",
       "<table border=\"1\" class=\"dataframe\">\n",
       "  <thead>\n",
       "    <tr style=\"text-align: right;\">\n",
       "      <th></th>\n",
       "      <th>svd_desc_1</th>\n",
       "      <th>svd_desc_2</th>\n",
       "      <th>svd_desc_3</th>\n",
       "      <th>svd_desc_4</th>\n",
       "      <th>svd_desc_5</th>\n",
       "      <th>svd_desc_6</th>\n",
       "      <th>svd_desc_7</th>\n",
       "      <th>svd_desc_8</th>\n",
       "      <th>svd_desc_9</th>\n",
       "      <th>svd_desc_10</th>\n",
       "    </tr>\n",
       "  </thead>\n",
       "  <tbody>\n",
       "    <tr>\n",
       "      <th>0</th>\n",
       "      <td>2.796926</td>\n",
       "      <td>0.233419</td>\n",
       "      <td>2.689743</td>\n",
       "      <td>-0.899443</td>\n",
       "      <td>-0.453953</td>\n",
       "      <td>-0.628954</td>\n",
       "      <td>0.001854</td>\n",
       "      <td>-0.032816</td>\n",
       "      <td>0.449846</td>\n",
       "      <td>-0.002890</td>\n",
       "    </tr>\n",
       "    <tr>\n",
       "      <th>1</th>\n",
       "      <td>3.874119</td>\n",
       "      <td>0.350329</td>\n",
       "      <td>2.414642</td>\n",
       "      <td>0.539971</td>\n",
       "      <td>0.004018</td>\n",
       "      <td>-1.302928</td>\n",
       "      <td>0.269054</td>\n",
       "      <td>1.433065</td>\n",
       "      <td>1.424121</td>\n",
       "      <td>-0.526432</td>\n",
       "    </tr>\n",
       "  </tbody>\n",
       "</table>\n",
       "</div>"
      ],
      "text/plain": [
       "   svd_desc_1  svd_desc_2  svd_desc_3  svd_desc_4  svd_desc_5  svd_desc_6  \\\n",
       "0    2.796926    0.233419    2.689743   -0.899443   -0.453953   -0.628954   \n",
       "1    3.874119    0.350329    2.414642    0.539971    0.004018   -1.302928   \n",
       "\n",
       "   svd_desc_7  svd_desc_8  svd_desc_9  svd_desc_10  \n",
       "0    0.001854   -0.032816    0.449846    -0.002890  \n",
       "1    0.269054    1.433065    1.424121    -0.526432  "
      ]
     },
     "execution_count": 67,
     "metadata": {},
     "output_type": "execute_result"
    }
   ],
   "source": [
    "train_svd.head(2)"
   ]
  },
  {
   "cell_type": "code",
   "execution_count": 69,
   "metadata": {
    "_uuid": "4622e1dca42641d9e22b8472d35d646e61255e67"
   },
   "outputs": [
    {
     "data": {
      "image/png": "[encoded data removed]",
      "text/plain": [
       "<Figure size 432x288 with 1 Axes>"
      ]
     },
     "metadata": {},
     "output_type": "display_data"
    }
   ],
   "source": [
    "# SVD Varience explained\n",
    "cum_var_explained = np.cumsum(svd_obj.explained_variance_ratio_)\n",
    "\n",
    "# Plot the SVD spectrum\n",
    "plt.figure(1, figsize=(6, 4))\n",
    "plt.clf()\n",
    "plt.plot(cum_var_explained, linewidth=2)\n",
    "plt.axis('tight')\n",
    "plt.grid()\n",
    "plt.xlabel('n_components')\n",
    "plt.title(\"varienced explain by 10 component of SVD\")\n",
    "plt.ylabel('Cumulative_explained_variance')\n",
    "plt.show()"
   ]
  },
  {
   "cell_type": "markdown",
   "metadata": {},
   "source": [
    "**Observation**\n",
    "\n",
    "We can see that with 10 compenents of SVD we are getting 65% variance on avg Word2Vec data"
   ]
  },
  {
   "cell_type": "code",
   "execution_count": 135,
   "metadata": {
    "_uuid": "9db37067b21ca4c83bef89ca273291ca36eddb80"
   },
   "outputs": [
    {
     "name": "stderr",
     "output_type": "stream",
     "text": [
      "\n",
      "\n",
      "  0%|          | 0/14 [00:00<?, ?it/s]\u001b[A\u001b[A"
     ]
    },
    {
     "name": "stdout",
     "output_type": "stream",
     "text": [
      " Alpha value:  1  AUC:  0.4983333333333333  Acc:  49.833333333333336  auc_train  0.9997863247863248\n"
     ]
    },
    {
     "name": "stderr",
     "output_type": "stream",
     "text": [
      "\n",
      "\n",
      "  7%|▋         | 1/14 [00:02<00:35,  2.76s/it]\u001b[A\u001b[A\n",
      "\n",
      " 14%|█▍        | 2/14 [00:10<00:49,  4.12s/it]\u001b[A\u001b[A"
     ]
    },
    {
     "name": "stdout",
     "output_type": "stream",
     "text": [
      " Alpha value:  3  AUC:  0.5031410256410257  Acc:  50.31410256410257  auc_train  0.7501068376068376\n",
      " Alpha value:  5  AUC:  0.5041025641025642  Acc:  50.410256410256416  auc_train  0.6897008547008546\n"
     ]
    },
    {
     "name": "stderr",
     "output_type": "stream",
     "text": [
      "\n",
      "\n",
      " 21%|██▏       | 3/14 [00:18<01:00,  5.52s/it]\u001b[A\u001b[A\n",
      "\n",
      " 29%|██▊       | 4/14 [00:28<01:06,  6.68s/it]\u001b[A\u001b[A"
     ]
    },
    {
     "name": "stdout",
     "output_type": "stream",
     "text": [
      " Alpha value:  7  AUC:  0.5017307692307692  Acc:  50.17307692307692  auc_train  0.6591452991452992\n",
      " Alpha value:  9  AUC:  0.5019871794871794  Acc:  50.198717948717956  auc_train  0.6394871794871795\n"
     ]
    },
    {
     "name": "stderr",
     "output_type": "stream",
     "text": [
      "\n",
      "\n",
      " 36%|███▌      | 5/14 [00:38<01:09,  7.67s/it]\u001b[A\u001b[A\n",
      "\n",
      " 43%|████▎     | 6/14 [00:48<01:08,  8.58s/it]\u001b[A\u001b[A"
     ]
    },
    {
     "name": "stdout",
     "output_type": "stream",
     "text": [
      " Alpha value:  11  AUC:  0.5033974358974359  Acc:  50.33974358974359  auc_train  0.6232051282051282\n",
      " Alpha value:  13  AUC:  0.5016025641025641  Acc:  50.16025641025641  auc_train  0.6125\n"
     ]
    },
    {
     "name": "stderr",
     "output_type": "stream",
     "text": [
      "\n",
      "\n",
      " 50%|█████     | 7/14 [01:00<01:05,  9.40s/it]\u001b[A\u001b[A"
     ]
    },
    {
     "name": "stdout",
     "output_type": "stream",
     "text": [
      " Alpha value:  15  AUC:  0.5027564102564103  Acc:  50.27564102564103  auc_train  0.6039529914529915\n"
     ]
    },
    {
     "name": "stderr",
     "output_type": "stream",
     "text": [
      "\n",
      "\n",
      " 57%|█████▋    | 8/14 [01:11<01:00, 10.09s/it]\u001b[A\u001b[A\n",
      "\n"
     ]
    },
    {
     "name": "stdout",
     "output_type": "stream",
     "text": [
      " Alpha value:  17  AUC:  0.5042307692307693  Acc:  50.42307692307693  auc_train  0.5985683760683761\n"
     ]
    },
    {
     "name": "stderr",
     "output_type": "stream",
     "text": [
      " 64%|██████▍   | 9/14 [01:24<00:53, 10.73s/it]\u001b[A\u001b[A"
     ]
    },
    {
     "name": "stdout",
     "output_type": "stream",
     "text": [
      " Alpha value:  21  AUC:  0.5076282051282051  Acc:  50.76282051282052  auc_train  0.5877136752136752\n"
     ]
    },
    {
     "name": "stderr",
     "output_type": "stream",
     "text": [
      "\n",
      "\n",
      " 71%|███████▏  | 10/14 [01:36<00:45, 11.36s/it]\u001b[A\u001b[A\n",
      "\n",
      " 79%|███████▊  | 11/14 [01:51<00:37, 12.35s/it]\u001b[A\u001b[A"
     ]
    },
    {
     "name": "stdout",
     "output_type": "stream",
     "text": [
      " Alpha value:  33  AUC:  0.5066025641025641  Acc:  50.66025641025641  auc_train  0.5693589743589744\n"
     ]
    },
    {
     "name": "stderr",
     "output_type": "stream",
     "text": [
      "\n",
      "\n",
      " 86%|████████▌ | 12/14 [02:06<00:26, 13.04s/it]\u001b[A\u001b[A"
     ]
    },
    {
     "name": "stdout",
     "output_type": "stream",
     "text": [
      " Alpha value:  35  AUC:  0.505897435897436  Acc:  50.589743589743584  auc_train  0.5676282051282051\n"
     ]
    },
    {
     "name": "stderr",
     "output_type": "stream",
     "text": [
      "\n",
      "\n",
      " 93%|█████████▎| 13/14 [02:21<00:13, 13.74s/it]\u001b[A\u001b[A"
     ]
    },
    {
     "name": "stdout",
     "output_type": "stream",
     "text": [
      " Alpha value:  41  AUC:  0.5060897435897436  Acc:  50.60897435897436  auc_train  0.5623931623931624\n",
      " Alpha value:  51  AUC:  0.5033974358974359  Acc:  50.33974358974359  auc_train  0.5540384615384616\n"
     ]
    },
    {
     "name": "stderr",
     "output_type": "stream",
     "text": [
      "\n",
      "\n",
      "100%|██████████| 14/14 [02:38<00:00, 14.58s/it]\u001b[A\u001b[A\n",
      "\n",
      "\u001b[A\u001b[A"
     ]
    }
   ],
   "source": [
    "from sklearn.neighbors import KNeighborsClassifier\n",
    "from sklearn.metrics import accuracy_score\n",
    "from sklearn.metrics import roc_auc_score\n",
    "#Simple Cross Validation\n",
    "n_neighbors=[1,3,5,7,9,11,13,15,17,21,33,35,41,51]\n",
    "returned_pram=dict()\n",
    "returned_pram_train=dict()\n",
    "for i in tqdm(n_neighbors):\n",
    "    # instantiate learning model (k = 30)\n",
    "    knn = KNeighborsClassifier(n_neighbors=i,n_jobs=-1)\n",
    "\n",
    "    # fitting the model on crossvalidation train\n",
    "    knn.fit(train_svd, train_traget)\n",
    "\n",
    "    # predict the response on the crossvalidation train\n",
    "    pred_cv = knn.predict(cv_svd)\n",
    "\n",
    "    # evaluate CV accuracy\n",
    "    acc_cv = accuracy_score(cv_target, pred_cv, normalize=True) * float(100)\n",
    "    auc_cv=roc_auc_score(cv_target, pred_cv)\n",
    "    auc_train=roc_auc_score(train_traget, knn.predict(train_svd))\n",
    "    print(\" Alpha value: \",i,\" AUC: \",auc_cv,\" Acc: \",acc_cv,\" auc_train \",auc_train)\n",
    "    returned_pram.update({i:auc_cv})\n",
    "    returned_pram_train.update({i:auc_train})\n",
    "    gc.collect()\n",
    "    "
   ]
  },
  {
   "cell_type": "code",
   "execution_count": 136,
   "metadata": {
    "_uuid": "efb93d02f2967ec9af3562eccaab80b3fe31c84e"
   },
   "outputs": [],
   "source": [
    "# Method to plot train and CV Error\n",
    "def plot_train_cv_error(test_map,train_map,title,alpha):\n",
    "    plt.plot(list(test_map.keys()), test_map.values(),label='CV_AUC')\n",
    "    plt.plot(list(train_map.keys()), train_map.values(),label='Train_AUC')\n",
    "#     plt.semilogx(alpha, train_map.values(), label='Train_AUC')\n",
    "#     plt.semilogx(alpha, test_map.values(), label='CV_AUC')\n",
    "    plt.xlabel('k value')\n",
    "    plt.ylabel('AUC')\n",
    "    plt.title(title)\n",
    "    plt.legend()\n",
    "    plt.xticks(n_neighbors)\n",
    "    plt.grid()\n",
    "    return plt"
   ]
  },
  {
   "cell_type": "code",
   "execution_count": 137,
   "metadata": {
    "_uuid": "371a454e40fc4f93effdbb703f2356011e1eedb3"
   },
   "outputs": [
    {
     "data": {
      "image/png": "[encoded data removed]",
      "text/plain": [
       "<Figure size 432x288 with 1 Axes>"
      ]
     },
     "metadata": {},
     "output_type": "display_data"
    }
   ],
   "source": [
    "# plot misclassification error vs k \n",
    "plot_train_cv_error(returned_pram,returned_pram_train,'BOW AUC vs n_neighbors',n_neighbors)\n",
    "plt.show()"
   ]
  },
  {
   "cell_type": "markdown",
   "metadata": {},
   "source": [
    "**Observation**\n",
    "\n",
    "We can see that when k was small i.e 1 model was overfitting; training AUC was 100% but CV AUC was lower around 49%. As we increased the k value model started converging to optimal value of k=41 with train auc 55% and cv auc 53%. We can see that the train and test difference is very less so model is well fitting on current feature. If we want to increased accuracy on unseen data further we need to add other important features or can do the feature engineering. In can of KNN features from word2vec is not being useful as it predicting similar to random model, so better to use BOW or TFIDF."
   ]
  },
  {
   "cell_type": "code",
   "execution_count": 138,
   "metadata": {
    "_uuid": "1990e0bbf3ea059c20427523b71ecf7d94247c81"
   },
   "outputs": [
    {
     "data": {
      "text/plain": [
       "KNeighborsClassifier(algorithm='auto', leaf_size=30, metric='minkowski',\n",
       "           metric_params=None, n_jobs=-1, n_neighbors=51, p=2,\n",
       "           weights='uniform')"
      ]
     },
     "execution_count": 138,
     "metadata": {},
     "output_type": "execute_result"
    }
   ],
   "source": [
    "#Fitting usig best k\n",
    "best_k=51\n",
    "knn = KNeighborsClassifier(n_neighbors=best_k,n_jobs=-1)\n",
    "knn.fit(train_svd, train_traget)"
   ]
  },
  {
   "cell_type": "code",
   "execution_count": 139,
   "metadata": {
    "_uuid": "a3c6c6812800539d0b5b3aa4f04ca1109b398e42"
   },
   "outputs": [],
   "source": [
    "# ROC AUC Curve\n",
    "y_true_train = train_traget\n",
    "y_probas_train = knn.predict_proba(train_svd)\n",
    "y_true_test = test_target\n",
    "y_probas_test = knn.predict_proba(test_svd)"
   ]
  },
  {
   "cell_type": "code",
   "execution_count": 140,
   "metadata": {
    "_uuid": "ba4c2335a7aefc2f4d7608948d29885aa59284fe"
   },
   "outputs": [],
   "source": [
    "def plot_train_test_ROC(y_true_train,y_probas_train,y_true_test,y_probas_test):\n",
    "    fpr1, tpr1, _ = metrics.roc_curve(y_true_train,  y_probas_train[:,1])\n",
    "    auc1 = metrics.roc_auc_score(y_true_train, y_probas_train[:,1])\n",
    "    plt.plot(fpr1,tpr1,label=\"Train AUC, auc=\"+str(auc1))\n",
    "    fpr2, tpr2, _ = metrics.roc_curve(y_true_test,  y_probas_test[:,1])\n",
    "    auc2 = metrics.roc_auc_score(y_true_test, y_probas_test[:,1])\n",
    "    plt.plot(fpr2,tpr2,label=\"Test, auc=\"+str(auc2))\n",
    "    plt.legend(loc=4)\n",
    "    plt.title(\"Train and Test AUC\")\n",
    "    plt.grid()\n",
    "    plt.xlabel('False Positive rate')\n",
    "    plt.ylabel('True positive rate')\n",
    "    return plt"
   ]
  },
  {
   "cell_type": "code",
   "execution_count": 141,
   "metadata": {
    "_uuid": "f41d5d404d422db1ffe7efe6bc81177bf5fea6a6"
   },
   "outputs": [
    {
     "data": {
      "image/png": "[encoded data removed]",
      "text/plain": [
       "<Figure size 432x288 with 1 Axes>"
      ]
     },
     "metadata": {},
     "output_type": "display_data"
    }
   ],
   "source": [
    "plot_train_test_ROC(y_true_train,y_probas_train,y_true_test,y_probas_test)\n",
    "plt.show()"
   ]
  },
  {
   "cell_type": "markdown",
   "metadata": {},
   "source": [
    "**Observation**\n",
    "\n",
    "We can see that the train and test auc is having some difference, so model is not well fitting on current feature. If we want to increase the accuracy further we need to add some new features or need to do feature engineering. "
   ]
  },
  {
   "cell_type": "code",
   "execution_count": 142,
   "metadata": {
    "_uuid": "3e20bfe6e1851ab9194745600fe13b1815d0b3da"
   },
   "outputs": [],
   "source": [
    "# Plotting Confusion matrix on test data\n",
    "import seaborn as sn\n",
    "from sklearn.metrics import confusion_matrix\n",
    "confm = confusion_matrix(y_true_test, knn.predict(test_svd))"
   ]
  },
  {
   "cell_type": "code",
   "execution_count": 143,
   "metadata": {
    "_uuid": "ae223629e4be8ee804e1e0571efbf2bd9d25f064"
   },
   "outputs": [
    {
     "data": {
      "text/plain": [
       "[Text(0,0.5,'0'), Text(0,1.5,'1')]"
      ]
     },
     "execution_count": 143,
     "metadata": {},
     "output_type": "execute_result"
    },
    {
     "data": {
      "image/png": "[encoded data removed]",
      "text/plain": [
       "<Figure size 432x288 with 2 Axes>"
      ]
     },
     "metadata": {},
     "output_type": "display_data"
    }
   ],
   "source": [
    "ax= plt.subplot()\n",
    "sns.heatmap(confm, annot=True, ax = ax,annot_kws={\"size\": 16},fmt=\"d\"); #annot=True to annotate cells\n",
    "\n",
    "# labels, title and ticks\n",
    "ax.set_xlabel('Predicted labels');ax.set_ylabel('True labels'); \n",
    "ax.set_title('Confusion Matrix of Test data'); \n",
    "ax.xaxis.set_ticklabels(['0', '1']); ax.yaxis.set_ticklabels(['0', '1'])"
   ]
  },
  {
   "cell_type": "markdown",
   "metadata": {
    "_uuid": "587bf0aa321247812e04e060d722f0e35d51fb7f"
   },
   "source": [
    "**Observation**\n",
    "\n",
    "Here we have almost similar no of elements at diagonal than off diagonal i.e similar value of TP and TN compare to FP and FN, so model is not working fine with the current features. If we want to increase TP and TN further we need to do feature engineering."
   ]
  },
  {
   "cell_type": "markdown",
   "metadata": {},
   "source": [
    "# 8. Applying KNN kd-tree on AVG W2V, SET 6"
   ]
  },
  {
   "cell_type": "code",
   "execution_count": 144,
   "metadata": {
    "_uuid": "77f66ad7903aa0352ebf922cae3552ad9a33f9ec"
   },
   "outputs": [
    {
     "name": "stderr",
     "output_type": "stream",
     "text": [
      "\n",
      "\n",
      "  0%|          | 0/13 [00:00<?, ?it/s]\u001b[A\u001b[A"
     ]
    },
    {
     "name": "stdout",
     "output_type": "stream",
     "text": [
      " Alpha value:  1  AUC:  0.4983333333333333  Acc:  49.833333333333336  auc_train  0.9997863247863248\n"
     ]
    },
    {
     "name": "stderr",
     "output_type": "stream",
     "text": [
      "\n",
      "\n",
      "  8%|▊         | 1/13 [00:03<00:41,  3.48s/it]\u001b[A\u001b[A\n",
      "\n",
      " 15%|█▌        | 2/13 [00:12<00:55,  5.07s/it]\u001b[A\u001b[A"
     ]
    },
    {
     "name": "stdout",
     "output_type": "stream",
     "text": [
      " Alpha value:  3  AUC:  0.5031410256410257  Acc:  50.31410256410257  auc_train  0.7501068376068376\n"
     ]
    },
    {
     "name": "stderr",
     "output_type": "stream",
     "text": [
      "\n",
      "\n",
      " 23%|██▎       | 3/13 [00:22<01:06,  6.66s/it]\u001b[A\u001b[A"
     ]
    },
    {
     "name": "stdout",
     "output_type": "stream",
     "text": [
      " Alpha value:  5  AUC:  0.5041025641025642  Acc:  50.410256410256416  auc_train  0.6897008547008546\n"
     ]
    },
    {
     "name": "stderr",
     "output_type": "stream",
     "text": [
      "\n",
      "\n",
      " 31%|███       | 4/13 [00:34<01:13,  8.21s/it]\u001b[A\u001b[A"
     ]
    },
    {
     "name": "stdout",
     "output_type": "stream",
     "text": [
      " Alpha value:  7  AUC:  0.5017307692307692  Acc:  50.17307692307692  auc_train  0.6591452991452992\n"
     ]
    },
    {
     "name": "stderr",
     "output_type": "stream",
     "text": [
      "\n",
      "\n",
      " 38%|███▊      | 5/13 [00:46<01:15,  9.46s/it]\u001b[A\u001b[A"
     ]
    },
    {
     "name": "stdout",
     "output_type": "stream",
     "text": [
      " Alpha value:  9  AUC:  0.5019871794871794  Acc:  50.198717948717956  auc_train  0.6394871794871795\n",
      " Alpha value:  11  AUC:  0.5033974358974359  Acc:  50.33974358974359  auc_train  0.6232051282051282\n"
     ]
    },
    {
     "name": "stderr",
     "output_type": "stream",
     "text": [
      "\n",
      "\n",
      " 46%|████▌     | 6/13 [01:00<01:14, 10.59s/it]\u001b[A\u001b[A\n",
      "\n",
      " 54%|█████▍    | 7/13 [01:13<01:09, 11.52s/it]\u001b[A\u001b[A"
     ]
    },
    {
     "name": "stdout",
     "output_type": "stream",
     "text": [
      " Alpha value:  13  AUC:  0.5016025641025641  Acc:  50.16025641025641  auc_train  0.6125\n",
      " Alpha value:  15  AUC:  0.5027564102564103  Acc:  50.27564102564103  auc_train  0.6039529914529915\n"
     ]
    },
    {
     "name": "stderr",
     "output_type": "stream",
     "text": [
      "\n",
      "\n",
      " 62%|██████▏   | 8/13 [01:28<01:01, 12.36s/it]\u001b[A\u001b[A"
     ]
    },
    {
     "name": "stdout",
     "output_type": "stream",
     "text": [
      " Alpha value:  17  AUC:  0.5042307692307693  Acc:  50.42307692307693  auc_train  0.5985683760683761\n"
     ]
    },
    {
     "name": "stderr",
     "output_type": "stream",
     "text": [
      "\n",
      "\n",
      " 69%|██████▉   | 9/13 [01:42<00:52, 13.13s/it]\u001b[A\u001b[A\n",
      "\n",
      " 77%|███████▋  | 10/13 [01:58<00:41, 13.86s/it]\u001b[A\u001b[A"
     ]
    },
    {
     "name": "stdout",
     "output_type": "stream",
     "text": [
      " Alpha value:  21  AUC:  0.5076282051282051  Acc:  50.76282051282052  auc_train  0.5877136752136752\n"
     ]
    },
    {
     "name": "stderr",
     "output_type": "stream",
     "text": [
      "\n",
      "\n"
     ]
    },
    {
     "name": "stdout",
     "output_type": "stream",
     "text": [
      " Alpha value:  33  AUC:  0.5066025641025641  Acc:  50.66025641025641  auc_train  0.5693589743589744\n"
     ]
    },
    {
     "name": "stderr",
     "output_type": "stream",
     "text": [
      " 85%|████████▍ | 11/13 [02:16<00:30, 15.11s/it]\u001b[A\u001b[A"
     ]
    },
    {
     "name": "stdout",
     "output_type": "stream",
     "text": [
      " Alpha value:  35  AUC:  0.505897435897436  Acc:  50.589743589743584  auc_train  0.5676282051282051\n"
     ]
    },
    {
     "name": "stderr",
     "output_type": "stream",
     "text": [
      "\n",
      "\n",
      " 92%|█████████▏| 12/13 [02:34<00:16, 16.03s/it]\u001b[A\u001b[A\n",
      "\n",
      "100%|██████████| 13/13 [02:53<00:00, 16.93s/it]\u001b[A\u001b[A\n",
      "\n",
      "\u001b[A\u001b[A"
     ]
    },
    {
     "name": "stdout",
     "output_type": "stream",
     "text": [
      " Alpha value:  41  AUC:  0.5060897435897436  Acc:  50.60897435897436  auc_train  0.5623931623931624\n"
     ]
    }
   ],
   "source": [
    "from sklearn.neighbors import KNeighborsClassifier\n",
    "from sklearn.metrics import accuracy_score\n",
    "from sklearn.metrics import roc_auc_score\n",
    "#Simple Cross Validation\n",
    "n_neighbors=[1,3,5,7,9,11,13,15,17,21,33,35,41]\n",
    "returned_pram=dict()\n",
    "returned_pram_train=dict()\n",
    "for i in tqdm(n_neighbors):\n",
    "    # instantiate learning model (k = 30)\n",
    "    knn = KNeighborsClassifier(n_neighbors=i,algorithm='kd_tree',n_jobs=-1)\n",
    "\n",
    "    # fitting the model on crossvalidation train\n",
    "    knn.fit(train_svd, train_traget)\n",
    "\n",
    "    # predict the response on the crossvalidation train\n",
    "    pred_cv = knn.predict(cv_svd)\n",
    "\n",
    "    # evaluate CV accuracy\n",
    "    acc_cv = accuracy_score(cv_target, pred_cv, normalize=True) * float(100)\n",
    "    auc_cv=roc_auc_score(cv_target, pred_cv)\n",
    "    auc_train=roc_auc_score(train_traget, knn.predict(train_svd))\n",
    "    print(\" Alpha value: \",i,\" AUC: \",auc_cv,\" Acc: \",acc_cv,\" auc_train \",auc_train)\n",
    "    returned_pram.update({i:auc_cv})\n",
    "    returned_pram_train.update({i:auc_train})\n",
    "    gc.collect()\n",
    "    "
   ]
  },
  {
   "cell_type": "code",
   "execution_count": 145,
   "metadata": {
    "_uuid": "fbbcf4a324d7874510d5413882e4fe90798a4cbd"
   },
   "outputs": [],
   "source": [
    "# Method to plot train and CV Error\n",
    "def plot_train_cv_error(test_map,train_map,title,alpha):\n",
    "    plt.plot(list(test_map.keys()), test_map.values(),label='CV_AUC')\n",
    "    plt.plot(list(train_map.keys()), train_map.values(),label='Train_AUC')\n",
    "#     plt.semilogx(alpha, train_map.values(), label='Train_AUC')\n",
    "#     plt.semilogx(alpha, test_map.values(), label='CV_AUC')\n",
    "    plt.xlabel('k value')\n",
    "    plt.ylabel('AUC')\n",
    "    plt.title(title)\n",
    "    plt.legend()\n",
    "    plt.xticks(n_neighbors)\n",
    "    plt.grid()\n",
    "    return plt"
   ]
  },
  {
   "cell_type": "code",
   "execution_count": 146,
   "metadata": {
    "_uuid": "ba472fcf2daf47765b4ad0233aa624a363931e21"
   },
   "outputs": [
    {
     "data": {
      "image/png": "[encoded data removed]",
      "text/plain": [
       "<Figure size 432x288 with 1 Axes>"
      ]
     },
     "metadata": {},
     "output_type": "display_data"
    }
   ],
   "source": [
    "# plot misclassification error vs k \n",
    "plot_train_cv_error(returned_pram,returned_pram_train,'BOW AUC vs n_neighbors',n_neighbors)\n",
    "plt.show()"
   ]
  },
  {
   "cell_type": "markdown",
   "metadata": {},
   "source": [
    "**Observation**\n",
    "\n",
    "We can see that when k was small i.e 1 model was overfitting; training AUC was 100% but CV AUC was lower around 49%. As we increased the k value model started converging to optimal value of k=41 with train auc 55% and cv auc 53%. We can see that the train and test difference is very less so model is well fitting on current feature. If we want to increased accuracy on unseen data further we need to add other important features or can do the feature engineering. In can of KNN features from word2vec is not being useful as it predicting similar to random model, so better to use BOW or TFIDF."
   ]
  },
  {
   "cell_type": "code",
   "execution_count": 147,
   "metadata": {
    "_uuid": "44643a3c13f1efa0ae2214a169da9edec688c838"
   },
   "outputs": [
    {
     "data": {
      "text/plain": [
       "KNeighborsClassifier(algorithm='kd_tree', leaf_size=30, metric='minkowski',\n",
       "           metric_params=None, n_jobs=-1, n_neighbors=41, p=2,\n",
       "           weights='uniform')"
      ]
     },
     "execution_count": 147,
     "metadata": {},
     "output_type": "execute_result"
    }
   ],
   "source": [
    "#Fitting usig best k\n",
    "best_k=41\n",
    "knn = KNeighborsClassifier(n_neighbors=best_k,algorithm='kd_tree',n_jobs=-1)\n",
    "knn.fit(train_svd, train_traget)"
   ]
  },
  {
   "cell_type": "code",
   "execution_count": 148,
   "metadata": {
    "_uuid": "9e87f93ab0b873f84a3199c72f71c09befb477b0"
   },
   "outputs": [],
   "source": [
    "# ROC AUC Curve\n",
    "y_true_train = train_traget\n",
    "y_probas_train = knn.predict_proba(train_svd)\n",
    "y_true_test = test_target\n",
    "y_probas_test = knn.predict_proba(test_svd)"
   ]
  },
  {
   "cell_type": "code",
   "execution_count": 149,
   "metadata": {
    "_uuid": "4093aae50f36ba4b0e14e7bae39067cf7edbab48"
   },
   "outputs": [],
   "source": [
    "def plot_train_test_ROC(y_true_train,y_probas_train,y_true_test,y_probas_test):\n",
    "    fpr1, tpr1, _ = metrics.roc_curve(y_true_train,  y_probas_train[:,1])\n",
    "    auc1 = metrics.roc_auc_score(y_true_train, y_probas_train[:,1])\n",
    "    plt.plot(fpr1,tpr1,label=\"Train AUC, auc=\"+str(auc1))\n",
    "    fpr2, tpr2, _ = metrics.roc_curve(y_true_test,  y_probas_test[:,1])\n",
    "    auc2 = metrics.roc_auc_score(y_true_test, y_probas_test[:,1])\n",
    "    plt.plot(fpr2,tpr2,label=\"Test, auc=\"+str(auc2))\n",
    "    plt.legend(loc=4)\n",
    "    plt.title(\"Train and Test AUC\")\n",
    "    plt.grid()\n",
    "    plt.xlabel('False Positive rate')\n",
    "    plt.ylabel('True positive rate')\n",
    "    return plt"
   ]
  },
  {
   "cell_type": "code",
   "execution_count": 150,
   "metadata": {
    "_uuid": "de3f5bd5976881312be8bdbb7452447c9c0229b9"
   },
   "outputs": [
    {
     "data": {
      "image/png": "[encoded data removed]",
      "text/plain": [
       "<Figure size 432x288 with 1 Axes>"
      ]
     },
     "metadata": {},
     "output_type": "display_data"
    }
   ],
   "source": [
    "plot_train_test_ROC(y_true_train,y_probas_train,y_true_test,y_probas_test)\n",
    "plt.show()"
   ]
  },
  {
   "cell_type": "markdown",
   "metadata": {},
   "source": [
    "**Observation**\n",
    "\n",
    "We can see that the train and test auc is having some difference, so model is not well fitting on current feature. If we want to increase the accuracy further we need to add some new features or need to do feature engineering."
   ]
  },
  {
   "cell_type": "code",
   "execution_count": 151,
   "metadata": {
    "_uuid": "02fbb6640f1626502f943665205b3d7213538e40"
   },
   "outputs": [],
   "source": [
    "# Plotting Confusion matrix on test data\n",
    "import seaborn as sn\n",
    "from sklearn.metrics import confusion_matrix\n",
    "confm = confusion_matrix(y_true_test, knn.predict(test_svd))"
   ]
  },
  {
   "cell_type": "code",
   "execution_count": 152,
   "metadata": {
    "_uuid": "afa6fe56279016ef93a78c2adcb0008f9606b594"
   },
   "outputs": [
    {
     "data": {
      "text/plain": [
       "[Text(0,0.5,'0'), Text(0,1.5,'1')]"
      ]
     },
     "execution_count": 152,
     "metadata": {},
     "output_type": "execute_result"
    },
    {
     "data": {
      "image/png": "[encoded data removed]",
      "text/plain": [
       "<Figure size 432x288 with 2 Axes>"
      ]
     },
     "metadata": {},
     "output_type": "display_data"
    }
   ],
   "source": [
    "ax= plt.subplot()\n",
    "sns.heatmap(confm, annot=True, ax = ax,annot_kws={\"size\": 16},fmt=\"d\"); #annot=True to annotate cells\n",
    "\n",
    "# labels, title and ticks\n",
    "ax.set_xlabel('Predicted labels');ax.set_ylabel('True labels'); \n",
    "ax.set_title('Confusion Matrix of Test data'); \n",
    "ax.xaxis.set_ticklabels(['0', '1']); ax.yaxis.set_ticklabels(['0', '1'])"
   ]
  },
  {
   "cell_type": "markdown",
   "metadata": {
    "_uuid": "0561d30ea06f2ee2e7c5da2147360fe74d03aeee"
   },
   "source": [
    "**Observation**"
   ]
  },
  {
   "cell_type": "markdown",
   "metadata": {
    "_uuid": "310541613aa2f886390017f35b04902234005c16"
   },
   "source": [
    "Here we have almost similar no of elements at diagonal than off diagonal i.e similar value of TP and TN compare to FP and FN, so model is not working fine with the current features. If we want to increase TP and TN further we need to do feature engineering."
   ]
  },
  {
   "cell_type": "markdown",
   "metadata": {
    "_uuid": "1ff0ebadedae9a8a20780339bcd7c489a7351da4"
   },
   "source": [
    "# Word2vec TFIDF "
   ]
  },
  {
   "cell_type": "code",
   "execution_count": 70,
   "metadata": {
    "_uuid": "1a7456a4560d7b991fdd2a0b68d84ad2902c23db"
   },
   "outputs": [],
   "source": [
    "#Word2vec TFIDF\n",
    "# S = [\"abc def pqr\", \"def def def abc\", \"pqr pqr def\"]\n",
    "model = TfidfVectorizer()\n",
    "tf_idf_matrix = model.fit_transform(clean_data['CleanedText'].values)\n",
    "# we are converting a dictionary with word as a key, and the idf as a value\n",
    "dictionary = dict(zip(model.get_feature_names(), list(model.idf_)))"
   ]
  },
  {
   "cell_type": "code",
   "execution_count": 71,
   "metadata": {
    "_uuid": "d227ce82a716977b5152a680c6808a315167096d",
    "scrolled": true
   },
   "outputs": [
    {
     "name": "stderr",
     "output_type": "stream",
     "text": [
      "100%|█████████████████████████████████████████████████████████████████████████| 364171/364171 [09:18<00:00, 651.49it/s]\n"
     ]
    }
   ],
   "source": [
    "# TF-IDF weighted Word2Vec\n",
    "tfidf_feat = model.get_feature_names() # tfidf words/col-names\n",
    "# final_tf_idf is the sparse matrix with row= sentence, col=word and cell_val = tfidf\n",
    "\n",
    "tfidf_sent_vectors = []; # the tfidf-w2v for each sentence/review is stored in this list\n",
    "row=0;\n",
    "for sent in tqdm(list_of_sent): # for each review/sentence \n",
    "    sent_vec = np.zeros(50) # as word vectors are of zero length\n",
    "    weight_sum =0; # num of words with a valid vector in the sentence/review\n",
    "    for word in sent: # for each word in a review/sentence\n",
    "        if word in w2v_words:\n",
    "            vec = w2v_model.wv[word]\n",
    "#             tf_idf = tf_idf_matrix[row, tfidf_feat.index(word)]\n",
    "            # to reduce the computation we are \n",
    "            # dictionary[word] = idf value of word in whole courpus\n",
    "            # sent.count(word) = tf valeus of word in this review\n",
    "            tf_idf = dictionary[word]*(sent.count(word)/len(sent))\n",
    "            sent_vec += (vec * tf_idf)\n",
    "            weight_sum += tf_idf\n",
    "    if weight_sum != 0:\n",
    "        sent_vec /= weight_sum\n",
    "    tfidf_sent_vectors.append(sent_vec)\n",
    "    row += 1"
   ]
  },
  {
   "cell_type": "code",
   "execution_count": 72,
   "metadata": {
    "_uuid": "8b4ee21fc14fe7ec5d21ae1a53a53d591cf92a49"
   },
   "outputs": [],
   "source": [
    "tfidf_w2v_df=pd.DataFrame(tfidf_sent_vectors)"
   ]
  },
  {
   "cell_type": "code",
   "execution_count": 86,
   "metadata": {
    "_uuid": "0e7a82a2cca369261a7aeb13147017c432c3aa50"
   },
   "outputs": [
    {
     "data": {
      "text/plain": [
       "(364171, 52)"
      ]
     },
     "execution_count": 86,
     "metadata": {},
     "output_type": "execute_result"
    }
   ],
   "source": [
    "gc.collect()\n",
    "tfidf_w2v_df.shape"
   ]
  },
  {
   "cell_type": "code",
   "execution_count": 87,
   "metadata": {},
   "outputs": [],
   "source": [
    "tfidf_w2v_df.to_csv(\"tfidf_w2v_df.csv\",index=False)"
   ]
  },
  {
   "cell_type": "code",
   "execution_count": 74,
   "metadata": {
    "_uuid": "19e93a86fb4eee0e081a25b0a9fda0629adf8fa0"
   },
   "outputs": [],
   "source": [
    "tfidf_w2v_df[['Score','Time']]=final[['Score','Time']]"
   ]
  },
  {
   "cell_type": "code",
   "execution_count": 75,
   "metadata": {
    "_uuid": "7dd4439c405241410b8943c089f8a21d823e9339"
   },
   "outputs": [
    {
     "data": {
      "text/plain": [
       "1.0    211030\n",
       "0.0     39688\n",
       "Name: Score, dtype: int64"
      ]
     },
     "execution_count": 75,
     "metadata": {},
     "output_type": "execute_result"
    }
   ],
   "source": [
    "# Checking the positive and negative labels\n",
    "tfidf_w2v_df['Score'].value_counts()"
   ]
  },
  {
   "cell_type": "markdown",
   "metadata": {},
   "source": [
    "**Splitting TFIDF into train, cv and test**"
   ]
  },
  {
   "cell_type": "code",
   "execution_count": 76,
   "metadata": {
    "_uuid": "7459ecaa286882c673bfa6d501708ea8f0cded61"
   },
   "outputs": [],
   "source": [
    "#Randomly selecting 50k records\n",
    "filter_data_positive=tfidf_w2v_df[tfidf_w2v_df.Score==1].sample(39000,random_state=17)\n",
    "filter_data_positive.sort_values(by='Time',inplace=True,ascending=True)\n",
    "\n",
    "#selecting all -ve records records\n",
    "filter_data_negative=tfidf_w2v_df[tfidf_w2v_df.Score==0].sample(39000,random_state=17)\n",
    "filter_data_negative.sort_values(by='Time',inplace=True,ascending=True)"
   ]
  },
  {
   "cell_type": "code",
   "execution_count": 77,
   "metadata": {
    "_uuid": "3834d094f9ff846817386bd2333c56836562e4cc"
   },
   "outputs": [
    {
     "name": "stdout",
     "output_type": "stream",
     "text": [
      "Total_positive_data (39000, 52)\n",
      "train (23400, 52) CV (7800, 52) test (7800, 52)\n"
     ]
    }
   ],
   "source": [
    "# Splitting Train,CV and Test for positive data\n",
    "row=filter_data_positive.shape[0]\n",
    "split=int(row*0.6)\n",
    "train_data_positive=filter_data_positive[:split]\n",
    "cv_data_positive=filter_data_positive[split:int(row*0.8)]\n",
    "test_data_positive=filter_data_positive[int(row*0.8):row]\n",
    "print(\"Total_positive_data\",filter_data_positive.shape)\n",
    "print(\"train\",train_data_positive.shape,\"CV\",cv_data_positive.shape,\"test\",test_data_positive.shape)"
   ]
  },
  {
   "cell_type": "code",
   "execution_count": 78,
   "metadata": {
    "_uuid": "dcd6f34d22c63e0e5c76b704fc1ec6423f9cd332"
   },
   "outputs": [
    {
     "name": "stdout",
     "output_type": "stream",
     "text": [
      "Total_negative_data (39000, 52)\n",
      "train (23400, 52) CV (7800, 52) test (7800, 52)\n"
     ]
    }
   ],
   "source": [
    "# Splitting Train,CV and Test for -ve data\n",
    "row=filter_data_negative.shape[0]\n",
    "split=int(row*0.6)\n",
    "train_data_negative=filter_data_negative[:split]\n",
    "cv_data_negative=filter_data_negative[split:int(row*0.8)]\n",
    "test_data_negative=filter_data_negative[int(row*0.8):row]\n",
    "print(\"Total_negative_data\",filter_data_negative.shape)\n",
    "print(\"train\",train_data_negative.shape,\"CV\",cv_data_negative.shape,\"test\",test_data_negative.shape)"
   ]
  },
  {
   "cell_type": "code",
   "execution_count": 79,
   "metadata": {
    "_uuid": "1835abace7790e7941e960e54a9c0672680e4852"
   },
   "outputs": [
    {
     "name": "stdout",
     "output_type": "stream",
     "text": [
      "(46800, 52)\n"
     ]
    },
    {
     "data": {
      "text/plain": [
       "1.0    23400\n",
       "0.0    23400\n",
       "Name: Score, dtype: int64"
      ]
     },
     "execution_count": 79,
     "metadata": {},
     "output_type": "execute_result"
    }
   ],
   "source": [
    "# Combining +ve and -ve train data and sorting based on time\n",
    "train_data=np.vstack((train_data_positive, train_data_negative))\n",
    "train_data=pd.DataFrame(train_data)\n",
    "train_data.columns=tfidf_w2v_df.columns\n",
    "train_data.sort_values(by='Time',inplace=True,ascending=True)\n",
    "print(train_data.shape)\n",
    "# Checking the positive and negative labels\n",
    "train_data['Score'].value_counts()"
   ]
  },
  {
   "cell_type": "code",
   "execution_count": 80,
   "metadata": {
    "_uuid": "0b025223f1c21d0b3e73fff8b2438f6f3010dae3"
   },
   "outputs": [
    {
     "name": "stdout",
     "output_type": "stream",
     "text": [
      "(15600, 52)\n"
     ]
    },
    {
     "data": {
      "text/plain": [
       "0.0    7800\n",
       "1.0    7800\n",
       "Name: Score, dtype: int64"
      ]
     },
     "execution_count": 80,
     "metadata": {},
     "output_type": "execute_result"
    }
   ],
   "source": [
    "# Combining +ve and -ve CV data and sorting based on time\n",
    "cv_data=np.vstack((cv_data_positive,cv_data_negative))\n",
    "cv_data=pd.DataFrame(cv_data)\n",
    "cv_data.columns=tfidf_w2v_df.columns\n",
    "cv_data.sort_values(by='Time',inplace=True,ascending=True)\n",
    "print(cv_data.shape)\n",
    "# Checking the positive and negative labels\n",
    "cv_data['Score'].value_counts()"
   ]
  },
  {
   "cell_type": "code",
   "execution_count": 81,
   "metadata": {
    "_uuid": "102ea3350eebd21a17b226dac58619e58e5bae7d"
   },
   "outputs": [
    {
     "name": "stdout",
     "output_type": "stream",
     "text": [
      "(15600, 52)\n"
     ]
    },
    {
     "data": {
      "text/plain": [
       "0.0    7800\n",
       "1.0    7800\n",
       "Name: Score, dtype: int64"
      ]
     },
     "execution_count": 81,
     "metadata": {},
     "output_type": "execute_result"
    }
   ],
   "source": [
    "# Combining +ve and -ve test data and sorting based on time\n",
    "test_data=np.vstack((test_data_positive, test_data_negative))\n",
    "test_data=pd.DataFrame(test_data)\n",
    "test_data.columns=tfidf_w2v_df.columns\n",
    "test_data.sort_values(by='Time',inplace=True,ascending=True)\n",
    "print(test_data.shape)\n",
    "# Checking the positive and negative labels\n",
    "test_data['Score'].value_counts()"
   ]
  },
  {
   "cell_type": "code",
   "execution_count": 82,
   "metadata": {
    "_uuid": "c514574a57b56de40b44f3064972f991c3544440"
   },
   "outputs": [],
   "source": [
    "train_traget=train_data['Score'].astype('int')\n",
    "cv_target=cv_data['Score'].astype('int')\n",
    "test_target=test_data['Score'].astype('int')"
   ]
  },
  {
   "cell_type": "markdown",
   "metadata": {},
   "source": [
    "**SVD on TFIDF Word2Vec**"
   ]
  },
  {
   "cell_type": "code",
   "execution_count": 83,
   "metadata": {
    "_uuid": "b14c4aed07a7e093012e9fd57a7a9005346c193b"
   },
   "outputs": [
    {
     "data": {
      "text/plain": [
       "TruncatedSVD(algorithm='arpack', n_components=10, n_iter=5, random_state=None,\n",
       "       tol=0.0)"
      ]
     },
     "execution_count": 83,
     "metadata": {},
     "output_type": "execute_result"
    }
   ],
   "source": [
    "from sklearn.decomposition import TruncatedSVD\n",
    "svd_obj = TruncatedSVD(n_components=10, algorithm='arpack')\n",
    "svd_obj.fit(training_counts.asfptype())"
   ]
  },
  {
   "cell_type": "code",
   "execution_count": 84,
   "metadata": {
    "_uuid": "271bd96cf56ddae6de73e6986f8ecdd67346b37f"
   },
   "outputs": [],
   "source": [
    "from sklearn.decomposition import TruncatedSVD\n",
    "svd_obj = TruncatedSVD(n_components=10, algorithm='arpack')\n",
    "svd_obj.fit(train_data.iloc[:,:-2])\n",
    "train_svd = pd.DataFrame(svd_obj.transform(train_data.iloc[:,:-2]))\n",
    "cv_svd = pd.DataFrame(svd_obj.transform(cv_data.iloc[:,:-2]))\n",
    "test_svd = pd.DataFrame(svd_obj.transform(test_data.iloc[:,:-2]))\n",
    "#print(\" training_counts \",train_svd.shape,\"cv_counts \",cv_svd.shape,\"test_counts\",test_svd.shape)\n",
    "n_comp=10\n",
    "train_svd.columns = ['svd_desc_'+str(i+1) for i in range(n_comp)]\n",
    "cv_svd.columns = ['svd_desc_'+str(i+1) for i in range(n_comp)]\n",
    "test_svd.columns = ['svd_desc_'+str(i+1) for i in range(n_comp)]"
   ]
  },
  {
   "cell_type": "code",
   "execution_count": 172,
   "metadata": {
    "_uuid": "0408d2f5e2cd16afa6de7461dd83aac553465cb0"
   },
   "outputs": [
    {
     "data": {
      "text/html": [
       "<div>\n",
       "<style scoped>\n",
       "    .dataframe tbody tr th:only-of-type {\n",
       "        vertical-align: middle;\n",
       "    }\n",
       "\n",
       "    .dataframe tbody tr th {\n",
       "        vertical-align: top;\n",
       "    }\n",
       "\n",
       "    .dataframe thead th {\n",
       "        text-align: right;\n",
       "    }\n",
       "</style>\n",
       "<table border=\"1\" class=\"dataframe\">\n",
       "  <thead>\n",
       "    <tr style=\"text-align: right;\">\n",
       "      <th></th>\n",
       "      <th>svd_desc_1</th>\n",
       "      <th>svd_desc_2</th>\n",
       "      <th>svd_desc_3</th>\n",
       "      <th>svd_desc_4</th>\n",
       "      <th>svd_desc_5</th>\n",
       "      <th>svd_desc_6</th>\n",
       "      <th>svd_desc_7</th>\n",
       "      <th>svd_desc_8</th>\n",
       "      <th>svd_desc_9</th>\n",
       "      <th>svd_desc_10</th>\n",
       "    </tr>\n",
       "  </thead>\n",
       "  <tbody>\n",
       "    <tr>\n",
       "      <th>0</th>\n",
       "      <td>2.381292</td>\n",
       "      <td>2.541408</td>\n",
       "      <td>1.671134</td>\n",
       "      <td>0.260126</td>\n",
       "      <td>-0.456035</td>\n",
       "      <td>-0.600527</td>\n",
       "      <td>-0.723923</td>\n",
       "      <td>1.174698</td>\n",
       "      <td>1.173724</td>\n",
       "      <td>-0.108876</td>\n",
       "    </tr>\n",
       "    <tr>\n",
       "      <th>1</th>\n",
       "      <td>3.309644</td>\n",
       "      <td>1.431940</td>\n",
       "      <td>1.824377</td>\n",
       "      <td>1.070692</td>\n",
       "      <td>-1.384535</td>\n",
       "      <td>-0.663509</td>\n",
       "      <td>-0.091144</td>\n",
       "      <td>-0.787711</td>\n",
       "      <td>1.486785</td>\n",
       "      <td>0.400078</td>\n",
       "    </tr>\n",
       "  </tbody>\n",
       "</table>\n",
       "</div>"
      ],
      "text/plain": [
       "   svd_desc_1  svd_desc_2     ...       svd_desc_9  svd_desc_10\n",
       "0    2.381292    2.541408     ...         1.173724    -0.108876\n",
       "1    3.309644    1.431940     ...         1.486785     0.400078\n",
       "\n",
       "[2 rows x 10 columns]"
      ]
     },
     "execution_count": 172,
     "metadata": {},
     "output_type": "execute_result"
    }
   ],
   "source": [
    "train_svd.head(2)"
   ]
  },
  {
   "cell_type": "code",
   "execution_count": 85,
   "metadata": {
    "_uuid": "49827830b02de023962cde627aff6f7cfac2722a"
   },
   "outputs": [
    {
     "data": {
      "image/png": "[encoded data removed]",
      "text/plain": [
       "<Figure size 432x288 with 1 Axes>"
      ]
     },
     "metadata": {},
     "output_type": "display_data"
    }
   ],
   "source": [
    "# SVD Varience explained\n",
    "cum_var_explained = np.cumsum(svd_obj.explained_variance_ratio_)\n",
    "\n",
    "# Plot the SVD spectrum\n",
    "plt.figure(1, figsize=(6, 4))\n",
    "plt.clf()\n",
    "plt.plot(cum_var_explained, linewidth=2)\n",
    "plt.axis('tight')\n",
    "plt.grid()\n",
    "plt.xlabel('n_components')\n",
    "plt.title(\"varienced explain by 10 component of SVD\")\n",
    "plt.ylabel('Cumulative_explained_variance')\n",
    "plt.show()"
   ]
  },
  {
   "cell_type": "markdown",
   "metadata": {},
   "source": [
    "**Observation**\n",
    "\n",
    "We can see that with 10 compenents of SVD we are getting 65% variance on TFIDF Word2Vec data"
   ]
  },
  {
   "cell_type": "markdown",
   "metadata": {},
   "source": [
    "# 9. Applying KNN Brute force on TFIDF W2V, SET 7"
   ]
  },
  {
   "cell_type": "code",
   "execution_count": 174,
   "metadata": {
    "_uuid": "7e23df94b3e0e5194d8aa942881c4e68f67da4cc"
   },
   "outputs": [
    {
     "name": "stderr",
     "output_type": "stream",
     "text": [
      "\n",
      "\n",
      "  0%|          | 0/14 [00:00<?, ?it/s]\u001b[A\u001b[A"
     ]
    },
    {
     "name": "stdout",
     "output_type": "stream",
     "text": [
      " Alpha value:  1  AUC:  0.5027564102564103  Acc:  50.27564102564103  auc_train  0.9997863247863248\n"
     ]
    },
    {
     "name": "stderr",
     "output_type": "stream",
     "text": [
      "\n",
      "\n",
      "  7%|▋         | 1/14 [00:03<00:49,  3.83s/it]\u001b[A\u001b[A"
     ]
    },
    {
     "name": "stdout",
     "output_type": "stream",
     "text": [
      " Alpha value:  3  AUC:  0.5056410256410256  Acc:  50.56410256410256  auc_train  0.7546367521367522\n"
     ]
    },
    {
     "name": "stderr",
     "output_type": "stream",
     "text": [
      "\n",
      "\n",
      " 14%|█▍        | 2/14 [00:10<00:55,  4.61s/it]\u001b[A\u001b[A"
     ]
    },
    {
     "name": "stdout",
     "output_type": "stream",
     "text": [
      " Alpha value:  5  AUC:  0.5053205128205128  Acc:  50.532051282051285  auc_train  0.691474358974359\n"
     ]
    },
    {
     "name": "stderr",
     "output_type": "stream",
     "text": [
      "\n",
      "\n",
      " 21%|██▏       | 3/14 [00:17<01:00,  5.48s/it]\u001b[A\u001b[A\n",
      "\n"
     ]
    },
    {
     "name": "stdout",
     "output_type": "stream",
     "text": [
      " Alpha value:  7  AUC:  0.5051923076923077  Acc:  50.519230769230774  auc_train  0.6590598290598292\n"
     ]
    },
    {
     "name": "stderr",
     "output_type": "stream",
     "text": [
      " 29%|██▊       | 4/14 [00:26<01:03,  6.34s/it]\u001b[A\u001b[A"
     ]
    },
    {
     "name": "stdout",
     "output_type": "stream",
     "text": [
      " Alpha value:  9  AUC:  0.5072435897435897  Acc:  50.72435897435897  auc_train  0.6371794871794871\n"
     ]
    },
    {
     "name": "stderr",
     "output_type": "stream",
     "text": [
      "\n",
      "\n",
      " 36%|███▌      | 5/14 [00:35<01:04,  7.14s/it]\u001b[A\u001b[A\n",
      "\n"
     ]
    },
    {
     "name": "stdout",
     "output_type": "stream",
     "text": [
      " Alpha value:  11  AUC:  0.5048717948717949  Acc:  50.48717948717949  auc_train  0.6241880341880341\n"
     ]
    },
    {
     "name": "stderr",
     "output_type": "stream",
     "text": [
      " 43%|████▎     | 6/14 [00:44<01:02,  7.87s/it]\u001b[A\u001b[A\n",
      "\n"
     ]
    },
    {
     "name": "stdout",
     "output_type": "stream",
     "text": [
      " Alpha value:  13  AUC:  0.5057692307692309  Acc:  50.57692307692307  auc_train  0.6153418803418803\n"
     ]
    },
    {
     "name": "stderr",
     "output_type": "stream",
     "text": [
      " 50%|█████     | 7/14 [00:54<00:59,  8.50s/it]\u001b[A\u001b[A\n",
      "\n",
      " 57%|█████▋    | 8/14 [01:05<00:54,  9.06s/it]\u001b[A\u001b[A"
     ]
    },
    {
     "name": "stdout",
     "output_type": "stream",
     "text": [
      " Alpha value:  15  AUC:  0.5058333333333332  Acc:  50.583333333333336  auc_train  0.6076282051282051\n"
     ]
    },
    {
     "name": "stderr",
     "output_type": "stream",
     "text": [
      "\n",
      "\n"
     ]
    },
    {
     "name": "stdout",
     "output_type": "stream",
     "text": [
      " Alpha value:  17  AUC:  0.5028205128205128  Acc:  50.28205128205128  auc_train  0.5991880341880341\n"
     ]
    },
    {
     "name": "stderr",
     "output_type": "stream",
     "text": [
      " 64%|██████▍   | 9/14 [01:15<00:48,  9.60s/it]\u001b[A\u001b[A\n",
      "\n",
      " 71%|███████▏  | 10/14 [01:27<00:40, 10.13s/it]\u001b[A\u001b[A"
     ]
    },
    {
     "name": "stdout",
     "output_type": "stream",
     "text": [
      " Alpha value:  21  AUC:  0.506025641025641  Acc:  50.60256410256411  auc_train  0.5896794871794873\n"
     ]
    },
    {
     "name": "stderr",
     "output_type": "stream",
     "text": [
      "\n",
      "\n",
      " 79%|███████▊  | 11/14 [01:40<00:33, 11.01s/it]\u001b[A\u001b[A"
     ]
    },
    {
     "name": "stdout",
     "output_type": "stream",
     "text": [
      " Alpha value:  33  AUC:  0.5016666666666666  Acc:  50.16666666666667  auc_train  0.5711752136752136\n"
     ]
    },
    {
     "name": "stderr",
     "output_type": "stream",
     "text": [
      "\n",
      "\n"
     ]
    },
    {
     "name": "stdout",
     "output_type": "stream",
     "text": [
      " Alpha value:  35  AUC:  0.5001282051282051  Acc:  50.01282051282051  auc_train  0.5703632478632479\n"
     ]
    },
    {
     "name": "stderr",
     "output_type": "stream",
     "text": [
      " 86%|████████▌ | 12/14 [01:53<00:23, 11.70s/it]\u001b[A\u001b[A"
     ]
    },
    {
     "name": "stdout",
     "output_type": "stream",
     "text": [
      " Alpha value:  41  AUC:  0.4973076923076923  Acc:  49.730769230769226  auc_train  0.5648076923076922\n"
     ]
    },
    {
     "name": "stderr",
     "output_type": "stream",
     "text": [
      "\n",
      "\n",
      " 93%|█████████▎| 13/14 [02:07<00:12, 12.34s/it]\u001b[A\u001b[A"
     ]
    },
    {
     "name": "stdout",
     "output_type": "stream",
     "text": [
      " Alpha value:  51  AUC:  0.49788461538461537  Acc:  49.78846153846154  auc_train  0.5577991452991453\n"
     ]
    },
    {
     "name": "stderr",
     "output_type": "stream",
     "text": [
      "\n",
      "\n",
      "100%|██████████| 14/14 [02:22<00:00, 13.06s/it]\u001b[A\u001b[A\n",
      "\n",
      "\u001b[A\u001b[A"
     ]
    }
   ],
   "source": [
    "from sklearn.neighbors import KNeighborsClassifier\n",
    "from sklearn.metrics import accuracy_score\n",
    "from sklearn.metrics import roc_auc_score\n",
    "#Simple Cross Validation\n",
    "n_neighbors=[1,3,5,7,9,11,13,15,17,21,33,35,41,51]\n",
    "returned_pram=dict()\n",
    "returned_pram_train=dict()\n",
    "for i in tqdm(n_neighbors):\n",
    "    # instantiate learning model (k = 30)\n",
    "    knn = KNeighborsClassifier(n_neighbors=i,n_jobs=-1)\n",
    "\n",
    "    # fitting the model on crossvalidation train\n",
    "    knn.fit(train_svd, train_traget)\n",
    "\n",
    "    # predict the response on the crossvalidation train\n",
    "    pred_cv = knn.predict(cv_svd)\n",
    "\n",
    "    # evaluate CV accuracy\n",
    "    acc_cv = accuracy_score(cv_target, pred_cv, normalize=True) * float(100)\n",
    "    auc_cv=roc_auc_score(cv_target, pred_cv)\n",
    "    auc_train=roc_auc_score(train_traget, knn.predict(train_svd))\n",
    "    print(\" Alpha value: \",i,\" AUC: \",auc_cv,\" Acc: \",acc_cv,\" auc_train \",auc_train)\n",
    "    returned_pram.update({i:auc_cv})\n",
    "    returned_pram_train.update({i:auc_train})\n",
    "    gc.collect()\n",
    "    "
   ]
  },
  {
   "cell_type": "code",
   "execution_count": 175,
   "metadata": {
    "_uuid": "24a37d8eb912ee6a2c9d8053efe9171a59151f92"
   },
   "outputs": [],
   "source": [
    "# Method to plot train and CV Error\n",
    "def plot_train_cv_error(test_map,train_map,title,alpha):\n",
    "    plt.plot(list(test_map.keys()), test_map.values(),label='CV_AUC')\n",
    "    plt.plot(list(train_map.keys()), train_map.values(),label='Train_AUC')\n",
    "#     plt.semilogx(alpha, train_map.values(), label='Train_AUC')\n",
    "#     plt.semilogx(alpha, test_map.values(), label='CV_AUC')\n",
    "    plt.xlabel('k value')\n",
    "    plt.ylabel('AUC')\n",
    "    plt.title(title)\n",
    "    plt.legend()\n",
    "    plt.xticks(n_neighbors)\n",
    "    plt.grid()\n",
    "    return plt"
   ]
  },
  {
   "cell_type": "code",
   "execution_count": 177,
   "metadata": {
    "_uuid": "d68abd7f5fe6ffddf218e7daef78a1b69ad96c01"
   },
   "outputs": [
    {
     "data": {
      "image/png": "[encoded data removed]",
      "text/plain": [
       "<Figure size 432x288 with 1 Axes>"
      ]
     },
     "metadata": {},
     "output_type": "display_data"
    }
   ],
   "source": [
    "# plot misclassification error vs k \n",
    "plot_train_cv_error(returned_pram,returned_pram_train,'Word2Vec AUC vs n_neighbors',n_neighbors)\n",
    "plt.show()"
   ]
  },
  {
   "cell_type": "markdown",
   "metadata": {},
   "source": [
    "**Observation**\n",
    "\n",
    "We can see that when k was small i.e 1 model was overfitting; training AUC was 100% but CV AUC was lower around 49%. As we increased the k value model started converging to optimal value of k=41 with train auc 55% and cv auc 53%. We can see that the train and test difference is very less so model is well fitting on current feature. If we want to increased accuracy on unseen data further we need to add other important features or can do the feature engineering. In can of KNN features from word2vec is not being useful as it predicting similar to random model, so better to use BOW or TFIDF."
   ]
  },
  {
   "cell_type": "code",
   "execution_count": 178,
   "metadata": {
    "_uuid": "d25dd9d799c2e2ce5ac917eeb661d3a01551dc03"
   },
   "outputs": [
    {
     "data": {
      "text/plain": [
       "KNeighborsClassifier(algorithm='auto', leaf_size=30, metric='minkowski',\n",
       "           metric_params=None, n_jobs=-1, n_neighbors=51, p=2,\n",
       "           weights='uniform')"
      ]
     },
     "execution_count": 178,
     "metadata": {},
     "output_type": "execute_result"
    }
   ],
   "source": [
    "#Fitting usig best k\n",
    "best_k=51\n",
    "knn = KNeighborsClassifier(n_neighbors=best_k,n_jobs=-1)\n",
    "knn.fit(train_svd, train_traget)"
   ]
  },
  {
   "cell_type": "code",
   "execution_count": 179,
   "metadata": {
    "_uuid": "ca765a612a17ad4086076526afb1fa5bbf966c7a"
   },
   "outputs": [],
   "source": [
    "# ROC AUC Curve\n",
    "y_true_train = train_traget\n",
    "y_probas_train = knn.predict_proba(train_svd)\n",
    "y_true_test = test_target\n",
    "y_probas_test = knn.predict_proba(test_svd)"
   ]
  },
  {
   "cell_type": "code",
   "execution_count": 180,
   "metadata": {
    "_uuid": "ca47c26f937f283e71236199504bd2ba7ca69ccb"
   },
   "outputs": [],
   "source": [
    "def plot_train_test_ROC(y_true_train,y_probas_train,y_true_test,y_probas_test):\n",
    "    fpr1, tpr1, _ = metrics.roc_curve(y_true_train,  y_probas_train[:,1])\n",
    "    auc1 = metrics.roc_auc_score(y_true_train, y_probas_train[:,1])\n",
    "    plt.plot(fpr1,tpr1,label=\"Train AUC, auc=\"+str(auc1))\n",
    "    fpr2, tpr2, _ = metrics.roc_curve(y_true_test,  y_probas_test[:,1])\n",
    "    auc2 = metrics.roc_auc_score(y_true_test, y_probas_test[:,1])\n",
    "    plt.plot(fpr2,tpr2,label=\"Test, auc=\"+str(auc2))\n",
    "    plt.legend(loc=4)\n",
    "    plt.title(\"Train and Test AUC\")\n",
    "    plt.grid()\n",
    "    plt.xlabel('False Positive rate')\n",
    "    plt.ylabel('True positive rate')\n",
    "    return plt"
   ]
  },
  {
   "cell_type": "code",
   "execution_count": 181,
   "metadata": {
    "_uuid": "29d5691a910fd8892b1808d2e48e8d0e3f4cfdbb"
   },
   "outputs": [
    {
     "data": {
      "image/png": "[encoded data removed]",
      "text/plain": [
       "<Figure size 432x288 with 1 Axes>"
      ]
     },
     "metadata": {},
     "output_type": "display_data"
    }
   ],
   "source": [
    "plot_train_test_ROC(y_true_train,y_probas_train,y_true_test,y_probas_test)\n",
    "plt.show()"
   ]
  },
  {
   "cell_type": "markdown",
   "metadata": {},
   "source": [
    "**Observation**\n",
    "\n",
    "We can see that the train and test auc is having some difference, so model is not well fitting on current feature. If we want to increase the accuracy further we need to add some new features or need to do feature engineering."
   ]
  },
  {
   "cell_type": "code",
   "execution_count": 182,
   "metadata": {
    "_uuid": "ab300577a59a4b6e551c3d81ae21af47f8c97235"
   },
   "outputs": [],
   "source": [
    "# Plotting Confusion matrix on test data\n",
    "import seaborn as sn\n",
    "from sklearn.metrics import confusion_matrix\n",
    "confm = confusion_matrix(y_true_test, knn.predict(test_svd))"
   ]
  },
  {
   "cell_type": "code",
   "execution_count": 183,
   "metadata": {
    "_uuid": "4d034d69cf02c3198be93ffcfdd8b746ea6506db"
   },
   "outputs": [
    {
     "data": {
      "text/plain": [
       "[Text(0,0.5,'0'), Text(0,1.5,'1')]"
      ]
     },
     "execution_count": 183,
     "metadata": {},
     "output_type": "execute_result"
    },
    {
     "data": {
      "image/png": "[encoded data removed]",
      "text/plain": [
       "<Figure size 432x288 with 2 Axes>"
      ]
     },
     "metadata": {},
     "output_type": "display_data"
    }
   ],
   "source": [
    "ax= plt.subplot()\n",
    "sns.heatmap(confm, annot=True, ax = ax,annot_kws={\"size\": 16},fmt=\"d\"); #annot=True to annotate cells\n",
    "\n",
    "# labels, title and ticks\n",
    "ax.set_xlabel('Predicted labels');ax.set_ylabel('True labels'); \n",
    "ax.set_title('Confusion Matrix of Test data'); \n",
    "ax.xaxis.set_ticklabels(['0', '1']); ax.yaxis.set_ticklabels(['0', '1'])"
   ]
  },
  {
   "cell_type": "markdown",
   "metadata": {},
   "source": [
    "**Observation**\n",
    "\n",
    "Here we have almost similar no of elements at diagonal than off diagonal i.e similar value of TP and TN compare to FP and FN, so model is not working fine with the current features. If we want to increase TP and TN further we need to do feature engineering."
   ]
  },
  {
   "cell_type": "markdown",
   "metadata": {},
   "source": [
    "# 10. Applying KNN kd-tree on TFIDF W2V, SET 8"
   ]
  },
  {
   "cell_type": "code",
   "execution_count": 184,
   "metadata": {
    "_uuid": "f2e184b4547ce6f9c06f83581cca1bf094620d63"
   },
   "outputs": [
    {
     "name": "stderr",
     "output_type": "stream",
     "text": [
      "\n",
      "\n",
      "  0%|          | 0/13 [00:00<?, ?it/s]\u001b[A\u001b[A"
     ]
    },
    {
     "name": "stdout",
     "output_type": "stream",
     "text": [
      " Alpha value:  1  AUC:  0.5027564102564103  Acc:  50.27564102564103  auc_train  0.9997863247863248\n"
     ]
    },
    {
     "name": "stderr",
     "output_type": "stream",
     "text": [
      "\n",
      "\n",
      "  8%|▊         | 1/13 [00:02<00:32,  2.75s/it]\u001b[A\u001b[A\n",
      "\n",
      " 15%|█▌        | 2/13 [00:11<00:48,  4.45s/it]\u001b[A\u001b[A"
     ]
    },
    {
     "name": "stdout",
     "output_type": "stream",
     "text": [
      " Alpha value:  3  AUC:  0.5056410256410256  Acc:  50.56410256410256  auc_train  0.7546367521367522\n"
     ]
    },
    {
     "name": "stderr",
     "output_type": "stream",
     "text": [
      "\n",
      "\n",
      " 23%|██▎       | 3/13 [00:21<01:01,  6.15s/it]\u001b[A\u001b[A"
     ]
    },
    {
     "name": "stdout",
     "output_type": "stream",
     "text": [
      " Alpha value:  5  AUC:  0.5053205128205128  Acc:  50.532051282051285  auc_train  0.691474358974359\n"
     ]
    },
    {
     "name": "stderr",
     "output_type": "stream",
     "text": [
      "\n",
      "\n",
      " 31%|███       | 4/13 [00:32<01:08,  7.65s/it]\u001b[A\u001b[A"
     ]
    },
    {
     "name": "stdout",
     "output_type": "stream",
     "text": [
      " Alpha value:  7  AUC:  0.5051923076923077  Acc:  50.519230769230774  auc_train  0.6590598290598292\n",
      " Alpha value:  9  AUC:  0.5072435897435897  Acc:  50.72435897435897  auc_train  0.6371794871794871\n"
     ]
    },
    {
     "name": "stderr",
     "output_type": "stream",
     "text": [
      "\n",
      "\n",
      " 38%|███▊      | 5/13 [00:44<01:11,  8.94s/it]\u001b[A\u001b[A\n",
      "\n"
     ]
    },
    {
     "name": "stdout",
     "output_type": "stream",
     "text": [
      " Alpha value:  11  AUC:  0.5048717948717949  Acc:  50.48717948717949  auc_train  0.6241880341880341\n"
     ]
    },
    {
     "name": "stderr",
     "output_type": "stream",
     "text": [
      " 46%|████▌     | 6/13 [00:57<01:10, 10.08s/it]\u001b[A\u001b[A"
     ]
    },
    {
     "name": "stdout",
     "output_type": "stream",
     "text": [
      " Alpha value:  13  AUC:  0.5057692307692309  Acc:  50.57692307692307  auc_train  0.6153418803418803\n"
     ]
    },
    {
     "name": "stderr",
     "output_type": "stream",
     "text": [
      "\n",
      "\n",
      " 54%|█████▍    | 7/13 [01:10<01:06, 11.06s/it]\u001b[A\u001b[A"
     ]
    },
    {
     "name": "stdout",
     "output_type": "stream",
     "text": [
      " Alpha value:  15  AUC:  0.5058333333333332  Acc:  50.583333333333336  auc_train  0.6076282051282051\n"
     ]
    },
    {
     "name": "stderr",
     "output_type": "stream",
     "text": [
      "\n",
      "\n",
      " 62%|██████▏   | 8/13 [01:24<00:59, 11.93s/it]\u001b[A\u001b[A\n",
      "\n"
     ]
    },
    {
     "name": "stdout",
     "output_type": "stream",
     "text": [
      " Alpha value:  17  AUC:  0.5028205128205128  Acc:  50.28205128205128  auc_train  0.5991880341880341\n"
     ]
    },
    {
     "name": "stderr",
     "output_type": "stream",
     "text": [
      " 69%|██████▉   | 9/13 [01:38<00:50, 12.69s/it]\u001b[A\u001b[A"
     ]
    },
    {
     "name": "stdout",
     "output_type": "stream",
     "text": [
      " Alpha value:  21  AUC:  0.506025641025641  Acc:  50.60256410256411  auc_train  0.5896794871794873\n"
     ]
    },
    {
     "name": "stderr",
     "output_type": "stream",
     "text": [
      "\n",
      "\n",
      " 77%|███████▋  | 10/13 [01:54<00:40, 13.50s/it]\u001b[A\u001b[A\n",
      "\n",
      " 85%|████████▍ | 11/13 [02:11<00:29, 14.68s/it]\u001b[A\u001b[A"
     ]
    },
    {
     "name": "stdout",
     "output_type": "stream",
     "text": [
      " Alpha value:  33  AUC:  0.5016666666666666  Acc:  50.16666666666667  auc_train  0.5711752136752136\n"
     ]
    },
    {
     "name": "stderr",
     "output_type": "stream",
     "text": [
      "\n",
      "\n",
      " 92%|█████████▏| 12/13 [02:29<00:15, 15.59s/it]\u001b[A\u001b[A"
     ]
    },
    {
     "name": "stdout",
     "output_type": "stream",
     "text": [
      " Alpha value:  35  AUC:  0.5001282051282051  Acc:  50.01282051282051  auc_train  0.5703632478632479\n",
      " Alpha value:  41  AUC:  0.4973076923076923  Acc:  49.730769230769226  auc_train  0.5648076923076922\n"
     ]
    },
    {
     "name": "stderr",
     "output_type": "stream",
     "text": [
      "\n",
      "\n",
      "100%|██████████| 13/13 [02:47<00:00, 16.47s/it]\u001b[A\u001b[A\n",
      "\n",
      "\u001b[A\u001b[A"
     ]
    }
   ],
   "source": [
    "from sklearn.neighbors import KNeighborsClassifier\n",
    "from sklearn.metrics import accuracy_score\n",
    "from sklearn.metrics import roc_auc_score\n",
    "#Simple Cross Validation\n",
    "n_neighbors=[1,3,5,7,9,11,13,15,17,21,33,35,41]\n",
    "returned_pram=dict()\n",
    "returned_pram_train=dict()\n",
    "for i in tqdm(n_neighbors):\n",
    "    # instantiate learning model (k = 30)\n",
    "    knn = KNeighborsClassifier(n_neighbors=i,algorithm='kd_tree',n_jobs=-1)\n",
    "\n",
    "    # fitting the model on crossvalidation train\n",
    "    knn.fit(train_svd, train_traget)\n",
    "\n",
    "    # predict the response on the crossvalidation train\n",
    "    pred_cv = knn.predict(cv_svd)\n",
    "\n",
    "    # evaluate CV accuracy\n",
    "    acc_cv = accuracy_score(cv_target, pred_cv, normalize=True) * float(100)\n",
    "    auc_cv=roc_auc_score(cv_target, pred_cv)\n",
    "    auc_train=roc_auc_score(train_traget, knn.predict(train_svd))\n",
    "    print(\" Alpha value: \",i,\" AUC: \",auc_cv,\" Acc: \",acc_cv,\" auc_train \",auc_train)\n",
    "    returned_pram.update({i:auc_cv})\n",
    "    returned_pram_train.update({i:auc_train})\n",
    "    gc.collect()\n",
    "    "
   ]
  },
  {
   "cell_type": "code",
   "execution_count": 185,
   "metadata": {
    "_uuid": "79000fb682fda88f8f09f03ff6f3c7af011fdc49"
   },
   "outputs": [],
   "source": [
    "# Method to plot train and CV Error\n",
    "def plot_train_cv_error(test_map,train_map,title,alpha):\n",
    "    plt.plot(list(test_map.keys()), test_map.values(),label='CV_AUC')\n",
    "    plt.plot(list(train_map.keys()), train_map.values(),label='Train_AUC')\n",
    "#     plt.semilogx(alpha, train_map.values(), label='Train_AUC')\n",
    "#     plt.semilogx(alpha, test_map.values(), label='CV_AUC')\n",
    "    plt.xlabel('k value')\n",
    "    plt.ylabel('AUC')\n",
    "    plt.title(title)\n",
    "    plt.legend()\n",
    "    plt.xticks(n_neighbors)\n",
    "    plt.grid()\n",
    "    return plt"
   ]
  },
  {
   "cell_type": "code",
   "execution_count": 186,
   "metadata": {
    "_uuid": "8d1fa630cbaf9563797d08d752ec515bb7cb7c9c"
   },
   "outputs": [
    {
     "data": {
      "image/png": "[encoded data removed]",
      "text/plain": [
       "<Figure size 432x288 with 1 Axes>"
      ]
     },
     "metadata": {},
     "output_type": "display_data"
    }
   ],
   "source": [
    "# plot misclassification error vs k \n",
    "plot_train_cv_error(returned_pram,returned_pram_train,'BOW AUC vs n_neighbors',n_neighbors)\n",
    "plt.show()"
   ]
  },
  {
   "cell_type": "markdown",
   "metadata": {},
   "source": [
    "**Observation**\n",
    "\n",
    "We can see that when k was small i.e 1 model was overfitting; training AUC was 100% but CV AUC was lower around 49%. As we increased the k value model started converging to optimal value of k=41 with train auc 55% and cv auc 53%. We can see that the train and test difference is very less so model is well fitting on current feature. If we want to increased accuracy on unseen data further we need to add other important features or can do the feature engineering. In can of KNN features from word2vec is not being useful as it predicting similar to random model, so better to use BOW or TFIDF."
   ]
  },
  {
   "cell_type": "code",
   "execution_count": 187,
   "metadata": {
    "_uuid": "bf3380fb14ae109837acb539158cf62d8deec980"
   },
   "outputs": [
    {
     "data": {
      "text/plain": [
       "KNeighborsClassifier(algorithm='kd_tree', leaf_size=30, metric='minkowski',\n",
       "           metric_params=None, n_jobs=-1, n_neighbors=41, p=2,\n",
       "           weights='uniform')"
      ]
     },
     "execution_count": 187,
     "metadata": {},
     "output_type": "execute_result"
    }
   ],
   "source": [
    "#Fitting usig best k\n",
    "best_k=41\n",
    "knn = KNeighborsClassifier(n_neighbors=best_k,algorithm='kd_tree',n_jobs=-1)\n",
    "knn.fit(train_svd, train_traget)"
   ]
  },
  {
   "cell_type": "code",
   "execution_count": 188,
   "metadata": {
    "_uuid": "2d2e4f0f27b94df92b3ee4c87b401be767f95fa3"
   },
   "outputs": [],
   "source": [
    "# ROC AUC Curve\n",
    "y_true_train = train_traget\n",
    "y_probas_train = knn.predict_proba(train_svd)\n",
    "y_true_test = test_target\n",
    "y_probas_test = knn.predict_proba(test_svd)"
   ]
  },
  {
   "cell_type": "code",
   "execution_count": 189,
   "metadata": {
    "_uuid": "4878a6eaf3f7d69255155a06b7dcd8b2ed1db813"
   },
   "outputs": [],
   "source": [
    "def plot_train_test_ROC(y_true_train,y_probas_train,y_true_test,y_probas_test):\n",
    "    fpr1, tpr1, _ = metrics.roc_curve(y_true_train,  y_probas_train[:,1])\n",
    "    auc1 = metrics.roc_auc_score(y_true_train, y_probas_train[:,1])\n",
    "    plt.plot(fpr1,tpr1,label=\"Train AUC, auc=\"+str(auc1))\n",
    "    fpr2, tpr2, _ = metrics.roc_curve(y_true_test,  y_probas_test[:,1])\n",
    "    auc2 = metrics.roc_auc_score(y_true_test, y_probas_test[:,1])\n",
    "    plt.plot(fpr2,tpr2,label=\"Test, auc=\"+str(auc2))\n",
    "    plt.legend(loc=4)\n",
    "    plt.title(\"Train and Test AUC\")\n",
    "    plt.grid()\n",
    "    plt.xlabel('False Positive rate')\n",
    "    plt.ylabel('True positive rate')\n",
    "    return plt"
   ]
  },
  {
   "cell_type": "code",
   "execution_count": 190,
   "metadata": {
    "_uuid": "66b4cd4cd16b87eaaf6ec5a8e919178940dc2db4"
   },
   "outputs": [
    {
     "data": {
      "image/png": "[encoded data removed]",
      "text/plain": [
       "<Figure size 432x288 with 1 Axes>"
      ]
     },
     "metadata": {},
     "output_type": "display_data"
    }
   ],
   "source": [
    "plot_train_test_ROC(y_true_train,y_probas_train,y_true_test,y_probas_test)\n",
    "plt.show()"
   ]
  },
  {
   "cell_type": "markdown",
   "metadata": {},
   "source": [
    "**Observation**\n",
    "\n",
    "\n",
    "We can see that the train and test auc is having some difference, so model is not well fitting on current feature. If we want to increase the accuracy further we need to add some new features or need to do feature engineering."
   ]
  },
  {
   "cell_type": "code",
   "execution_count": 191,
   "metadata": {
    "_uuid": "2ce42f0e83f84ea8a2020497159fa388ca5a4010"
   },
   "outputs": [],
   "source": [
    "# Plotting Confusion matrix on test data\n",
    "import seaborn as sn\n",
    "from sklearn.metrics import confusion_matrix\n",
    "confm = confusion_matrix(y_true_test, knn.predict(test_svd))"
   ]
  },
  {
   "cell_type": "code",
   "execution_count": 192,
   "metadata": {
    "_uuid": "36f3b91a60b68b4038066a472a2191c527f1852b"
   },
   "outputs": [
    {
     "data": {
      "text/plain": [
       "[Text(0,0.5,'0'), Text(0,1.5,'1')]"
      ]
     },
     "execution_count": 192,
     "metadata": {},
     "output_type": "execute_result"
    },
    {
     "data": {
      "image/png": "[encoded data removed]",
      "text/plain": [
       "<Figure size 432x288 with 2 Axes>"
      ]
     },
     "metadata": {},
     "output_type": "display_data"
    }
   ],
   "source": [
    "ax= plt.subplot()\n",
    "sns.heatmap(confm, annot=True, ax = ax,annot_kws={\"size\": 16},fmt=\"d\"); #annot=True to annotate cells\n",
    "\n",
    "# labels, title and ticks\n",
    "ax.set_xlabel('Predicted labels');ax.set_ylabel('True labels'); \n",
    "ax.set_title('Confusion Matrix of Test data'); \n",
    "ax.xaxis.set_ticklabels(['0', '1']); ax.yaxis.set_ticklabels(['0', '1'])"
   ]
  },
  {
   "cell_type": "markdown",
   "metadata": {
    "_uuid": "3ff7fc2abd262e18f28763fa4ed73d18c41ed492"
   },
   "source": [
    "**Observation**\n",
    "\n",
    "Here we have almost similar no of elements at diagonal than off diagonal i.e similar value of TP and TN compare to FP and FN, so model is not working fine with the current features. If we want to increase TP and TN further we need to do feature engineering."
   ]
  },
  {
   "cell_type": "code",
   "execution_count": 1,
   "metadata": {
    "_uuid": "5d854a9e51ee96f8806076b0f943d224e61ac261"
   },
   "outputs": [
    {
     "name": "stdout",
     "output_type": "stream",
     "text": [
      "+----------------------+----------+--------+------+\n",
      "|      Vectorizer      |  Model   | Best k | AUC  |\n",
      "+----------------------+----------+--------+------+\n",
      "|         BOW          |  Brute   |   51   | 0.75 |\n",
      "|      BOW_KDtree      |  KDtree  |   51   | 0.77 |\n",
      "|        TFIDF         | Brute NB |   51   | 0.84 |\n",
      "|     TFIDF_KDTree     |  KDtree  |   51   | 0.83 |\n",
      "|     AvgWord2Vec      | Brute NB |   51   | 0.5  |\n",
      "|  AvgWord2Vec_KDtree  |  KDtree  |   51   | 0.5  |\n",
      "|    TFIDFWord2Vec     | Brute NB |   41   | 0.5  |\n",
      "| TFIDFWord2Vec_KDTree |  KDtree  |   41   | 0.5  |\n",
      "+----------------------+----------+--------+------+\n"
     ]
    }
   ],
   "source": [
    "# Please compare all your models using Prettytable library\n",
    "from prettytable import PrettyTable\n",
    "x = PrettyTable()\n",
    "x.field_names = [\"Vectorizer\", \"Model\", \"Best k\", \"AUC\"]\n",
    "\n",
    "x.add_row([\"BOW\", \"Brute\", 51, 0.75])\n",
    "x.add_row([\"BOW_KDtree\", \"KDtree\", 51, 0.77])\n",
    "x.add_row([\"TFIDF\", \"Brute NB\", 51, 0.84])\n",
    "x.add_row([\"TFIDF_KDTree\", \"KDtree\", 51, 0.83])\n",
    "x.add_row([\"AvgWord2Vec\", \"Brute NB\", 51, 0.50])\n",
    "x.add_row([\"AvgWord2Vec_KDtree\", \"KDtree\", 51, 0.50])\n",
    "x.add_row([\"TFIDFWord2Vec\", \"Brute NB\", 41, 0.50])\n",
    "x.add_row([\"TFIDFWord2Vec_KDTree\", \"KDtree\", 41, 0.50])\n",
    "print(x)"
   ]
  },
  {
   "cell_type": "markdown",
   "metadata": {
    "_uuid": "783963c9e90d4283f93babd7d3836d9fc8c4a51f"
   },
   "source": [
    "**Observation**"
   ]
  },
  {
   "cell_type": "markdown",
   "metadata": {
    "_uuid": "cc45cc04d01e1e54cee3bd537c58c2a81cc13402"
   },
   "source": [
    "We can see that the TFIDF features of text performing better than BOW and Word2Vec with AUC of 84%, 76% and 50% respectively. Here Word2Vec is not performing well on KNN with either of brute force of KDTree algorithm. For BOW and TFIDF the performace of brute and KDTree is almost similar."
   ]
  }
 ],
 "metadata": {
  "kernelspec": {
   "display_name": "Python 3",
   "language": "python",
   "name": "python3"
  },
  "language_info": {
   "codemirror_mode": {
    "name": "ipython",
    "version": 3
   },
   "file_extension": ".py",
   "mimetype": "text/x-python",
   "name": "python",
   "nbconvert_exporter": "python",
   "pygments_lexer": "ipython3",
   "version": "3.6.5"
  }
 },
 "nbformat": 4,
 "nbformat_minor": 1
}
