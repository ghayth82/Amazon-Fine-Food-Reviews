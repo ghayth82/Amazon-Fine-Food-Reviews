{
 "cells": [
  {
   "cell_type": "markdown",
   "metadata": {},
   "source": [
    "# Amazon Fine Food Reviews Analysis\n",
    "\n",
    "\n",
    "Data Source: https://www.kaggle.com/snap/amazon-fine-food-reviews <br>\n",
    "\n",
    "EDA: https://nycdatascience.com/blog/student-works/amazon-fine-foods-visualization/\n",
    "\n",
    "\n",
    "The Amazon Fine Food Reviews dataset consists of reviews of fine foods from Amazon.<br>\n",
    "\n",
    "Number of reviews: 568,454<br>\n",
    "Number of users: 256,059<br>\n",
    "Number of products: 74,258<br>\n",
    "Timespan: Oct 1999 - Oct 2012<br>\n",
    "Number of Attributes/Columns in data: 10 \n",
    "\n",
    "Attribute Information:\n",
    "\n",
    "1. Id\n",
    "2. ProductId - unique identifier for the product\n",
    "3. UserId - unqiue identifier for the user\n",
    "4. ProfileName\n",
    "5. HelpfulnessNumerator - number of users who found the review helpful\n",
    "6. HelpfulnessDenominator - number of users who indicated whether they found the review helpful or not\n",
    "7. Score - rating between 1 and 5\n",
    "8. Time - timestamp for the review\n",
    "9. Summary - brief summary of the review\n",
    "10. Text - text of the review\n",
    "\n",
    "\n",
    "#### Objective:\n",
    "Given a review, determine whether the review is positive (rating of 4 or 5) or negative (rating of 1 or 2).\n",
    "\n",
    "<br>\n",
    "[Q] How to determine if a review is positive or negative?<br>\n",
    "<br> \n",
    "[Ans] We could use Score/Rating. A rating of 4 or 5 can be cosnidered as a positive review. A rating of 1 or 2 can be considered as negative one. A review of rating 3 is considered nuetral and such reviews are ignored from our analysis. This is an approximate and proxy way of determining the polarity (positivity/negativity) of a review.\n",
    "\n",
    "\n"
   ]
  },
  {
   "cell_type": "markdown",
   "metadata": {},
   "source": [
    "# [1]. Reading Data"
   ]
  },
  {
   "cell_type": "markdown",
   "metadata": {},
   "source": [
    "## [1.1] Loading the data\n",
    "\n",
    "The dataset is available in two forms\n",
    "1. .csv file\n",
    "2. SQLite Database\n",
    "\n",
    "In order to load the data, We have used the SQLITE dataset as it is easier to query the data and visualise the data efficiently.\n",
    "<br> \n",
    "\n",
    "Here as we only want to get the global sentiment of the recommendations (positive or negative), we will purposefully ignore all Scores equal to 3. If the score is above 3, then the recommendation wil be set to \"positive\". Otherwise, it will be set to \"negative\"."
   ]
  },
  {
   "cell_type": "code",
   "execution_count": 1,
   "metadata": {},
   "outputs": [],
   "source": [
    "%matplotlib inline\n",
    "import warnings\n",
    "warnings.filterwarnings(\"ignore\")\n",
    "\n",
    "\n",
    "import sqlite3\n",
    "import pandas as pd\n",
    "import numpy as np\n",
    "import nltk\n",
    "import string\n",
    "import matplotlib.pyplot as plt\n",
    "import seaborn as sns\n",
    "from sklearn.feature_extraction.text import TfidfTransformer\n",
    "from sklearn.feature_extraction.text import TfidfVectorizer\n",
    "\n",
    "from sklearn.feature_extraction.text import CountVectorizer\n",
    "from sklearn.metrics import confusion_matrix\n",
    "from sklearn import metrics\n",
    "from sklearn.metrics import roc_curve, auc\n",
    "from nltk.stem.porter import PorterStemmer\n",
    "\n",
    "import re\n",
    "# Tutorial about Python regular expressions: https://pymotw.com/2/re/\n",
    "import string\n",
    "from nltk.corpus import stopwords\n",
    "from nltk.stem import PorterStemmer\n",
    "from nltk.stem.wordnet import WordNetLemmatizer\n",
    "\n",
    "from gensim.models import Word2Vec\n",
    "from gensim.models import KeyedVectors\n",
    "import pickle\n",
    "\n",
    "from tqdm import tqdm\n",
    "import os"
   ]
  },
  {
   "cell_type": "markdown",
   "metadata": {},
   "source": [
    "# Data Seperation and sorting"
   ]
  },
  {
   "cell_type": "code",
   "execution_count": 2,
   "metadata": {},
   "outputs": [],
   "source": [
    "# Load the clean data\n",
    "conn = sqlite3.connect('final.sqlite')\n",
    "clean_data = pd.read_sql_query(\"\"\" SELECT * FROM Reviews_clean WHERE Score != 3 \"\"\", conn) "
   ]
  },
  {
   "cell_type": "code",
   "execution_count": 11,
   "metadata": {},
   "outputs": [
    {
     "data": {
      "text/html": [
       "<div>\n",
       "<style scoped>\n",
       "    .dataframe tbody tr th:only-of-type {\n",
       "        vertical-align: middle;\n",
       "    }\n",
       "\n",
       "    .dataframe tbody tr th {\n",
       "        vertical-align: top;\n",
       "    }\n",
       "\n",
       "    .dataframe thead th {\n",
       "        text-align: right;\n",
       "    }\n",
       "</style>\n",
       "<table border=\"1\" class=\"dataframe\">\n",
       "  <thead>\n",
       "    <tr style=\"text-align: right;\">\n",
       "      <th></th>\n",
       "      <th>index</th>\n",
       "      <th>Id</th>\n",
       "      <th>ProductId</th>\n",
       "      <th>UserId</th>\n",
       "      <th>ProfileName</th>\n",
       "      <th>HelpfulnessNumerator</th>\n",
       "      <th>HelpfulnessDenominator</th>\n",
       "      <th>Score</th>\n",
       "      <th>Time</th>\n",
       "      <th>Summary</th>\n",
       "      <th>Text</th>\n",
       "      <th>CleanedText</th>\n",
       "    </tr>\n",
       "  </thead>\n",
       "  <tbody>\n",
       "    <tr>\n",
       "      <th>0</th>\n",
       "      <td>138706</td>\n",
       "      <td>150524</td>\n",
       "      <td>0006641040</td>\n",
       "      <td>ACITT7DI6IDDL</td>\n",
       "      <td>shari zychinski</td>\n",
       "      <td>0</td>\n",
       "      <td>0</td>\n",
       "      <td>1</td>\n",
       "      <td>939340800</td>\n",
       "      <td>EVERY book is educational</td>\n",
       "      <td>this witty little book makes my son laugh at l...</td>\n",
       "      <td>witti littl book make son laugh loud recit car...</td>\n",
       "    </tr>\n",
       "  </tbody>\n",
       "</table>\n",
       "</div>"
      ],
      "text/plain": [
       "    index      Id   ProductId         UserId      ProfileName  \\\n",
       "0  138706  150524  0006641040  ACITT7DI6IDDL  shari zychinski   \n",
       "\n",
       "   HelpfulnessNumerator  HelpfulnessDenominator  Score       Time  \\\n",
       "0                     0                       0      1  939340800   \n",
       "\n",
       "                     Summary  \\\n",
       "0  EVERY book is educational   \n",
       "\n",
       "                                                Text  \\\n",
       "0  this witty little book makes my son laugh at l...   \n",
       "\n",
       "                                         CleanedText  \n",
       "0  witti littl book make son laugh loud recit car...  "
      ]
     },
     "execution_count": 11,
     "metadata": {},
     "output_type": "execute_result"
    }
   ],
   "source": [
    "clean_data.head(1)"
   ]
  },
  {
   "cell_type": "code",
   "execution_count": 50,
   "metadata": {},
   "outputs": [
    {
     "data": {
      "text/plain": [
       "1    307061\n",
       "0     57110\n",
       "Name: Score, dtype: int64"
      ]
     },
     "execution_count": 50,
     "metadata": {},
     "output_type": "execute_result"
    }
   ],
   "source": [
    "# Checking the positive and negative labels\n",
    "clean_data['Score'].value_counts()"
   ]
  },
  {
   "cell_type": "code",
   "execution_count": 176,
   "metadata": {},
   "outputs": [],
   "source": [
    "#Randomly selecting 40k records\n",
    "filter_data_positive=clean_data[clean_data.Score==1].sample(50000,random_state=17)\n",
    "filter_data_positive.sort_values(by='Time',inplace=True,ascending=True)"
   ]
  },
  {
   "cell_type": "code",
   "execution_count": 177,
   "metadata": {},
   "outputs": [],
   "source": [
    "#selecting all -ve records records\n",
    "filter_data_negative=clean_data[clean_data.Score==0].sample(50000,random_state=17)\n",
    "filter_data_negative.sort_values(by='Time',inplace=True,ascending=True)"
   ]
  },
  {
   "cell_type": "code",
   "execution_count": 178,
   "metadata": {},
   "outputs": [
    {
     "name": "stdout",
     "output_type": "stream",
     "text": [
      "Total_positive_data (50000, 12)\n",
      "train (30000, 12) CV (10000, 12) test (10000, 12)\n"
     ]
    }
   ],
   "source": [
    "# Splitting Train,CV and Test for positive data\n",
    "row=filter_data_positive.shape[0]\n",
    "split=int(row*0.6)\n",
    "train_data_positive=filter_data_positive[:split]\n",
    "cv_data_positive=filter_data_positive[split:int(row*0.8)]\n",
    "test_data_positive=filter_data_positive[int(row*0.8):row]\n",
    "print(\"Total_positive_data\",filter_data_positive.shape)\n",
    "print(\"train\",train_data_positive.shape,\"CV\",cv_data_positive.shape,\"test\",test_data_positive.shape)"
   ]
  },
  {
   "cell_type": "code",
   "execution_count": 179,
   "metadata": {},
   "outputs": [
    {
     "name": "stdout",
     "output_type": "stream",
     "text": [
      "Total_negative_data (50000, 12)\n",
      "train (30000, 12) CV (10000, 12) test (10000, 12)\n"
     ]
    }
   ],
   "source": [
    "# Splitting Train,CV and Test for -ve data\n",
    "row=filter_data_negative.shape[0]\n",
    "split=int(row*0.6)\n",
    "train_data_negative=filter_data_negative[:split]\n",
    "cv_data_negative=filter_data_negative[split:int(row*0.8)]\n",
    "test_data_negative=filter_data_negative[int(row*0.8):row]\n",
    "print(\"Total_negative_data\",filter_data_negative.shape)\n",
    "print(\"train\",train_data_negative.shape,\"CV\",cv_data_negative.shape,\"test\",test_data_negative.shape)"
   ]
  },
  {
   "cell_type": "code",
   "execution_count": 180,
   "metadata": {},
   "outputs": [
    {
     "name": "stdout",
     "output_type": "stream",
     "text": [
      "(60000, 12)\n"
     ]
    },
    {
     "data": {
      "text/plain": [
       "1    30000\n",
       "0    30000\n",
       "Name: Score, dtype: int64"
      ]
     },
     "execution_count": 180,
     "metadata": {},
     "output_type": "execute_result"
    }
   ],
   "source": [
    "# Combining +ve and -ve train data and sorting based on time\n",
    "train_data=np.vstack((train_data_positive, train_data_negative))\n",
    "train_data=pd.DataFrame(train_data)\n",
    "train_data.columns=clean_data.columns\n",
    "train_data.sort_values(by='Time',inplace=True,ascending=True)\n",
    "print(train_data.shape)\n",
    "# Checking the positive and negative labels\n",
    "train_data['Score'].value_counts()"
   ]
  },
  {
   "cell_type": "code",
   "execution_count": 181,
   "metadata": {},
   "outputs": [
    {
     "name": "stdout",
     "output_type": "stream",
     "text": [
      "(20000, 12)\n"
     ]
    },
    {
     "data": {
      "text/plain": [
       "1    10000\n",
       "0    10000\n",
       "Name: Score, dtype: int64"
      ]
     },
     "execution_count": 181,
     "metadata": {},
     "output_type": "execute_result"
    }
   ],
   "source": [
    "# Combining +ve and -ve CV data and sorting based on time\n",
    "cv_data=np.vstack((cv_data_positive,cv_data_negative))\n",
    "cv_data=pd.DataFrame(cv_data)\n",
    "cv_data.columns=clean_data.columns\n",
    "cv_data.sort_values(by='Time',inplace=True,ascending=True)\n",
    "print(cv_data.shape)\n",
    "# Checking the positive and negative labels\n",
    "cv_data['Score'].value_counts()"
   ]
  },
  {
   "cell_type": "code",
   "execution_count": 182,
   "metadata": {},
   "outputs": [
    {
     "name": "stdout",
     "output_type": "stream",
     "text": [
      "(20000, 12)\n"
     ]
    },
    {
     "data": {
      "text/plain": [
       "1    10000\n",
       "0    10000\n",
       "Name: Score, dtype: int64"
      ]
     },
     "execution_count": 182,
     "metadata": {},
     "output_type": "execute_result"
    }
   ],
   "source": [
    "# Combining +ve and -ve test data and sorting based on time\n",
    "test_data=np.vstack((test_data_positive, test_data_negative))\n",
    "test_data=pd.DataFrame(test_data)\n",
    "test_data.columns=clean_data.columns\n",
    "test_data.sort_values(by='Time',inplace=True,ascending=True)\n",
    "print(test_data.shape)\n",
    "# Checking the positive and negative labels\n",
    "test_data['Score'].value_counts()"
   ]
  },
  {
   "cell_type": "code",
   "execution_count": 41,
   "metadata": {},
   "outputs": [],
   "source": [
    "# # Saving to file to reuse in other assignment\n",
    "# train_data.to_csv(\"train_data.csv\",index=False)\n",
    "# cv_data.to_csv(\"cv_data.csv\",index=False)\n",
    "# test_data.to_csv(\"test_data.csv\",index=False)"
   ]
  },
  {
   "cell_type": "markdown",
   "metadata": {},
   "source": [
    "## [5.1] Applying Naive Bayes on BOW,<font color='red'> SET 1</font>"
   ]
  },
  {
   "cell_type": "code",
   "execution_count": 193,
   "metadata": {},
   "outputs": [
    {
     "data": {
      "text/plain": [
       "0"
      ]
     },
     "execution_count": 193,
     "metadata": {},
     "output_type": "execute_result"
    }
   ],
   "source": [
    "# Please write all the code with proper documentation\n",
    "import gc; gc.collect()\n",
    "# Converting text to vector using Bag of words to all train, CV and test\n",
    "count_vect = CountVectorizer(min_df=10,max_features=1000 ) #in scikit-learn\n",
    "training_counts = count_vect.fit_transform(train_data['CleanedText'])\n",
    "cv_counts = count_vect.transform(cv_data['CleanedText'])\n",
    "test_counts = count_vect.transform(test_data['CleanedText'])\n",
    "gc.collect()"
   ]
  },
  {
   "cell_type": "code",
   "execution_count": 260,
   "metadata": {},
   "outputs": [
    {
     "name": "stdout",
     "output_type": "stream",
     "text": [
      " training_counts  (60000, 1000) cv_counts  (20000, 1000) test_counts (20000, 1000)\n"
     ]
    }
   ],
   "source": [
    "# converting sparse vector to dense vector\n",
    "training_count=training_counts.toarray()\n",
    "print(\" training_counts \",training_counts.shape,\"cv_counts \",cv_counts.shape,\"test_counts\",test_counts.shape)"
   ]
  },
  {
   "cell_type": "code",
   "execution_count": 195,
   "metadata": {},
   "outputs": [
    {
     "data": {
      "text/plain": [
       "0"
      ]
     },
     "execution_count": 195,
     "metadata": {},
     "output_type": "execute_result"
    }
   ],
   "source": [
    "cv_count=cv_counts.toarray()\n",
    "test_count=test_counts.toarray()\n",
    "# removing unused object\n",
    "gc.collect()"
   ]
  },
  {
   "cell_type": "code",
   "execution_count": 196,
   "metadata": {},
   "outputs": [],
   "source": [
    "train_traget=train_data['Score'].astype('int')\n",
    "cv_target=cv_data['Score'].astype('int')\n",
    "test_target=test_data['Score'].astype('int')"
   ]
  },
  {
   "cell_type": "code",
   "execution_count": 197,
   "metadata": {},
   "outputs": [
    {
     "data": {
      "text/plain": [
       "0"
      ]
     },
     "execution_count": 197,
     "metadata": {},
     "output_type": "execute_result"
    }
   ],
   "source": [
    "gc.collect()"
   ]
  },
  {
   "cell_type": "code",
   "execution_count": 200,
   "metadata": {},
   "outputs": [
    {
     "name": "stderr",
     "output_type": "stream",
     "text": [
      "\r",
      "  0%|                                                                                            | 0/8 [00:00<?, ?it/s]"
     ]
    },
    {
     "name": "stdout",
     "output_type": "stream",
     "text": [
      " Alpha value:  0.0001  AUC:  0.8418500000000002  Acc:  84.185  auc_train  0.8441333333333333\n"
     ]
    },
    {
     "name": "stderr",
     "output_type": "stream",
     "text": [
      "\r",
      " 12%|██████████▌                                                                         | 1/8 [00:02<00:14,  2.04s/it]"
     ]
    },
    {
     "name": "stdout",
     "output_type": "stream",
     "text": [
      " Alpha value:  0.001  AUC:  0.8418500000000002  Acc:  84.185  auc_train  0.8441333333333333\n"
     ]
    },
    {
     "name": "stderr",
     "output_type": "stream",
     "text": [
      "\r",
      " 25%|█████████████████████                                                               | 2/8 [00:04<00:12,  2.04s/it]"
     ]
    },
    {
     "name": "stdout",
     "output_type": "stream",
     "text": [
      " Alpha value:  0.01  AUC:  0.8418500000000002  Acc:  84.185  auc_train  0.84415\n"
     ]
    },
    {
     "name": "stderr",
     "output_type": "stream",
     "text": [
      "\r",
      " 38%|███████████████████████████████▌                                                    | 3/8 [00:06<00:10,  2.06s/it]"
     ]
    },
    {
     "name": "stdout",
     "output_type": "stream",
     "text": [
      " Alpha value:  0.1  AUC:  0.8418500000000002  Acc:  84.185  auc_train  0.84415\n"
     ]
    },
    {
     "name": "stderr",
     "output_type": "stream",
     "text": [
      "\r",
      " 50%|██████████████████████████████████████████                                          | 4/8 [00:08<00:08,  2.06s/it]"
     ]
    },
    {
     "name": "stdout",
     "output_type": "stream",
     "text": [
      " Alpha value:  1  AUC:  0.8419500000000001  Acc:  84.195  auc_train  0.8440833333333333\n"
     ]
    },
    {
     "name": "stderr",
     "output_type": "stream",
     "text": [
      "\r",
      " 62%|████████████████████████████████████████████████████▌                               | 5/8 [00:10<00:06,  2.06s/it]"
     ]
    },
    {
     "name": "stdout",
     "output_type": "stream",
     "text": [
      " Alpha value:  10  AUC:  0.84175  Acc:  84.175  auc_train  0.8441333333333334\n"
     ]
    },
    {
     "name": "stderr",
     "output_type": "stream",
     "text": [
      "\r",
      " 75%|███████████████████████████████████████████████████████████████                     | 6/8 [00:12<00:04,  2.06s/it]"
     ]
    },
    {
     "name": "stdout",
     "output_type": "stream",
     "text": [
      " Alpha value:  100  AUC:  0.8380000000000001  Acc:  83.8  auc_train  0.8414833333333332\n"
     ]
    },
    {
     "name": "stderr",
     "output_type": "stream",
     "text": [
      "\r",
      " 88%|█████████████████████████████████████████████████████████████████████████▌          | 7/8 [00:14<00:02,  2.10s/it]"
     ]
    },
    {
     "name": "stdout",
     "output_type": "stream",
     "text": [
      " Alpha value:  1000  AUC:  0.8236  Acc:  82.36  auc_train  0.8284833333333332\n"
     ]
    },
    {
     "name": "stderr",
     "output_type": "stream",
     "text": [
      "100%|████████████████████████████████████████████████████████████████████████████████████| 8/8 [00:16<00:00,  2.11s/it]\n"
     ]
    }
   ],
   "source": [
    "# Compute train AUC also\n",
    "\n",
    "from sklearn.naive_bayes import MultinomialNB\n",
    "from sklearn.metrics import accuracy_score\n",
    "from sklearn.metrics import roc_auc_score\n",
    "#Simple Cross Validation\n",
    "alpha=[0.0001,0.001,0.01,0.1,1,10,100,1000]\n",
    "returned_pram=dict()\n",
    "returned_pram_train=dict()\n",
    "for i in tqdm(alpha):\n",
    "    # instantiate learning model (k = 30)\n",
    "    mnNB = MultinomialNB(alpha=i)\n",
    "\n",
    "    # fitting the model on crossvalidation train\n",
    "    mnNB.fit(training_count, train_traget)\n",
    "\n",
    "    # predict the response on the crossvalidation train\n",
    "    pred_cv = mnNB.predict(cv_count)\n",
    "\n",
    "    # evaluate CV accuracy\n",
    "    acc_cv = accuracy_score(cv_target, pred_cv, normalize=True) * float(100)\n",
    "    auc_cv=roc_auc_score(cv_target, pred_cv)\n",
    "    auc_train=roc_auc_score(train_traget, mnNB.predict(training_count))\n",
    "    print(\" Alpha value: \",i,\" AUC: \",auc_cv,\" Acc: \",acc_cv,\" auc_train \",auc_train)\n",
    "    returned_pram.update({i:auc_cv})\n",
    "    returned_pram_train.update({i:auc_train})\n",
    "    gc.collect()\n",
    "    "
   ]
  },
  {
   "cell_type": "code",
   "execution_count": 202,
   "metadata": {},
   "outputs": [],
   "source": [
    "# Method to plot train and CV Error\n",
    "def plot_train_cv_error(test_map,train_map,title,alpha):\n",
    "    plt.plot(list(test_map.keys()), test_map.values())\n",
    "    plt.plot(list(train_map.keys()), train_map.values())\n",
    "    plt.semilogx(alpha, train_map.values(), label='Train_Error')\n",
    "    plt.semilogx(alpha, test_map.values(), label='CV_Error')\n",
    "    plt.xlabel('Alpha value')\n",
    "    plt.ylabel('AUC')\n",
    "    plt.title(title)\n",
    "    plt.legend()\n",
    "    plt.grid()\n",
    "    return plt\n",
    "    \n",
    "    "
   ]
  },
  {
   "cell_type": "code",
   "execution_count": 203,
   "metadata": {},
   "outputs": [
    {
     "data": {
      "image/png": "[encoded data removed]",
      "text/plain": [
       "<matplotlib.figure.Figure at 0x2c0b016b390>"
      ]
     },
     "metadata": {},
     "output_type": "display_data"
    }
   ],
   "source": [
    "# plot misclassification error vs k \n",
    "plot_train_cv_error(returned_pram,returned_pram_train,'BOW AUC vs alpha',alpha)\n",
    "plt.show()"
   ]
  },
  {
   "cell_type": "markdown",
   "metadata": {},
   "source": [
    "Observation: We can see that when alpha value is low, the our model is overfitting, means high AUC on train data and less AUC on unseen data. As alpha increasing AUC on Unseen data increasing with best hyperparamter 1 after that model started underfitting so AUC on Test data started decreasing. Hence our best alpha is 1. "
   ]
  },
  {
   "cell_type": "markdown",
   "metadata": {},
   "source": [
    "Accuracy and AUC on Test data with best alpha"
   ]
  },
  {
   "cell_type": "code",
   "execution_count": 258,
   "metadata": {},
   "outputs": [],
   "source": [
    "# best_alpha=returned_pram.get(max((k) for k in returned_pram.keys()))\n",
    "# highest_auc=max((k) for k in returned_pram.keys())\n",
    "# print(\"Best alpha value: \",best_alpha,\" with Highest AUC: \",highest_auc)"
   ]
  },
  {
   "cell_type": "code",
   "execution_count": 205,
   "metadata": {},
   "outputs": [
    {
     "data": {
      "text/plain": [
       "MultinomialNB(alpha=1, class_prior=None, fit_prior=True)"
      ]
     },
     "execution_count": 205,
     "metadata": {},
     "output_type": "execute_result"
    }
   ],
   "source": [
    "best_alpha=1\n",
    "mnNB = MultinomialNB(alpha=best_alpha)\n",
    "mnNB.fit(training_count, train_traget)"
   ]
  },
  {
   "cell_type": "code",
   "execution_count": 206,
   "metadata": {},
   "outputs": [
    {
     "name": "stdout",
     "output_type": "stream",
     "text": [
      " Alpha value:  1  AUC:  0.8380499999999999  Acc:  83.80499999999999\n"
     ]
    }
   ],
   "source": [
    "# Prediction on Test data\n",
    "pred = mnNB.predict(test_count)\n",
    "acc = accuracy_score(test_target, pred, normalize=True) * float(100)\n",
    "auc=roc_auc_score(test_target, pred)\n",
    "print(\" Alpha value: \",best_alpha,\" AUC: \",auc,\" Acc: \",acc)"
   ]
  },
  {
   "cell_type": "markdown",
   "metadata": {},
   "source": [
    "### [5.1.1] Top 10 important features of positive class from<font color='red'> SET 1</font>"
   ]
  },
  {
   "cell_type": "code",
   "execution_count": 207,
   "metadata": {},
   "outputs": [
    {
     "name": "stdout",
     "output_type": "stream",
     "text": [
      "(1000, 1)\n",
      "1000\n"
     ]
    }
   ],
   "source": [
    "# Please write all the code with proper documentation\n",
    "\n",
    "print(mnNB.coef_.T.shape)\n",
    "features=(count_vect.get_feature_names())\n",
    "print(len(features))"
   ]
  },
  {
   "cell_type": "code",
   "execution_count": 208,
   "metadata": {},
   "outputs": [
    {
     "data": {
      "text/html": [
       "<div>\n",
       "<style scoped>\n",
       "    .dataframe tbody tr th:only-of-type {\n",
       "        vertical-align: middle;\n",
       "    }\n",
       "\n",
       "    .dataframe tbody tr th {\n",
       "        vertical-align: top;\n",
       "    }\n",
       "\n",
       "    .dataframe thead th {\n",
       "        text-align: right;\n",
       "    }\n",
       "</style>\n",
       "<table border=\"1\" class=\"dataframe\">\n",
       "  <thead>\n",
       "    <tr style=\"text-align: right;\">\n",
       "      <th></th>\n",
       "      <th>Score</th>\n",
       "      <th>Feature</th>\n",
       "      <th>Score_abs</th>\n",
       "    </tr>\n",
       "  </thead>\n",
       "  <tbody>\n",
       "    <tr>\n",
       "      <th>0</th>\n",
       "      <td>-6.811714</td>\n",
       "      <td>abl</td>\n",
       "      <td>6.811714</td>\n",
       "    </tr>\n",
       "    <tr>\n",
       "      <th>1</th>\n",
       "      <td>-6.833893</td>\n",
       "      <td>absolut</td>\n",
       "      <td>6.833893</td>\n",
       "    </tr>\n",
       "    <tr>\n",
       "      <th>2</th>\n",
       "      <td>-8.535079</td>\n",
       "      <td>accord</td>\n",
       "      <td>8.535079</td>\n",
       "    </tr>\n",
       "    <tr>\n",
       "      <th>3</th>\n",
       "      <td>-7.582580</td>\n",
       "      <td>acid</td>\n",
       "      <td>7.582580</td>\n",
       "    </tr>\n",
       "    <tr>\n",
       "      <th>4</th>\n",
       "      <td>-8.169505</td>\n",
       "      <td>across</td>\n",
       "      <td>8.169505</td>\n",
       "    </tr>\n",
       "  </tbody>\n",
       "</table>\n",
       "</div>"
      ],
      "text/plain": [
       "      Score  Feature  Score_abs\n",
       "0 -6.811714      abl   6.811714\n",
       "1 -6.833893  absolut   6.833893\n",
       "2 -8.535079   accord   8.535079\n",
       "3 -7.582580     acid   7.582580\n",
       "4 -8.169505   across   8.169505"
      ]
     },
     "execution_count": 208,
     "metadata": {},
     "output_type": "execute_result"
    }
   ],
   "source": [
    "feature_data=pd.DataFrame(list(mnNB.coef_.T),columns=['Score'])\n",
    "feature_data['Feature']=features\n",
    "feature_data['Score_abs']=feature_data['Score'].abs()\n",
    "feature_data.head()"
   ]
  },
  {
   "cell_type": "code",
   "execution_count": 209,
   "metadata": {},
   "outputs": [
    {
     "data": {
      "text/html": [
       "<div>\n",
       "<style scoped>\n",
       "    .dataframe tbody tr th:only-of-type {\n",
       "        vertical-align: middle;\n",
       "    }\n",
       "\n",
       "    .dataframe tbody tr th {\n",
       "        vertical-align: top;\n",
       "    }\n",
       "\n",
       "    .dataframe thead th {\n",
       "        text-align: right;\n",
       "    }\n",
       "</style>\n",
       "<table border=\"1\" class=\"dataframe\">\n",
       "  <thead>\n",
       "    <tr style=\"text-align: right;\">\n",
       "      <th></th>\n",
       "      <th>Feature</th>\n",
       "      <th>Score_abs</th>\n",
       "    </tr>\n",
       "  </thead>\n",
       "  <tbody>\n",
       "    <tr>\n",
       "      <th>489</th>\n",
       "      <td>like</td>\n",
       "      <td>4.210910</td>\n",
       "    </tr>\n",
       "    <tr>\n",
       "      <th>868</th>\n",
       "      <td>tast</td>\n",
       "      <td>4.297013</td>\n",
       "    </tr>\n",
       "    <tr>\n",
       "      <th>374</th>\n",
       "      <td>good</td>\n",
       "      <td>4.432297</td>\n",
       "    </tr>\n",
       "    <tr>\n",
       "      <th>337</th>\n",
       "      <td>flavor</td>\n",
       "      <td>4.460861</td>\n",
       "    </tr>\n",
       "    <tr>\n",
       "      <th>382</th>\n",
       "      <td>great</td>\n",
       "      <td>4.497827</td>\n",
       "    </tr>\n",
       "    <tr>\n",
       "      <th>931</th>\n",
       "      <td>use</td>\n",
       "      <td>4.500493</td>\n",
       "    </tr>\n",
       "    <tr>\n",
       "      <th>505</th>\n",
       "      <td>love</td>\n",
       "      <td>4.505149</td>\n",
       "    </tr>\n",
       "    <tr>\n",
       "      <th>589</th>\n",
       "      <td>one</td>\n",
       "      <td>4.566053</td>\n",
       "    </tr>\n",
       "    <tr>\n",
       "      <th>871</th>\n",
       "      <td>tea</td>\n",
       "      <td>4.601502</td>\n",
       "    </tr>\n",
       "    <tr>\n",
       "      <th>674</th>\n",
       "      <td>product</td>\n",
       "      <td>4.660161</td>\n",
       "    </tr>\n",
       "  </tbody>\n",
       "</table>\n",
       "</div>"
      ],
      "text/plain": [
       "     Feature  Score_abs\n",
       "489     like   4.210910\n",
       "868     tast   4.297013\n",
       "374     good   4.432297\n",
       "337   flavor   4.460861\n",
       "382    great   4.497827\n",
       "931      use   4.500493\n",
       "505     love   4.505149\n",
       "589      one   4.566053\n",
       "871      tea   4.601502\n",
       "674  product   4.660161"
      ]
     },
     "execution_count": 209,
     "metadata": {},
     "output_type": "execute_result"
    }
   ],
   "source": [
    "# Top 10 feature for positive class\n",
    "feature_data.sort_values(by='Score_abs',inplace=True,ascending=True)\n",
    "feature_data[['Feature','Score_abs']].head(10)"
   ]
  },
  {
   "cell_type": "markdown",
   "metadata": {},
   "source": [
    "Observation: We can see that the positive feature for positive class is positive words like good, love great and so on."
   ]
  },
  {
   "cell_type": "markdown",
   "metadata": {},
   "source": [
    "### [5.1.2] Top 10 important features of negative class from<font color='red'> SET 1</font>"
   ]
  },
  {
   "cell_type": "code",
   "execution_count": 210,
   "metadata": {},
   "outputs": [
    {
     "data": {
      "text/html": [
       "<div>\n",
       "<style scoped>\n",
       "    .dataframe tbody tr th:only-of-type {\n",
       "        vertical-align: middle;\n",
       "    }\n",
       "\n",
       "    .dataframe tbody tr th {\n",
       "        vertical-align: top;\n",
       "    }\n",
       "\n",
       "    .dataframe thead th {\n",
       "        text-align: right;\n",
       "    }\n",
       "</style>\n",
       "<table border=\"1\" class=\"dataframe\">\n",
       "  <thead>\n",
       "    <tr style=\"text-align: right;\">\n",
       "      <th></th>\n",
       "      <th>Feature</th>\n",
       "      <th>Score_abs</th>\n",
       "    </tr>\n",
       "  </thead>\n",
       "  <tbody>\n",
       "    <tr>\n",
       "      <th>869</th>\n",
       "      <td>tasteless</td>\n",
       "      <td>10.008893</td>\n",
       "    </tr>\n",
       "    <tr>\n",
       "      <th>707</th>\n",
       "      <td>refund</td>\n",
       "      <td>9.984795</td>\n",
       "    </tr>\n",
       "    <tr>\n",
       "      <th>908</th>\n",
       "      <td>trash</td>\n",
       "      <td>9.851264</td>\n",
       "    </tr>\n",
       "    <tr>\n",
       "      <th>85</th>\n",
       "      <td>bewar</td>\n",
       "      <td>9.830645</td>\n",
       "    </tr>\n",
       "    <tr>\n",
       "      <th>358</th>\n",
       "      <td>garbag</td>\n",
       "      <td>9.790639</td>\n",
       "    </tr>\n",
       "    <tr>\n",
       "      <th>890</th>\n",
       "      <td>threw</td>\n",
       "      <td>9.771221</td>\n",
       "    </tr>\n",
       "    <tr>\n",
       "      <th>981</th>\n",
       "      <td>worst</td>\n",
       "      <td>9.771221</td>\n",
       "    </tr>\n",
       "    <tr>\n",
       "      <th>258</th>\n",
       "      <td>disgust</td>\n",
       "      <td>9.644928</td>\n",
       "    </tr>\n",
       "    <tr>\n",
       "      <th>726</th>\n",
       "      <td>rip</td>\n",
       "      <td>9.563582</td>\n",
       "    </tr>\n",
       "    <tr>\n",
       "      <th>929</th>\n",
       "      <td>unpleas</td>\n",
       "      <td>9.445799</td>\n",
       "    </tr>\n",
       "  </tbody>\n",
       "</table>\n",
       "</div>"
      ],
      "text/plain": [
       "       Feature  Score_abs\n",
       "869  tasteless  10.008893\n",
       "707     refund   9.984795\n",
       "908      trash   9.851264\n",
       "85       bewar   9.830645\n",
       "358     garbag   9.790639\n",
       "890      threw   9.771221\n",
       "981      worst   9.771221\n",
       "258    disgust   9.644928\n",
       "726        rip   9.563582\n",
       "929    unpleas   9.445799"
      ]
     },
     "execution_count": 210,
     "metadata": {},
     "output_type": "execute_result"
    }
   ],
   "source": [
    "# Please write all the code with proper documentation\n",
    "# Top 10 feature for negative class\n",
    "feature_data.sort_values(by='Score_abs',inplace=True,ascending=False)\n",
    "feature_data[['Feature','Score_abs']].head(10)"
   ]
  },
  {
   "cell_type": "markdown",
   "metadata": {},
   "source": [
    "Observation: We can see that the important feature for negative class is negative words like trash, tasteless, which are expected to have."
   ]
  },
  {
   "cell_type": "code",
   "execution_count": 211,
   "metadata": {},
   "outputs": [],
   "source": [
    "# ROC AUC Curve\n",
    "\n",
    "\n",
    "y_true_train = train_traget\n",
    "y_probas_train = mnNB.predict_proba(training_count)\n",
    "y_true_test = test_target\n",
    "y_probas_test = mnNB.predict_proba(test_count)"
   ]
  },
  {
   "cell_type": "code",
   "execution_count": 212,
   "metadata": {},
   "outputs": [],
   "source": [
    "def plot_train_test_ROC(y_true_train,y_probas_train,y_true_test,y_probas_test):\n",
    "    fpr1, tpr1, _ = metrics.roc_curve(y_true_train,  y_probas_train[:,1])\n",
    "    auc1 = metrics.roc_auc_score(y_true_train, y_probas_train[:,1])\n",
    "    plt.plot(fpr1,tpr1,label=\"Train AUC, auc=\"+str(auc1))\n",
    "    fpr2, tpr2, _ = metrics.roc_curve(y_true_test,  y_probas_test[:,1])\n",
    "    auc2 = metrics.roc_auc_score(y_true_test, y_probas_test[:,1])\n",
    "    plt.plot(fpr2,tpr2,label=\"Test, auc=\"+str(auc2))\n",
    "    plt.legend(loc=4)\n",
    "    plt.title(\"Train and Test AUC\")\n",
    "    plt.grid()\n",
    "    plt.xlabel('False Positive rate')\n",
    "    plt.ylabel('True positive rate')\n",
    "    return plt\n",
    "    "
   ]
  },
  {
   "cell_type": "code",
   "execution_count": 213,
   "metadata": {},
   "outputs": [
    {
     "data": {
      "image/png": "[encoded data removed]",
      "text/plain": [
       "<matplotlib.figure.Figure at 0x2c091e78da0>"
      ]
     },
     "metadata": {},
     "output_type": "display_data"
    }
   ],
   "source": [
    "plot_train_test_ROC(y_true_train,y_probas_train,y_true_test,y_probas_test)\n",
    "plt.show()"
   ]
  },
  {
   "cell_type": "markdown",
   "metadata": {},
   "source": [
    "Observation: We can see that the Train and Test AUC is almost same on dest hyperparamter alpha =1. And the diff of train and Test AUC is not significant so we can say that this model is well fit. If we need better performance than this we may need to try different model and add some new features"
   ]
  },
  {
   "cell_type": "code",
   "execution_count": 214,
   "metadata": {},
   "outputs": [],
   "source": [
    "# Plotting Confusion matrix on test data\n",
    "import seaborn as sn\n",
    "from sklearn.metrics import confusion_matrix\n",
    "confm = confusion_matrix(y_true_test, mnNB.predict(test_count))"
   ]
  },
  {
   "cell_type": "code",
   "execution_count": 215,
   "metadata": {},
   "outputs": [
    {
     "data": {
      "text/plain": [
       "[Text(0,0.5,'0'), Text(0,1.5,'1')]"
      ]
     },
     "execution_count": 215,
     "metadata": {},
     "output_type": "execute_result"
    },
    {
     "data": {
      "image/png": "[encoded data removed]",
      "text/plain": [
       "<matplotlib.figure.Figure at 0x2c0aeb1a0f0>"
      ]
     },
     "metadata": {},
     "output_type": "display_data"
    }
   ],
   "source": [
    "ax= plt.subplot()\n",
    "sns.heatmap(confm, annot=True, ax = ax,annot_kws={\"size\": 16},fmt=\"d\"); #annot=True to annotate cells\n",
    "\n",
    "# labels, title and ticks\n",
    "ax.set_xlabel('Predicted labels');ax.set_ylabel('True labels'); \n",
    "ax.set_title('Confusion Matrix of Test data'); \n",
    "ax.xaxis.set_ticklabels(['0', '1']); ax.yaxis.set_ticklabels(['0', '1'])"
   ]
  },
  {
   "cell_type": "markdown",
   "metadata": {},
   "source": [
    "Observation: We can see that on unseen data(Test set) our diagonal elements have more no of count than off diagonals. means we have more TP and TN than FP and FN."
   ]
  },
  {
   "cell_type": "markdown",
   "metadata": {},
   "source": [
    "# Feature Engineering\n",
    "\n",
    "- Creating 4 new features using word and character len of description and summary columns"
   ]
  },
  {
   "cell_type": "code",
   "execution_count": 216,
   "metadata": {},
   "outputs": [
    {
     "data": {
      "text/html": [
       "<div>\n",
       "<style scoped>\n",
       "    .dataframe tbody tr th:only-of-type {\n",
       "        vertical-align: middle;\n",
       "    }\n",
       "\n",
       "    .dataframe tbody tr th {\n",
       "        vertical-align: top;\n",
       "    }\n",
       "\n",
       "    .dataframe thead th {\n",
       "        text-align: right;\n",
       "    }\n",
       "</style>\n",
       "<table border=\"1\" class=\"dataframe\">\n",
       "  <thead>\n",
       "    <tr style=\"text-align: right;\">\n",
       "      <th></th>\n",
       "      <th>0</th>\n",
       "      <th>1</th>\n",
       "      <th>2</th>\n",
       "      <th>3</th>\n",
       "      <th>4</th>\n",
       "      <th>5</th>\n",
       "      <th>6</th>\n",
       "      <th>7</th>\n",
       "      <th>8</th>\n",
       "      <th>9</th>\n",
       "      <th>...</th>\n",
       "      <th>990</th>\n",
       "      <th>991</th>\n",
       "      <th>992</th>\n",
       "      <th>993</th>\n",
       "      <th>994</th>\n",
       "      <th>995</th>\n",
       "      <th>996</th>\n",
       "      <th>997</th>\n",
       "      <th>998</th>\n",
       "      <th>999</th>\n",
       "    </tr>\n",
       "  </thead>\n",
       "  <tbody>\n",
       "    <tr>\n",
       "      <th>0</th>\n",
       "      <td>0</td>\n",
       "      <td>0</td>\n",
       "      <td>0</td>\n",
       "      <td>0</td>\n",
       "      <td>0</td>\n",
       "      <td>0</td>\n",
       "      <td>0</td>\n",
       "      <td>0</td>\n",
       "      <td>0</td>\n",
       "      <td>0</td>\n",
       "      <td>...</td>\n",
       "      <td>0</td>\n",
       "      <td>0</td>\n",
       "      <td>0</td>\n",
       "      <td>0</td>\n",
       "      <td>0</td>\n",
       "      <td>0</td>\n",
       "      <td>0</td>\n",
       "      <td>0</td>\n",
       "      <td>0</td>\n",
       "      <td>0</td>\n",
       "    </tr>\n",
       "    <tr>\n",
       "      <th>1</th>\n",
       "      <td>0</td>\n",
       "      <td>0</td>\n",
       "      <td>0</td>\n",
       "      <td>0</td>\n",
       "      <td>0</td>\n",
       "      <td>0</td>\n",
       "      <td>0</td>\n",
       "      <td>0</td>\n",
       "      <td>0</td>\n",
       "      <td>0</td>\n",
       "      <td>...</td>\n",
       "      <td>0</td>\n",
       "      <td>0</td>\n",
       "      <td>0</td>\n",
       "      <td>0</td>\n",
       "      <td>0</td>\n",
       "      <td>0</td>\n",
       "      <td>0</td>\n",
       "      <td>0</td>\n",
       "      <td>0</td>\n",
       "      <td>0</td>\n",
       "    </tr>\n",
       "    <tr>\n",
       "      <th>2</th>\n",
       "      <td>0</td>\n",
       "      <td>0</td>\n",
       "      <td>0</td>\n",
       "      <td>0</td>\n",
       "      <td>0</td>\n",
       "      <td>0</td>\n",
       "      <td>0</td>\n",
       "      <td>0</td>\n",
       "      <td>0</td>\n",
       "      <td>0</td>\n",
       "      <td>...</td>\n",
       "      <td>0</td>\n",
       "      <td>0</td>\n",
       "      <td>0</td>\n",
       "      <td>0</td>\n",
       "      <td>0</td>\n",
       "      <td>0</td>\n",
       "      <td>0</td>\n",
       "      <td>0</td>\n",
       "      <td>0</td>\n",
       "      <td>0</td>\n",
       "    </tr>\n",
       "  </tbody>\n",
       "</table>\n",
       "<p>3 rows × 1000 columns</p>\n",
       "</div>"
      ],
      "text/plain": [
       "   0    1    2    3    4    5    6    7    8    9   ...   990  991  992  993  \\\n",
       "0    0    0    0    0    0    0    0    0    0    0 ...     0    0    0    0   \n",
       "1    0    0    0    0    0    0    0    0    0    0 ...     0    0    0    0   \n",
       "2    0    0    0    0    0    0    0    0    0    0 ...     0    0    0    0   \n",
       "\n",
       "   994  995  996  997  998  999  \n",
       "0    0    0    0    0    0    0  \n",
       "1    0    0    0    0    0    0  \n",
       "2    0    0    0    0    0    0  \n",
       "\n",
       "[3 rows x 1000 columns]"
      ]
     },
     "execution_count": 216,
     "metadata": {},
     "output_type": "execute_result"
    }
   ],
   "source": [
    "import pandas as pd\n",
    "data=pd.DataFrame(training_count)\n",
    "data.head(3)"
   ]
  },
  {
   "cell_type": "code",
   "execution_count": 217,
   "metadata": {},
   "outputs": [
    {
     "data": {
      "text/plain": [
       "(60000, 1000)"
      ]
     },
     "execution_count": 217,
     "metadata": {},
     "output_type": "execute_result"
    }
   ],
   "source": [
    "data.shape"
   ]
  },
  {
   "cell_type": "code",
   "execution_count": 218,
   "metadata": {},
   "outputs": [],
   "source": [
    "#Train data\n",
    "# word len of description and summary columns\n",
    "data['description_len'] = train_data['CleanedText'].apply(lambda x : len(x.split()))\n",
    "data['summary_len'] = train_data['Summary'].apply(lambda x : len(x.split()))\n",
    "\n",
    "# charater len of description and summary columns\n",
    "data['description_char_len'] = train_data['CleanedText'].apply(len)\n",
    "data['Summary_char_len'] = train_data['Summary'].apply(len)\n"
   ]
  },
  {
   "cell_type": "code",
   "execution_count": 219,
   "metadata": {},
   "outputs": [
    {
     "data": {
      "text/html": [
       "<div>\n",
       "<style scoped>\n",
       "    .dataframe tbody tr th:only-of-type {\n",
       "        vertical-align: middle;\n",
       "    }\n",
       "\n",
       "    .dataframe tbody tr th {\n",
       "        vertical-align: top;\n",
       "    }\n",
       "\n",
       "    .dataframe thead th {\n",
       "        text-align: right;\n",
       "    }\n",
       "</style>\n",
       "<table border=\"1\" class=\"dataframe\">\n",
       "  <thead>\n",
       "    <tr style=\"text-align: right;\">\n",
       "      <th></th>\n",
       "      <th>0</th>\n",
       "      <th>1</th>\n",
       "      <th>2</th>\n",
       "      <th>3</th>\n",
       "      <th>4</th>\n",
       "      <th>5</th>\n",
       "      <th>6</th>\n",
       "      <th>7</th>\n",
       "      <th>8</th>\n",
       "      <th>9</th>\n",
       "      <th>...</th>\n",
       "      <th>994</th>\n",
       "      <th>995</th>\n",
       "      <th>996</th>\n",
       "      <th>997</th>\n",
       "      <th>998</th>\n",
       "      <th>999</th>\n",
       "      <th>description_len</th>\n",
       "      <th>summary_len</th>\n",
       "      <th>description_char_len</th>\n",
       "      <th>Summary_char_len</th>\n",
       "    </tr>\n",
       "  </thead>\n",
       "  <tbody>\n",
       "    <tr>\n",
       "      <th>0</th>\n",
       "      <td>0</td>\n",
       "      <td>0</td>\n",
       "      <td>0</td>\n",
       "      <td>0</td>\n",
       "      <td>0</td>\n",
       "      <td>0</td>\n",
       "      <td>0</td>\n",
       "      <td>0</td>\n",
       "      <td>0</td>\n",
       "      <td>0</td>\n",
       "      <td>...</td>\n",
       "      <td>0</td>\n",
       "      <td>0</td>\n",
       "      <td>0</td>\n",
       "      <td>0</td>\n",
       "      <td>0</td>\n",
       "      <td>0</td>\n",
       "      <td>11</td>\n",
       "      <td>1</td>\n",
       "      <td>61</td>\n",
       "      <td>5</td>\n",
       "    </tr>\n",
       "  </tbody>\n",
       "</table>\n",
       "<p>1 rows × 1004 columns</p>\n",
       "</div>"
      ],
      "text/plain": [
       "   0  1  2  3  4  5  6  7  8  9        ...         994  995  996  997  998  \\\n",
       "0  0  0  0  0  0  0  0  0  0  0        ...           0    0    0    0    0   \n",
       "\n",
       "   999  description_len  summary_len  description_char_len  Summary_char_len  \n",
       "0    0               11            1                    61                 5  \n",
       "\n",
       "[1 rows x 1004 columns]"
      ]
     },
     "execution_count": 219,
     "metadata": {},
     "output_type": "execute_result"
    }
   ],
   "source": [
    "data.head(1)"
   ]
  },
  {
   "cell_type": "code",
   "execution_count": 220,
   "metadata": {},
   "outputs": [
    {
     "data": {
      "text/plain": [
       "(60000, 1004)"
      ]
     },
     "execution_count": 220,
     "metadata": {},
     "output_type": "execute_result"
    }
   ],
   "source": [
    "data.shape"
   ]
  },
  {
   "cell_type": "code",
   "execution_count": 221,
   "metadata": {},
   "outputs": [
    {
     "data": {
      "text/html": [
       "<div>\n",
       "<style scoped>\n",
       "    .dataframe tbody tr th:only-of-type {\n",
       "        vertical-align: middle;\n",
       "    }\n",
       "\n",
       "    .dataframe tbody tr th {\n",
       "        vertical-align: top;\n",
       "    }\n",
       "\n",
       "    .dataframe thead th {\n",
       "        text-align: right;\n",
       "    }\n",
       "</style>\n",
       "<table border=\"1\" class=\"dataframe\">\n",
       "  <thead>\n",
       "    <tr style=\"text-align: right;\">\n",
       "      <th></th>\n",
       "      <th>0</th>\n",
       "      <th>1</th>\n",
       "      <th>2</th>\n",
       "      <th>3</th>\n",
       "      <th>4</th>\n",
       "      <th>5</th>\n",
       "      <th>6</th>\n",
       "      <th>7</th>\n",
       "      <th>8</th>\n",
       "      <th>9</th>\n",
       "      <th>...</th>\n",
       "      <th>994</th>\n",
       "      <th>995</th>\n",
       "      <th>996</th>\n",
       "      <th>997</th>\n",
       "      <th>998</th>\n",
       "      <th>999</th>\n",
       "      <th>description_len</th>\n",
       "      <th>summary_len</th>\n",
       "      <th>description_char_len</th>\n",
       "      <th>Summary_char_len</th>\n",
       "    </tr>\n",
       "  </thead>\n",
       "  <tbody>\n",
       "    <tr>\n",
       "      <th>0</th>\n",
       "      <td>0</td>\n",
       "      <td>0</td>\n",
       "      <td>0</td>\n",
       "      <td>0</td>\n",
       "      <td>0</td>\n",
       "      <td>0</td>\n",
       "      <td>0</td>\n",
       "      <td>0</td>\n",
       "      <td>0</td>\n",
       "      <td>0</td>\n",
       "      <td>...</td>\n",
       "      <td>0</td>\n",
       "      <td>0</td>\n",
       "      <td>0</td>\n",
       "      <td>0</td>\n",
       "      <td>0</td>\n",
       "      <td>0</td>\n",
       "      <td>29</td>\n",
       "      <td>2</td>\n",
       "      <td>163</td>\n",
       "      <td>7</td>\n",
       "    </tr>\n",
       "  </tbody>\n",
       "</table>\n",
       "<p>1 rows × 1004 columns</p>\n",
       "</div>"
      ],
      "text/plain": [
       "   0  1  2  3  4  5  6  7  8  9        ...         994  995  996  997  998  \\\n",
       "0  0  0  0  0  0  0  0  0  0  0        ...           0    0    0    0    0   \n",
       "\n",
       "   999  description_len  summary_len  description_char_len  Summary_char_len  \n",
       "0    0               29            2                   163                 7  \n",
       "\n",
       "[1 rows x 1004 columns]"
      ]
     },
     "execution_count": 221,
     "metadata": {},
     "output_type": "execute_result"
    }
   ],
   "source": [
    "#Test data\n",
    "# word len of description and summary columns\n",
    "data_test=pd.DataFrame(test_count)\n",
    "data_test['description_len'] = test_data['CleanedText'].apply(lambda x : len(x.split()))\n",
    "data_test['summary_len'] = test_data['Summary'].apply(lambda x : len(x.split()))\n",
    "\n",
    "# charater len of description and summary columns\n",
    "data_test['description_char_len'] = test_data['CleanedText'].apply(len)\n",
    "data_test['Summary_char_len'] = test_data['Summary'].apply(len)\n",
    "data_test.head(1)"
   ]
  },
  {
   "cell_type": "code",
   "execution_count": 222,
   "metadata": {},
   "outputs": [
    {
     "data": {
      "text/plain": [
       "(20000, 1004)"
      ]
     },
     "execution_count": 222,
     "metadata": {},
     "output_type": "execute_result"
    }
   ],
   "source": [
    "data_test.shape"
   ]
  },
  {
   "cell_type": "code",
   "execution_count": 223,
   "metadata": {},
   "outputs": [
    {
     "data": {
      "text/plain": [
       "MultinomialNB(alpha=10, class_prior=None, fit_prior=True)"
      ]
     },
     "execution_count": 223,
     "metadata": {},
     "output_type": "execute_result"
    }
   ],
   "source": [
    "from sklearn.naive_bayes import MultinomialNB\n",
    "from sklearn.metrics import accuracy_score\n",
    "from sklearn.metrics import roc_auc_score\n",
    "best_alpha=10\n",
    "mnNB = MultinomialNB(alpha=best_alpha)\n",
    "mnNB.fit(data, train_traget)"
   ]
  },
  {
   "cell_type": "code",
   "execution_count": 224,
   "metadata": {},
   "outputs": [
    {
     "name": "stdout",
     "output_type": "stream",
     "text": [
      " AUC_test:  0.8162999999999999  Acc_test:  81.63\n",
      " Auc_train:  0.8192166666666667  Acc_train:  81.92166666666667\n"
     ]
    }
   ],
   "source": [
    "pred_train = mnNB.predict(data)\n",
    "acc_train = accuracy_score(train_traget, pred_train, normalize=True) * float(100)\n",
    "auc_train=roc_auc_score(train_traget, pred_train)\n",
    "\n",
    "pred_test = mnNB.predict(data_test)\n",
    "acc_test = accuracy_score(test_target, pred_test, normalize=True) * float(100)\n",
    "auc_test=roc_auc_score(test_target, pred_test)\n",
    "print(\" AUC_test: \",auc_test,\" Acc_test: \",acc_test)\n",
    "print(\" Auc_train: \",auc_train,\" Acc_train: \",acc_train)"
   ]
  },
  {
   "cell_type": "markdown",
   "metadata": {},
   "source": [
    "Observation: After adding 4 more features, Test and train both AUC has decreased, this may be because we need to tune the hyper paramter again as feature has changed."
   ]
  },
  {
   "cell_type": "markdown",
   "metadata": {},
   "source": [
    "## [5.2] Applying Naive Bayes on TFIDF,<font color='red'> SET 2</font>"
   ]
  },
  {
   "cell_type": "code",
   "execution_count": 226,
   "metadata": {},
   "outputs": [],
   "source": [
    "# Please write all the code with proper documentation\n",
    "# Taking only 10k points as it creating more than 500k dimensions\n",
    "tf_idf_vect = TfidfVectorizer(ngram_range=(2,3),min_df=10,max_features=1000)\n",
    "training_counts = tf_idf_vect.fit_transform(train_data['CleanedText'])\n",
    "cv_counts = tf_idf_vect.transform(cv_data['CleanedText'])\n",
    "test_counts = tf_idf_vect.transform(test_data['CleanedText'])\n"
   ]
  },
  {
   "cell_type": "code",
   "execution_count": 227,
   "metadata": {},
   "outputs": [
    {
     "name": "stdout",
     "output_type": "stream",
     "text": [
      " training_counts  (60000, 1000) cv_counts  (20000, 1000) test_counts (20000, 1000)\n"
     ]
    }
   ],
   "source": [
    "print(\" training_counts \",training_counts.shape,\"cv_counts \",cv_counts.shape,\"test_counts\",test_counts.shape)"
   ]
  },
  {
   "cell_type": "code",
   "execution_count": 228,
   "metadata": {},
   "outputs": [],
   "source": [
    "# converting sparse vector to dense vector\n",
    "training_count=training_counts.toarray()"
   ]
  },
  {
   "cell_type": "code",
   "execution_count": 229,
   "metadata": {},
   "outputs": [
    {
     "data": {
      "text/plain": [
       "15582"
      ]
     },
     "execution_count": 229,
     "metadata": {},
     "output_type": "execute_result"
    }
   ],
   "source": [
    "cv_count=cv_counts.toarray()\n",
    "test_count=test_counts.toarray()\n",
    "# removing unused object\n",
    "gc.collect()"
   ]
  },
  {
   "cell_type": "code",
   "execution_count": 230,
   "metadata": {},
   "outputs": [
    {
     "data": {
      "text/plain": [
       "(60000, 12)"
      ]
     },
     "execution_count": 230,
     "metadata": {},
     "output_type": "execute_result"
    }
   ],
   "source": [
    "train_data.shape"
   ]
  },
  {
   "cell_type": "code",
   "execution_count": 231,
   "metadata": {},
   "outputs": [],
   "source": [
    "train_traget=train_data['Score'].astype('int')\n",
    "cv_target=cv_data['Score'].astype('int')\n",
    "test_target=test_data['Score'].astype('int')"
   ]
  },
  {
   "cell_type": "code",
   "execution_count": 232,
   "metadata": {},
   "outputs": [
    {
     "name": "stderr",
     "output_type": "stream",
     "text": [
      "\r",
      "  0%|                                                                                            | 0/8 [00:00<?, ?it/s]"
     ]
    },
    {
     "name": "stdout",
     "output_type": "stream",
     "text": [
      " Alpha value:  0.0001  AUC:  0.7443  Acc:  74.42999999999999  auc_train  0.7529333333333335\n"
     ]
    },
    {
     "name": "stderr",
     "output_type": "stream",
     "text": [
      "\r",
      " 12%|██████████▌                                                                         | 1/8 [00:01<00:12,  1.74s/it]"
     ]
    },
    {
     "name": "stdout",
     "output_type": "stream",
     "text": [
      " Alpha value:  0.001  AUC:  0.7443  Acc:  74.42999999999999  auc_train  0.7529333333333335\n"
     ]
    },
    {
     "name": "stderr",
     "output_type": "stream",
     "text": [
      "\r",
      " 25%|█████████████████████                                                               | 2/8 [00:03<00:09,  1.60s/it]"
     ]
    },
    {
     "name": "stdout",
     "output_type": "stream",
     "text": [
      " Alpha value:  0.01  AUC:  0.7443  Acc:  74.42999999999999  auc_train  0.7529666666666667\n"
     ]
    },
    {
     "name": "stderr",
     "output_type": "stream",
     "text": [
      "\r",
      " 38%|███████████████████████████████▌                                                    | 3/8 [00:04<00:07,  1.55s/it]"
     ]
    },
    {
     "name": "stdout",
     "output_type": "stream",
     "text": [
      " Alpha value:  0.1  AUC:  0.7444  Acc:  74.44  auc_train  0.7529666666666667\n"
     ]
    },
    {
     "name": "stderr",
     "output_type": "stream",
     "text": [
      "\r",
      " 50%|██████████████████████████████████████████                                          | 4/8 [00:06<00:06,  1.52s/it]"
     ]
    },
    {
     "name": "stdout",
     "output_type": "stream",
     "text": [
      " Alpha value:  1  AUC:  0.7448  Acc:  74.48  auc_train  0.7529999999999999\n"
     ]
    },
    {
     "name": "stderr",
     "output_type": "stream",
     "text": [
      "\r",
      " 62%|████████████████████████████████████████████████████▌                               | 5/8 [00:07<00:04,  1.54s/it]"
     ]
    },
    {
     "name": "stdout",
     "output_type": "stream",
     "text": [
      " Alpha value:  10  AUC:  0.7447  Acc:  74.47  auc_train  0.7525333333333334\n"
     ]
    },
    {
     "name": "stderr",
     "output_type": "stream",
     "text": [
      "\r",
      " 75%|███████████████████████████████████████████████████████████████                     | 6/8 [00:09<00:03,  1.52s/it]"
     ]
    },
    {
     "name": "stdout",
     "output_type": "stream",
     "text": [
      " Alpha value:  100  AUC:  0.7414499999999999  Acc:  74.14500000000001  auc_train  0.7482833333333334\n"
     ]
    },
    {
     "name": "stderr",
     "output_type": "stream",
     "text": [
      "\r",
      " 88%|█████████████████████████████████████████████████████████████████████████▌          | 7/8 [00:10<00:01,  1.52s/it]"
     ]
    },
    {
     "name": "stdout",
     "output_type": "stream",
     "text": [
      " Alpha value:  1000  AUC:  0.7334999999999999  Acc:  73.35000000000001  auc_train  0.7391833333333333\n"
     ]
    },
    {
     "name": "stderr",
     "output_type": "stream",
     "text": [
      "100%|████████████████████████████████████████████████████████████████████████████████████| 8/8 [00:12<00:00,  1.51s/it]\n"
     ]
    }
   ],
   "source": [
    "# Compute train AUC also\n",
    "\n",
    "from sklearn.naive_bayes import MultinomialNB\n",
    "from sklearn.metrics import accuracy_score\n",
    "from sklearn.metrics import roc_auc_score\n",
    "#Simple Cross Validation\n",
    "alpha=[0.0001,0.001,0.01,0.1,1,10,100,1000,]\n",
    "returned_pram=dict()\n",
    "returned_pram_train=dict()\n",
    "for i in tqdm(alpha):\n",
    "    # instantiate learning model (k = 30)\n",
    "    mnNB = MultinomialNB(alpha=i)\n",
    "\n",
    "    # fitting the model on crossvalidation train\n",
    "    mnNB.fit(training_count, train_traget)\n",
    "\n",
    "    # predict the response on the crossvalidation train\n",
    "    pred_cv = mnNB.predict(cv_count)\n",
    "\n",
    "    # evaluate CV accuracy\n",
    "    acc_cv = accuracy_score(cv_target, pred_cv, normalize=True) * float(100)\n",
    "    auc_cv=roc_auc_score(cv_target, pred_cv)\n",
    "    auc_train=roc_auc_score(train_traget, mnNB.predict(training_count))\n",
    "    print(\" Alpha value: \",i,\" AUC: \",auc_cv,\" Acc: \",acc_cv,\" auc_train \",auc_train)\n",
    "    returned_pram.update({i:auc_cv})\n",
    "    returned_pram_train.update({i:auc_train})\n",
    "    gc.collect()\n",
    "    "
   ]
  },
  {
   "cell_type": "code",
   "execution_count": 233,
   "metadata": {},
   "outputs": [],
   "source": [
    "# ROC AUC Curve\n",
    "def plot_train_cv_error(test_map,train_map,title,alpha):\n",
    "    plt.plot(list(test_map.keys()), test_map.values())\n",
    "    plt.plot(list(train_map.keys()), train_map.values())\n",
    "    plt.semilogx(alpha, train_map.values(), label='Train_Error')\n",
    "    plt.semilogx(alpha, test_map.values(), label='CV_Error')\n",
    "    plt.xlabel('Alpha value')\n",
    "    plt.ylabel('AUC')\n",
    "    plt.title(title)\n",
    "    plt.legend()\n",
    "    plt.grid()\n",
    "    return plt"
   ]
  },
  {
   "cell_type": "code",
   "execution_count": 234,
   "metadata": {},
   "outputs": [
    {
     "data": {
      "image/png": "[encoded data removed]",
      "text/plain": [
       "<matplotlib.figure.Figure at 0x2c0b02eaa20>"
      ]
     },
     "metadata": {},
     "output_type": "display_data"
    }
   ],
   "source": [
    "# plot misclassification error vs k \n",
    "plot_train_cv_error(returned_pram,returned_pram_train,'TFIDF AUC vs alpha',alpha)\n",
    "plt.show()"
   ]
  },
  {
   "cell_type": "markdown",
   "metadata": {},
   "source": [
    "Observation: We can see that as alpha value is low CV AUC is less and training AUC is more, this is because of overfitting on less alpha value. As we increasing the alpha, training AUC is decreasing and TEST AUC is increasing. At alpha value 1, we are getting Maximum AUC and after than model is underfitting. so our best alpha is 1."
   ]
  },
  {
   "cell_type": "markdown",
   "metadata": {},
   "source": [
    "Accuracy and AUC on Test data with best alpha"
   ]
  },
  {
   "cell_type": "code",
   "execution_count": 251,
   "metadata": {},
   "outputs": [
    {
     "data": {
      "text/plain": [
       "MultinomialNB(alpha=1, class_prior=None, fit_prior=True)"
      ]
     },
     "execution_count": 251,
     "metadata": {},
     "output_type": "execute_result"
    }
   ],
   "source": [
    "best_alpha=1\n",
    "mnNB = MultinomialNB(alpha=best_alpha)\n",
    "mnNB.fit(training_count, train_traget)"
   ]
  },
  {
   "cell_type": "code",
   "execution_count": 252,
   "metadata": {},
   "outputs": [
    {
     "name": "stdout",
     "output_type": "stream",
     "text": [
      "Stats on Test data   Alpha value:  1  AUC:  0.7395  Acc:  73.95\n"
     ]
    }
   ],
   "source": [
    "# Prediction on Test data\n",
    "pred = mnNB.predict(test_count)\n",
    "acc = accuracy_score(test_target, pred, normalize=True) * float(100)\n",
    "auc=roc_auc_score(test_target, pred)\n",
    "print(\"Stats on Test data \",\" Alpha value: \",best_alpha,\" AUC: \",auc,\" Acc: \",acc)"
   ]
  },
  {
   "cell_type": "code",
   "execution_count": 237,
   "metadata": {},
   "outputs": [],
   "source": [
    "# ROC AUC Curve\n",
    "import scikitplot as skplt\n",
    "\n",
    "y_true_train = train_traget\n",
    "y_probas_train = mnNB.predict_proba(training_count)\n",
    "y_true_test = test_target\n",
    "y_probas_test = mnNB.predict_proba(test_count)"
   ]
  },
  {
   "cell_type": "code",
   "execution_count": 238,
   "metadata": {},
   "outputs": [],
   "source": [
    "def plot_train_test_ROC(y_true_train,y_probas_train,y_true_test,y_probas_test):\n",
    "    fpr1, tpr1, _ = metrics.roc_curve(y_true_train,  y_probas_train[:,1])\n",
    "    auc1 = metrics.roc_auc_score(y_true_train, y_probas_train[:,1])\n",
    "    plt.plot(fpr1,tpr1,label=\"Train AUC, auc=\"+str(auc1))\n",
    "    fpr2, tpr2, _ = metrics.roc_curve(y_true_test,  y_probas_test[:,1])\n",
    "    auc2 = metrics.roc_auc_score(y_true_test, y_probas_test[:,1])\n",
    "    plt.plot(fpr2,tpr2,label=\"Test, auc=\"+str(auc2))\n",
    "    plt.legend(loc=4)\n",
    "    plt.title(\"TFIDF Train and Test AUC\")\n",
    "    plt.grid()\n",
    "    plt.xlabel('False Positive rate')\n",
    "    plt.ylabel('True positive rate')\n",
    "    return plt"
   ]
  },
  {
   "cell_type": "code",
   "execution_count": 239,
   "metadata": {},
   "outputs": [
    {
     "data": {
      "image/png": "[encoded data removed]",
      "text/plain": [
       "<matplotlib.figure.Figure at 0x2c0f6a610f0>"
      ]
     },
     "metadata": {},
     "output_type": "display_data"
    }
   ],
   "source": [
    "plot_train_test_ROC(y_true_train,y_probas_train,y_true_test,y_probas_test)\n",
    "plt.show()"
   ]
  },
  {
   "cell_type": "markdown",
   "metadata": {},
   "source": [
    "Observation: We can see that the ROC curve of the train and test data is almost same, means we are getting almost idle model. If we want to increase the accuracy we need to do feature engineering and add some new features."
   ]
  },
  {
   "cell_type": "code",
   "execution_count": 240,
   "metadata": {},
   "outputs": [],
   "source": [
    "# Plotting Confusion matrix on test data\n",
    "import seaborn as sn\n",
    "from sklearn.metrics import confusion_matrix\n",
    "confm = confusion_matrix(y_true_test, mnNB.predict(test_count))"
   ]
  },
  {
   "cell_type": "code",
   "execution_count": 241,
   "metadata": {},
   "outputs": [
    {
     "data": {
      "text/plain": [
       "[Text(0,0.5,'0'), Text(0,1.5,'1')]"
      ]
     },
     "execution_count": 241,
     "metadata": {},
     "output_type": "execute_result"
    },
    {
     "data": {
      "image/png": "[encoded data removed]",
      "text/plain": [
       "<matplotlib.figure.Figure at 0x2c0fa343ac8>"
      ]
     },
     "metadata": {},
     "output_type": "display_data"
    }
   ],
   "source": [
    "ax= plt.subplot()\n",
    "sns.heatmap(confm, annot=True, ax = ax,annot_kws={\"size\": 16},fmt=\"d\"); #annot=True to annotate cells\n",
    "\n",
    "# labels, title and ticks\n",
    "ax.set_xlabel('Predicted labels');ax.set_ylabel('True labels'); \n",
    "ax.set_title('TFIDF Confusion Matrix of Test data'); \n",
    "ax.xaxis.set_ticklabels(['0', '1']); ax.yaxis.set_ticklabels(['0', '1'])"
   ]
  },
  {
   "cell_type": "markdown",
   "metadata": {},
   "source": [
    "Observation: We can see that the diagonal elments have more number of correct prediction i.e TP and TN than the off digonal numbers i.e FP and FN. "
   ]
  },
  {
   "cell_type": "markdown",
   "metadata": {},
   "source": [
    "# Feature Engineering\n",
    "\n",
    "- Creating 4 new features using words and characters len of description and summary columns"
   ]
  },
  {
   "cell_type": "code",
   "execution_count": 242,
   "metadata": {},
   "outputs": [
    {
     "data": {
      "text/html": [
       "<div>\n",
       "<style scoped>\n",
       "    .dataframe tbody tr th:only-of-type {\n",
       "        vertical-align: middle;\n",
       "    }\n",
       "\n",
       "    .dataframe tbody tr th {\n",
       "        vertical-align: top;\n",
       "    }\n",
       "\n",
       "    .dataframe thead th {\n",
       "        text-align: right;\n",
       "    }\n",
       "</style>\n",
       "<table border=\"1\" class=\"dataframe\">\n",
       "  <thead>\n",
       "    <tr style=\"text-align: right;\">\n",
       "      <th></th>\n",
       "      <th>0</th>\n",
       "      <th>1</th>\n",
       "      <th>2</th>\n",
       "      <th>3</th>\n",
       "      <th>4</th>\n",
       "      <th>5</th>\n",
       "      <th>6</th>\n",
       "      <th>7</th>\n",
       "      <th>8</th>\n",
       "      <th>9</th>\n",
       "      <th>...</th>\n",
       "      <th>990</th>\n",
       "      <th>991</th>\n",
       "      <th>992</th>\n",
       "      <th>993</th>\n",
       "      <th>994</th>\n",
       "      <th>995</th>\n",
       "      <th>996</th>\n",
       "      <th>997</th>\n",
       "      <th>998</th>\n",
       "      <th>999</th>\n",
       "    </tr>\n",
       "  </thead>\n",
       "  <tbody>\n",
       "    <tr>\n",
       "      <th>0</th>\n",
       "      <td>0.0</td>\n",
       "      <td>0.0</td>\n",
       "      <td>0.0</td>\n",
       "      <td>0.0</td>\n",
       "      <td>0.0</td>\n",
       "      <td>0.0</td>\n",
       "      <td>0.0</td>\n",
       "      <td>0.0</td>\n",
       "      <td>0.0</td>\n",
       "      <td>0.0</td>\n",
       "      <td>...</td>\n",
       "      <td>0.0</td>\n",
       "      <td>0.0</td>\n",
       "      <td>0.0</td>\n",
       "      <td>0.0</td>\n",
       "      <td>0.0</td>\n",
       "      <td>0.0</td>\n",
       "      <td>0.0</td>\n",
       "      <td>0.0</td>\n",
       "      <td>0.0</td>\n",
       "      <td>0.0</td>\n",
       "    </tr>\n",
       "    <tr>\n",
       "      <th>1</th>\n",
       "      <td>0.0</td>\n",
       "      <td>0.0</td>\n",
       "      <td>0.0</td>\n",
       "      <td>0.0</td>\n",
       "      <td>0.0</td>\n",
       "      <td>0.0</td>\n",
       "      <td>0.0</td>\n",
       "      <td>0.0</td>\n",
       "      <td>0.0</td>\n",
       "      <td>0.0</td>\n",
       "      <td>...</td>\n",
       "      <td>0.0</td>\n",
       "      <td>0.0</td>\n",
       "      <td>0.0</td>\n",
       "      <td>0.0</td>\n",
       "      <td>0.0</td>\n",
       "      <td>0.0</td>\n",
       "      <td>0.0</td>\n",
       "      <td>0.0</td>\n",
       "      <td>0.0</td>\n",
       "      <td>0.0</td>\n",
       "    </tr>\n",
       "    <tr>\n",
       "      <th>2</th>\n",
       "      <td>0.0</td>\n",
       "      <td>0.0</td>\n",
       "      <td>0.0</td>\n",
       "      <td>0.0</td>\n",
       "      <td>0.0</td>\n",
       "      <td>0.0</td>\n",
       "      <td>0.0</td>\n",
       "      <td>0.0</td>\n",
       "      <td>0.0</td>\n",
       "      <td>0.0</td>\n",
       "      <td>...</td>\n",
       "      <td>0.0</td>\n",
       "      <td>0.0</td>\n",
       "      <td>0.0</td>\n",
       "      <td>0.0</td>\n",
       "      <td>0.0</td>\n",
       "      <td>0.0</td>\n",
       "      <td>0.0</td>\n",
       "      <td>0.0</td>\n",
       "      <td>0.0</td>\n",
       "      <td>0.0</td>\n",
       "    </tr>\n",
       "  </tbody>\n",
       "</table>\n",
       "<p>3 rows × 1000 columns</p>\n",
       "</div>"
      ],
      "text/plain": [
       "   0    1    2    3    4    5    6    7    8    9   ...   990  991  992  993  \\\n",
       "0  0.0  0.0  0.0  0.0  0.0  0.0  0.0  0.0  0.0  0.0 ...   0.0  0.0  0.0  0.0   \n",
       "1  0.0  0.0  0.0  0.0  0.0  0.0  0.0  0.0  0.0  0.0 ...   0.0  0.0  0.0  0.0   \n",
       "2  0.0  0.0  0.0  0.0  0.0  0.0  0.0  0.0  0.0  0.0 ...   0.0  0.0  0.0  0.0   \n",
       "\n",
       "   994  995  996  997  998  999  \n",
       "0  0.0  0.0  0.0  0.0  0.0  0.0  \n",
       "1  0.0  0.0  0.0  0.0  0.0  0.0  \n",
       "2  0.0  0.0  0.0  0.0  0.0  0.0  \n",
       "\n",
       "[3 rows x 1000 columns]"
      ]
     },
     "execution_count": 242,
     "metadata": {},
     "output_type": "execute_result"
    }
   ],
   "source": [
    "import pandas as pd\n",
    "data=pd.DataFrame(training_count)\n",
    "data.head(3)"
   ]
  },
  {
   "cell_type": "code",
   "execution_count": 243,
   "metadata": {},
   "outputs": [
    {
     "data": {
      "text/plain": [
       "(60000, 1000)"
      ]
     },
     "execution_count": 243,
     "metadata": {},
     "output_type": "execute_result"
    }
   ],
   "source": [
    "data.shape"
   ]
  },
  {
   "cell_type": "code",
   "execution_count": 244,
   "metadata": {},
   "outputs": [
    {
     "data": {
      "text/html": [
       "<div>\n",
       "<style scoped>\n",
       "    .dataframe tbody tr th:only-of-type {\n",
       "        vertical-align: middle;\n",
       "    }\n",
       "\n",
       "    .dataframe tbody tr th {\n",
       "        vertical-align: top;\n",
       "    }\n",
       "\n",
       "    .dataframe thead th {\n",
       "        text-align: right;\n",
       "    }\n",
       "</style>\n",
       "<table border=\"1\" class=\"dataframe\">\n",
       "  <thead>\n",
       "    <tr style=\"text-align: right;\">\n",
       "      <th></th>\n",
       "      <th>0</th>\n",
       "      <th>1</th>\n",
       "      <th>2</th>\n",
       "      <th>3</th>\n",
       "      <th>4</th>\n",
       "      <th>5</th>\n",
       "      <th>6</th>\n",
       "      <th>7</th>\n",
       "      <th>8</th>\n",
       "      <th>9</th>\n",
       "      <th>...</th>\n",
       "      <th>994</th>\n",
       "      <th>995</th>\n",
       "      <th>996</th>\n",
       "      <th>997</th>\n",
       "      <th>998</th>\n",
       "      <th>999</th>\n",
       "      <th>description_len</th>\n",
       "      <th>summary_len</th>\n",
       "      <th>description_char_len</th>\n",
       "      <th>Summary_char_len</th>\n",
       "    </tr>\n",
       "  </thead>\n",
       "  <tbody>\n",
       "    <tr>\n",
       "      <th>0</th>\n",
       "      <td>0.0</td>\n",
       "      <td>0.0</td>\n",
       "      <td>0.0</td>\n",
       "      <td>0.0</td>\n",
       "      <td>0.0</td>\n",
       "      <td>0.0</td>\n",
       "      <td>0.0</td>\n",
       "      <td>0.0</td>\n",
       "      <td>0.0</td>\n",
       "      <td>0.0</td>\n",
       "      <td>...</td>\n",
       "      <td>0.0</td>\n",
       "      <td>0.0</td>\n",
       "      <td>0.0</td>\n",
       "      <td>0.0</td>\n",
       "      <td>0.0</td>\n",
       "      <td>0.0</td>\n",
       "      <td>11</td>\n",
       "      <td>1</td>\n",
       "      <td>61</td>\n",
       "      <td>5</td>\n",
       "    </tr>\n",
       "  </tbody>\n",
       "</table>\n",
       "<p>1 rows × 1004 columns</p>\n",
       "</div>"
      ],
      "text/plain": [
       "     0    1    2    3    4    5    6    7    8    9        ...         994  \\\n",
       "0  0.0  0.0  0.0  0.0  0.0  0.0  0.0  0.0  0.0  0.0        ...         0.0   \n",
       "\n",
       "   995  996  997  998  999  description_len  summary_len  \\\n",
       "0  0.0  0.0  0.0  0.0  0.0               11            1   \n",
       "\n",
       "   description_char_len  Summary_char_len  \n",
       "0                    61                 5  \n",
       "\n",
       "[1 rows x 1004 columns]"
      ]
     },
     "execution_count": 244,
     "metadata": {},
     "output_type": "execute_result"
    }
   ],
   "source": [
    "# word len of description and summary columns\n",
    "data['description_len'] = train_data['CleanedText'].apply(lambda x : len(x.split()))\n",
    "data['summary_len'] = train_data['Summary'].apply(lambda x : len(x.split()))\n",
    "\n",
    "# charater len of description and summary columns\n",
    "data['description_char_len'] = train_data['CleanedText'].apply(len)\n",
    "data['Summary_char_len'] = train_data['Summary'].apply(len)\n",
    "data.head(1)"
   ]
  },
  {
   "cell_type": "code",
   "execution_count": 245,
   "metadata": {},
   "outputs": [
    {
     "data": {
      "text/plain": [
       "(60000, 1004)"
      ]
     },
     "execution_count": 245,
     "metadata": {},
     "output_type": "execute_result"
    }
   ],
   "source": [
    "data.shape"
   ]
  },
  {
   "cell_type": "code",
   "execution_count": 246,
   "metadata": {},
   "outputs": [
    {
     "data": {
      "text/html": [
       "<div>\n",
       "<style scoped>\n",
       "    .dataframe tbody tr th:only-of-type {\n",
       "        vertical-align: middle;\n",
       "    }\n",
       "\n",
       "    .dataframe tbody tr th {\n",
       "        vertical-align: top;\n",
       "    }\n",
       "\n",
       "    .dataframe thead th {\n",
       "        text-align: right;\n",
       "    }\n",
       "</style>\n",
       "<table border=\"1\" class=\"dataframe\">\n",
       "  <thead>\n",
       "    <tr style=\"text-align: right;\">\n",
       "      <th></th>\n",
       "      <th>0</th>\n",
       "      <th>1</th>\n",
       "      <th>2</th>\n",
       "      <th>3</th>\n",
       "      <th>4</th>\n",
       "      <th>5</th>\n",
       "      <th>6</th>\n",
       "      <th>7</th>\n",
       "      <th>8</th>\n",
       "      <th>9</th>\n",
       "      <th>...</th>\n",
       "      <th>994</th>\n",
       "      <th>995</th>\n",
       "      <th>996</th>\n",
       "      <th>997</th>\n",
       "      <th>998</th>\n",
       "      <th>999</th>\n",
       "      <th>description_len</th>\n",
       "      <th>summary_len</th>\n",
       "      <th>description_char_len</th>\n",
       "      <th>Summary_char_len</th>\n",
       "    </tr>\n",
       "  </thead>\n",
       "  <tbody>\n",
       "    <tr>\n",
       "      <th>0</th>\n",
       "      <td>0.0</td>\n",
       "      <td>0.0</td>\n",
       "      <td>0.0</td>\n",
       "      <td>0.0</td>\n",
       "      <td>0.0</td>\n",
       "      <td>0.0</td>\n",
       "      <td>0.0</td>\n",
       "      <td>0.0</td>\n",
       "      <td>0.0</td>\n",
       "      <td>0.0</td>\n",
       "      <td>...</td>\n",
       "      <td>0.0</td>\n",
       "      <td>0.0</td>\n",
       "      <td>0.0</td>\n",
       "      <td>0.0</td>\n",
       "      <td>0.0</td>\n",
       "      <td>0.0</td>\n",
       "      <td>29</td>\n",
       "      <td>2</td>\n",
       "      <td>163</td>\n",
       "      <td>7</td>\n",
       "    </tr>\n",
       "  </tbody>\n",
       "</table>\n",
       "<p>1 rows × 1004 columns</p>\n",
       "</div>"
      ],
      "text/plain": [
       "     0    1    2    3    4    5    6    7    8    9        ...         994  \\\n",
       "0  0.0  0.0  0.0  0.0  0.0  0.0  0.0  0.0  0.0  0.0        ...         0.0   \n",
       "\n",
       "   995  996  997  998  999  description_len  summary_len  \\\n",
       "0  0.0  0.0  0.0  0.0  0.0               29            2   \n",
       "\n",
       "   description_char_len  Summary_char_len  \n",
       "0                   163                 7  \n",
       "\n",
       "[1 rows x 1004 columns]"
      ]
     },
     "execution_count": 246,
     "metadata": {},
     "output_type": "execute_result"
    }
   ],
   "source": [
    "#Test data\n",
    "# word len of description and summary columns\n",
    "data_test=pd.DataFrame(test_count)\n",
    "data_test['description_len'] = test_data['CleanedText'].apply(lambda x : len(x.split()))\n",
    "data_test['summary_len'] = test_data['Summary'].apply(lambda x : len(x.split()))\n",
    "\n",
    "# charater len of description and summary columns\n",
    "data_test['description_char_len'] = test_data['CleanedText'].apply(len)\n",
    "data_test['Summary_char_len'] = test_data['Summary'].apply(len)\n",
    "data_test.head(1)"
   ]
  },
  {
   "cell_type": "code",
   "execution_count": null,
   "metadata": {},
   "outputs": [],
   "source": [
    "# Testing on additional features"
   ]
  },
  {
   "cell_type": "code",
   "execution_count": 247,
   "metadata": {},
   "outputs": [
    {
     "data": {
      "text/plain": [
       "MultinomialNB(alpha=1, class_prior=None, fit_prior=True)"
      ]
     },
     "execution_count": 247,
     "metadata": {},
     "output_type": "execute_result"
    }
   ],
   "source": [
    "best_alpha=1\n",
    "mnNB = MultinomialNB(alpha=best_alpha)\n",
    "mnNB.fit(data, train_traget)"
   ]
  },
  {
   "cell_type": "code",
   "execution_count": 248,
   "metadata": {},
   "outputs": [
    {
     "name": "stdout",
     "output_type": "stream",
     "text": [
      " AUC_test:  0.73265  Acc_test:  73.265\n",
      " Auc_train:  0.7473333333333333  Acc_train:  74.73333333333333\n"
     ]
    }
   ],
   "source": [
    "pred_train = mnNB.predict(data)\n",
    "acc_train = accuracy_score(train_traget, pred_train, normalize=True) * float(100)\n",
    "auc_train=roc_auc_score(train_traget, pred_train)\n",
    "\n",
    "pred_test = mnNB.predict(data_test)\n",
    "acc_test = accuracy_score(test_target, pred_test, normalize=True) * float(100)\n",
    "auc_test=roc_auc_score(test_target, pred_test)\n",
    "print(\" AUC_test: \",auc_test,\" Acc_test: \",acc_test)\n",
    "print(\" Auc_train: \",auc_train,\" Acc_train: \",acc_train)"
   ]
  },
  {
   "cell_type": "markdown",
   "metadata": {},
   "source": [
    "Observation: After adding new features, performance of model has decreased to 0.73 from 0.82, may be we need to tune the alpha value on new data."
   ]
  },
  {
   "cell_type": "markdown",
   "metadata": {},
   "source": [
    "### [5.2.1] Top 10 important features of positive class from<font color='red'> SET 2</font>"
   ]
  },
  {
   "cell_type": "code",
   "execution_count": 253,
   "metadata": {},
   "outputs": [
    {
     "name": "stdout",
     "output_type": "stream",
     "text": [
      "(1000, 1)\n",
      "1000\n"
     ]
    }
   ],
   "source": [
    "# Please write all the code with proper documentation\n",
    "print(mnNB.coef_.T.shape)\n",
    "features=(tf_idf_vect.get_feature_names())\n",
    "print(len(features))\n"
   ]
  },
  {
   "cell_type": "code",
   "execution_count": 254,
   "metadata": {},
   "outputs": [
    {
     "data": {
      "text/html": [
       "<div>\n",
       "<style scoped>\n",
       "    .dataframe tbody tr th:only-of-type {\n",
       "        vertical-align: middle;\n",
       "    }\n",
       "\n",
       "    .dataframe tbody tr th {\n",
       "        vertical-align: top;\n",
       "    }\n",
       "\n",
       "    .dataframe thead th {\n",
       "        text-align: right;\n",
       "    }\n",
       "</style>\n",
       "<table border=\"1\" class=\"dataframe\">\n",
       "  <thead>\n",
       "    <tr style=\"text-align: right;\">\n",
       "      <th></th>\n",
       "      <th>Score</th>\n",
       "      <th>Feature</th>\n",
       "      <th>Score_abs</th>\n",
       "    </tr>\n",
       "  </thead>\n",
       "  <tbody>\n",
       "    <tr>\n",
       "      <th>0</th>\n",
       "      <td>-6.273892</td>\n",
       "      <td>abl find</td>\n",
       "      <td>6.273892</td>\n",
       "    </tr>\n",
       "    <tr>\n",
       "      <th>1</th>\n",
       "      <td>-6.949126</td>\n",
       "      <td>abl get</td>\n",
       "      <td>6.949126</td>\n",
       "    </tr>\n",
       "    <tr>\n",
       "      <th>2</th>\n",
       "      <td>-6.619455</td>\n",
       "      <td>absolut delici</td>\n",
       "      <td>6.619455</td>\n",
       "    </tr>\n",
       "    <tr>\n",
       "      <th>3</th>\n",
       "      <td>-5.830764</td>\n",
       "      <td>absolut love</td>\n",
       "      <td>5.830764</td>\n",
       "    </tr>\n",
       "    <tr>\n",
       "      <th>4</th>\n",
       "      <td>-6.848366</td>\n",
       "      <td>actual tast</td>\n",
       "      <td>6.848366</td>\n",
       "    </tr>\n",
       "  </tbody>\n",
       "</table>\n",
       "</div>"
      ],
      "text/plain": [
       "      Score         Feature  Score_abs\n",
       "0 -6.273892        abl find   6.273892\n",
       "1 -6.949126         abl get   6.949126\n",
       "2 -6.619455  absolut delici   6.619455\n",
       "3 -5.830764    absolut love   5.830764\n",
       "4 -6.848366     actual tast   6.848366"
      ]
     },
     "execution_count": 254,
     "metadata": {},
     "output_type": "execute_result"
    }
   ],
   "source": [
    "feature_data=pd.DataFrame(list(mnNB.coef_.T),columns=['Score'])\n",
    "feature_data['Feature']=features\n",
    "feature_data['Score_abs']=feature_data['Score'].abs()\n",
    "feature_data.head()"
   ]
  },
  {
   "cell_type": "code",
   "execution_count": 255,
   "metadata": {},
   "outputs": [
    {
     "data": {
      "text/html": [
       "<div>\n",
       "<style scoped>\n",
       "    .dataframe tbody tr th:only-of-type {\n",
       "        vertical-align: middle;\n",
       "    }\n",
       "\n",
       "    .dataframe tbody tr th {\n",
       "        vertical-align: top;\n",
       "    }\n",
       "\n",
       "    .dataframe thead th {\n",
       "        text-align: right;\n",
       "    }\n",
       "</style>\n",
       "<table border=\"1\" class=\"dataframe\">\n",
       "  <thead>\n",
       "    <tr style=\"text-align: right;\">\n",
       "      <th></th>\n",
       "      <th>Feature</th>\n",
       "      <th>Score_abs</th>\n",
       "    </tr>\n",
       "  </thead>\n",
       "  <tbody>\n",
       "    <tr>\n",
       "      <th>431</th>\n",
       "      <td>high recommend</td>\n",
       "      <td>4.616764</td>\n",
       "    </tr>\n",
       "    <tr>\n",
       "      <th>815</th>\n",
       "      <td>tast great</td>\n",
       "      <td>4.841421</td>\n",
       "    </tr>\n",
       "    <tr>\n",
       "      <th>412</th>\n",
       "      <td>groceri store</td>\n",
       "      <td>4.915895</td>\n",
       "    </tr>\n",
       "    <tr>\n",
       "      <th>817</th>\n",
       "      <td>tast like</td>\n",
       "      <td>4.957956</td>\n",
       "    </tr>\n",
       "    <tr>\n",
       "      <th>814</th>\n",
       "      <td>tast good</td>\n",
       "      <td>5.060879</td>\n",
       "    </tr>\n",
       "    <tr>\n",
       "      <th>404</th>\n",
       "      <td>great product</td>\n",
       "      <td>5.124969</td>\n",
       "    </tr>\n",
       "    <tr>\n",
       "      <th>369</th>\n",
       "      <td>gluten free</td>\n",
       "      <td>5.202279</td>\n",
       "    </tr>\n",
       "    <tr>\n",
       "      <th>407</th>\n",
       "      <td>great tast</td>\n",
       "      <td>5.220992</td>\n",
       "    </tr>\n",
       "    <tr>\n",
       "      <th>461</th>\n",
       "      <td>ive tri</td>\n",
       "      <td>5.303238</td>\n",
       "    </tr>\n",
       "    <tr>\n",
       "      <th>411</th>\n",
       "      <td>green tea</td>\n",
       "      <td>5.335008</td>\n",
       "    </tr>\n",
       "  </tbody>\n",
       "</table>\n",
       "</div>"
      ],
      "text/plain": [
       "            Feature  Score_abs\n",
       "431  high recommend   4.616764\n",
       "815      tast great   4.841421\n",
       "412   groceri store   4.915895\n",
       "817       tast like   4.957956\n",
       "814       tast good   5.060879\n",
       "404   great product   5.124969\n",
       "369     gluten free   5.202279\n",
       "407      great tast   5.220992\n",
       "461         ive tri   5.303238\n",
       "411       green tea   5.335008"
      ]
     },
     "execution_count": 255,
     "metadata": {},
     "output_type": "execute_result"
    }
   ],
   "source": [
    "# Top 10 feature for positive class\n",
    "feature_data.sort_values(by='Score_abs',inplace=True,ascending=True)\n",
    "feature_data[['Feature','Score_abs']].head(10)"
   ]
  },
  {
   "cell_type": "markdown",
   "metadata": {},
   "source": [
    "Observation: We can see that the features for positive review is positive words like \"great\",\"tast good\" and so on, which expected to have."
   ]
  },
  {
   "cell_type": "markdown",
   "metadata": {},
   "source": [
    "### [5.2.2] Top 10 important features of negative class from<font color='red'> SET 2</font>"
   ]
  },
  {
   "cell_type": "code",
   "execution_count": 256,
   "metadata": {},
   "outputs": [
    {
     "data": {
      "text/html": [
       "<div>\n",
       "<style scoped>\n",
       "    .dataframe tbody tr th:only-of-type {\n",
       "        vertical-align: middle;\n",
       "    }\n",
       "\n",
       "    .dataframe tbody tr th {\n",
       "        vertical-align: top;\n",
       "    }\n",
       "\n",
       "    .dataframe thead th {\n",
       "        text-align: right;\n",
       "    }\n",
       "</style>\n",
       "<table border=\"1\" class=\"dataframe\">\n",
       "  <thead>\n",
       "    <tr style=\"text-align: right;\">\n",
       "      <th></th>\n",
       "      <th>Feature</th>\n",
       "      <th>Score_abs</th>\n",
       "    </tr>\n",
       "  </thead>\n",
       "  <tbody>\n",
       "    <tr>\n",
       "      <th>958</th>\n",
       "      <td>worst tast</td>\n",
       "      <td>10.435733</td>\n",
       "    </tr>\n",
       "    <tr>\n",
       "      <th>274</th>\n",
       "      <td>extrem disappoint</td>\n",
       "      <td>10.221003</td>\n",
       "    </tr>\n",
       "    <tr>\n",
       "      <th>394</th>\n",
       "      <td>got bad batch</td>\n",
       "      <td>10.214020</td>\n",
       "    </tr>\n",
       "    <tr>\n",
       "      <th>231</th>\n",
       "      <td>dont wast money</td>\n",
       "      <td>10.127956</td>\n",
       "    </tr>\n",
       "    <tr>\n",
       "      <th>860</th>\n",
       "      <td>threw away</td>\n",
       "      <td>10.035414</td>\n",
       "    </tr>\n",
       "    <tr>\n",
       "      <th>726</th>\n",
       "      <td>return item</td>\n",
       "      <td>10.025566</td>\n",
       "    </tr>\n",
       "    <tr>\n",
       "      <th>572</th>\n",
       "      <td>money back</td>\n",
       "      <td>9.982682</td>\n",
       "    </tr>\n",
       "    <tr>\n",
       "      <th>898</th>\n",
       "      <td>two star</td>\n",
       "      <td>9.880105</td>\n",
       "    </tr>\n",
       "    <tr>\n",
       "      <th>703</th>\n",
       "      <td>realli disappoint</td>\n",
       "      <td>9.654705</td>\n",
       "    </tr>\n",
       "    <tr>\n",
       "      <th>746</th>\n",
       "      <td>send back</td>\n",
       "      <td>9.543017</td>\n",
       "    </tr>\n",
       "  </tbody>\n",
       "</table>\n",
       "</div>"
      ],
      "text/plain": [
       "               Feature  Score_abs\n",
       "958         worst tast  10.435733\n",
       "274  extrem disappoint  10.221003\n",
       "394      got bad batch  10.214020\n",
       "231    dont wast money  10.127956\n",
       "860         threw away  10.035414\n",
       "726        return item  10.025566\n",
       "572         money back   9.982682\n",
       "898           two star   9.880105\n",
       "703  realli disappoint   9.654705\n",
       "746          send back   9.543017"
      ]
     },
     "execution_count": 256,
     "metadata": {},
     "output_type": "execute_result"
    }
   ],
   "source": [
    "# Please write all the code with proper documentation\n",
    "# Top 10 feature for positive class\n",
    "feature_data.sort_values(by='Score_abs',inplace=True,ascending=False)\n",
    "feature_data[['Feature','Score_abs']].head(10)"
   ]
  },
  {
   "cell_type": "markdown",
   "metadata": {},
   "source": [
    "Observation: We can see that the features for negative review is -ve words like \"worst tast\",\"disappoint\" and so on, which are expected to have."
   ]
  },
  {
   "cell_type": "markdown",
   "metadata": {},
   "source": [
    "# [6] Conclusions"
   ]
  },
  {
   "cell_type": "code",
   "execution_count": 257,
   "metadata": {},
   "outputs": [
    {
     "name": "stdout",
     "output_type": "stream",
     "text": [
      "+--------------------------+----------------+------------+------+\n",
      "|        Vectorizer        |     Model      | Best alpha | AUC  |\n",
      "+--------------------------+----------------+------------+------+\n",
      "|           BOW            | Multinomial NB |     10     | 0.91 |\n",
      "|  BOW_FeatureEngineering  | Multinomial NB |     10     | 0.82 |\n",
      "|          TFIDF           | Multinomial NB |     1      | 0.84 |\n",
      "| TFIDF_FeatureEngineering | Multinomial NB |     1      | 0.73 |\n",
      "+--------------------------+----------------+------------+------+\n"
     ]
    }
   ],
   "source": [
    "# Please compare all your models using Prettytable library\n",
    "from prettytable import PrettyTable\n",
    "x = PrettyTable()\n",
    "x.field_names = [\"Vectorizer\", \"Model\", \"Best alpha\", \"AUC\"]\n",
    "\n",
    "x.add_row([\"BOW\", \"Multinomial NB\", 10, 0.91])\n",
    "x.add_row([\"BOW_FeatureEngineering\", \"Multinomial NB\", 10, 0.82])\n",
    "x.add_row([\"TFIDF\", \"Multinomial NB\", 1, 0.84])\n",
    "x.add_row([\"TFIDF_FeatureEngineering\", \"Multinomial NB\", 1, 0.73])\n",
    "print(x)"
   ]
  },
  {
   "cell_type": "markdown",
   "metadata": {},
   "source": [
    "Observation: After adding new features in both BOW and TFIDF, AUC value has reduced from 0.91 to 0.82 for BOW and 0.84 to 0.73 for TFIDF."
   ]
  }
 ],
 "metadata": {
  "kernelspec": {
   "display_name": "Python 3",
   "language": "python",
   "name": "python3"
  },
  "language_info": {
   "codemirror_mode": {
    "name": "ipython",
    "version": 3
   },
   "file_extension": ".py",
   "mimetype": "text/x-python",
   "name": "python",
   "nbconvert_exporter": "python",
   "pygments_lexer": "ipython3",
   "version": "3.6.5"
  }
 },
 "nbformat": 4,
 "nbformat_minor": 2
}
